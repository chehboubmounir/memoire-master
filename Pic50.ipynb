{
 "cells": [
  {
   "cell_type": "code",
   "execution_count": 83,
   "id": "5ca31b38-85ff-4939-abd8-b521af0e3f7f",
   "metadata": {
    "scrolled": true
   },
   "outputs": [],
   "source": [
    "import time\n",
    "import os\n",
    "import numpy as np\n",
    "import pandas as pd\n",
    "from rdkit import Chem\n",
    "from rdkit.Chem import Descriptors\n",
    "import deepchem as dc\n",
    "from deepchem.feat import ConvMolFeaturizer, CircularFingerprint\n",
    "from deepchem.models import GraphConvModel\n",
    "from deepchem.models.optimizers import Adam\n",
    "import logging\n",
    "from sklearn.metrics import r2_score, mean_absolute_error\n",
    "from chembl_webresource_client.new_client import new_client\n",
    "from sklearn.preprocessing import StandardScaler\n",
    "from sklearn.ensemble import RandomForestRegressor\n",
    "from sklearn.model_selection import train_test_split\n",
    "from sklearn.pipeline import make_pipeline\n",
    "from sklearn.impute import SimpleImputer\n",
    "import matplotlib.pyplot as plt\n",
    "from requests.exceptions import RequestException\n"
   ]
  },
  {
   "cell_type": "code",
   "execution_count": 86,
   "id": "9bff59ea-8578-4930-829b-d57951a1c4bf",
   "metadata": {},
   "outputs": [],
   "source": [
    " # Configure logging\n",
    "logging.basicConfig(level=logging.INFO, format='%(asctime)s - %(levelname)s - %(message)s')\n",
    "logger = logging.getLogger(__name__)\n",
    "\n",
    "class AffinityPredictor:\n",
    "    def __init__(self):\n",
    "        self.graph_featurizer = ConvMolFeaturizer(per_atom_fragmentation=False)\n",
    "        self.fingerprint_featurizer = CircularFingerprint(size=1024)\n",
    "        self.scaler = StandardScaler()\n",
    "        self.dataset_df = None\n",
    "        self.graph_data = None\n",
    "        self.fingerprint_data = None\n",
    "        self.graph_model = None\n",
    "        self.fingerprint_model = None\n",
    "        self.ensemble_model = None\n",
    "        self.metrics = {\n",
    "            'graph': {'r2': -1, 'mae': -1},\n",
    "            'fingerprint': {'r2': -1, 'mae': -1},\n",
    "            'ensemble': {'r2': -1, 'mae': -1},\n",
    "            'training_time': {}\n",
    "        }\n",
    "\n",
    "    def load_data(self, local_path='bace.csv', chembl_cache='chembl_cache.csv', use_chembl=True):\n",
    "        \"\"\"Load and preprocess data with robust error handling and caching\"\"\"\n",
    "        logger.info(\"Loading and preprocessing data...\")\n",
    "        try:\n",
    "            bace_df = pd.read_csv(local_path)\n",
    "            bace_df = bace_df.rename(columns={'mol': 'smiles'})[['smiles', 'pIC50']].dropna()\n",
    "            logger.info(f\"Loaded {len(bace_df)} local compounds\")\n",
    "        except Exception as e:\n",
    "            logger.error(f\"Failed to load local data: {str(e)}\")\n",
    "            bace_df = pd.DataFrame(columns=['smiles', 'pIC50'])\n",
    "\n",
    "        chembl_df = pd.DataFrame(columns=['smiles', 'pIC50'])\n",
    "        if use_chembl:\n",
    "            if os.path.exists(chembl_cache):\n",
    "                try:\n",
    "                    chembl_df = pd.read_csv(chembl_cache)\n",
    "                    logger.info(f\"Loaded {len(chembl_df)} cached ChEMBL compounds from {chembl_cache}\")\n",
    "                except Exception as e:\n",
    "                    logger.warning(f\"Failed to load cached ChEMBL data: {str(e)}\")\n",
    "            if len(chembl_df) == 0:\n",
    "                try:\n",
    "                    logger.info(\"Attempting to download ChEMBL data...\")\n",
    "                    activities = new_client.activity.filter(target_chembl_id=\"CHEMBL234\").filter(standard_type=\"IC50\")\n",
    "                    start_time = time.time()\n",
    "                    timeout = 30\n",
    "                    chembl_data = []\n",
    "                    for activity in activities:\n",
    "                        if time.time() - start_time > timeout:\n",
    "                            raise RequestException(\"ChEMBL request timed out\")\n",
    "                        chembl_data.append(activity)\n",
    "                    chembl_df = pd.DataFrame(chembl_data)[['canonical_smiles', 'standard_value']].dropna()\n",
    "                    chembl_df['standard_value'] = pd.to_numeric(chembl_df['standard_value'], errors='coerce')\n",
    "                    chembl_df = chembl_df.dropna()\n",
    "                    chembl_df['pIC50'] = -np.log10(chembl_df['standard_value'] * 1e-9)\n",
    "                    chembl_df = chembl_df.rename(columns={'canonical_smiles': 'smiles'})[['smiles', 'pIC50']]\n",
    "                    try:\n",
    "                        chembl_df.to_csv(chembl_cache, index=False)\n",
    "                        logger.info(f\"Saved {len(chembl_df)} ChEMBL compounds to cache at {chembl_cache}\")\n",
    "                    except Exception as e:\n",
    "                        logger.warning(f\"Failed to save ChEMBL cache: {str(e)}\")\n",
    "                    logger.info(f\"Downloaded {len(chembl_df)} ChEMBL compounds\")\n",
    "                except RequestException as e:\n",
    "                    logger.warning(f\"Network error accessing ChEMBL: {str(e)}\")\n",
    "                    logger.warning(\"Proceeding with available data\")\n",
    "                except Exception as e:\n",
    "                    logger.warning(f\"ChEMBL download failed: {str(e)}\")\n",
    "                    logger.warning(\"Proceeding with available data\")\n",
    "\n",
    "        full_df = pd.concat([bace_df, chembl_df], ignore_index=True).drop_duplicates(subset='smiles')\n",
    "        valid_data = []\n",
    "        for _, row in full_df.iterrows():\n",
    "            try:\n",
    "                mol = Chem.MolFromSmiles(row['smiles'])\n",
    "                if mol and not np.isinf(row['pIC50']) and not np.isnan(row['pIC50']):\n",
    "                    valid_data.append({\n",
    "                        'smiles': row['smiles'],\n",
    "                        'pIC50': float(row['pIC50']),\n",
    "                        'mol': mol\n",
    "                    })\n",
    "            except Exception as e:\n",
    "                logger.debug(f\"Failed to process SMILES {row['smiles']}: {str(e)}\")\n",
    "                continue\n",
    "        if not valid_data:\n",
    "            raise ValueError(\"No valid molecules found in dataset\")\n",
    "        self.dataset_df = pd.DataFrame(valid_data)\n",
    "        try:\n",
    "            self.dataset_df['pIC50_scaled'] = self.scaler.fit_transform(\n",
    "                self.dataset_df[['pIC50']].values).flatten()\n",
    "        except Exception as e:\n",
    "            logger.error(f\"Scaling failed: {str(e)}\")\n",
    "            raise\n",
    "        logger.info(f\"Final dataset: {len(self.dataset_df)} compounds\")\n",
    "        logger.info(f\"pIC50 stats - Mean: {self.dataset_df['pIC50'].mean():.2f}, \"\n",
    "                   f\"Std: {self.dataset_df['pIC50'].std():.2f}, \"\n",
    "                   f\"Range: {self.dataset_df['pIC50'].min():.2f}-{self.dataset_df['pIC50'].max():.2f}\")\n",
    "        mols = self.dataset_df['mol'].tolist()\n",
    "        smiles_list = self.dataset_df['smiles'].tolist()\n",
    "        y = self.dataset_df['pIC50_scaled'].values\n",
    "        try:\n",
    "            logger.info(\"Creating graph features...\")\n",
    "            graph_features = self.graph_featurizer.featurize(mols)\n",
    "            self.graph_data = dc.data.NumpyDataset(X=graph_features, y=y)\n",
    "            logger.info(f\"Graph features created for {len(graph_features)} molecules\")\n",
    "        except Exception as e:\n",
    "            logger.error(f\"Graph featurization failed: {str(e)}\")\n",
    "            raise\n",
    "        try:\n",
    "            logger.info(\"Creating fingerprint features...\")\n",
    "            fingerprint_features = self.fingerprint_featurizer.featurize(smiles_list)\n",
    "            self.fingerprint_data = dc.data.NumpyDataset(X=fingerprint_features, y=y)\n",
    "            logger.info(f\"Fingerprint features created: {fingerprint_features.shape}\")\n",
    "        except Exception as e:\n",
    "            logger.error(f\"Fingerprint featurization failed: {str(e)}\")\n",
    "            raise\n",
    "\n",
    "    def build_graph_model(self):\n",
    "        return GraphConvModel(\n",
    "            n_tasks=1,\n",
    "            graph_conv_layers=[128, 128],\n",
    "            dense_layer_size=256,\n",
    "            dropout=0.2,\n",
    "            batch_size=32,\n",
    "            learning_rate=0.001,\n",
    "            mode='regression',\n",
    "            optimizer=Adam(learning_rate=0.001),\n",
    "            model_dir='./graph_model',\n",
    "            tensorboard=True\n",
    "        )\n",
    "\n",
    "    def train_and_evaluate(self):\n",
    "        if len(self.dataset_df) < 100:\n",
    "            raise ValueError(\"Insufficient data for training (need at least 100 samples)\")\n",
    "        train_idx, test_idx = train_test_split(\n",
    "            range(len(self.dataset_df)),\n",
    "            test_size=0.2,\n",
    "            random_state=42\n",
    "        )\n",
    "        train_idx, valid_idx = train_test_split(\n",
    "            train_idx,\n",
    "            test_size=0.2,\n",
    "            random_state=42\n",
    "        )\n",
    "        g_train = dc.data.NumpyDataset(\n",
    "            X=self.graph_data.X[train_idx],\n",
    "            y=self.graph_data.y[train_idx]\n",
    "        )\n",
    "        g_valid = dc.data.NumpyDataset(\n",
    "            X=self.graph_data.X[valid_idx],\n",
    "            y=self.graph_data.y[valid_idx]\n",
    "        )\n",
    "        g_test = dc.data.NumpyDataset(\n",
    "            X=self.graph_data.X[test_idx],\n",
    "            y=self.graph_data.y[test_idx]\n",
    "        )\n",
    "        f_train = dc.data.NumpyDataset(\n",
    "            X=self.fingerprint_data.X[train_idx],\n",
    "            y=self.fingerprint_data.y[train_idx]\n",
    "        )\n",
    "        f_valid = dc.data.NumpyDataset(\n",
    "            X=self.fingerprint_data.X[valid_idx],\n",
    "            y=self.fingerprint_data.y[valid_idx]\n",
    "        )\n",
    "        f_test = dc.data.NumpyDataset(\n",
    "            X=self.fingerprint_data.X[test_idx],\n",
    "            y=self.fingerprint_data.y[test_idx]\n",
    "        )\n",
    "        logger.info(f\"\\nDataset sizes:\")\n",
    "        logger.info(f\"Training: {len(train_idx)}\")\n",
    "        logger.info(f\"Validation: {len(valid_idx)}\")\n",
    "        logger.info(f\"Test: {len(test_idx)}\")\n",
    "        logger.info(\"\\nTraining GraphConv model...\")\n",
    "        self.graph_model = self.build_graph_model()\n",
    "        start_time = time.time()\n",
    "        metric = dc.metrics.Metric(dc.metrics.r2_score)\n",
    "        validation_callback = dc.models.ValidationCallback(\n",
    "            g_valid,\n",
    "            5,\n",
    "            [metric],\n",
    "            save_dir='./graph_model_best',\n",
    "            save_on_minimum=False\n",
    "        )\n",
    "        self.graph_model.fit(g_train, nb_epoch=50, callbacks=[validation_callback])\n",
    "        test_pred = self.graph_model.predict(g_test)\n",
    "        self.metrics['graph']['r2'] = r2_score(g_test.y, test_pred)\n",
    "        self.metrics['graph']['mae'] = mean_absolute_error(g_test.y, test_pred)\n",
    "        self.metrics['training_time']['graph'] = time.time() - start_time\n",
    "        logger.info(f\"Graph Model Test R²: {self.metrics['graph']['r2']:.3f}\")\n",
    "        logger.info(f\"Graph Model Test MAE: {self.metrics['graph']['mae']:.3f}\")\n",
    "        logger.info(\"\\nTraining Fingerprint model...\")\n",
    "        start_time = time.time()\n",
    "        self.fingerprint_model = make_pipeline(\n",
    "            SimpleImputer(strategy='median'),\n",
    "            RandomForestRegressor(\n",
    "                n_estimators=200,\n",
    "                max_depth=10,\n",
    "                min_samples_split=5,\n",
    "                n_jobs=-1,\n",
    "                random_state=42\n",
    "            )\n",
    "        )\n",
    "        self.fingerprint_model.fit(f_train.X, f_train.y.flatten())\n",
    "        test_pred = self.fingerprint_model.predict(f_test.X)\n",
    "        self.metrics['fingerprint']['r2'] = r2_score(f_test.y, test_pred)\n",
    "        self.metrics['fingerprint']['mae'] = mean_absolute_error(f_test.y, test_pred)\n",
    "        self.metrics['training_time']['fingerprint'] = time.time() - start_time\n",
    "        logger.info(f\"Fingerprint Model Test R²: {self.metrics['fingerprint']['r2']:.3f}\")\n",
    "        logger.info(f\"Fingerprint Model Test MAE: {self.metrics['fingerprint']['mae']:.3f}\")\n",
    "        logger.info(\"\\nBuilding ensemble model...\")\n",
    "        try:\n",
    "            train_graph_pred = self.graph_model.predict(g_train).flatten()\n",
    "            train_fp_pred = self.fingerprint_model.predict(f_train.X).flatten()\n",
    "            X_train = np.column_stack([\n",
    "                train_graph_pred,\n",
    "                train_fp_pred,\n",
    "                np.array([Descriptors.MolWt(mol) for mol in self.dataset_df.iloc[train_idx]['mol']])\n",
    "            ])\n",
    "            self.ensemble_model = make_pipeline(\n",
    "                StandardScaler(),\n",
    "                RandomForestRegressor(\n",
    "                    n_estimators=150,\n",
    "                    max_depth=8,\n",
    "                    min_samples_split=5,\n",
    "                    n_jobs=-1,\n",
    "                    random_state=42\n",
    "                )\n",
    "            )\n",
    "            self.ensemble_model.fit(X_train, g_train.y.flatten())\n",
    "            test_graph_pred = self.graph_model.predict(g_test).flatten()\n",
    "            test_fp_pred = self.fingerprint_model.predict(f_test.X).flatten()\n",
    "            X_test = np.column_stack([\n",
    "                test_graph_pred,\n",
    "                test_fp_pred,\n",
    "                np.array([Descriptors.MolWt(mol) for mol in self.dataset_df.iloc[test_idx]['mol']])\n",
    "            ])\n",
    "            ensemble_pred = self.ensemble_model.predict(X_test)\n",
    "            self.metrics['ensemble']['r2'] = r2_score(g_test.y, ensemble_pred)\n",
    "            self.metrics['ensemble']['mae'] = mean_absolute_error(g_test.y, ensemble_pred)\n",
    "            logger.info(f\"Ensemble Test R²: {self.metrics['ensemble']['r2']:.3f}\")\n",
    "            logger.info(f\"Ensemble Test MAE: {self.metrics['ensemble']['mae']:.3f}\")\n",
    "            self._plot_predictions(g_test.y, ensemble_pred, \"Ensemble Predictions\")\n",
    "        except Exception as e:\n",
    "            logger.error(f\"Ensemble training failed: {str(e)}\")\n",
    "            raise\n",
    "\n",
    "    def _plot_predictions(self, y_true, y_pred, title):\n",
    "        plt.figure(figsize=(8, 6))\n",
    "        plt.scatter(y_true, y_pred, alpha=0.5)\n",
    "        plt.plot([min(y_true), max(y_true)], [min(y_true), max(y_true)], 'r--')\n",
    "        plt.xlabel('True pIC50 (scaled)')\n",
    "        plt.ylabel('Predicted pIC50 (scaled)')\n",
    "        plt.title(title)\n",
    "        plt.grid(True)\n",
    "        plt.savefig('predictions_plot.png')\n",
    "        plt.show()\n",
    "\n",
    "    def predict(self, smiles):\n",
    "        try:\n",
    "            mol = Chem.MolFromSmiles(smiles)\n",
    "            if not mol:\n",
    "                raise ValueError(\"Invalid SMILES string\")\n",
    "            graph_feat = self.graph_featurizer.featurize([mol])\n",
    "            graph_pred = self.graph_model.predict(dc.data.NumpyDataset(graph_feat))[0][0]\n",
    "            fp_feat = self.fingerprint_featurizer.featurize([smiles])\n",
    "            fp_pred = self.fingerprint_model.predict(fp_feat)[0]\n",
    "            ensemble_input = np.array([[\n",
    "                graph_pred,\n",
    "                fp_pred,\n",
    "                Descriptors.MolWt(mol)\n",
    "            ]])\n",
    "            scaled_pred = self.ensemble_model.predict(ensemble_input)[0]\n",
    "            original_pred = self.scaler.inverse_transform([[scaled_pred]])[0][0]\n",
    "            ic50 = 10**(-original_pred) * 1e9\n",
    "            confidence = max(0.1, 1 - min(1, abs(graph_pred - fp_pred)/2))\n",
    "            return {\n",
    "                'pIC50': original_pred,\n",
    "                'IC50_nM': ic50,\n",
    "                'confidence': confidence,\n",
    "                'graph_pred': self.scaler.inverse_transform([[graph_pred]])[0][0],\n",
    "                'fingerprint_pred': self.scaler.inverse_transform([[fp_pred]])[0][0]\n",
    "            }\n",
    "        except Exception as e:\n",
    "            logger.error(f\"Prediction failed: {str(e)}\")\n",
    "            return {\n",
    "                'error': str(e),\n",
    "                'pIC50': None,\n",
    "                'IC50_nM': None,\n",
    "                'confidence': 0\n",
    "            }\n",
    "\n",
    "    def interactive_predict(self):\n",
    "        print(\"\\n=== BACE1 Affinity Prediction ===\")\n",
    "        print(\"Enter SMILES strings or 'quit' to exit\\n\")\n",
    "        while True:\n",
    "            smiles = input(\"SMILES: \").strip()\n",
    "            if smiles.lower() in ('quit', 'exit'):\n",
    "                break\n",
    "            result = self.predict(smiles)\n",
    "            if 'error' in result:\n",
    "                print(f\"\\nError: {result['error']}\\n\")\n",
    "                continue\n",
    "            print(\"\\nPrediction Results:\")\n",
    "            print(f\"- Ensemble pIC50: {result['pIC50']:.2f}\")\n",
    "            print(f\"- Estimated IC50: {result['IC50_nM']:.2f} nM\")\n",
    "            print(f\"- Confidence: {result['confidence']*100:.0f}%\")\n",
    "            print(f\"- GraphConv pIC50: {result['graph_pred']:.2f}\")\n",
    "            print(f\"- Fingerprint pIC50: {result['fingerprint_pred']:.2f}\")\n",
    "            if hasattr(self, 'dataset_df') and self.dataset_df is not None:\n",
    "                known = self.dataset_df[self.dataset_df['smiles'] == smiles]\n",
    "                if not known.empty:\n",
    "                    known_pic50 = known.iloc[0]['pIC50']\n",
    "                    print(f\"\\nKnown pIC50: {known_pic50:.2f} (Error: {abs(known_pic50 - result['pIC50']):.2f})\")\n",
    "            print()\n",
    "\n",
    "    def report(self):\n",
    "        if not hasattr(self, 'metrics'):\n",
    "            print(\"No training metrics available\")\n",
    "            return\n",
    "        print(\"\\n=== Model Performance Report ===\")\n",
    "        if hasattr(self, 'dataset_df') and self.dataset_df is not None:\n",
    "            print(f\"\\nDataset Size: {len(self.dataset_df)} compounds\")\n",
    "            print(f\"pIC50 Range: {self.dataset_df['pIC50'].min():.2f} to {self.dataset_df['pIC50'].max():.2f}\")\n",
    "        print(\"\\nModel Performance:\")\n",
    "        print(\"GraphConv Model:\")\n",
    "        print(f\"- R²: {self.metrics['graph']['r2']:.3f}\")\n",
    "        print(f\"- MAE: {self.metrics['graph']['mae']:.3f}\")\n",
    "        print(f\"- Training Time: {self.metrics['training_time'].get('graph', 'N/A')}s\")\n",
    "        print(\"\\nFingerprint Model:\")\n",
    "        print(f\"- R²: {self.metrics['fingerprint']['r2']:.3f}\")\n",
    "        print(f\"- MAE: {self.metrics['fingerprint']['mae']:.3f}\")\n",
    "        print(f\"- Training Time: {self.metrics['training_time'].get('fingerprint', 'N/A')}s\")\n",
    "        print(\"\\nEnsemble Model:\")\n",
    "        print(f\"- R²: {self.metrics['ensemble']['r2']:.3f}\")\n",
    "        print(f\"- MAE: {self.metrics['ensemble']['mae']:.3f}\")"
   ]
  },
  {
   "cell_type": "code",
   "execution_count": 87,
   "id": "fa7dd14f-94f1-4121-9036-540300855734",
   "metadata": {},
   "outputs": [
    {
     "name": "stderr",
     "output_type": "stream",
     "text": [
      "2025-05-19 14:54:35,212 - INFO - Starting data loading...\n",
      "2025-05-19 14:54:35,214 - INFO - Loading and preprocessing data...\n",
      "2025-05-19 14:54:35,479 - INFO - Loaded 1513 local compounds\n",
      "2025-05-19 14:54:35,481 - INFO - Attempting to download ChEMBL data...\n",
      "2025-05-19 14:54:35,490 - INFO - https://www.ebi.ac.uk/chembl/api/data/activity.json\n",
      "2025-05-19 14:54:35,491 - INFO - [('target_chembl_id', 'CHEMBL234'), ('standard_type', 'IC50'), ('limit', 20), ('offset', 0)]\n",
      "2025-05-19 14:54:35,492 - INFO - From cache: True\n",
      "2025-05-19 14:54:35,498 - INFO - https://www.ebi.ac.uk/chembl/api/data/activity.json\n",
      "2025-05-19 14:54:35,499 - INFO - [('target_chembl_id', 'CHEMBL234'), ('standard_type', 'IC50'), ('limit', 20), ('offset', 20)]\n",
      "2025-05-19 14:54:35,499 - INFO - From cache: True\n",
      "2025-05-19 14:54:35,505 - INFO - https://www.ebi.ac.uk/chembl/api/data/activity.json\n",
      "2025-05-19 14:54:35,505 - INFO - [('target_chembl_id', 'CHEMBL234'), ('standard_type', 'IC50'), ('limit', 20), ('offset', 40)]\n",
      "2025-05-19 14:54:35,506 - INFO - From cache: True\n",
      "2025-05-19 14:54:35,512 - INFO - https://www.ebi.ac.uk/chembl/api/data/activity.json\n",
      "2025-05-19 14:54:35,513 - INFO - [('target_chembl_id', 'CHEMBL234'), ('standard_type', 'IC50'), ('limit', 20), ('offset', 60)]\n",
      "2025-05-19 14:54:35,514 - INFO - From cache: True\n",
      "2025-05-19 14:54:35,519 - INFO - https://www.ebi.ac.uk/chembl/api/data/activity.json\n",
      "2025-05-19 14:54:35,520 - INFO - [('target_chembl_id', 'CHEMBL234'), ('standard_type', 'IC50'), ('limit', 20), ('offset', 80)]\n",
      "2025-05-19 14:54:35,520 - INFO - From cache: True\n",
      "2025-05-19 14:54:35,525 - INFO - https://www.ebi.ac.uk/chembl/api/data/activity.json\n",
      "2025-05-19 14:54:35,526 - INFO - [('target_chembl_id', 'CHEMBL234'), ('standard_type', 'IC50'), ('limit', 20), ('offset', 100)]\n",
      "2025-05-19 14:54:35,527 - INFO - From cache: True\n",
      "2025-05-19 14:54:35,533 - INFO - https://www.ebi.ac.uk/chembl/api/data/activity.json\n",
      "2025-05-19 14:54:35,534 - INFO - [('target_chembl_id', 'CHEMBL234'), ('standard_type', 'IC50'), ('limit', 20), ('offset', 120)]\n",
      "2025-05-19 14:54:35,535 - INFO - From cache: True\n",
      "2025-05-19 14:54:35,540 - INFO - https://www.ebi.ac.uk/chembl/api/data/activity.json\n",
      "2025-05-19 14:54:35,541 - INFO - [('target_chembl_id', 'CHEMBL234'), ('standard_type', 'IC50'), ('limit', 20), ('offset', 140)]\n",
      "2025-05-19 14:54:35,542 - INFO - From cache: True\n",
      "2025-05-19 14:54:35,548 - INFO - https://www.ebi.ac.uk/chembl/api/data/activity.json\n",
      "2025-05-19 14:54:35,549 - INFO - [('target_chembl_id', 'CHEMBL234'), ('standard_type', 'IC50'), ('limit', 20), ('offset', 160)]\n",
      "2025-05-19 14:54:35,550 - INFO - From cache: True\n",
      "2025-05-19 14:54:35,555 - INFO - https://www.ebi.ac.uk/chembl/api/data/activity.json\n",
      "2025-05-19 14:54:35,556 - INFO - [('target_chembl_id', 'CHEMBL234'), ('standard_type', 'IC50'), ('limit', 20), ('offset', 180)]\n",
      "2025-05-19 14:54:35,556 - INFO - From cache: True\n",
      "2025-05-19 14:54:35,562 - INFO - https://www.ebi.ac.uk/chembl/api/data/activity.json\n",
      "2025-05-19 14:54:35,563 - INFO - [('target_chembl_id', 'CHEMBL234'), ('standard_type', 'IC50'), ('limit', 20), ('offset', 200)]\n",
      "2025-05-19 14:54:35,565 - INFO - From cache: True\n",
      "2025-05-19 14:54:35,570 - INFO - https://www.ebi.ac.uk/chembl/api/data/activity.json\n",
      "2025-05-19 14:54:35,571 - INFO - [('target_chembl_id', 'CHEMBL234'), ('standard_type', 'IC50'), ('limit', 20), ('offset', 220)]\n",
      "2025-05-19 14:54:35,571 - INFO - From cache: True\n",
      "2025-05-19 14:54:35,578 - INFO - https://www.ebi.ac.uk/chembl/api/data/activity.json\n",
      "2025-05-19 14:54:35,579 - INFO - [('target_chembl_id', 'CHEMBL234'), ('standard_type', 'IC50'), ('limit', 20), ('offset', 240)]\n",
      "2025-05-19 14:54:35,580 - INFO - From cache: True\n",
      "2025-05-19 14:54:35,585 - INFO - https://www.ebi.ac.uk/chembl/api/data/activity.json\n",
      "2025-05-19 14:54:35,586 - INFO - [('target_chembl_id', 'CHEMBL234'), ('standard_type', 'IC50'), ('limit', 20), ('offset', 260)]\n",
      "2025-05-19 14:54:35,587 - INFO - From cache: True\n",
      "2025-05-19 14:54:35,592 - INFO - https://www.ebi.ac.uk/chembl/api/data/activity.json\n",
      "2025-05-19 14:54:35,593 - INFO - [('target_chembl_id', 'CHEMBL234'), ('standard_type', 'IC50'), ('limit', 20), ('offset', 280)]\n",
      "2025-05-19 14:54:35,594 - INFO - From cache: True\n",
      "2025-05-19 14:54:35,600 - INFO - https://www.ebi.ac.uk/chembl/api/data/activity.json\n",
      "2025-05-19 14:54:35,601 - INFO - [('target_chembl_id', 'CHEMBL234'), ('standard_type', 'IC50'), ('limit', 20), ('offset', 300)]\n",
      "2025-05-19 14:54:35,601 - INFO - From cache: True\n",
      "2025-05-19 14:54:35,607 - INFO - https://www.ebi.ac.uk/chembl/api/data/activity.json\n",
      "2025-05-19 14:54:35,608 - INFO - [('target_chembl_id', 'CHEMBL234'), ('standard_type', 'IC50'), ('limit', 20), ('offset', 320)]\n",
      "2025-05-19 14:54:35,609 - INFO - From cache: True\n",
      "2025-05-19 14:54:35,615 - INFO - https://www.ebi.ac.uk/chembl/api/data/activity.json\n",
      "2025-05-19 14:54:35,616 - INFO - [('target_chembl_id', 'CHEMBL234'), ('standard_type', 'IC50'), ('limit', 20), ('offset', 340)]\n",
      "2025-05-19 14:54:35,617 - INFO - From cache: True\n",
      "2025-05-19 14:54:35,622 - INFO - https://www.ebi.ac.uk/chembl/api/data/activity.json\n",
      "2025-05-19 14:54:35,623 - INFO - [('target_chembl_id', 'CHEMBL234'), ('standard_type', 'IC50'), ('limit', 20), ('offset', 360)]\n",
      "2025-05-19 14:54:35,624 - INFO - From cache: True\n",
      "2025-05-19 14:54:35,632 - INFO - https://www.ebi.ac.uk/chembl/api/data/activity.json\n",
      "2025-05-19 14:54:35,633 - INFO - [('target_chembl_id', 'CHEMBL234'), ('standard_type', 'IC50'), ('limit', 20), ('offset', 380)]\n",
      "2025-05-19 14:54:35,634 - INFO - From cache: True\n",
      "2025-05-19 14:54:35,639 - INFO - https://www.ebi.ac.uk/chembl/api/data/activity.json\n",
      "2025-05-19 14:54:35,640 - INFO - [('target_chembl_id', 'CHEMBL234'), ('standard_type', 'IC50'), ('limit', 20), ('offset', 400)]\n",
      "2025-05-19 14:54:35,641 - INFO - From cache: True\n",
      "2025-05-19 14:54:35,646 - INFO - https://www.ebi.ac.uk/chembl/api/data/activity.json\n",
      "2025-05-19 14:54:35,647 - INFO - [('target_chembl_id', 'CHEMBL234'), ('standard_type', 'IC50'), ('limit', 20), ('offset', 420)]\n",
      "2025-05-19 14:54:35,648 - INFO - From cache: True\n",
      "2025-05-19 14:54:35,653 - INFO - https://www.ebi.ac.uk/chembl/api/data/activity.json\n",
      "2025-05-19 14:54:35,653 - INFO - [('target_chembl_id', 'CHEMBL234'), ('standard_type', 'IC50'), ('limit', 20), ('offset', 440)]\n",
      "2025-05-19 14:54:35,654 - INFO - From cache: True\n",
      "2025-05-19 14:54:35,660 - INFO - https://www.ebi.ac.uk/chembl/api/data/activity.json\n",
      "2025-05-19 14:54:35,661 - INFO - [('target_chembl_id', 'CHEMBL234'), ('standard_type', 'IC50'), ('limit', 20), ('offset', 460)]\n",
      "2025-05-19 14:54:35,662 - INFO - From cache: True\n",
      "2025-05-19 14:54:35,667 - INFO - https://www.ebi.ac.uk/chembl/api/data/activity.json\n",
      "2025-05-19 14:54:35,668 - INFO - [('target_chembl_id', 'CHEMBL234'), ('standard_type', 'IC50'), ('limit', 20), ('offset', 480)]\n",
      "2025-05-19 14:54:35,669 - INFO - From cache: True\n",
      "2025-05-19 14:54:35,675 - INFO - https://www.ebi.ac.uk/chembl/api/data/activity.json\n",
      "2025-05-19 14:54:35,676 - INFO - [('target_chembl_id', 'CHEMBL234'), ('standard_type', 'IC50'), ('limit', 20), ('offset', 500)]\n",
      "2025-05-19 14:54:35,677 - INFO - From cache: True\n",
      "2025-05-19 14:54:35,683 - INFO - https://www.ebi.ac.uk/chembl/api/data/activity.json\n",
      "2025-05-19 14:54:35,684 - INFO - [('target_chembl_id', 'CHEMBL234'), ('standard_type', 'IC50'), ('limit', 20), ('offset', 520)]\n",
      "2025-05-19 14:54:35,685 - INFO - From cache: True\n",
      "2025-05-19 14:54:35,689 - INFO - https://www.ebi.ac.uk/chembl/api/data/activity.json\n",
      "2025-05-19 14:54:35,690 - INFO - [('target_chembl_id', 'CHEMBL234'), ('standard_type', 'IC50'), ('limit', 20), ('offset', 540)]\n",
      "2025-05-19 14:54:35,692 - INFO - From cache: True\n",
      "2025-05-19 14:54:35,698 - INFO - https://www.ebi.ac.uk/chembl/api/data/activity.json\n",
      "2025-05-19 14:54:35,699 - INFO - [('target_chembl_id', 'CHEMBL234'), ('standard_type', 'IC50'), ('limit', 20), ('offset', 560)]\n",
      "2025-05-19 14:54:35,699 - INFO - From cache: True\n",
      "2025-05-19 14:54:35,704 - INFO - https://www.ebi.ac.uk/chembl/api/data/activity.json\n",
      "2025-05-19 14:54:35,705 - INFO - [('target_chembl_id', 'CHEMBL234'), ('standard_type', 'IC50'), ('limit', 20), ('offset', 580)]\n",
      "2025-05-19 14:54:35,706 - INFO - From cache: True\n",
      "2025-05-19 14:54:35,712 - INFO - https://www.ebi.ac.uk/chembl/api/data/activity.json\n",
      "2025-05-19 14:54:35,713 - INFO - [('target_chembl_id', 'CHEMBL234'), ('standard_type', 'IC50'), ('limit', 20), ('offset', 600)]\n",
      "2025-05-19 14:54:35,714 - INFO - From cache: True\n",
      "2025-05-19 14:54:35,719 - INFO - https://www.ebi.ac.uk/chembl/api/data/activity.json\n",
      "2025-05-19 14:54:35,720 - INFO - [('target_chembl_id', 'CHEMBL234'), ('standard_type', 'IC50'), ('limit', 20), ('offset', 620)]\n",
      "2025-05-19 14:54:35,721 - INFO - From cache: True\n",
      "2025-05-19 14:54:35,726 - INFO - https://www.ebi.ac.uk/chembl/api/data/activity.json\n",
      "2025-05-19 14:54:35,728 - INFO - [('target_chembl_id', 'CHEMBL234'), ('standard_type', 'IC50'), ('limit', 20), ('offset', 640)]\n",
      "2025-05-19 14:54:35,729 - INFO - From cache: True\n",
      "2025-05-19 14:54:35,734 - INFO - https://www.ebi.ac.uk/chembl/api/data/activity.json\n",
      "2025-05-19 14:54:35,735 - INFO - [('target_chembl_id', 'CHEMBL234'), ('standard_type', 'IC50'), ('limit', 20), ('offset', 660)]\n",
      "2025-05-19 14:54:35,736 - INFO - From cache: True\n",
      "2025-05-19 14:54:35,741 - INFO - https://www.ebi.ac.uk/chembl/api/data/activity.json\n",
      "2025-05-19 14:54:35,742 - INFO - [('target_chembl_id', 'CHEMBL234'), ('standard_type', 'IC50'), ('limit', 20), ('offset', 680)]\n",
      "2025-05-19 14:54:35,743 - INFO - From cache: True\n",
      "2025-05-19 14:54:35,749 - INFO - https://www.ebi.ac.uk/chembl/api/data/activity.json\n",
      "2025-05-19 14:54:35,750 - INFO - [('target_chembl_id', 'CHEMBL234'), ('standard_type', 'IC50'), ('limit', 20), ('offset', 700)]\n",
      "2025-05-19 14:54:35,751 - INFO - From cache: True\n",
      "2025-05-19 14:54:35,755 - INFO - https://www.ebi.ac.uk/chembl/api/data/activity.json\n",
      "2025-05-19 14:54:35,756 - INFO - [('target_chembl_id', 'CHEMBL234'), ('standard_type', 'IC50'), ('limit', 20), ('offset', 720)]\n",
      "2025-05-19 14:54:35,757 - INFO - From cache: True\n",
      "2025-05-19 14:54:35,762 - INFO - https://www.ebi.ac.uk/chembl/api/data/activity.json\n",
      "2025-05-19 14:54:35,764 - INFO - [('target_chembl_id', 'CHEMBL234'), ('standard_type', 'IC50'), ('limit', 20), ('offset', 740)]\n",
      "2025-05-19 14:54:35,765 - INFO - From cache: True\n",
      "2025-05-19 14:54:35,770 - INFO - https://www.ebi.ac.uk/chembl/api/data/activity.json\n",
      "2025-05-19 14:54:35,771 - INFO - [('target_chembl_id', 'CHEMBL234'), ('standard_type', 'IC50'), ('limit', 20), ('offset', 760)]\n",
      "2025-05-19 14:54:35,772 - INFO - From cache: True\n",
      "2025-05-19 14:54:35,777 - INFO - https://www.ebi.ac.uk/chembl/api/data/activity.json\n",
      "2025-05-19 14:54:35,778 - INFO - [('target_chembl_id', 'CHEMBL234'), ('standard_type', 'IC50'), ('limit', 20), ('offset', 780)]\n",
      "2025-05-19 14:54:35,779 - INFO - From cache: True\n",
      "2025-05-19 14:54:35,784 - INFO - https://www.ebi.ac.uk/chembl/api/data/activity.json\n",
      "2025-05-19 14:54:35,785 - INFO - [('target_chembl_id', 'CHEMBL234'), ('standard_type', 'IC50'), ('limit', 20), ('offset', 800)]\n",
      "2025-05-19 14:54:35,785 - INFO - From cache: True\n",
      "2025-05-19 14:54:35,790 - INFO - https://www.ebi.ac.uk/chembl/api/data/activity.json\n",
      "2025-05-19 14:54:35,791 - INFO - [('target_chembl_id', 'CHEMBL234'), ('standard_type', 'IC50'), ('limit', 20), ('offset', 820)]\n",
      "2025-05-19 14:54:35,792 - INFO - From cache: True\n",
      "2025-05-19 14:54:35,798 - INFO - https://www.ebi.ac.uk/chembl/api/data/activity.json\n",
      "2025-05-19 14:54:35,798 - INFO - [('target_chembl_id', 'CHEMBL234'), ('standard_type', 'IC50'), ('limit', 20), ('offset', 840)]\n",
      "2025-05-19 14:54:35,799 - INFO - From cache: True\n",
      "2025-05-19 14:54:35,803 - INFO - https://www.ebi.ac.uk/chembl/api/data/activity.json\n",
      "2025-05-19 14:54:35,804 - INFO - [('target_chembl_id', 'CHEMBL234'), ('standard_type', 'IC50'), ('limit', 20), ('offset', 860)]\n",
      "2025-05-19 14:54:35,805 - INFO - From cache: True\n",
      "2025-05-19 14:54:35,811 - INFO - https://www.ebi.ac.uk/chembl/api/data/activity.json\n",
      "2025-05-19 14:54:35,812 - INFO - [('target_chembl_id', 'CHEMBL234'), ('standard_type', 'IC50'), ('limit', 20), ('offset', 880)]\n",
      "2025-05-19 14:54:35,814 - INFO - From cache: True\n",
      "2025-05-19 14:54:35,818 - INFO - https://www.ebi.ac.uk/chembl/api/data/activity.json\n",
      "2025-05-19 14:54:35,819 - INFO - [('target_chembl_id', 'CHEMBL234'), ('standard_type', 'IC50'), ('limit', 20), ('offset', 900)]\n",
      "2025-05-19 14:54:35,820 - INFO - From cache: True\n",
      "2025-05-19 14:54:38,222 - INFO - https://www.ebi.ac.uk/chembl/api/data/activity.json\n",
      "2025-05-19 14:54:38,224 - INFO - [('target_chembl_id', 'CHEMBL234'), ('standard_type', 'IC50'), ('limit', 20), ('offset', 920)]\n",
      "2025-05-19 14:54:38,226 - INFO - From cache: False\n",
      "2025-05-19 14:54:40,456 - INFO - https://www.ebi.ac.uk/chembl/api/data/activity.json\n",
      "2025-05-19 14:54:40,457 - INFO - [('target_chembl_id', 'CHEMBL234'), ('standard_type', 'IC50'), ('limit', 20), ('offset', 940)]\n",
      "2025-05-19 14:54:40,458 - INFO - From cache: False\n",
      "2025-05-19 14:54:43,221 - INFO - https://www.ebi.ac.uk/chembl/api/data/activity.json\n",
      "2025-05-19 14:54:43,225 - INFO - [('target_chembl_id', 'CHEMBL234'), ('standard_type', 'IC50'), ('limit', 20), ('offset', 960)]\n",
      "2025-05-19 14:54:43,228 - INFO - From cache: False\n",
      "2025-05-19 14:54:45,082 - INFO - https://www.ebi.ac.uk/chembl/api/data/activity.json\n",
      "2025-05-19 14:54:45,083 - INFO - [('target_chembl_id', 'CHEMBL234'), ('standard_type', 'IC50'), ('limit', 20), ('offset', 980)]\n",
      "2025-05-19 14:54:45,084 - INFO - From cache: False\n",
      "2025-05-19 14:54:46,756 - INFO - https://www.ebi.ac.uk/chembl/api/data/activity.json\n",
      "2025-05-19 14:54:46,758 - INFO - [('target_chembl_id', 'CHEMBL234'), ('standard_type', 'IC50'), ('limit', 20), ('offset', 1000)]\n",
      "2025-05-19 14:54:46,761 - INFO - From cache: False\n",
      "2025-05-19 14:54:48,723 - INFO - https://www.ebi.ac.uk/chembl/api/data/activity.json\n",
      "2025-05-19 14:54:48,724 - INFO - [('target_chembl_id', 'CHEMBL234'), ('standard_type', 'IC50'), ('limit', 20), ('offset', 1020)]\n",
      "2025-05-19 14:54:48,726 - INFO - From cache: False\n",
      "2025-05-19 14:54:51,407 - INFO - https://www.ebi.ac.uk/chembl/api/data/activity.json\n",
      "2025-05-19 14:54:51,408 - INFO - [('target_chembl_id', 'CHEMBL234'), ('standard_type', 'IC50'), ('limit', 20), ('offset', 1040)]\n",
      "2025-05-19 14:54:51,409 - INFO - From cache: False\n",
      "2025-05-19 14:54:54,589 - INFO - https://www.ebi.ac.uk/chembl/api/data/activity.json\n",
      "2025-05-19 14:54:54,590 - INFO - [('target_chembl_id', 'CHEMBL234'), ('standard_type', 'IC50'), ('limit', 20), ('offset', 1060)]\n",
      "2025-05-19 14:54:54,591 - INFO - From cache: False\n",
      "2025-05-19 14:54:56,329 - INFO - https://www.ebi.ac.uk/chembl/api/data/activity.json\n",
      "2025-05-19 14:54:56,330 - INFO - [('target_chembl_id', 'CHEMBL234'), ('standard_type', 'IC50'), ('limit', 20), ('offset', 1080)]\n",
      "2025-05-19 14:54:56,331 - INFO - From cache: False\n",
      "2025-05-19 14:54:59,900 - INFO - https://www.ebi.ac.uk/chembl/api/data/activity.json\n",
      "2025-05-19 14:54:59,903 - INFO - [('target_chembl_id', 'CHEMBL234'), ('standard_type', 'IC50'), ('limit', 20), ('offset', 1100)]\n",
      "2025-05-19 14:54:59,906 - INFO - From cache: False\n",
      "2025-05-19 14:55:01,989 - INFO - https://www.ebi.ac.uk/chembl/api/data/activity.json\n",
      "2025-05-19 14:55:01,993 - INFO - [('target_chembl_id', 'CHEMBL234'), ('standard_type', 'IC50'), ('limit', 20), ('offset', 1120)]\n",
      "2025-05-19 14:55:01,997 - INFO - From cache: False\n",
      "2025-05-19 14:55:03,753 - INFO - https://www.ebi.ac.uk/chembl/api/data/activity.json\n",
      "2025-05-19 14:55:03,755 - INFO - [('target_chembl_id', 'CHEMBL234'), ('standard_type', 'IC50'), ('limit', 20), ('offset', 1140)]\n",
      "2025-05-19 14:55:03,756 - INFO - From cache: False\n",
      "2025-05-19 14:55:06,267 - INFO - https://www.ebi.ac.uk/chembl/api/data/activity.json\n",
      "2025-05-19 14:55:06,269 - INFO - [('target_chembl_id', 'CHEMBL234'), ('standard_type', 'IC50'), ('limit', 20), ('offset', 1160)]\n",
      "2025-05-19 14:55:06,270 - INFO - From cache: False\n",
      "2025-05-19 14:55:06,272 - WARNING - Network error accessing ChEMBL: ChEMBL request timed out\n",
      "2025-05-19 14:55:06,273 - WARNING - Proceeding with available data\n",
      "/tmp/ipykernel_55886/65206709.py:71: FutureWarning: The behavior of DataFrame concatenation with empty or all-NA entries is deprecated. In a future version, this will no longer exclude empty or all-NA columns when determining the result dtypes. To retain the old behavior, exclude the relevant entries before the concat operation.\n",
      "  full_df = pd.concat([bace_df, chembl_df], ignore_index=True).drop_duplicates(subset='smiles')\n",
      "2025-05-19 14:55:07,089 - INFO - Final dataset: 1513 compounds\n",
      "2025-05-19 14:55:07,090 - INFO - pIC50 stats - Mean: 6.52, Std: 1.34, Range: 2.54-10.52\n",
      "2025-05-19 14:55:07,091 - INFO - Creating graph features...\n",
      "2025-05-19 14:55:07,092 - INFO - Featurizing datapoint 0\n",
      "2025-05-19 14:55:09,881 - INFO - Featurizing datapoint 1000\n",
      "2025-05-19 14:55:10,750 - INFO - Graph features created for 1513 molecules\n",
      "2025-05-19 14:55:10,751 - INFO - Creating fingerprint features...\n",
      "2025-05-19 14:55:10,752 - INFO - Featurizing datapoint 0\n",
      "[14:55:10] DEPRECATION WARNING: please use MorganGenerator\n",
      "[14:55:10] DEPRECATION WARNING: please use MorganGenerator\n",
      "[14:55:10] DEPRECATION WARNING: please use MorganGenerator\n",
      "[14:55:10] DEPRECATION WARNING: please use MorganGenerator\n",
      "[14:55:10] DEPRECATION WARNING: please use MorganGenerator\n",
      "[14:55:10] DEPRECATION WARNING: please use MorganGenerator\n",
      "[14:55:10] DEPRECATION WARNING: please use MorganGenerator\n",
      "[14:55:10] DEPRECATION WARNING: please use MorganGenerator\n",
      "[14:55:10] DEPRECATION WARNING: please use MorganGenerator\n",
      "[14:55:10] DEPRECATION WARNING: please use MorganGenerator\n",
      "[14:55:10] DEPRECATION WARNING: please use MorganGenerator\n",
      "[14:55:10] DEPRECATION WARNING: please use MorganGenerator\n",
      "[14:55:10] DEPRECATION WARNING: please use MorganGenerator\n",
      "[14:55:10] DEPRECATION WARNING: please use MorganGenerator\n",
      "[14:55:10] DEPRECATION WARNING: please use MorganGenerator\n",
      "[14:55:10] DEPRECATION WARNING: please use MorganGenerator\n",
      "[14:55:10] DEPRECATION WARNING: please use MorganGenerator\n",
      "[14:55:10] DEPRECATION WARNING: please use MorganGenerator\n",
      "[14:55:10] DEPRECATION WARNING: please use MorganGenerator\n",
      "[14:55:10] DEPRECATION WARNING: please use MorganGenerator\n",
      "[14:55:10] DEPRECATION WARNING: please use MorganGenerator\n",
      "[14:55:10] DEPRECATION WARNING: please use MorganGenerator\n",
      "[14:55:10] DEPRECATION WARNING: please use MorganGenerator\n",
      "[14:55:10] DEPRECATION WARNING: please use MorganGenerator\n",
      "[14:55:10] DEPRECATION WARNING: please use MorganGenerator\n",
      "[14:55:10] DEPRECATION WARNING: please use MorganGenerator\n",
      "[14:55:10] DEPRECATION WARNING: please use MorganGenerator\n",
      "[14:55:10] DEPRECATION WARNING: please use MorganGenerator\n",
      "[14:55:10] DEPRECATION WARNING: please use MorganGenerator\n",
      "[14:55:10] DEPRECATION WARNING: please use MorganGenerator\n",
      "[14:55:10] DEPRECATION WARNING: please use MorganGenerator\n",
      "[14:55:10] DEPRECATION WARNING: please use MorganGenerator\n",
      "[14:55:10] DEPRECATION WARNING: please use MorganGenerator\n",
      "[14:55:10] DEPRECATION WARNING: please use MorganGenerator\n",
      "[14:55:10] DEPRECATION WARNING: please use MorganGenerator\n",
      "[14:55:10] DEPRECATION WARNING: please use MorganGenerator\n",
      "[14:55:10] DEPRECATION WARNING: please use MorganGenerator\n",
      "[14:55:10] DEPRECATION WARNING: please use MorganGenerator\n",
      "[14:55:10] DEPRECATION WARNING: please use MorganGenerator\n",
      "[14:55:10] DEPRECATION WARNING: please use MorganGenerator\n",
      "[14:55:10] DEPRECATION WARNING: please use MorganGenerator\n",
      "[14:55:10] DEPRECATION WARNING: please use MorganGenerator\n",
      "[14:55:10] DEPRECATION WARNING: please use MorganGenerator\n",
      "[14:55:10] DEPRECATION WARNING: please use MorganGenerator\n",
      "[14:55:10] DEPRECATION WARNING: please use MorganGenerator\n",
      "[14:55:10] DEPRECATION WARNING: please use MorganGenerator\n",
      "[14:55:10] DEPRECATION WARNING: please use MorganGenerator\n",
      "[14:55:10] DEPRECATION WARNING: please use MorganGenerator\n",
      "[14:55:10] DEPRECATION WARNING: please use MorganGenerator\n",
      "[14:55:10] DEPRECATION WARNING: please use MorganGenerator\n",
      "[14:55:10] DEPRECATION WARNING: please use MorganGenerator\n",
      "[14:55:10] DEPRECATION WARNING: please use MorganGenerator\n",
      "[14:55:10] DEPRECATION WARNING: please use MorganGenerator\n",
      "[14:55:10] DEPRECATION WARNING: please use MorganGenerator\n",
      "[14:55:10] DEPRECATION WARNING: please use MorganGenerator\n",
      "[14:55:10] DEPRECATION WARNING: please use MorganGenerator\n",
      "[14:55:10] DEPRECATION WARNING: please use MorganGenerator\n",
      "[14:55:10] DEPRECATION WARNING: please use MorganGenerator\n",
      "[14:55:10] DEPRECATION WARNING: please use MorganGenerator\n",
      "[14:55:10] DEPRECATION WARNING: please use MorganGenerator\n",
      "[14:55:10] DEPRECATION WARNING: please use MorganGenerator\n",
      "[14:55:10] DEPRECATION WARNING: please use MorganGenerator\n",
      "[14:55:10] DEPRECATION WARNING: please use MorganGenerator\n",
      "[14:55:10] DEPRECATION WARNING: please use MorganGenerator\n",
      "[14:55:10] DEPRECATION WARNING: please use MorganGenerator\n",
      "[14:55:10] DEPRECATION WARNING: please use MorganGenerator\n",
      "[14:55:10] DEPRECATION WARNING: please use MorganGenerator\n",
      "[14:55:10] DEPRECATION WARNING: please use MorganGenerator\n",
      "[14:55:10] DEPRECATION WARNING: please use MorganGenerator\n",
      "[14:55:10] DEPRECATION WARNING: please use MorganGenerator\n",
      "[14:55:10] DEPRECATION WARNING: please use MorganGenerator\n",
      "[14:55:10] DEPRECATION WARNING: please use MorganGenerator\n",
      "[14:55:10] DEPRECATION WARNING: please use MorganGenerator\n",
      "[14:55:10] DEPRECATION WARNING: please use MorganGenerator\n",
      "[14:55:10] DEPRECATION WARNING: please use MorganGenerator\n",
      "[14:55:10] DEPRECATION WARNING: please use MorganGenerator\n",
      "[14:55:10] DEPRECATION WARNING: please use MorganGenerator\n",
      "[14:55:10] DEPRECATION WARNING: please use MorganGenerator\n",
      "[14:55:10] DEPRECATION WARNING: please use MorganGenerator\n",
      "[14:55:10] DEPRECATION WARNING: please use MorganGenerator\n",
      "[14:55:10] DEPRECATION WARNING: please use MorganGenerator\n",
      "[14:55:10] DEPRECATION WARNING: please use MorganGenerator\n",
      "[14:55:10] DEPRECATION WARNING: please use MorganGenerator\n",
      "[14:55:10] DEPRECATION WARNING: please use MorganGenerator\n",
      "[14:55:10] DEPRECATION WARNING: please use MorganGenerator\n",
      "[14:55:10] DEPRECATION WARNING: please use MorganGenerator\n",
      "[14:55:10] DEPRECATION WARNING: please use MorganGenerator\n",
      "[14:55:10] DEPRECATION WARNING: please use MorganGenerator\n",
      "[14:55:10] DEPRECATION WARNING: please use MorganGenerator\n",
      "[14:55:10] DEPRECATION WARNING: please use MorganGenerator\n",
      "[14:55:10] DEPRECATION WARNING: please use MorganGenerator\n",
      "[14:55:10] DEPRECATION WARNING: please use MorganGenerator\n",
      "[14:55:10] DEPRECATION WARNING: please use MorganGenerator\n",
      "[14:55:10] DEPRECATION WARNING: please use MorganGenerator\n",
      "[14:55:10] DEPRECATION WARNING: please use MorganGenerator\n",
      "[14:55:10] DEPRECATION WARNING: please use MorganGenerator\n",
      "[14:55:10] DEPRECATION WARNING: please use MorganGenerator\n",
      "[14:55:10] DEPRECATION WARNING: please use MorganGenerator\n",
      "[14:55:10] DEPRECATION WARNING: please use MorganGenerator\n",
      "[14:55:10] DEPRECATION WARNING: please use MorganGenerator\n",
      "[14:55:10] DEPRECATION WARNING: please use MorganGenerator\n",
      "[14:55:10] DEPRECATION WARNING: please use MorganGenerator\n",
      "[14:55:10] DEPRECATION WARNING: please use MorganGenerator\n",
      "[14:55:10] DEPRECATION WARNING: please use MorganGenerator\n",
      "[14:55:10] DEPRECATION WARNING: please use MorganGenerator\n",
      "[14:55:10] DEPRECATION WARNING: please use MorganGenerator\n",
      "[14:55:10] DEPRECATION WARNING: please use MorganGenerator\n",
      "[14:55:10] DEPRECATION WARNING: please use MorganGenerator\n",
      "[14:55:10] DEPRECATION WARNING: please use MorganGenerator\n",
      "[14:55:10] DEPRECATION WARNING: please use MorganGenerator\n",
      "[14:55:10] DEPRECATION WARNING: please use MorganGenerator\n",
      "[14:55:10] DEPRECATION WARNING: please use MorganGenerator\n",
      "[14:55:10] DEPRECATION WARNING: please use MorganGenerator\n",
      "[14:55:10] DEPRECATION WARNING: please use MorganGenerator\n",
      "[14:55:10] DEPRECATION WARNING: please use MorganGenerator\n",
      "[14:55:10] DEPRECATION WARNING: please use MorganGenerator\n",
      "[14:55:10] DEPRECATION WARNING: please use MorganGenerator\n",
      "[14:55:10] DEPRECATION WARNING: please use MorganGenerator\n",
      "[14:55:10] DEPRECATION WARNING: please use MorganGenerator\n",
      "[14:55:10] DEPRECATION WARNING: please use MorganGenerator\n",
      "[14:55:10] DEPRECATION WARNING: please use MorganGenerator\n",
      "[14:55:10] DEPRECATION WARNING: please use MorganGenerator\n",
      "[14:55:10] DEPRECATION WARNING: please use MorganGenerator\n",
      "[14:55:10] DEPRECATION WARNING: please use MorganGenerator\n",
      "[14:55:10] DEPRECATION WARNING: please use MorganGenerator\n",
      "[14:55:10] DEPRECATION WARNING: please use MorganGenerator\n",
      "[14:55:10] DEPRECATION WARNING: please use MorganGenerator\n",
      "[14:55:10] DEPRECATION WARNING: please use MorganGenerator\n",
      "[14:55:10] DEPRECATION WARNING: please use MorganGenerator\n",
      "[14:55:10] DEPRECATION WARNING: please use MorganGenerator\n",
      "[14:55:10] DEPRECATION WARNING: please use MorganGenerator\n",
      "[14:55:10] DEPRECATION WARNING: please use MorganGenerator\n",
      "[14:55:10] DEPRECATION WARNING: please use MorganGenerator\n",
      "[14:55:10] DEPRECATION WARNING: please use MorganGenerator\n",
      "[14:55:10] DEPRECATION WARNING: please use MorganGenerator\n",
      "[14:55:10] DEPRECATION WARNING: please use MorganGenerator\n",
      "[14:55:10] DEPRECATION WARNING: please use MorganGenerator\n",
      "[14:55:10] DEPRECATION WARNING: please use MorganGenerator\n",
      "[14:55:10] DEPRECATION WARNING: please use MorganGenerator\n",
      "[14:55:10] DEPRECATION WARNING: please use MorganGenerator\n",
      "[14:55:10] DEPRECATION WARNING: please use MorganGenerator\n",
      "[14:55:10] DEPRECATION WARNING: please use MorganGenerator\n",
      "[14:55:10] DEPRECATION WARNING: please use MorganGenerator\n",
      "[14:55:10] DEPRECATION WARNING: please use MorganGenerator\n",
      "[14:55:10] DEPRECATION WARNING: please use MorganGenerator\n",
      "[14:55:10] DEPRECATION WARNING: please use MorganGenerator\n",
      "[14:55:10] DEPRECATION WARNING: please use MorganGenerator\n",
      "[14:55:10] DEPRECATION WARNING: please use MorganGenerator\n",
      "[14:55:10] DEPRECATION WARNING: please use MorganGenerator\n",
      "[14:55:10] DEPRECATION WARNING: please use MorganGenerator\n",
      "[14:55:10] DEPRECATION WARNING: please use MorganGenerator\n",
      "[14:55:10] DEPRECATION WARNING: please use MorganGenerator\n",
      "[14:55:10] DEPRECATION WARNING: please use MorganGenerator\n",
      "[14:55:10] DEPRECATION WARNING: please use MorganGenerator\n",
      "[14:55:10] DEPRECATION WARNING: please use MorganGenerator\n",
      "[14:55:10] DEPRECATION WARNING: please use MorganGenerator\n",
      "[14:55:10] DEPRECATION WARNING: please use MorganGenerator\n",
      "[14:55:10] DEPRECATION WARNING: please use MorganGenerator\n",
      "[14:55:10] DEPRECATION WARNING: please use MorganGenerator\n",
      "[14:55:10] DEPRECATION WARNING: please use MorganGenerator\n",
      "[14:55:10] DEPRECATION WARNING: please use MorganGenerator\n",
      "[14:55:10] DEPRECATION WARNING: please use MorganGenerator\n",
      "[14:55:10] DEPRECATION WARNING: please use MorganGenerator\n",
      "[14:55:10] DEPRECATION WARNING: please use MorganGenerator\n",
      "[14:55:10] DEPRECATION WARNING: please use MorganGenerator\n",
      "[14:55:10] DEPRECATION WARNING: please use MorganGenerator\n",
      "[14:55:10] DEPRECATION WARNING: please use MorganGenerator\n",
      "[14:55:10] DEPRECATION WARNING: please use MorganGenerator\n",
      "[14:55:10] DEPRECATION WARNING: please use MorganGenerator\n",
      "[14:55:10] DEPRECATION WARNING: please use MorganGenerator\n",
      "[14:55:10] DEPRECATION WARNING: please use MorganGenerator\n",
      "[14:55:10] DEPRECATION WARNING: please use MorganGenerator\n",
      "[14:55:10] DEPRECATION WARNING: please use MorganGenerator\n",
      "[14:55:10] DEPRECATION WARNING: please use MorganGenerator\n",
      "[14:55:10] DEPRECATION WARNING: please use MorganGenerator\n",
      "[14:55:10] DEPRECATION WARNING: please use MorganGenerator\n",
      "[14:55:10] DEPRECATION WARNING: please use MorganGenerator\n",
      "[14:55:10] DEPRECATION WARNING: please use MorganGenerator\n",
      "[14:55:10] DEPRECATION WARNING: please use MorganGenerator\n",
      "[14:55:10] DEPRECATION WARNING: please use MorganGenerator\n",
      "[14:55:10] DEPRECATION WARNING: please use MorganGenerator\n",
      "[14:55:10] DEPRECATION WARNING: please use MorganGenerator\n",
      "[14:55:10] DEPRECATION WARNING: please use MorganGenerator\n",
      "[14:55:10] DEPRECATION WARNING: please use MorganGenerator\n",
      "[14:55:10] DEPRECATION WARNING: please use MorganGenerator\n",
      "[14:55:10] DEPRECATION WARNING: please use MorganGenerator\n",
      "[14:55:10] DEPRECATION WARNING: please use MorganGenerator\n",
      "[14:55:10] DEPRECATION WARNING: please use MorganGenerator\n",
      "[14:55:10] DEPRECATION WARNING: please use MorganGenerator\n",
      "[14:55:10] DEPRECATION WARNING: please use MorganGenerator\n",
      "[14:55:10] DEPRECATION WARNING: please use MorganGenerator\n",
      "[14:55:10] DEPRECATION WARNING: please use MorganGenerator\n",
      "[14:55:10] DEPRECATION WARNING: please use MorganGenerator\n",
      "[14:55:10] DEPRECATION WARNING: please use MorganGenerator\n",
      "[14:55:10] DEPRECATION WARNING: please use MorganGenerator\n",
      "[14:55:10] DEPRECATION WARNING: please use MorganGenerator\n",
      "[14:55:10] DEPRECATION WARNING: please use MorganGenerator\n",
      "[14:55:10] DEPRECATION WARNING: please use MorganGenerator\n",
      "[14:55:10] DEPRECATION WARNING: please use MorganGenerator\n",
      "[14:55:10] DEPRECATION WARNING: please use MorganGenerator\n",
      "[14:55:10] DEPRECATION WARNING: please use MorganGenerator\n",
      "[14:55:10] DEPRECATION WARNING: please use MorganGenerator\n",
      "[14:55:10] DEPRECATION WARNING: please use MorganGenerator\n",
      "[14:55:10] DEPRECATION WARNING: please use MorganGenerator\n",
      "[14:55:10] DEPRECATION WARNING: please use MorganGenerator\n",
      "[14:55:10] DEPRECATION WARNING: please use MorganGenerator\n",
      "[14:55:10] DEPRECATION WARNING: please use MorganGenerator\n",
      "[14:55:10] DEPRECATION WARNING: please use MorganGenerator\n",
      "[14:55:10] DEPRECATION WARNING: please use MorganGenerator\n",
      "[14:55:10] DEPRECATION WARNING: please use MorganGenerator\n",
      "[14:55:10] DEPRECATION WARNING: please use MorganGenerator\n",
      "[14:55:10] DEPRECATION WARNING: please use MorganGenerator\n",
      "[14:55:10] DEPRECATION WARNING: please use MorganGenerator\n",
      "[14:55:10] DEPRECATION WARNING: please use MorganGenerator\n",
      "[14:55:10] DEPRECATION WARNING: please use MorganGenerator\n",
      "[14:55:10] DEPRECATION WARNING: please use MorganGenerator\n",
      "[14:55:10] DEPRECATION WARNING: please use MorganGenerator\n",
      "[14:55:10] DEPRECATION WARNING: please use MorganGenerator\n",
      "[14:55:10] DEPRECATION WARNING: please use MorganGenerator\n",
      "[14:55:10] DEPRECATION WARNING: please use MorganGenerator\n",
      "[14:55:10] DEPRECATION WARNING: please use MorganGenerator\n",
      "[14:55:10] DEPRECATION WARNING: please use MorganGenerator\n",
      "[14:55:11] DEPRECATION WARNING: please use MorganGenerator\n",
      "[14:55:11] DEPRECATION WARNING: please use MorganGenerator\n",
      "[14:55:11] DEPRECATION WARNING: please use MorganGenerator\n",
      "[14:55:11] DEPRECATION WARNING: please use MorganGenerator\n",
      "[14:55:11] DEPRECATION WARNING: please use MorganGenerator\n",
      "[14:55:11] DEPRECATION WARNING: please use MorganGenerator\n",
      "[14:55:11] DEPRECATION WARNING: please use MorganGenerator\n",
      "[14:55:11] DEPRECATION WARNING: please use MorganGenerator\n",
      "[14:55:11] DEPRECATION WARNING: please use MorganGenerator\n",
      "[14:55:11] DEPRECATION WARNING: please use MorganGenerator\n",
      "[14:55:11] DEPRECATION WARNING: please use MorganGenerator\n",
      "[14:55:11] DEPRECATION WARNING: please use MorganGenerator\n",
      "[14:55:11] DEPRECATION WARNING: please use MorganGenerator\n",
      "[14:55:11] DEPRECATION WARNING: please use MorganGenerator\n",
      "[14:55:11] DEPRECATION WARNING: please use MorganGenerator\n",
      "[14:55:11] DEPRECATION WARNING: please use MorganGenerator\n",
      "[14:55:11] DEPRECATION WARNING: please use MorganGenerator\n",
      "[14:55:11] DEPRECATION WARNING: please use MorganGenerator\n",
      "[14:55:11] DEPRECATION WARNING: please use MorganGenerator\n",
      "[14:55:11] DEPRECATION WARNING: please use MorganGenerator\n",
      "[14:55:11] DEPRECATION WARNING: please use MorganGenerator\n",
      "[14:55:11] DEPRECATION WARNING: please use MorganGenerator\n",
      "[14:55:11] DEPRECATION WARNING: please use MorganGenerator\n",
      "[14:55:11] DEPRECATION WARNING: please use MorganGenerator\n",
      "[14:55:11] DEPRECATION WARNING: please use MorganGenerator\n",
      "[14:55:11] DEPRECATION WARNING: please use MorganGenerator\n",
      "[14:55:11] DEPRECATION WARNING: please use MorganGenerator\n",
      "[14:55:11] DEPRECATION WARNING: please use MorganGenerator\n",
      "[14:55:11] DEPRECATION WARNING: please use MorganGenerator\n",
      "[14:55:11] DEPRECATION WARNING: please use MorganGenerator\n",
      "[14:55:11] DEPRECATION WARNING: please use MorganGenerator\n",
      "[14:55:11] DEPRECATION WARNING: please use MorganGenerator\n",
      "[14:55:11] DEPRECATION WARNING: please use MorganGenerator\n",
      "[14:55:11] DEPRECATION WARNING: please use MorganGenerator\n",
      "[14:55:11] DEPRECATION WARNING: please use MorganGenerator\n",
      "[14:55:11] DEPRECATION WARNING: please use MorganGenerator\n",
      "[14:55:11] DEPRECATION WARNING: please use MorganGenerator\n",
      "[14:55:11] DEPRECATION WARNING: please use MorganGenerator\n",
      "[14:55:11] DEPRECATION WARNING: please use MorganGenerator\n",
      "[14:55:11] DEPRECATION WARNING: please use MorganGenerator\n",
      "[14:55:11] DEPRECATION WARNING: please use MorganGenerator\n",
      "[14:55:11] DEPRECATION WARNING: please use MorganGenerator\n",
      "[14:55:11] DEPRECATION WARNING: please use MorganGenerator\n",
      "[14:55:11] DEPRECATION WARNING: please use MorganGenerator\n",
      "[14:55:11] DEPRECATION WARNING: please use MorganGenerator\n",
      "[14:55:11] DEPRECATION WARNING: please use MorganGenerator\n",
      "[14:55:11] DEPRECATION WARNING: please use MorganGenerator\n",
      "[14:55:11] DEPRECATION WARNING: please use MorganGenerator\n",
      "[14:55:11] DEPRECATION WARNING: please use MorganGenerator\n",
      "[14:55:11] DEPRECATION WARNING: please use MorganGenerator\n",
      "[14:55:11] DEPRECATION WARNING: please use MorganGenerator\n",
      "[14:55:11] DEPRECATION WARNING: please use MorganGenerator\n",
      "[14:55:11] DEPRECATION WARNING: please use MorganGenerator\n",
      "[14:55:11] DEPRECATION WARNING: please use MorganGenerator\n",
      "[14:55:11] DEPRECATION WARNING: please use MorganGenerator\n",
      "[14:55:11] DEPRECATION WARNING: please use MorganGenerator\n",
      "[14:55:11] DEPRECATION WARNING: please use MorganGenerator\n",
      "[14:55:11] DEPRECATION WARNING: please use MorganGenerator\n",
      "[14:55:11] DEPRECATION WARNING: please use MorganGenerator\n",
      "[14:55:11] DEPRECATION WARNING: please use MorganGenerator\n",
      "[14:55:11] DEPRECATION WARNING: please use MorganGenerator\n",
      "[14:55:11] DEPRECATION WARNING: please use MorganGenerator\n",
      "[14:55:11] DEPRECATION WARNING: please use MorganGenerator\n",
      "[14:55:11] DEPRECATION WARNING: please use MorganGenerator\n",
      "[14:55:11] DEPRECATION WARNING: please use MorganGenerator\n",
      "[14:55:11] DEPRECATION WARNING: please use MorganGenerator\n",
      "[14:55:11] DEPRECATION WARNING: please use MorganGenerator\n",
      "[14:55:11] DEPRECATION WARNING: please use MorganGenerator\n",
      "[14:55:11] DEPRECATION WARNING: please use MorganGenerator\n",
      "[14:55:11] DEPRECATION WARNING: please use MorganGenerator\n",
      "[14:55:11] DEPRECATION WARNING: please use MorganGenerator\n",
      "[14:55:11] DEPRECATION WARNING: please use MorganGenerator\n",
      "[14:55:11] DEPRECATION WARNING: please use MorganGenerator\n",
      "[14:55:11] DEPRECATION WARNING: please use MorganGenerator\n",
      "[14:55:11] DEPRECATION WARNING: please use MorganGenerator\n",
      "[14:55:11] DEPRECATION WARNING: please use MorganGenerator\n",
      "[14:55:11] DEPRECATION WARNING: please use MorganGenerator\n",
      "[14:55:11] DEPRECATION WARNING: please use MorganGenerator\n",
      "[14:55:11] DEPRECATION WARNING: please use MorganGenerator\n",
      "[14:55:11] DEPRECATION WARNING: please use MorganGenerator\n",
      "[14:55:11] DEPRECATION WARNING: please use MorganGenerator\n",
      "[14:55:11] DEPRECATION WARNING: please use MorganGenerator\n",
      "[14:55:11] DEPRECATION WARNING: please use MorganGenerator\n",
      "[14:55:11] DEPRECATION WARNING: please use MorganGenerator\n",
      "[14:55:11] DEPRECATION WARNING: please use MorganGenerator\n",
      "[14:55:11] DEPRECATION WARNING: please use MorganGenerator\n",
      "[14:55:11] DEPRECATION WARNING: please use MorganGenerator\n",
      "[14:55:11] DEPRECATION WARNING: please use MorganGenerator\n",
      "[14:55:11] DEPRECATION WARNING: please use MorganGenerator\n",
      "[14:55:11] DEPRECATION WARNING: please use MorganGenerator\n",
      "[14:55:11] DEPRECATION WARNING: please use MorganGenerator\n",
      "[14:55:11] DEPRECATION WARNING: please use MorganGenerator\n",
      "[14:55:11] DEPRECATION WARNING: please use MorganGenerator\n",
      "[14:55:11] DEPRECATION WARNING: please use MorganGenerator\n",
      "[14:55:11] DEPRECATION WARNING: please use MorganGenerator\n",
      "[14:55:11] DEPRECATION WARNING: please use MorganGenerator\n",
      "[14:55:11] DEPRECATION WARNING: please use MorganGenerator\n",
      "[14:55:11] DEPRECATION WARNING: please use MorganGenerator\n",
      "[14:55:11] DEPRECATION WARNING: please use MorganGenerator\n",
      "[14:55:11] DEPRECATION WARNING: please use MorganGenerator\n",
      "[14:55:11] DEPRECATION WARNING: please use MorganGenerator\n",
      "[14:55:11] DEPRECATION WARNING: please use MorganGenerator\n",
      "[14:55:11] DEPRECATION WARNING: please use MorganGenerator\n",
      "[14:55:11] DEPRECATION WARNING: please use MorganGenerator\n",
      "[14:55:11] DEPRECATION WARNING: please use MorganGenerator\n",
      "[14:55:11] DEPRECATION WARNING: please use MorganGenerator\n",
      "[14:55:11] DEPRECATION WARNING: please use MorganGenerator\n",
      "[14:55:11] DEPRECATION WARNING: please use MorganGenerator\n",
      "[14:55:11] DEPRECATION WARNING: please use MorganGenerator\n",
      "[14:55:11] DEPRECATION WARNING: please use MorganGenerator\n",
      "[14:55:11] DEPRECATION WARNING: please use MorganGenerator\n",
      "[14:55:11] DEPRECATION WARNING: please use MorganGenerator\n",
      "[14:55:11] DEPRECATION WARNING: please use MorganGenerator\n",
      "[14:55:11] DEPRECATION WARNING: please use MorganGenerator\n",
      "[14:55:11] DEPRECATION WARNING: please use MorganGenerator\n",
      "[14:55:11] DEPRECATION WARNING: please use MorganGenerator\n",
      "[14:55:11] DEPRECATION WARNING: please use MorganGenerator\n",
      "[14:55:11] DEPRECATION WARNING: please use MorganGenerator\n",
      "[14:55:11] DEPRECATION WARNING: please use MorganGenerator\n",
      "[14:55:11] DEPRECATION WARNING: please use MorganGenerator\n",
      "[14:55:11] DEPRECATION WARNING: please use MorganGenerator\n",
      "[14:55:11] DEPRECATION WARNING: please use MorganGenerator\n",
      "[14:55:11] DEPRECATION WARNING: please use MorganGenerator\n",
      "[14:55:11] DEPRECATION WARNING: please use MorganGenerator\n",
      "[14:55:11] DEPRECATION WARNING: please use MorganGenerator\n",
      "[14:55:11] DEPRECATION WARNING: please use MorganGenerator\n",
      "[14:55:11] DEPRECATION WARNING: please use MorganGenerator\n",
      "[14:55:11] DEPRECATION WARNING: please use MorganGenerator\n",
      "[14:55:11] DEPRECATION WARNING: please use MorganGenerator\n",
      "[14:55:11] DEPRECATION WARNING: please use MorganGenerator\n",
      "[14:55:11] DEPRECATION WARNING: please use MorganGenerator\n",
      "[14:55:11] DEPRECATION WARNING: please use MorganGenerator\n",
      "[14:55:11] DEPRECATION WARNING: please use MorganGenerator\n",
      "[14:55:11] DEPRECATION WARNING: please use MorganGenerator\n",
      "[14:55:11] DEPRECATION WARNING: please use MorganGenerator\n",
      "[14:55:11] DEPRECATION WARNING: please use MorganGenerator\n",
      "[14:55:11] DEPRECATION WARNING: please use MorganGenerator\n",
      "[14:55:11] DEPRECATION WARNING: please use MorganGenerator\n",
      "[14:55:11] DEPRECATION WARNING: please use MorganGenerator\n",
      "[14:55:11] DEPRECATION WARNING: please use MorganGenerator\n",
      "[14:55:11] DEPRECATION WARNING: please use MorganGenerator\n",
      "[14:55:11] DEPRECATION WARNING: please use MorganGenerator\n",
      "[14:55:11] DEPRECATION WARNING: please use MorganGenerator\n",
      "[14:55:11] DEPRECATION WARNING: please use MorganGenerator\n",
      "[14:55:11] DEPRECATION WARNING: please use MorganGenerator\n",
      "[14:55:11] DEPRECATION WARNING: please use MorganGenerator\n",
      "[14:55:11] DEPRECATION WARNING: please use MorganGenerator\n",
      "[14:55:11] DEPRECATION WARNING: please use MorganGenerator\n",
      "[14:55:11] DEPRECATION WARNING: please use MorganGenerator\n",
      "[14:55:11] DEPRECATION WARNING: please use MorganGenerator\n",
      "[14:55:11] DEPRECATION WARNING: please use MorganGenerator\n",
      "[14:55:11] DEPRECATION WARNING: please use MorganGenerator\n",
      "[14:55:11] DEPRECATION WARNING: please use MorganGenerator\n",
      "[14:55:11] DEPRECATION WARNING: please use MorganGenerator\n",
      "[14:55:11] DEPRECATION WARNING: please use MorganGenerator\n",
      "[14:55:11] DEPRECATION WARNING: please use MorganGenerator\n",
      "[14:55:11] DEPRECATION WARNING: please use MorganGenerator\n",
      "[14:55:11] DEPRECATION WARNING: please use MorganGenerator\n",
      "[14:55:11] DEPRECATION WARNING: please use MorganGenerator\n",
      "[14:55:11] DEPRECATION WARNING: please use MorganGenerator\n",
      "[14:55:11] DEPRECATION WARNING: please use MorganGenerator\n",
      "[14:55:11] DEPRECATION WARNING: please use MorganGenerator\n",
      "[14:55:11] DEPRECATION WARNING: please use MorganGenerator\n",
      "[14:55:11] DEPRECATION WARNING: please use MorganGenerator\n",
      "[14:55:11] DEPRECATION WARNING: please use MorganGenerator\n",
      "[14:55:11] DEPRECATION WARNING: please use MorganGenerator\n",
      "[14:55:11] DEPRECATION WARNING: please use MorganGenerator\n",
      "[14:55:11] DEPRECATION WARNING: please use MorganGenerator\n",
      "[14:55:11] DEPRECATION WARNING: please use MorganGenerator\n",
      "[14:55:11] DEPRECATION WARNING: please use MorganGenerator\n",
      "[14:55:11] DEPRECATION WARNING: please use MorganGenerator\n",
      "[14:55:11] DEPRECATION WARNING: please use MorganGenerator\n",
      "[14:55:11] DEPRECATION WARNING: please use MorganGenerator\n",
      "[14:55:11] DEPRECATION WARNING: please use MorganGenerator\n",
      "[14:55:11] DEPRECATION WARNING: please use MorganGenerator\n",
      "[14:55:11] DEPRECATION WARNING: please use MorganGenerator\n",
      "[14:55:11] DEPRECATION WARNING: please use MorganGenerator\n",
      "[14:55:11] DEPRECATION WARNING: please use MorganGenerator\n",
      "[14:55:11] DEPRECATION WARNING: please use MorganGenerator\n",
      "[14:55:11] DEPRECATION WARNING: please use MorganGenerator\n",
      "[14:55:11] DEPRECATION WARNING: please use MorganGenerator\n",
      "[14:55:11] DEPRECATION WARNING: please use MorganGenerator\n",
      "[14:55:11] DEPRECATION WARNING: please use MorganGenerator\n",
      "[14:55:11] DEPRECATION WARNING: please use MorganGenerator\n",
      "[14:55:11] DEPRECATION WARNING: please use MorganGenerator\n",
      "[14:55:11] DEPRECATION WARNING: please use MorganGenerator\n",
      "[14:55:11] DEPRECATION WARNING: please use MorganGenerator\n",
      "[14:55:11] DEPRECATION WARNING: please use MorganGenerator\n",
      "[14:55:11] DEPRECATION WARNING: please use MorganGenerator\n",
      "[14:55:11] DEPRECATION WARNING: please use MorganGenerator\n",
      "[14:55:11] DEPRECATION WARNING: please use MorganGenerator\n",
      "[14:55:11] DEPRECATION WARNING: please use MorganGenerator\n",
      "[14:55:11] DEPRECATION WARNING: please use MorganGenerator\n",
      "[14:55:11] DEPRECATION WARNING: please use MorganGenerator\n",
      "[14:55:11] DEPRECATION WARNING: please use MorganGenerator\n",
      "[14:55:11] DEPRECATION WARNING: please use MorganGenerator\n",
      "[14:55:11] DEPRECATION WARNING: please use MorganGenerator\n",
      "[14:55:11] DEPRECATION WARNING: please use MorganGenerator\n",
      "[14:55:11] DEPRECATION WARNING: please use MorganGenerator\n",
      "[14:55:11] DEPRECATION WARNING: please use MorganGenerator\n",
      "[14:55:11] DEPRECATION WARNING: please use MorganGenerator\n",
      "[14:55:11] DEPRECATION WARNING: please use MorganGenerator\n",
      "[14:55:11] DEPRECATION WARNING: please use MorganGenerator\n",
      "[14:55:11] DEPRECATION WARNING: please use MorganGenerator\n",
      "[14:55:11] DEPRECATION WARNING: please use MorganGenerator\n",
      "[14:55:11] DEPRECATION WARNING: please use MorganGenerator\n",
      "[14:55:11] DEPRECATION WARNING: please use MorganGenerator\n",
      "[14:55:11] DEPRECATION WARNING: please use MorganGenerator\n",
      "[14:55:11] DEPRECATION WARNING: please use MorganGenerator\n",
      "[14:55:11] DEPRECATION WARNING: please use MorganGenerator\n",
      "[14:55:11] DEPRECATION WARNING: please use MorganGenerator\n",
      "[14:55:11] DEPRECATION WARNING: please use MorganGenerator\n",
      "[14:55:11] DEPRECATION WARNING: please use MorganGenerator\n",
      "[14:55:11] DEPRECATION WARNING: please use MorganGenerator\n",
      "[14:55:11] DEPRECATION WARNING: please use MorganGenerator\n",
      "[14:55:11] DEPRECATION WARNING: please use MorganGenerator\n",
      "[14:55:11] DEPRECATION WARNING: please use MorganGenerator\n",
      "[14:55:11] DEPRECATION WARNING: please use MorganGenerator\n",
      "[14:55:11] DEPRECATION WARNING: please use MorganGenerator\n",
      "[14:55:11] DEPRECATION WARNING: please use MorganGenerator\n",
      "[14:55:11] DEPRECATION WARNING: please use MorganGenerator\n",
      "[14:55:11] DEPRECATION WARNING: please use MorganGenerator\n",
      "[14:55:11] DEPRECATION WARNING: please use MorganGenerator\n",
      "[14:55:11] DEPRECATION WARNING: please use MorganGenerator\n",
      "[14:55:11] DEPRECATION WARNING: please use MorganGenerator\n",
      "[14:55:11] DEPRECATION WARNING: please use MorganGenerator\n",
      "[14:55:11] DEPRECATION WARNING: please use MorganGenerator\n",
      "[14:55:11] DEPRECATION WARNING: please use MorganGenerator\n",
      "[14:55:11] DEPRECATION WARNING: please use MorganGenerator\n",
      "[14:55:11] DEPRECATION WARNING: please use MorganGenerator\n",
      "[14:55:11] DEPRECATION WARNING: please use MorganGenerator\n",
      "[14:55:11] DEPRECATION WARNING: please use MorganGenerator\n",
      "[14:55:11] DEPRECATION WARNING: please use MorganGenerator\n",
      "[14:55:11] DEPRECATION WARNING: please use MorganGenerator\n",
      "[14:55:11] DEPRECATION WARNING: please use MorganGenerator\n",
      "[14:55:11] DEPRECATION WARNING: please use MorganGenerator\n",
      "[14:55:11] DEPRECATION WARNING: please use MorganGenerator\n",
      "[14:55:11] DEPRECATION WARNING: please use MorganGenerator\n",
      "[14:55:11] DEPRECATION WARNING: please use MorganGenerator\n",
      "[14:55:11] DEPRECATION WARNING: please use MorganGenerator\n",
      "[14:55:11] DEPRECATION WARNING: please use MorganGenerator\n",
      "[14:55:11] DEPRECATION WARNING: please use MorganGenerator\n",
      "[14:55:11] DEPRECATION WARNING: please use MorganGenerator\n",
      "[14:55:11] DEPRECATION WARNING: please use MorganGenerator\n",
      "[14:55:11] DEPRECATION WARNING: please use MorganGenerator\n",
      "[14:55:11] DEPRECATION WARNING: please use MorganGenerator\n",
      "[14:55:11] DEPRECATION WARNING: please use MorganGenerator\n",
      "[14:55:11] DEPRECATION WARNING: please use MorganGenerator\n",
      "[14:55:11] DEPRECATION WARNING: please use MorganGenerator\n",
      "[14:55:11] DEPRECATION WARNING: please use MorganGenerator\n",
      "[14:55:11] DEPRECATION WARNING: please use MorganGenerator\n",
      "[14:55:11] DEPRECATION WARNING: please use MorganGenerator\n",
      "[14:55:11] DEPRECATION WARNING: please use MorganGenerator\n",
      "[14:55:11] DEPRECATION WARNING: please use MorganGenerator\n",
      "[14:55:11] DEPRECATION WARNING: please use MorganGenerator\n",
      "[14:55:11] DEPRECATION WARNING: please use MorganGenerator\n",
      "[14:55:11] DEPRECATION WARNING: please use MorganGenerator\n",
      "[14:55:11] DEPRECATION WARNING: please use MorganGenerator\n",
      "[14:55:11] DEPRECATION WARNING: please use MorganGenerator\n",
      "[14:55:11] DEPRECATION WARNING: please use MorganGenerator\n",
      "[14:55:11] DEPRECATION WARNING: please use MorganGenerator\n",
      "[14:55:11] DEPRECATION WARNING: please use MorganGenerator\n",
      "[14:55:11] DEPRECATION WARNING: please use MorganGenerator\n",
      "[14:55:11] DEPRECATION WARNING: please use MorganGenerator\n",
      "[14:55:11] DEPRECATION WARNING: please use MorganGenerator\n",
      "[14:55:11] DEPRECATION WARNING: please use MorganGenerator\n",
      "[14:55:11] DEPRECATION WARNING: please use MorganGenerator\n",
      "[14:55:11] DEPRECATION WARNING: please use MorganGenerator\n",
      "[14:55:11] DEPRECATION WARNING: please use MorganGenerator\n",
      "[14:55:11] DEPRECATION WARNING: please use MorganGenerator\n",
      "[14:55:11] DEPRECATION WARNING: please use MorganGenerator\n",
      "[14:55:11] DEPRECATION WARNING: please use MorganGenerator\n",
      "[14:55:11] DEPRECATION WARNING: please use MorganGenerator\n",
      "[14:55:11] DEPRECATION WARNING: please use MorganGenerator\n",
      "[14:55:11] DEPRECATION WARNING: please use MorganGenerator\n",
      "[14:55:11] DEPRECATION WARNING: please use MorganGenerator\n",
      "[14:55:11] DEPRECATION WARNING: please use MorganGenerator\n",
      "[14:55:11] DEPRECATION WARNING: please use MorganGenerator\n",
      "[14:55:11] DEPRECATION WARNING: please use MorganGenerator\n",
      "[14:55:11] DEPRECATION WARNING: please use MorganGenerator\n",
      "[14:55:11] DEPRECATION WARNING: please use MorganGenerator\n",
      "[14:55:11] DEPRECATION WARNING: please use MorganGenerator\n",
      "[14:55:11] DEPRECATION WARNING: please use MorganGenerator\n",
      "[14:55:11] DEPRECATION WARNING: please use MorganGenerator\n",
      "[14:55:11] DEPRECATION WARNING: please use MorganGenerator\n",
      "[14:55:11] DEPRECATION WARNING: please use MorganGenerator\n",
      "[14:55:11] DEPRECATION WARNING: please use MorganGenerator\n",
      "[14:55:11] DEPRECATION WARNING: please use MorganGenerator\n",
      "[14:55:11] DEPRECATION WARNING: please use MorganGenerator\n",
      "[14:55:11] DEPRECATION WARNING: please use MorganGenerator\n",
      "[14:55:11] DEPRECATION WARNING: please use MorganGenerator\n",
      "[14:55:11] DEPRECATION WARNING: please use MorganGenerator\n",
      "[14:55:11] DEPRECATION WARNING: please use MorganGenerator\n",
      "[14:55:11] DEPRECATION WARNING: please use MorganGenerator\n",
      "[14:55:11] DEPRECATION WARNING: please use MorganGenerator\n",
      "[14:55:11] DEPRECATION WARNING: please use MorganGenerator\n",
      "[14:55:11] DEPRECATION WARNING: please use MorganGenerator\n",
      "[14:55:11] DEPRECATION WARNING: please use MorganGenerator\n",
      "[14:55:11] DEPRECATION WARNING: please use MorganGenerator\n",
      "[14:55:11] DEPRECATION WARNING: please use MorganGenerator\n",
      "[14:55:11] DEPRECATION WARNING: please use MorganGenerator\n",
      "[14:55:11] DEPRECATION WARNING: please use MorganGenerator\n",
      "[14:55:11] DEPRECATION WARNING: please use MorganGenerator\n",
      "[14:55:11] DEPRECATION WARNING: please use MorganGenerator\n",
      "[14:55:11] DEPRECATION WARNING: please use MorganGenerator\n",
      "[14:55:11] DEPRECATION WARNING: please use MorganGenerator\n",
      "[14:55:11] DEPRECATION WARNING: please use MorganGenerator\n",
      "[14:55:11] DEPRECATION WARNING: please use MorganGenerator\n",
      "[14:55:11] DEPRECATION WARNING: please use MorganGenerator\n",
      "[14:55:11] DEPRECATION WARNING: please use MorganGenerator\n",
      "[14:55:11] DEPRECATION WARNING: please use MorganGenerator\n",
      "[14:55:11] DEPRECATION WARNING: please use MorganGenerator\n",
      "[14:55:11] DEPRECATION WARNING: please use MorganGenerator\n",
      "[14:55:11] DEPRECATION WARNING: please use MorganGenerator\n",
      "[14:55:11] DEPRECATION WARNING: please use MorganGenerator\n",
      "[14:55:11] DEPRECATION WARNING: please use MorganGenerator\n",
      "[14:55:11] DEPRECATION WARNING: please use MorganGenerator\n",
      "[14:55:11] DEPRECATION WARNING: please use MorganGenerator\n",
      "[14:55:11] DEPRECATION WARNING: please use MorganGenerator\n",
      "[14:55:11] DEPRECATION WARNING: please use MorganGenerator\n",
      "[14:55:11] DEPRECATION WARNING: please use MorganGenerator\n",
      "[14:55:11] DEPRECATION WARNING: please use MorganGenerator\n",
      "[14:55:11] DEPRECATION WARNING: please use MorganGenerator\n",
      "[14:55:11] DEPRECATION WARNING: please use MorganGenerator\n",
      "[14:55:11] DEPRECATION WARNING: please use MorganGenerator\n",
      "[14:55:11] DEPRECATION WARNING: please use MorganGenerator\n",
      "[14:55:11] DEPRECATION WARNING: please use MorganGenerator\n",
      "[14:55:11] DEPRECATION WARNING: please use MorganGenerator\n",
      "[14:55:11] DEPRECATION WARNING: please use MorganGenerator\n",
      "[14:55:11] DEPRECATION WARNING: please use MorganGenerator\n",
      "[14:55:11] DEPRECATION WARNING: please use MorganGenerator\n",
      "[14:55:11] DEPRECATION WARNING: please use MorganGenerator\n",
      "[14:55:11] DEPRECATION WARNING: please use MorganGenerator\n",
      "[14:55:11] DEPRECATION WARNING: please use MorganGenerator\n",
      "[14:55:11] DEPRECATION WARNING: please use MorganGenerator\n",
      "[14:55:11] DEPRECATION WARNING: please use MorganGenerator\n",
      "[14:55:11] DEPRECATION WARNING: please use MorganGenerator\n",
      "[14:55:11] DEPRECATION WARNING: please use MorganGenerator\n",
      "[14:55:11] DEPRECATION WARNING: please use MorganGenerator\n",
      "[14:55:11] DEPRECATION WARNING: please use MorganGenerator\n",
      "[14:55:11] DEPRECATION WARNING: please use MorganGenerator\n",
      "[14:55:11] DEPRECATION WARNING: please use MorganGenerator\n",
      "[14:55:11] DEPRECATION WARNING: please use MorganGenerator\n",
      "[14:55:11] DEPRECATION WARNING: please use MorganGenerator\n",
      "[14:55:11] DEPRECATION WARNING: please use MorganGenerator\n",
      "[14:55:11] DEPRECATION WARNING: please use MorganGenerator\n",
      "[14:55:11] DEPRECATION WARNING: please use MorganGenerator\n",
      "[14:55:11] DEPRECATION WARNING: please use MorganGenerator\n",
      "[14:55:11] DEPRECATION WARNING: please use MorganGenerator\n",
      "[14:55:11] DEPRECATION WARNING: please use MorganGenerator\n",
      "[14:55:11] DEPRECATION WARNING: please use MorganGenerator\n",
      "[14:55:11] DEPRECATION WARNING: please use MorganGenerator\n",
      "[14:55:11] DEPRECATION WARNING: please use MorganGenerator\n",
      "[14:55:11] DEPRECATION WARNING: please use MorganGenerator\n",
      "[14:55:11] DEPRECATION WARNING: please use MorganGenerator\n",
      "[14:55:11] DEPRECATION WARNING: please use MorganGenerator\n",
      "[14:55:11] DEPRECATION WARNING: please use MorganGenerator\n",
      "[14:55:11] DEPRECATION WARNING: please use MorganGenerator\n",
      "[14:55:11] DEPRECATION WARNING: please use MorganGenerator\n",
      "[14:55:11] DEPRECATION WARNING: please use MorganGenerator\n",
      "[14:55:11] DEPRECATION WARNING: please use MorganGenerator\n",
      "[14:55:11] DEPRECATION WARNING: please use MorganGenerator\n",
      "[14:55:11] DEPRECATION WARNING: please use MorganGenerator\n",
      "[14:55:11] DEPRECATION WARNING: please use MorganGenerator\n",
      "[14:55:11] DEPRECATION WARNING: please use MorganGenerator\n",
      "[14:55:11] DEPRECATION WARNING: please use MorganGenerator\n",
      "[14:55:11] DEPRECATION WARNING: please use MorganGenerator\n",
      "[14:55:11] DEPRECATION WARNING: please use MorganGenerator\n",
      "[14:55:11] DEPRECATION WARNING: please use MorganGenerator\n",
      "[14:55:11] DEPRECATION WARNING: please use MorganGenerator\n",
      "[14:55:11] DEPRECATION WARNING: please use MorganGenerator\n",
      "[14:55:11] DEPRECATION WARNING: please use MorganGenerator\n",
      "[14:55:11] DEPRECATION WARNING: please use MorganGenerator\n",
      "[14:55:11] DEPRECATION WARNING: please use MorganGenerator\n",
      "[14:55:11] DEPRECATION WARNING: please use MorganGenerator\n",
      "[14:55:11] DEPRECATION WARNING: please use MorganGenerator\n",
      "[14:55:11] DEPRECATION WARNING: please use MorganGenerator\n",
      "[14:55:11] DEPRECATION WARNING: please use MorganGenerator\n",
      "[14:55:11] DEPRECATION WARNING: please use MorganGenerator\n",
      "[14:55:11] DEPRECATION WARNING: please use MorganGenerator\n",
      "[14:55:11] DEPRECATION WARNING: please use MorganGenerator\n",
      "[14:55:11] DEPRECATION WARNING: please use MorganGenerator\n",
      "[14:55:11] DEPRECATION WARNING: please use MorganGenerator\n",
      "[14:55:11] DEPRECATION WARNING: please use MorganGenerator\n",
      "[14:55:11] DEPRECATION WARNING: please use MorganGenerator\n",
      "[14:55:11] DEPRECATION WARNING: please use MorganGenerator\n",
      "[14:55:11] DEPRECATION WARNING: please use MorganGenerator\n",
      "[14:55:11] DEPRECATION WARNING: please use MorganGenerator\n",
      "[14:55:11] DEPRECATION WARNING: please use MorganGenerator\n",
      "[14:55:11] DEPRECATION WARNING: please use MorganGenerator\n",
      "[14:55:11] DEPRECATION WARNING: please use MorganGenerator\n",
      "[14:55:11] DEPRECATION WARNING: please use MorganGenerator\n",
      "[14:55:11] DEPRECATION WARNING: please use MorganGenerator\n",
      "[14:55:11] DEPRECATION WARNING: please use MorganGenerator\n",
      "[14:55:11] DEPRECATION WARNING: please use MorganGenerator\n",
      "[14:55:11] DEPRECATION WARNING: please use MorganGenerator\n",
      "[14:55:11] DEPRECATION WARNING: please use MorganGenerator\n",
      "[14:55:11] DEPRECATION WARNING: please use MorganGenerator\n",
      "[14:55:11] DEPRECATION WARNING: please use MorganGenerator\n",
      "[14:55:11] DEPRECATION WARNING: please use MorganGenerator\n",
      "[14:55:11] DEPRECATION WARNING: please use MorganGenerator\n",
      "[14:55:11] DEPRECATION WARNING: please use MorganGenerator\n",
      "[14:55:11] DEPRECATION WARNING: please use MorganGenerator\n",
      "[14:55:11] DEPRECATION WARNING: please use MorganGenerator\n",
      "[14:55:11] DEPRECATION WARNING: please use MorganGenerator\n",
      "[14:55:11] DEPRECATION WARNING: please use MorganGenerator\n",
      "[14:55:11] DEPRECATION WARNING: please use MorganGenerator\n",
      "[14:55:11] DEPRECATION WARNING: please use MorganGenerator\n",
      "[14:55:11] DEPRECATION WARNING: please use MorganGenerator\n",
      "[14:55:11] DEPRECATION WARNING: please use MorganGenerator\n",
      "[14:55:11] DEPRECATION WARNING: please use MorganGenerator\n",
      "[14:55:11] DEPRECATION WARNING: please use MorganGenerator\n",
      "[14:55:11] DEPRECATION WARNING: please use MorganGenerator\n",
      "[14:55:11] DEPRECATION WARNING: please use MorganGenerator\n",
      "[14:55:11] DEPRECATION WARNING: please use MorganGenerator\n",
      "[14:55:11] DEPRECATION WARNING: please use MorganGenerator\n",
      "[14:55:11] DEPRECATION WARNING: please use MorganGenerator\n",
      "[14:55:11] DEPRECATION WARNING: please use MorganGenerator\n",
      "[14:55:11] DEPRECATION WARNING: please use MorganGenerator\n",
      "[14:55:11] DEPRECATION WARNING: please use MorganGenerator\n",
      "[14:55:11] DEPRECATION WARNING: please use MorganGenerator\n",
      "[14:55:11] DEPRECATION WARNING: please use MorganGenerator\n",
      "[14:55:11] DEPRECATION WARNING: please use MorganGenerator\n",
      "[14:55:11] DEPRECATION WARNING: please use MorganGenerator\n",
      "[14:55:11] DEPRECATION WARNING: please use MorganGenerator\n",
      "[14:55:11] DEPRECATION WARNING: please use MorganGenerator\n",
      "[14:55:11] DEPRECATION WARNING: please use MorganGenerator\n",
      "[14:55:11] DEPRECATION WARNING: please use MorganGenerator\n",
      "[14:55:11] DEPRECATION WARNING: please use MorganGenerator\n",
      "[14:55:11] DEPRECATION WARNING: please use MorganGenerator\n",
      "[14:55:11] DEPRECATION WARNING: please use MorganGenerator\n",
      "[14:55:11] DEPRECATION WARNING: please use MorganGenerator\n",
      "[14:55:11] DEPRECATION WARNING: please use MorganGenerator\n",
      "[14:55:11] DEPRECATION WARNING: please use MorganGenerator\n",
      "[14:55:11] DEPRECATION WARNING: please use MorganGenerator\n",
      "[14:55:11] DEPRECATION WARNING: please use MorganGenerator\n",
      "[14:55:11] DEPRECATION WARNING: please use MorganGenerator\n",
      "[14:55:11] DEPRECATION WARNING: please use MorganGenerator\n",
      "[14:55:11] DEPRECATION WARNING: please use MorganGenerator\n",
      "[14:55:11] DEPRECATION WARNING: please use MorganGenerator\n",
      "[14:55:11] DEPRECATION WARNING: please use MorganGenerator\n",
      "[14:55:11] DEPRECATION WARNING: please use MorganGenerator\n",
      "[14:55:11] DEPRECATION WARNING: please use MorganGenerator\n",
      "[14:55:11] DEPRECATION WARNING: please use MorganGenerator\n",
      "[14:55:11] DEPRECATION WARNING: please use MorganGenerator\n",
      "[14:55:11] DEPRECATION WARNING: please use MorganGenerator\n",
      "[14:55:11] DEPRECATION WARNING: please use MorganGenerator\n",
      "[14:55:11] DEPRECATION WARNING: please use MorganGenerator\n",
      "[14:55:11] DEPRECATION WARNING: please use MorganGenerator\n",
      "[14:55:11] DEPRECATION WARNING: please use MorganGenerator\n",
      "[14:55:11] DEPRECATION WARNING: please use MorganGenerator\n",
      "[14:55:11] DEPRECATION WARNING: please use MorganGenerator\n",
      "[14:55:11] DEPRECATION WARNING: please use MorganGenerator\n",
      "[14:55:11] DEPRECATION WARNING: please use MorganGenerator\n",
      "[14:55:11] DEPRECATION WARNING: please use MorganGenerator\n",
      "[14:55:11] DEPRECATION WARNING: please use MorganGenerator\n",
      "[14:55:11] DEPRECATION WARNING: please use MorganGenerator\n",
      "[14:55:11] DEPRECATION WARNING: please use MorganGenerator\n",
      "[14:55:11] DEPRECATION WARNING: please use MorganGenerator\n",
      "[14:55:11] DEPRECATION WARNING: please use MorganGenerator\n",
      "[14:55:11] DEPRECATION WARNING: please use MorganGenerator\n",
      "[14:55:11] DEPRECATION WARNING: please use MorganGenerator\n",
      "[14:55:11] DEPRECATION WARNING: please use MorganGenerator\n",
      "[14:55:11] DEPRECATION WARNING: please use MorganGenerator\n",
      "[14:55:11] DEPRECATION WARNING: please use MorganGenerator\n",
      "[14:55:11] DEPRECATION WARNING: please use MorganGenerator\n",
      "[14:55:11] DEPRECATION WARNING: please use MorganGenerator\n",
      "[14:55:11] DEPRECATION WARNING: please use MorganGenerator\n",
      "[14:55:11] DEPRECATION WARNING: please use MorganGenerator\n",
      "[14:55:11] DEPRECATION WARNING: please use MorganGenerator\n",
      "[14:55:11] DEPRECATION WARNING: please use MorganGenerator\n",
      "[14:55:11] DEPRECATION WARNING: please use MorganGenerator\n",
      "[14:55:11] DEPRECATION WARNING: please use MorganGenerator\n",
      "[14:55:11] DEPRECATION WARNING: please use MorganGenerator\n",
      "[14:55:11] DEPRECATION WARNING: please use MorganGenerator\n",
      "[14:55:11] DEPRECATION WARNING: please use MorganGenerator\n",
      "[14:55:11] DEPRECATION WARNING: please use MorganGenerator\n",
      "[14:55:11] DEPRECATION WARNING: please use MorganGenerator\n",
      "[14:55:11] DEPRECATION WARNING: please use MorganGenerator\n",
      "[14:55:11] DEPRECATION WARNING: please use MorganGenerator\n",
      "[14:55:11] DEPRECATION WARNING: please use MorganGenerator\n",
      "[14:55:11] DEPRECATION WARNING: please use MorganGenerator\n",
      "[14:55:11] DEPRECATION WARNING: please use MorganGenerator\n",
      "[14:55:11] DEPRECATION WARNING: please use MorganGenerator\n",
      "[14:55:11] DEPRECATION WARNING: please use MorganGenerator\n",
      "[14:55:11] DEPRECATION WARNING: please use MorganGenerator\n",
      "[14:55:11] DEPRECATION WARNING: please use MorganGenerator\n",
      "[14:55:11] DEPRECATION WARNING: please use MorganGenerator\n",
      "[14:55:11] DEPRECATION WARNING: please use MorganGenerator\n",
      "[14:55:11] DEPRECATION WARNING: please use MorganGenerator\n",
      "[14:55:11] DEPRECATION WARNING: please use MorganGenerator\n",
      "[14:55:11] DEPRECATION WARNING: please use MorganGenerator\n",
      "[14:55:11] DEPRECATION WARNING: please use MorganGenerator\n",
      "[14:55:11] DEPRECATION WARNING: please use MorganGenerator\n",
      "[14:55:11] DEPRECATION WARNING: please use MorganGenerator\n",
      "[14:55:11] DEPRECATION WARNING: please use MorganGenerator\n",
      "[14:55:11] DEPRECATION WARNING: please use MorganGenerator\n",
      "[14:55:11] DEPRECATION WARNING: please use MorganGenerator\n",
      "[14:55:11] DEPRECATION WARNING: please use MorganGenerator\n",
      "[14:55:11] DEPRECATION WARNING: please use MorganGenerator\n",
      "[14:55:11] DEPRECATION WARNING: please use MorganGenerator\n",
      "[14:55:11] DEPRECATION WARNING: please use MorganGenerator\n",
      "[14:55:11] DEPRECATION WARNING: please use MorganGenerator\n",
      "[14:55:11] DEPRECATION WARNING: please use MorganGenerator\n",
      "[14:55:11] DEPRECATION WARNING: please use MorganGenerator\n",
      "[14:55:11] DEPRECATION WARNING: please use MorganGenerator\n",
      "[14:55:11] DEPRECATION WARNING: please use MorganGenerator\n",
      "[14:55:11] DEPRECATION WARNING: please use MorganGenerator\n",
      "[14:55:11] DEPRECATION WARNING: please use MorganGenerator\n",
      "[14:55:11] DEPRECATION WARNING: please use MorganGenerator\n",
      "[14:55:11] DEPRECATION WARNING: please use MorganGenerator\n",
      "[14:55:11] DEPRECATION WARNING: please use MorganGenerator\n",
      "[14:55:11] DEPRECATION WARNING: please use MorganGenerator\n",
      "[14:55:11] DEPRECATION WARNING: please use MorganGenerator\n",
      "[14:55:11] DEPRECATION WARNING: please use MorganGenerator\n",
      "[14:55:11] DEPRECATION WARNING: please use MorganGenerator\n",
      "[14:55:11] DEPRECATION WARNING: please use MorganGenerator\n",
      "[14:55:11] DEPRECATION WARNING: please use MorganGenerator\n",
      "[14:55:11] DEPRECATION WARNING: please use MorganGenerator\n",
      "[14:55:11] DEPRECATION WARNING: please use MorganGenerator\n",
      "[14:55:11] DEPRECATION WARNING: please use MorganGenerator\n",
      "[14:55:11] DEPRECATION WARNING: please use MorganGenerator\n",
      "[14:55:11] DEPRECATION WARNING: please use MorganGenerator\n",
      "[14:55:11] DEPRECATION WARNING: please use MorganGenerator\n",
      "[14:55:11] DEPRECATION WARNING: please use MorganGenerator\n",
      "[14:55:11] DEPRECATION WARNING: please use MorganGenerator\n",
      "[14:55:11] DEPRECATION WARNING: please use MorganGenerator\n",
      "[14:55:11] DEPRECATION WARNING: please use MorganGenerator\n",
      "[14:55:11] DEPRECATION WARNING: please use MorganGenerator\n",
      "[14:55:11] DEPRECATION WARNING: please use MorganGenerator\n",
      "[14:55:11] DEPRECATION WARNING: please use MorganGenerator\n",
      "[14:55:11] DEPRECATION WARNING: please use MorganGenerator\n",
      "[14:55:11] DEPRECATION WARNING: please use MorganGenerator\n",
      "[14:55:11] DEPRECATION WARNING: please use MorganGenerator\n",
      "[14:55:11] DEPRECATION WARNING: please use MorganGenerator\n",
      "[14:55:11] DEPRECATION WARNING: please use MorganGenerator\n",
      "[14:55:11] DEPRECATION WARNING: please use MorganGenerator\n",
      "[14:55:11] DEPRECATION WARNING: please use MorganGenerator\n",
      "[14:55:11] DEPRECATION WARNING: please use MorganGenerator\n",
      "[14:55:11] DEPRECATION WARNING: please use MorganGenerator\n",
      "[14:55:11] DEPRECATION WARNING: please use MorganGenerator\n",
      "[14:55:11] DEPRECATION WARNING: please use MorganGenerator\n",
      "[14:55:11] DEPRECATION WARNING: please use MorganGenerator\n",
      "[14:55:11] DEPRECATION WARNING: please use MorganGenerator\n",
      "[14:55:11] DEPRECATION WARNING: please use MorganGenerator\n",
      "[14:55:11] DEPRECATION WARNING: please use MorganGenerator\n",
      "[14:55:11] DEPRECATION WARNING: please use MorganGenerator\n",
      "[14:55:11] DEPRECATION WARNING: please use MorganGenerator\n",
      "[14:55:11] DEPRECATION WARNING: please use MorganGenerator\n",
      "[14:55:11] DEPRECATION WARNING: please use MorganGenerator\n",
      "[14:55:11] DEPRECATION WARNING: please use MorganGenerator\n",
      "[14:55:11] DEPRECATION WARNING: please use MorganGenerator\n",
      "[14:55:11] DEPRECATION WARNING: please use MorganGenerator\n",
      "[14:55:11] DEPRECATION WARNING: please use MorganGenerator\n",
      "[14:55:11] DEPRECATION WARNING: please use MorganGenerator\n",
      "[14:55:11] DEPRECATION WARNING: please use MorganGenerator\n",
      "[14:55:11] DEPRECATION WARNING: please use MorganGenerator\n",
      "[14:55:11] DEPRECATION WARNING: please use MorganGenerator\n",
      "[14:55:11] DEPRECATION WARNING: please use MorganGenerator\n",
      "[14:55:11] DEPRECATION WARNING: please use MorganGenerator\n",
      "[14:55:11] DEPRECATION WARNING: please use MorganGenerator\n",
      "[14:55:11] DEPRECATION WARNING: please use MorganGenerator\n",
      "[14:55:11] DEPRECATION WARNING: please use MorganGenerator\n",
      "[14:55:11] DEPRECATION WARNING: please use MorganGenerator\n",
      "[14:55:11] DEPRECATION WARNING: please use MorganGenerator\n",
      "[14:55:11] DEPRECATION WARNING: please use MorganGenerator\n",
      "[14:55:11] DEPRECATION WARNING: please use MorganGenerator\n",
      "[14:55:11] DEPRECATION WARNING: please use MorganGenerator\n",
      "[14:55:11] DEPRECATION WARNING: please use MorganGenerator\n",
      "[14:55:11] DEPRECATION WARNING: please use MorganGenerator\n",
      "[14:55:11] DEPRECATION WARNING: please use MorganGenerator\n",
      "[14:55:11] DEPRECATION WARNING: please use MorganGenerator\n",
      "[14:55:11] DEPRECATION WARNING: please use MorganGenerator\n",
      "[14:55:11] DEPRECATION WARNING: please use MorganGenerator\n",
      "[14:55:11] DEPRECATION WARNING: please use MorganGenerator\n",
      "[14:55:11] DEPRECATION WARNING: please use MorganGenerator\n",
      "[14:55:11] DEPRECATION WARNING: please use MorganGenerator\n",
      "[14:55:11] DEPRECATION WARNING: please use MorganGenerator\n",
      "[14:55:11] DEPRECATION WARNING: please use MorganGenerator\n",
      "[14:55:11] DEPRECATION WARNING: please use MorganGenerator\n",
      "[14:55:11] DEPRECATION WARNING: please use MorganGenerator\n",
      "[14:55:11] DEPRECATION WARNING: please use MorganGenerator\n",
      "[14:55:11] DEPRECATION WARNING: please use MorganGenerator\n",
      "[14:55:11] DEPRECATION WARNING: please use MorganGenerator\n",
      "[14:55:11] DEPRECATION WARNING: please use MorganGenerator\n",
      "[14:55:11] DEPRECATION WARNING: please use MorganGenerator\n",
      "[14:55:11] DEPRECATION WARNING: please use MorganGenerator\n",
      "[14:55:11] DEPRECATION WARNING: please use MorganGenerator\n",
      "[14:55:11] DEPRECATION WARNING: please use MorganGenerator\n",
      "[14:55:11] DEPRECATION WARNING: please use MorganGenerator\n",
      "[14:55:11] DEPRECATION WARNING: please use MorganGenerator\n",
      "[14:55:11] DEPRECATION WARNING: please use MorganGenerator\n",
      "[14:55:11] DEPRECATION WARNING: please use MorganGenerator\n",
      "[14:55:11] DEPRECATION WARNING: please use MorganGenerator\n",
      "[14:55:11] DEPRECATION WARNING: please use MorganGenerator\n",
      "[14:55:11] DEPRECATION WARNING: please use MorganGenerator\n",
      "[14:55:11] DEPRECATION WARNING: please use MorganGenerator\n",
      "[14:55:11] DEPRECATION WARNING: please use MorganGenerator\n",
      "[14:55:11] DEPRECATION WARNING: please use MorganGenerator\n",
      "[14:55:11] DEPRECATION WARNING: please use MorganGenerator\n",
      "[14:55:11] DEPRECATION WARNING: please use MorganGenerator\n",
      "[14:55:11] DEPRECATION WARNING: please use MorganGenerator\n",
      "[14:55:11] DEPRECATION WARNING: please use MorganGenerator\n",
      "[14:55:11] DEPRECATION WARNING: please use MorganGenerator\n",
      "[14:55:11] DEPRECATION WARNING: please use MorganGenerator\n",
      "[14:55:11] DEPRECATION WARNING: please use MorganGenerator\n",
      "[14:55:11] DEPRECATION WARNING: please use MorganGenerator\n",
      "[14:55:11] DEPRECATION WARNING: please use MorganGenerator\n",
      "[14:55:11] DEPRECATION WARNING: please use MorganGenerator\n",
      "[14:55:11] DEPRECATION WARNING: please use MorganGenerator\n",
      "[14:55:11] DEPRECATION WARNING: please use MorganGenerator\n",
      "[14:55:11] DEPRECATION WARNING: please use MorganGenerator\n",
      "[14:55:11] DEPRECATION WARNING: please use MorganGenerator\n",
      "[14:55:11] DEPRECATION WARNING: please use MorganGenerator\n",
      "[14:55:11] DEPRECATION WARNING: please use MorganGenerator\n",
      "[14:55:11] DEPRECATION WARNING: please use MorganGenerator\n",
      "[14:55:11] DEPRECATION WARNING: please use MorganGenerator\n",
      "[14:55:11] DEPRECATION WARNING: please use MorganGenerator\n",
      "[14:55:11] DEPRECATION WARNING: please use MorganGenerator\n",
      "[14:55:11] DEPRECATION WARNING: please use MorganGenerator\n",
      "[14:55:11] DEPRECATION WARNING: please use MorganGenerator\n",
      "[14:55:11] DEPRECATION WARNING: please use MorganGenerator\n",
      "[14:55:11] DEPRECATION WARNING: please use MorganGenerator\n",
      "[14:55:11] DEPRECATION WARNING: please use MorganGenerator\n",
      "[14:55:11] DEPRECATION WARNING: please use MorganGenerator\n",
      "[14:55:11] DEPRECATION WARNING: please use MorganGenerator\n",
      "[14:55:11] DEPRECATION WARNING: please use MorganGenerator\n",
      "[14:55:11] DEPRECATION WARNING: please use MorganGenerator\n",
      "[14:55:11] DEPRECATION WARNING: please use MorganGenerator\n",
      "[14:55:11] DEPRECATION WARNING: please use MorganGenerator\n",
      "[14:55:11] DEPRECATION WARNING: please use MorganGenerator\n",
      "[14:55:11] DEPRECATION WARNING: please use MorganGenerator\n",
      "[14:55:11] DEPRECATION WARNING: please use MorganGenerator\n",
      "[14:55:11] DEPRECATION WARNING: please use MorganGenerator\n",
      "[14:55:11] DEPRECATION WARNING: please use MorganGenerator\n",
      "[14:55:11] DEPRECATION WARNING: please use MorganGenerator\n",
      "[14:55:11] DEPRECATION WARNING: please use MorganGenerator\n",
      "[14:55:11] DEPRECATION WARNING: please use MorganGenerator\n",
      "[14:55:11] DEPRECATION WARNING: please use MorganGenerator\n",
      "[14:55:11] DEPRECATION WARNING: please use MorganGenerator\n",
      "[14:55:11] DEPRECATION WARNING: please use MorganGenerator\n",
      "[14:55:11] DEPRECATION WARNING: please use MorganGenerator\n",
      "[14:55:11] DEPRECATION WARNING: please use MorganGenerator\n",
      "[14:55:11] DEPRECATION WARNING: please use MorganGenerator\n",
      "[14:55:11] DEPRECATION WARNING: please use MorganGenerator\n",
      "[14:55:11] DEPRECATION WARNING: please use MorganGenerator\n",
      "[14:55:11] DEPRECATION WARNING: please use MorganGenerator\n",
      "[14:55:11] DEPRECATION WARNING: please use MorganGenerator\n",
      "[14:55:11] DEPRECATION WARNING: please use MorganGenerator\n",
      "[14:55:11] DEPRECATION WARNING: please use MorganGenerator\n",
      "[14:55:11] DEPRECATION WARNING: please use MorganGenerator\n",
      "[14:55:11] DEPRECATION WARNING: please use MorganGenerator\n",
      "[14:55:11] DEPRECATION WARNING: please use MorganGenerator\n",
      "[14:55:11] DEPRECATION WARNING: please use MorganGenerator\n",
      "[14:55:11] DEPRECATION WARNING: please use MorganGenerator\n",
      "[14:55:11] DEPRECATION WARNING: please use MorganGenerator\n",
      "[14:55:11] DEPRECATION WARNING: please use MorganGenerator\n",
      "[14:55:11] DEPRECATION WARNING: please use MorganGenerator\n",
      "[14:55:11] DEPRECATION WARNING: please use MorganGenerator\n",
      "[14:55:11] DEPRECATION WARNING: please use MorganGenerator\n",
      "[14:55:11] DEPRECATION WARNING: please use MorganGenerator\n",
      "[14:55:11] DEPRECATION WARNING: please use MorganGenerator\n",
      "[14:55:11] DEPRECATION WARNING: please use MorganGenerator\n",
      "[14:55:11] DEPRECATION WARNING: please use MorganGenerator\n",
      "[14:55:11] DEPRECATION WARNING: please use MorganGenerator\n",
      "[14:55:11] DEPRECATION WARNING: please use MorganGenerator\n",
      "[14:55:11] DEPRECATION WARNING: please use MorganGenerator\n",
      "[14:55:11] DEPRECATION WARNING: please use MorganGenerator\n",
      "[14:55:11] DEPRECATION WARNING: please use MorganGenerator\n",
      "[14:55:11] DEPRECATION WARNING: please use MorganGenerator\n",
      "[14:55:11] DEPRECATION WARNING: please use MorganGenerator\n",
      "[14:55:11] DEPRECATION WARNING: please use MorganGenerator\n",
      "[14:55:11] DEPRECATION WARNING: please use MorganGenerator\n",
      "[14:55:11] DEPRECATION WARNING: please use MorganGenerator\n",
      "[14:55:11] DEPRECATION WARNING: please use MorganGenerator\n",
      "[14:55:11] DEPRECATION WARNING: please use MorganGenerator\n",
      "[14:55:11] DEPRECATION WARNING: please use MorganGenerator\n",
      "[14:55:11] DEPRECATION WARNING: please use MorganGenerator\n",
      "[14:55:11] DEPRECATION WARNING: please use MorganGenerator\n",
      "[14:55:11] DEPRECATION WARNING: please use MorganGenerator\n",
      "[14:55:11] DEPRECATION WARNING: please use MorganGenerator\n",
      "[14:55:11] DEPRECATION WARNING: please use MorganGenerator\n",
      "[14:55:11] DEPRECATION WARNING: please use MorganGenerator\n",
      "[14:55:11] DEPRECATION WARNING: please use MorganGenerator\n",
      "[14:55:11] DEPRECATION WARNING: please use MorganGenerator\n",
      "[14:55:11] DEPRECATION WARNING: please use MorganGenerator\n",
      "[14:55:11] DEPRECATION WARNING: please use MorganGenerator\n",
      "[14:55:11] DEPRECATION WARNING: please use MorganGenerator\n",
      "[14:55:11] DEPRECATION WARNING: please use MorganGenerator\n",
      "[14:55:11] DEPRECATION WARNING: please use MorganGenerator\n",
      "[14:55:11] DEPRECATION WARNING: please use MorganGenerator\n",
      "[14:55:11] DEPRECATION WARNING: please use MorganGenerator\n",
      "[14:55:11] DEPRECATION WARNING: please use MorganGenerator\n",
      "[14:55:11] DEPRECATION WARNING: please use MorganGenerator\n",
      "[14:55:11] DEPRECATION WARNING: please use MorganGenerator\n",
      "[14:55:11] DEPRECATION WARNING: please use MorganGenerator\n",
      "[14:55:11] DEPRECATION WARNING: please use MorganGenerator\n",
      "[14:55:11] DEPRECATION WARNING: please use MorganGenerator\n",
      "[14:55:11] DEPRECATION WARNING: please use MorganGenerator\n",
      "[14:55:11] DEPRECATION WARNING: please use MorganGenerator\n",
      "[14:55:11] DEPRECATION WARNING: please use MorganGenerator\n",
      "[14:55:11] DEPRECATION WARNING: please use MorganGenerator\n",
      "[14:55:11] DEPRECATION WARNING: please use MorganGenerator\n",
      "[14:55:11] DEPRECATION WARNING: please use MorganGenerator\n",
      "[14:55:11] DEPRECATION WARNING: please use MorganGenerator\n",
      "[14:55:11] DEPRECATION WARNING: please use MorganGenerator\n",
      "[14:55:11] DEPRECATION WARNING: please use MorganGenerator\n",
      "[14:55:11] DEPRECATION WARNING: please use MorganGenerator\n",
      "[14:55:11] DEPRECATION WARNING: please use MorganGenerator\n",
      "[14:55:11] DEPRECATION WARNING: please use MorganGenerator\n",
      "[14:55:11] DEPRECATION WARNING: please use MorganGenerator\n",
      "[14:55:11] DEPRECATION WARNING: please use MorganGenerator\n",
      "[14:55:11] DEPRECATION WARNING: please use MorganGenerator\n",
      "[14:55:11] DEPRECATION WARNING: please use MorganGenerator\n",
      "[14:55:11] DEPRECATION WARNING: please use MorganGenerator\n",
      "[14:55:11] DEPRECATION WARNING: please use MorganGenerator\n",
      "[14:55:11] DEPRECATION WARNING: please use MorganGenerator\n",
      "[14:55:11] DEPRECATION WARNING: please use MorganGenerator\n",
      "[14:55:11] DEPRECATION WARNING: please use MorganGenerator\n",
      "[14:55:11] DEPRECATION WARNING: please use MorganGenerator\n",
      "[14:55:11] DEPRECATION WARNING: please use MorganGenerator\n",
      "[14:55:11] DEPRECATION WARNING: please use MorganGenerator\n",
      "[14:55:11] DEPRECATION WARNING: please use MorganGenerator\n",
      "[14:55:11] DEPRECATION WARNING: please use MorganGenerator\n",
      "[14:55:11] DEPRECATION WARNING: please use MorganGenerator\n",
      "[14:55:11] DEPRECATION WARNING: please use MorganGenerator\n",
      "[14:55:11] DEPRECATION WARNING: please use MorganGenerator\n",
      "[14:55:11] DEPRECATION WARNING: please use MorganGenerator\n",
      "[14:55:11] DEPRECATION WARNING: please use MorganGenerator\n",
      "[14:55:11] DEPRECATION WARNING: please use MorganGenerator\n",
      "[14:55:11] DEPRECATION WARNING: please use MorganGenerator\n",
      "[14:55:11] DEPRECATION WARNING: please use MorganGenerator\n",
      "[14:55:11] DEPRECATION WARNING: please use MorganGenerator\n",
      "[14:55:11] DEPRECATION WARNING: please use MorganGenerator\n",
      "[14:55:11] DEPRECATION WARNING: please use MorganGenerator\n",
      "[14:55:11] DEPRECATION WARNING: please use MorganGenerator\n",
      "[14:55:11] DEPRECATION WARNING: please use MorganGenerator\n",
      "[14:55:11] DEPRECATION WARNING: please use MorganGenerator\n",
      "[14:55:11] DEPRECATION WARNING: please use MorganGenerator\n",
      "[14:55:11] DEPRECATION WARNING: please use MorganGenerator\n",
      "[14:55:11] DEPRECATION WARNING: please use MorganGenerator\n",
      "[14:55:11] DEPRECATION WARNING: please use MorganGenerator\n",
      "[14:55:11] DEPRECATION WARNING: please use MorganGenerator\n",
      "[14:55:11] DEPRECATION WARNING: please use MorganGenerator\n",
      "[14:55:11] DEPRECATION WARNING: please use MorganGenerator\n",
      "[14:55:11] DEPRECATION WARNING: please use MorganGenerator\n",
      "[14:55:11] DEPRECATION WARNING: please use MorganGenerator\n",
      "[14:55:11] DEPRECATION WARNING: please use MorganGenerator\n",
      "[14:55:11] DEPRECATION WARNING: please use MorganGenerator\n",
      "[14:55:11] DEPRECATION WARNING: please use MorganGenerator\n",
      "[14:55:11] DEPRECATION WARNING: please use MorganGenerator\n",
      "[14:55:11] DEPRECATION WARNING: please use MorganGenerator\n",
      "[14:55:11] DEPRECATION WARNING: please use MorganGenerator\n",
      "[14:55:11] DEPRECATION WARNING: please use MorganGenerator\n",
      "[14:55:11] DEPRECATION WARNING: please use MorganGenerator\n",
      "[14:55:11] DEPRECATION WARNING: please use MorganGenerator\n",
      "[14:55:11] DEPRECATION WARNING: please use MorganGenerator\n",
      "[14:55:11] DEPRECATION WARNING: please use MorganGenerator\n",
      "[14:55:11] DEPRECATION WARNING: please use MorganGenerator\n",
      "[14:55:11] DEPRECATION WARNING: please use MorganGenerator\n",
      "[14:55:11] DEPRECATION WARNING: please use MorganGenerator\n",
      "[14:55:11] DEPRECATION WARNING: please use MorganGenerator\n",
      "[14:55:11] DEPRECATION WARNING: please use MorganGenerator\n",
      "[14:55:11] DEPRECATION WARNING: please use MorganGenerator\n",
      "[14:55:11] DEPRECATION WARNING: please use MorganGenerator\n",
      "[14:55:11] DEPRECATION WARNING: please use MorganGenerator\n",
      "[14:55:11] DEPRECATION WARNING: please use MorganGenerator\n",
      "[14:55:11] DEPRECATION WARNING: please use MorganGenerator\n",
      "[14:55:11] DEPRECATION WARNING: please use MorganGenerator\n",
      "[14:55:11] DEPRECATION WARNING: please use MorganGenerator\n",
      "[14:55:11] DEPRECATION WARNING: please use MorganGenerator\n",
      "[14:55:11] DEPRECATION WARNING: please use MorganGenerator\n",
      "[14:55:11] DEPRECATION WARNING: please use MorganGenerator\n",
      "[14:55:11] DEPRECATION WARNING: please use MorganGenerator\n",
      "[14:55:11] DEPRECATION WARNING: please use MorganGenerator\n",
      "[14:55:11] DEPRECATION WARNING: please use MorganGenerator\n",
      "[14:55:11] DEPRECATION WARNING: please use MorganGenerator\n",
      "[14:55:11] DEPRECATION WARNING: please use MorganGenerator\n",
      "2025-05-19 14:55:11,927 - INFO - Featurizing datapoint 1000\n",
      "[14:55:11] DEPRECATION WARNING: please use MorganGenerator\n",
      "[14:55:11] DEPRECATION WARNING: please use MorganGenerator\n",
      "[14:55:11] DEPRECATION WARNING: please use MorganGenerator\n",
      "[14:55:11] DEPRECATION WARNING: please use MorganGenerator\n",
      "[14:55:11] DEPRECATION WARNING: please use MorganGenerator\n",
      "[14:55:11] DEPRECATION WARNING: please use MorganGenerator\n",
      "[14:55:11] DEPRECATION WARNING: please use MorganGenerator\n",
      "[14:55:11] DEPRECATION WARNING: please use MorganGenerator\n",
      "[14:55:11] DEPRECATION WARNING: please use MorganGenerator\n",
      "[14:55:11] DEPRECATION WARNING: please use MorganGenerator\n",
      "[14:55:11] DEPRECATION WARNING: please use MorganGenerator\n",
      "[14:55:11] DEPRECATION WARNING: please use MorganGenerator\n",
      "[14:55:11] DEPRECATION WARNING: please use MorganGenerator\n",
      "[14:55:11] DEPRECATION WARNING: please use MorganGenerator\n",
      "[14:55:11] DEPRECATION WARNING: please use MorganGenerator\n",
      "[14:55:11] DEPRECATION WARNING: please use MorganGenerator\n",
      "[14:55:11] DEPRECATION WARNING: please use MorganGenerator\n",
      "[14:55:11] DEPRECATION WARNING: please use MorganGenerator\n",
      "[14:55:11] DEPRECATION WARNING: please use MorganGenerator\n",
      "[14:55:11] DEPRECATION WARNING: please use MorganGenerator\n",
      "[14:55:11] DEPRECATION WARNING: please use MorganGenerator\n",
      "[14:55:11] DEPRECATION WARNING: please use MorganGenerator\n",
      "[14:55:11] DEPRECATION WARNING: please use MorganGenerator\n",
      "[14:55:11] DEPRECATION WARNING: please use MorganGenerator\n",
      "[14:55:11] DEPRECATION WARNING: please use MorganGenerator\n",
      "[14:55:11] DEPRECATION WARNING: please use MorganGenerator\n",
      "[14:55:11] DEPRECATION WARNING: please use MorganGenerator\n",
      "[14:55:11] DEPRECATION WARNING: please use MorganGenerator\n",
      "[14:55:11] DEPRECATION WARNING: please use MorganGenerator\n",
      "[14:55:11] DEPRECATION WARNING: please use MorganGenerator\n",
      "[14:55:11] DEPRECATION WARNING: please use MorganGenerator\n",
      "[14:55:11] DEPRECATION WARNING: please use MorganGenerator\n",
      "[14:55:11] DEPRECATION WARNING: please use MorganGenerator\n",
      "[14:55:11] DEPRECATION WARNING: please use MorganGenerator\n",
      "[14:55:11] DEPRECATION WARNING: please use MorganGenerator\n",
      "[14:55:11] DEPRECATION WARNING: please use MorganGenerator\n",
      "[14:55:11] DEPRECATION WARNING: please use MorganGenerator\n",
      "[14:55:11] DEPRECATION WARNING: please use MorganGenerator\n",
      "[14:55:11] DEPRECATION WARNING: please use MorganGenerator\n",
      "[14:55:12] DEPRECATION WARNING: please use MorganGenerator\n",
      "[14:55:12] DEPRECATION WARNING: please use MorganGenerator\n",
      "[14:55:12] DEPRECATION WARNING: please use MorganGenerator\n",
      "[14:55:12] DEPRECATION WARNING: please use MorganGenerator\n",
      "[14:55:12] DEPRECATION WARNING: please use MorganGenerator\n",
      "[14:55:12] DEPRECATION WARNING: please use MorganGenerator\n",
      "[14:55:12] DEPRECATION WARNING: please use MorganGenerator\n",
      "[14:55:12] DEPRECATION WARNING: please use MorganGenerator\n",
      "[14:55:12] DEPRECATION WARNING: please use MorganGenerator\n",
      "[14:55:12] DEPRECATION WARNING: please use MorganGenerator\n",
      "[14:55:12] DEPRECATION WARNING: please use MorganGenerator\n",
      "[14:55:12] DEPRECATION WARNING: please use MorganGenerator\n",
      "[14:55:12] DEPRECATION WARNING: please use MorganGenerator\n",
      "[14:55:12] DEPRECATION WARNING: please use MorganGenerator\n",
      "[14:55:12] DEPRECATION WARNING: please use MorganGenerator\n",
      "[14:55:12] DEPRECATION WARNING: please use MorganGenerator\n",
      "[14:55:12] DEPRECATION WARNING: please use MorganGenerator\n",
      "[14:55:12] DEPRECATION WARNING: please use MorganGenerator\n",
      "[14:55:12] DEPRECATION WARNING: please use MorganGenerator\n",
      "[14:55:12] DEPRECATION WARNING: please use MorganGenerator\n",
      "[14:55:12] DEPRECATION WARNING: please use MorganGenerator\n",
      "[14:55:12] DEPRECATION WARNING: please use MorganGenerator\n",
      "[14:55:12] DEPRECATION WARNING: please use MorganGenerator\n",
      "[14:55:12] DEPRECATION WARNING: please use MorganGenerator\n",
      "[14:55:12] DEPRECATION WARNING: please use MorganGenerator\n",
      "[14:55:12] DEPRECATION WARNING: please use MorganGenerator\n",
      "[14:55:12] DEPRECATION WARNING: please use MorganGenerator\n",
      "[14:55:12] DEPRECATION WARNING: please use MorganGenerator\n",
      "[14:55:12] DEPRECATION WARNING: please use MorganGenerator\n",
      "[14:55:12] DEPRECATION WARNING: please use MorganGenerator\n",
      "[14:55:12] DEPRECATION WARNING: please use MorganGenerator\n",
      "[14:55:12] DEPRECATION WARNING: please use MorganGenerator\n",
      "[14:55:12] DEPRECATION WARNING: please use MorganGenerator\n",
      "[14:55:12] DEPRECATION WARNING: please use MorganGenerator\n",
      "[14:55:12] DEPRECATION WARNING: please use MorganGenerator\n",
      "[14:55:12] DEPRECATION WARNING: please use MorganGenerator\n",
      "[14:55:12] DEPRECATION WARNING: please use MorganGenerator\n",
      "[14:55:12] DEPRECATION WARNING: please use MorganGenerator\n",
      "[14:55:12] DEPRECATION WARNING: please use MorganGenerator\n",
      "[14:55:12] DEPRECATION WARNING: please use MorganGenerator\n",
      "[14:55:12] DEPRECATION WARNING: please use MorganGenerator\n",
      "[14:55:12] DEPRECATION WARNING: please use MorganGenerator\n",
      "[14:55:12] DEPRECATION WARNING: please use MorganGenerator\n",
      "[14:55:12] DEPRECATION WARNING: please use MorganGenerator\n",
      "[14:55:12] DEPRECATION WARNING: please use MorganGenerator\n",
      "[14:55:12] DEPRECATION WARNING: please use MorganGenerator\n",
      "[14:55:12] DEPRECATION WARNING: please use MorganGenerator\n",
      "[14:55:12] DEPRECATION WARNING: please use MorganGenerator\n",
      "[14:55:12] DEPRECATION WARNING: please use MorganGenerator\n",
      "[14:55:12] DEPRECATION WARNING: please use MorganGenerator\n",
      "[14:55:12] DEPRECATION WARNING: please use MorganGenerator\n",
      "[14:55:12] DEPRECATION WARNING: please use MorganGenerator\n",
      "[14:55:12] DEPRECATION WARNING: please use MorganGenerator\n",
      "[14:55:12] DEPRECATION WARNING: please use MorganGenerator\n",
      "[14:55:12] DEPRECATION WARNING: please use MorganGenerator\n",
      "[14:55:12] DEPRECATION WARNING: please use MorganGenerator\n",
      "[14:55:12] DEPRECATION WARNING: please use MorganGenerator\n",
      "[14:55:12] DEPRECATION WARNING: please use MorganGenerator\n",
      "[14:55:12] DEPRECATION WARNING: please use MorganGenerator\n",
      "[14:55:12] DEPRECATION WARNING: please use MorganGenerator\n",
      "[14:55:12] DEPRECATION WARNING: please use MorganGenerator\n",
      "[14:55:12] DEPRECATION WARNING: please use MorganGenerator\n",
      "[14:55:12] DEPRECATION WARNING: please use MorganGenerator\n",
      "[14:55:12] DEPRECATION WARNING: please use MorganGenerator\n",
      "[14:55:12] DEPRECATION WARNING: please use MorganGenerator\n",
      "[14:55:12] DEPRECATION WARNING: please use MorganGenerator\n",
      "[14:55:12] DEPRECATION WARNING: please use MorganGenerator\n",
      "[14:55:12] DEPRECATION WARNING: please use MorganGenerator\n",
      "[14:55:12] DEPRECATION WARNING: please use MorganGenerator\n",
      "[14:55:12] DEPRECATION WARNING: please use MorganGenerator\n",
      "[14:55:12] DEPRECATION WARNING: please use MorganGenerator\n",
      "[14:55:12] DEPRECATION WARNING: please use MorganGenerator\n",
      "[14:55:12] DEPRECATION WARNING: please use MorganGenerator\n",
      "[14:55:12] DEPRECATION WARNING: please use MorganGenerator\n",
      "[14:55:12] DEPRECATION WARNING: please use MorganGenerator\n",
      "[14:55:12] DEPRECATION WARNING: please use MorganGenerator\n",
      "[14:55:12] DEPRECATION WARNING: please use MorganGenerator\n",
      "[14:55:12] DEPRECATION WARNING: please use MorganGenerator\n",
      "[14:55:12] DEPRECATION WARNING: please use MorganGenerator\n",
      "[14:55:12] DEPRECATION WARNING: please use MorganGenerator\n",
      "[14:55:12] DEPRECATION WARNING: please use MorganGenerator\n",
      "[14:55:12] DEPRECATION WARNING: please use MorganGenerator\n",
      "[14:55:12] DEPRECATION WARNING: please use MorganGenerator\n",
      "[14:55:12] DEPRECATION WARNING: please use MorganGenerator\n",
      "[14:55:12] DEPRECATION WARNING: please use MorganGenerator\n",
      "[14:55:12] DEPRECATION WARNING: please use MorganGenerator\n",
      "[14:55:12] DEPRECATION WARNING: please use MorganGenerator\n",
      "[14:55:12] DEPRECATION WARNING: please use MorganGenerator\n",
      "[14:55:12] DEPRECATION WARNING: please use MorganGenerator\n",
      "[14:55:12] DEPRECATION WARNING: please use MorganGenerator\n",
      "[14:55:12] DEPRECATION WARNING: please use MorganGenerator\n",
      "[14:55:12] DEPRECATION WARNING: please use MorganGenerator\n",
      "[14:55:12] DEPRECATION WARNING: please use MorganGenerator\n",
      "[14:55:12] DEPRECATION WARNING: please use MorganGenerator\n",
      "[14:55:12] DEPRECATION WARNING: please use MorganGenerator\n",
      "[14:55:12] DEPRECATION WARNING: please use MorganGenerator\n",
      "[14:55:12] DEPRECATION WARNING: please use MorganGenerator\n",
      "[14:55:12] DEPRECATION WARNING: please use MorganGenerator\n",
      "[14:55:12] DEPRECATION WARNING: please use MorganGenerator\n",
      "[14:55:12] DEPRECATION WARNING: please use MorganGenerator\n",
      "[14:55:12] DEPRECATION WARNING: please use MorganGenerator\n",
      "[14:55:12] DEPRECATION WARNING: please use MorganGenerator\n",
      "[14:55:12] DEPRECATION WARNING: please use MorganGenerator\n",
      "[14:55:12] DEPRECATION WARNING: please use MorganGenerator\n",
      "[14:55:12] DEPRECATION WARNING: please use MorganGenerator\n",
      "[14:55:12] DEPRECATION WARNING: please use MorganGenerator\n",
      "[14:55:12] DEPRECATION WARNING: please use MorganGenerator\n",
      "[14:55:12] DEPRECATION WARNING: please use MorganGenerator\n",
      "[14:55:12] DEPRECATION WARNING: please use MorganGenerator\n",
      "[14:55:12] DEPRECATION WARNING: please use MorganGenerator\n",
      "[14:55:12] DEPRECATION WARNING: please use MorganGenerator\n",
      "[14:55:12] DEPRECATION WARNING: please use MorganGenerator\n",
      "[14:55:12] DEPRECATION WARNING: please use MorganGenerator\n",
      "[14:55:12] DEPRECATION WARNING: please use MorganGenerator\n",
      "[14:55:12] DEPRECATION WARNING: please use MorganGenerator\n",
      "[14:55:12] DEPRECATION WARNING: please use MorganGenerator\n",
      "[14:55:12] DEPRECATION WARNING: please use MorganGenerator\n",
      "[14:55:12] DEPRECATION WARNING: please use MorganGenerator\n",
      "[14:55:12] DEPRECATION WARNING: please use MorganGenerator\n",
      "[14:55:12] DEPRECATION WARNING: please use MorganGenerator\n",
      "[14:55:12] DEPRECATION WARNING: please use MorganGenerator\n",
      "[14:55:12] DEPRECATION WARNING: please use MorganGenerator\n",
      "[14:55:12] DEPRECATION WARNING: please use MorganGenerator\n",
      "[14:55:12] DEPRECATION WARNING: please use MorganGenerator\n",
      "[14:55:12] DEPRECATION WARNING: please use MorganGenerator\n",
      "[14:55:12] DEPRECATION WARNING: please use MorganGenerator\n",
      "[14:55:12] DEPRECATION WARNING: please use MorganGenerator\n",
      "[14:55:12] DEPRECATION WARNING: please use MorganGenerator\n",
      "[14:55:12] DEPRECATION WARNING: please use MorganGenerator\n",
      "[14:55:12] DEPRECATION WARNING: please use MorganGenerator\n",
      "[14:55:12] DEPRECATION WARNING: please use MorganGenerator\n",
      "[14:55:12] DEPRECATION WARNING: please use MorganGenerator\n",
      "[14:55:12] DEPRECATION WARNING: please use MorganGenerator\n",
      "[14:55:12] DEPRECATION WARNING: please use MorganGenerator\n",
      "[14:55:12] DEPRECATION WARNING: please use MorganGenerator\n",
      "[14:55:12] DEPRECATION WARNING: please use MorganGenerator\n",
      "[14:55:12] DEPRECATION WARNING: please use MorganGenerator\n",
      "[14:55:12] DEPRECATION WARNING: please use MorganGenerator\n",
      "[14:55:12] DEPRECATION WARNING: please use MorganGenerator\n",
      "[14:55:12] DEPRECATION WARNING: please use MorganGenerator\n",
      "[14:55:12] DEPRECATION WARNING: please use MorganGenerator\n",
      "[14:55:12] DEPRECATION WARNING: please use MorganGenerator\n",
      "[14:55:12] DEPRECATION WARNING: please use MorganGenerator\n",
      "[14:55:12] DEPRECATION WARNING: please use MorganGenerator\n",
      "[14:55:12] DEPRECATION WARNING: please use MorganGenerator\n",
      "[14:55:12] DEPRECATION WARNING: please use MorganGenerator\n",
      "[14:55:12] DEPRECATION WARNING: please use MorganGenerator\n",
      "[14:55:12] DEPRECATION WARNING: please use MorganGenerator\n",
      "[14:55:12] DEPRECATION WARNING: please use MorganGenerator\n",
      "[14:55:12] DEPRECATION WARNING: please use MorganGenerator\n",
      "[14:55:12] DEPRECATION WARNING: please use MorganGenerator\n",
      "[14:55:12] DEPRECATION WARNING: please use MorganGenerator\n",
      "[14:55:12] DEPRECATION WARNING: please use MorganGenerator\n",
      "[14:55:12] DEPRECATION WARNING: please use MorganGenerator\n",
      "[14:55:12] DEPRECATION WARNING: please use MorganGenerator\n",
      "[14:55:12] DEPRECATION WARNING: please use MorganGenerator\n",
      "[14:55:12] DEPRECATION WARNING: please use MorganGenerator\n",
      "[14:55:12] DEPRECATION WARNING: please use MorganGenerator\n",
      "[14:55:12] DEPRECATION WARNING: please use MorganGenerator\n",
      "[14:55:12] DEPRECATION WARNING: please use MorganGenerator\n",
      "[14:55:12] DEPRECATION WARNING: please use MorganGenerator\n",
      "[14:55:12] DEPRECATION WARNING: please use MorganGenerator\n",
      "[14:55:12] DEPRECATION WARNING: please use MorganGenerator\n",
      "[14:55:12] DEPRECATION WARNING: please use MorganGenerator\n",
      "[14:55:12] DEPRECATION WARNING: please use MorganGenerator\n",
      "[14:55:12] DEPRECATION WARNING: please use MorganGenerator\n",
      "[14:55:12] DEPRECATION WARNING: please use MorganGenerator\n",
      "[14:55:12] DEPRECATION WARNING: please use MorganGenerator\n",
      "[14:55:12] DEPRECATION WARNING: please use MorganGenerator\n",
      "[14:55:12] DEPRECATION WARNING: please use MorganGenerator\n",
      "[14:55:12] DEPRECATION WARNING: please use MorganGenerator\n",
      "[14:55:12] DEPRECATION WARNING: please use MorganGenerator\n",
      "[14:55:12] DEPRECATION WARNING: please use MorganGenerator\n",
      "[14:55:12] DEPRECATION WARNING: please use MorganGenerator\n",
      "[14:55:12] DEPRECATION WARNING: please use MorganGenerator\n",
      "[14:55:12] DEPRECATION WARNING: please use MorganGenerator\n",
      "[14:55:12] DEPRECATION WARNING: please use MorganGenerator\n",
      "[14:55:12] DEPRECATION WARNING: please use MorganGenerator\n",
      "[14:55:12] DEPRECATION WARNING: please use MorganGenerator\n",
      "[14:55:12] DEPRECATION WARNING: please use MorganGenerator\n",
      "[14:55:12] DEPRECATION WARNING: please use MorganGenerator\n",
      "[14:55:12] DEPRECATION WARNING: please use MorganGenerator\n",
      "[14:55:12] DEPRECATION WARNING: please use MorganGenerator\n",
      "[14:55:12] DEPRECATION WARNING: please use MorganGenerator\n",
      "[14:55:12] DEPRECATION WARNING: please use MorganGenerator\n",
      "[14:55:12] DEPRECATION WARNING: please use MorganGenerator\n",
      "[14:55:12] DEPRECATION WARNING: please use MorganGenerator\n",
      "[14:55:12] DEPRECATION WARNING: please use MorganGenerator\n",
      "[14:55:12] DEPRECATION WARNING: please use MorganGenerator\n",
      "[14:55:12] DEPRECATION WARNING: please use MorganGenerator\n",
      "[14:55:12] DEPRECATION WARNING: please use MorganGenerator\n",
      "[14:55:12] DEPRECATION WARNING: please use MorganGenerator\n",
      "[14:55:12] DEPRECATION WARNING: please use MorganGenerator\n",
      "[14:55:12] DEPRECATION WARNING: please use MorganGenerator\n",
      "[14:55:12] DEPRECATION WARNING: please use MorganGenerator\n",
      "[14:55:12] DEPRECATION WARNING: please use MorganGenerator\n",
      "[14:55:12] DEPRECATION WARNING: please use MorganGenerator\n",
      "[14:55:12] DEPRECATION WARNING: please use MorganGenerator\n",
      "[14:55:12] DEPRECATION WARNING: please use MorganGenerator\n",
      "[14:55:12] DEPRECATION WARNING: please use MorganGenerator\n",
      "[14:55:12] DEPRECATION WARNING: please use MorganGenerator\n",
      "[14:55:12] DEPRECATION WARNING: please use MorganGenerator\n",
      "[14:55:12] DEPRECATION WARNING: please use MorganGenerator\n",
      "[14:55:12] DEPRECATION WARNING: please use MorganGenerator\n",
      "[14:55:12] DEPRECATION WARNING: please use MorganGenerator\n",
      "[14:55:12] DEPRECATION WARNING: please use MorganGenerator\n",
      "[14:55:12] DEPRECATION WARNING: please use MorganGenerator\n",
      "[14:55:12] DEPRECATION WARNING: please use MorganGenerator\n",
      "[14:55:12] DEPRECATION WARNING: please use MorganGenerator\n",
      "[14:55:12] DEPRECATION WARNING: please use MorganGenerator\n",
      "[14:55:12] DEPRECATION WARNING: please use MorganGenerator\n",
      "[14:55:12] DEPRECATION WARNING: please use MorganGenerator\n",
      "[14:55:12] DEPRECATION WARNING: please use MorganGenerator\n",
      "[14:55:12] DEPRECATION WARNING: please use MorganGenerator\n",
      "[14:55:12] DEPRECATION WARNING: please use MorganGenerator\n",
      "[14:55:12] DEPRECATION WARNING: please use MorganGenerator\n",
      "[14:55:12] DEPRECATION WARNING: please use MorganGenerator\n",
      "[14:55:12] DEPRECATION WARNING: please use MorganGenerator\n",
      "[14:55:12] DEPRECATION WARNING: please use MorganGenerator\n",
      "[14:55:12] DEPRECATION WARNING: please use MorganGenerator\n",
      "[14:55:12] DEPRECATION WARNING: please use MorganGenerator\n",
      "[14:55:12] DEPRECATION WARNING: please use MorganGenerator\n",
      "[14:55:12] DEPRECATION WARNING: please use MorganGenerator\n",
      "[14:55:12] DEPRECATION WARNING: please use MorganGenerator\n",
      "[14:55:12] DEPRECATION WARNING: please use MorganGenerator\n",
      "[14:55:12] DEPRECATION WARNING: please use MorganGenerator\n",
      "[14:55:12] DEPRECATION WARNING: please use MorganGenerator\n",
      "[14:55:12] DEPRECATION WARNING: please use MorganGenerator\n",
      "[14:55:12] DEPRECATION WARNING: please use MorganGenerator\n",
      "[14:55:12] DEPRECATION WARNING: please use MorganGenerator\n",
      "[14:55:12] DEPRECATION WARNING: please use MorganGenerator\n",
      "[14:55:12] DEPRECATION WARNING: please use MorganGenerator\n",
      "[14:55:12] DEPRECATION WARNING: please use MorganGenerator\n",
      "[14:55:12] DEPRECATION WARNING: please use MorganGenerator\n",
      "[14:55:12] DEPRECATION WARNING: please use MorganGenerator\n",
      "[14:55:12] DEPRECATION WARNING: please use MorganGenerator\n",
      "[14:55:12] DEPRECATION WARNING: please use MorganGenerator\n",
      "[14:55:12] DEPRECATION WARNING: please use MorganGenerator\n",
      "[14:55:12] DEPRECATION WARNING: please use MorganGenerator\n",
      "[14:55:12] DEPRECATION WARNING: please use MorganGenerator\n",
      "[14:55:12] DEPRECATION WARNING: please use MorganGenerator\n",
      "[14:55:12] DEPRECATION WARNING: please use MorganGenerator\n",
      "[14:55:12] DEPRECATION WARNING: please use MorganGenerator\n",
      "[14:55:12] DEPRECATION WARNING: please use MorganGenerator\n",
      "[14:55:12] DEPRECATION WARNING: please use MorganGenerator\n",
      "[14:55:12] DEPRECATION WARNING: please use MorganGenerator\n",
      "[14:55:12] DEPRECATION WARNING: please use MorganGenerator\n",
      "[14:55:12] DEPRECATION WARNING: please use MorganGenerator\n",
      "[14:55:12] DEPRECATION WARNING: please use MorganGenerator\n",
      "[14:55:12] DEPRECATION WARNING: please use MorganGenerator\n",
      "[14:55:12] DEPRECATION WARNING: please use MorganGenerator\n",
      "[14:55:12] DEPRECATION WARNING: please use MorganGenerator\n",
      "[14:55:12] DEPRECATION WARNING: please use MorganGenerator\n",
      "[14:55:12] DEPRECATION WARNING: please use MorganGenerator\n",
      "[14:55:12] DEPRECATION WARNING: please use MorganGenerator\n",
      "[14:55:12] DEPRECATION WARNING: please use MorganGenerator\n",
      "[14:55:12] DEPRECATION WARNING: please use MorganGenerator\n",
      "[14:55:12] DEPRECATION WARNING: please use MorganGenerator\n",
      "[14:55:12] DEPRECATION WARNING: please use MorganGenerator\n",
      "[14:55:12] DEPRECATION WARNING: please use MorganGenerator\n",
      "[14:55:12] DEPRECATION WARNING: please use MorganGenerator\n",
      "[14:55:12] DEPRECATION WARNING: please use MorganGenerator\n",
      "[14:55:12] DEPRECATION WARNING: please use MorganGenerator\n",
      "[14:55:12] DEPRECATION WARNING: please use MorganGenerator\n",
      "[14:55:12] DEPRECATION WARNING: please use MorganGenerator\n",
      "[14:55:12] DEPRECATION WARNING: please use MorganGenerator\n",
      "[14:55:12] DEPRECATION WARNING: please use MorganGenerator\n",
      "[14:55:12] DEPRECATION WARNING: please use MorganGenerator\n",
      "[14:55:12] DEPRECATION WARNING: please use MorganGenerator\n",
      "[14:55:12] DEPRECATION WARNING: please use MorganGenerator\n",
      "[14:55:12] DEPRECATION WARNING: please use MorganGenerator\n",
      "[14:55:12] DEPRECATION WARNING: please use MorganGenerator\n",
      "[14:55:12] DEPRECATION WARNING: please use MorganGenerator\n",
      "[14:55:12] DEPRECATION WARNING: please use MorganGenerator\n",
      "[14:55:12] DEPRECATION WARNING: please use MorganGenerator\n",
      "[14:55:12] DEPRECATION WARNING: please use MorganGenerator\n",
      "[14:55:12] DEPRECATION WARNING: please use MorganGenerator\n",
      "[14:55:12] DEPRECATION WARNING: please use MorganGenerator\n",
      "[14:55:12] DEPRECATION WARNING: please use MorganGenerator\n",
      "[14:55:12] DEPRECATION WARNING: please use MorganGenerator\n",
      "[14:55:12] DEPRECATION WARNING: please use MorganGenerator\n",
      "[14:55:12] DEPRECATION WARNING: please use MorganGenerator\n",
      "[14:55:12] DEPRECATION WARNING: please use MorganGenerator\n",
      "[14:55:12] DEPRECATION WARNING: please use MorganGenerator\n",
      "[14:55:12] DEPRECATION WARNING: please use MorganGenerator\n",
      "[14:55:12] DEPRECATION WARNING: please use MorganGenerator\n",
      "[14:55:12] DEPRECATION WARNING: please use MorganGenerator\n",
      "[14:55:12] DEPRECATION WARNING: please use MorganGenerator\n",
      "[14:55:12] DEPRECATION WARNING: please use MorganGenerator\n",
      "[14:55:12] DEPRECATION WARNING: please use MorganGenerator\n",
      "[14:55:12] DEPRECATION WARNING: please use MorganGenerator\n",
      "[14:55:12] DEPRECATION WARNING: please use MorganGenerator\n",
      "[14:55:12] DEPRECATION WARNING: please use MorganGenerator\n",
      "[14:55:12] DEPRECATION WARNING: please use MorganGenerator\n",
      "[14:55:12] DEPRECATION WARNING: please use MorganGenerator\n",
      "[14:55:12] DEPRECATION WARNING: please use MorganGenerator\n",
      "[14:55:12] DEPRECATION WARNING: please use MorganGenerator\n",
      "[14:55:12] DEPRECATION WARNING: please use MorganGenerator\n",
      "[14:55:12] DEPRECATION WARNING: please use MorganGenerator\n",
      "[14:55:12] DEPRECATION WARNING: please use MorganGenerator\n",
      "[14:55:12] DEPRECATION WARNING: please use MorganGenerator\n",
      "[14:55:12] DEPRECATION WARNING: please use MorganGenerator\n",
      "[14:55:12] DEPRECATION WARNING: please use MorganGenerator\n",
      "[14:55:12] DEPRECATION WARNING: please use MorganGenerator\n",
      "[14:55:12] DEPRECATION WARNING: please use MorganGenerator\n",
      "[14:55:12] DEPRECATION WARNING: please use MorganGenerator\n",
      "[14:55:12] DEPRECATION WARNING: please use MorganGenerator\n",
      "[14:55:12] DEPRECATION WARNING: please use MorganGenerator\n",
      "[14:55:12] DEPRECATION WARNING: please use MorganGenerator\n",
      "[14:55:12] DEPRECATION WARNING: please use MorganGenerator\n",
      "[14:55:12] DEPRECATION WARNING: please use MorganGenerator\n",
      "[14:55:12] DEPRECATION WARNING: please use MorganGenerator\n",
      "[14:55:12] DEPRECATION WARNING: please use MorganGenerator\n",
      "[14:55:12] DEPRECATION WARNING: please use MorganGenerator\n",
      "[14:55:12] DEPRECATION WARNING: please use MorganGenerator\n",
      "[14:55:12] DEPRECATION WARNING: please use MorganGenerator\n",
      "[14:55:12] DEPRECATION WARNING: please use MorganGenerator\n",
      "[14:55:12] DEPRECATION WARNING: please use MorganGenerator\n",
      "[14:55:12] DEPRECATION WARNING: please use MorganGenerator\n",
      "[14:55:12] DEPRECATION WARNING: please use MorganGenerator\n",
      "[14:55:12] DEPRECATION WARNING: please use MorganGenerator\n",
      "[14:55:12] DEPRECATION WARNING: please use MorganGenerator\n",
      "[14:55:12] DEPRECATION WARNING: please use MorganGenerator\n",
      "[14:55:12] DEPRECATION WARNING: please use MorganGenerator\n",
      "[14:55:12] DEPRECATION WARNING: please use MorganGenerator\n",
      "[14:55:12] DEPRECATION WARNING: please use MorganGenerator\n",
      "[14:55:12] DEPRECATION WARNING: please use MorganGenerator\n",
      "[14:55:12] DEPRECATION WARNING: please use MorganGenerator\n",
      "[14:55:12] DEPRECATION WARNING: please use MorganGenerator\n",
      "[14:55:12] DEPRECATION WARNING: please use MorganGenerator\n",
      "[14:55:12] DEPRECATION WARNING: please use MorganGenerator\n",
      "[14:55:12] DEPRECATION WARNING: please use MorganGenerator\n",
      "[14:55:12] DEPRECATION WARNING: please use MorganGenerator\n",
      "[14:55:12] DEPRECATION WARNING: please use MorganGenerator\n",
      "[14:55:12] DEPRECATION WARNING: please use MorganGenerator\n",
      "[14:55:12] DEPRECATION WARNING: please use MorganGenerator\n",
      "[14:55:12] DEPRECATION WARNING: please use MorganGenerator\n",
      "[14:55:12] DEPRECATION WARNING: please use MorganGenerator\n",
      "[14:55:12] DEPRECATION WARNING: please use MorganGenerator\n",
      "[14:55:12] DEPRECATION WARNING: please use MorganGenerator\n",
      "[14:55:12] DEPRECATION WARNING: please use MorganGenerator\n",
      "[14:55:12] DEPRECATION WARNING: please use MorganGenerator\n",
      "[14:55:12] DEPRECATION WARNING: please use MorganGenerator\n",
      "[14:55:12] DEPRECATION WARNING: please use MorganGenerator\n",
      "[14:55:12] DEPRECATION WARNING: please use MorganGenerator\n",
      "[14:55:12] DEPRECATION WARNING: please use MorganGenerator\n",
      "[14:55:12] DEPRECATION WARNING: please use MorganGenerator\n",
      "[14:55:12] DEPRECATION WARNING: please use MorganGenerator\n",
      "[14:55:12] DEPRECATION WARNING: please use MorganGenerator\n",
      "[14:55:12] DEPRECATION WARNING: please use MorganGenerator\n",
      "[14:55:12] DEPRECATION WARNING: please use MorganGenerator\n",
      "[14:55:12] DEPRECATION WARNING: please use MorganGenerator\n",
      "[14:55:12] DEPRECATION WARNING: please use MorganGenerator\n",
      "[14:55:12] DEPRECATION WARNING: please use MorganGenerator\n",
      "[14:55:12] DEPRECATION WARNING: please use MorganGenerator\n",
      "[14:55:12] DEPRECATION WARNING: please use MorganGenerator\n",
      "[14:55:12] DEPRECATION WARNING: please use MorganGenerator\n",
      "[14:55:12] DEPRECATION WARNING: please use MorganGenerator\n",
      "[14:55:12] DEPRECATION WARNING: please use MorganGenerator\n",
      "[14:55:12] DEPRECATION WARNING: please use MorganGenerator\n",
      "[14:55:12] DEPRECATION WARNING: please use MorganGenerator\n",
      "[14:55:12] DEPRECATION WARNING: please use MorganGenerator\n",
      "[14:55:12] DEPRECATION WARNING: please use MorganGenerator\n",
      "[14:55:12] DEPRECATION WARNING: please use MorganGenerator\n",
      "[14:55:12] DEPRECATION WARNING: please use MorganGenerator\n",
      "[14:55:12] DEPRECATION WARNING: please use MorganGenerator\n",
      "[14:55:12] DEPRECATION WARNING: please use MorganGenerator\n",
      "[14:55:12] DEPRECATION WARNING: please use MorganGenerator\n",
      "[14:55:12] DEPRECATION WARNING: please use MorganGenerator\n",
      "[14:55:12] DEPRECATION WARNING: please use MorganGenerator\n",
      "[14:55:12] DEPRECATION WARNING: please use MorganGenerator\n",
      "[14:55:12] DEPRECATION WARNING: please use MorganGenerator\n",
      "[14:55:12] DEPRECATION WARNING: please use MorganGenerator\n",
      "[14:55:12] DEPRECATION WARNING: please use MorganGenerator\n",
      "[14:55:12] DEPRECATION WARNING: please use MorganGenerator\n",
      "[14:55:12] DEPRECATION WARNING: please use MorganGenerator\n",
      "[14:55:12] DEPRECATION WARNING: please use MorganGenerator\n",
      "[14:55:12] DEPRECATION WARNING: please use MorganGenerator\n",
      "[14:55:12] DEPRECATION WARNING: please use MorganGenerator\n",
      "[14:55:12] DEPRECATION WARNING: please use MorganGenerator\n",
      "[14:55:12] DEPRECATION WARNING: please use MorganGenerator\n",
      "[14:55:12] DEPRECATION WARNING: please use MorganGenerator\n",
      "[14:55:12] DEPRECATION WARNING: please use MorganGenerator\n",
      "[14:55:12] DEPRECATION WARNING: please use MorganGenerator\n",
      "[14:55:12] DEPRECATION WARNING: please use MorganGenerator\n",
      "[14:55:12] DEPRECATION WARNING: please use MorganGenerator\n",
      "[14:55:12] DEPRECATION WARNING: please use MorganGenerator\n",
      "[14:55:12] DEPRECATION WARNING: please use MorganGenerator\n",
      "[14:55:12] DEPRECATION WARNING: please use MorganGenerator\n",
      "[14:55:12] DEPRECATION WARNING: please use MorganGenerator\n",
      "[14:55:12] DEPRECATION WARNING: please use MorganGenerator\n",
      "[14:55:12] DEPRECATION WARNING: please use MorganGenerator\n",
      "[14:55:12] DEPRECATION WARNING: please use MorganGenerator\n",
      "[14:55:12] DEPRECATION WARNING: please use MorganGenerator\n",
      "[14:55:12] DEPRECATION WARNING: please use MorganGenerator\n",
      "[14:55:12] DEPRECATION WARNING: please use MorganGenerator\n",
      "[14:55:12] DEPRECATION WARNING: please use MorganGenerator\n",
      "[14:55:12] DEPRECATION WARNING: please use MorganGenerator\n",
      "[14:55:12] DEPRECATION WARNING: please use MorganGenerator\n",
      "[14:55:12] DEPRECATION WARNING: please use MorganGenerator\n",
      "[14:55:12] DEPRECATION WARNING: please use MorganGenerator\n",
      "[14:55:12] DEPRECATION WARNING: please use MorganGenerator\n",
      "[14:55:12] DEPRECATION WARNING: please use MorganGenerator\n",
      "[14:55:12] DEPRECATION WARNING: please use MorganGenerator\n",
      "[14:55:12] DEPRECATION WARNING: please use MorganGenerator\n",
      "[14:55:12] DEPRECATION WARNING: please use MorganGenerator\n",
      "[14:55:12] DEPRECATION WARNING: please use MorganGenerator\n",
      "[14:55:12] DEPRECATION WARNING: please use MorganGenerator\n",
      "[14:55:12] DEPRECATION WARNING: please use MorganGenerator\n",
      "[14:55:12] DEPRECATION WARNING: please use MorganGenerator\n",
      "[14:55:12] DEPRECATION WARNING: please use MorganGenerator\n",
      "[14:55:12] DEPRECATION WARNING: please use MorganGenerator\n",
      "[14:55:12] DEPRECATION WARNING: please use MorganGenerator\n",
      "[14:55:12] DEPRECATION WARNING: please use MorganGenerator\n",
      "[14:55:12] DEPRECATION WARNING: please use MorganGenerator\n",
      "[14:55:12] DEPRECATION WARNING: please use MorganGenerator\n",
      "[14:55:12] DEPRECATION WARNING: please use MorganGenerator\n",
      "[14:55:12] DEPRECATION WARNING: please use MorganGenerator\n",
      "[14:55:12] DEPRECATION WARNING: please use MorganGenerator\n",
      "[14:55:12] DEPRECATION WARNING: please use MorganGenerator\n",
      "[14:55:12] DEPRECATION WARNING: please use MorganGenerator\n",
      "[14:55:12] DEPRECATION WARNING: please use MorganGenerator\n",
      "[14:55:12] DEPRECATION WARNING: please use MorganGenerator\n",
      "[14:55:12] DEPRECATION WARNING: please use MorganGenerator\n",
      "[14:55:12] DEPRECATION WARNING: please use MorganGenerator\n",
      "[14:55:12] DEPRECATION WARNING: please use MorganGenerator\n",
      "[14:55:12] DEPRECATION WARNING: please use MorganGenerator\n",
      "[14:55:12] DEPRECATION WARNING: please use MorganGenerator\n",
      "[14:55:12] DEPRECATION WARNING: please use MorganGenerator\n",
      "[14:55:12] DEPRECATION WARNING: please use MorganGenerator\n",
      "[14:55:12] DEPRECATION WARNING: please use MorganGenerator\n",
      "[14:55:12] DEPRECATION WARNING: please use MorganGenerator\n",
      "[14:55:12] DEPRECATION WARNING: please use MorganGenerator\n",
      "[14:55:12] DEPRECATION WARNING: please use MorganGenerator\n",
      "[14:55:12] DEPRECATION WARNING: please use MorganGenerator\n",
      "[14:55:12] DEPRECATION WARNING: please use MorganGenerator\n",
      "[14:55:12] DEPRECATION WARNING: please use MorganGenerator\n",
      "[14:55:12] DEPRECATION WARNING: please use MorganGenerator\n",
      "[14:55:12] DEPRECATION WARNING: please use MorganGenerator\n",
      "[14:55:12] DEPRECATION WARNING: please use MorganGenerator\n",
      "[14:55:12] DEPRECATION WARNING: please use MorganGenerator\n",
      "[14:55:12] DEPRECATION WARNING: please use MorganGenerator\n",
      "[14:55:12] DEPRECATION WARNING: please use MorganGenerator\n",
      "[14:55:12] DEPRECATION WARNING: please use MorganGenerator\n",
      "[14:55:12] DEPRECATION WARNING: please use MorganGenerator\n",
      "[14:55:12] DEPRECATION WARNING: please use MorganGenerator\n",
      "[14:55:12] DEPRECATION WARNING: please use MorganGenerator\n",
      "[14:55:12] DEPRECATION WARNING: please use MorganGenerator\n",
      "[14:55:12] DEPRECATION WARNING: please use MorganGenerator\n",
      "[14:55:12] DEPRECATION WARNING: please use MorganGenerator\n",
      "[14:55:12] DEPRECATION WARNING: please use MorganGenerator\n",
      "[14:55:12] DEPRECATION WARNING: please use MorganGenerator\n",
      "[14:55:12] DEPRECATION WARNING: please use MorganGenerator\n",
      "[14:55:12] DEPRECATION WARNING: please use MorganGenerator\n",
      "[14:55:12] DEPRECATION WARNING: please use MorganGenerator\n",
      "[14:55:12] DEPRECATION WARNING: please use MorganGenerator\n",
      "[14:55:12] DEPRECATION WARNING: please use MorganGenerator\n",
      "[14:55:12] DEPRECATION WARNING: please use MorganGenerator\n",
      "[14:55:12] DEPRECATION WARNING: please use MorganGenerator\n",
      "[14:55:12] DEPRECATION WARNING: please use MorganGenerator\n",
      "[14:55:12] DEPRECATION WARNING: please use MorganGenerator\n",
      "[14:55:12] DEPRECATION WARNING: please use MorganGenerator\n",
      "[14:55:12] DEPRECATION WARNING: please use MorganGenerator\n",
      "[14:55:12] DEPRECATION WARNING: please use MorganGenerator\n",
      "[14:55:12] DEPRECATION WARNING: please use MorganGenerator\n",
      "[14:55:12] DEPRECATION WARNING: please use MorganGenerator\n",
      "[14:55:12] DEPRECATION WARNING: please use MorganGenerator\n",
      "[14:55:12] DEPRECATION WARNING: please use MorganGenerator\n",
      "[14:55:12] DEPRECATION WARNING: please use MorganGenerator\n",
      "[14:55:12] DEPRECATION WARNING: please use MorganGenerator\n",
      "[14:55:12] DEPRECATION WARNING: please use MorganGenerator\n",
      "[14:55:12] DEPRECATION WARNING: please use MorganGenerator\n",
      "[14:55:12] DEPRECATION WARNING: please use MorganGenerator\n",
      "[14:55:12] DEPRECATION WARNING: please use MorganGenerator\n",
      "2025-05-19 14:55:12,588 - INFO - Fingerprint features created: (1513, 1024)\n",
      "2025-05-19 14:55:12,591 - INFO - Starting model training...\n",
      "2025-05-19 14:55:12,612 - INFO - \n",
      "Dataset sizes:\n",
      "2025-05-19 14:55:12,613 - INFO - Training: 968\n",
      "2025-05-19 14:55:12,614 - INFO - Validation: 242\n",
      "2025-05-19 14:55:12,615 - INFO - Test: 303\n",
      "2025-05-19 14:55:12,615 - INFO - \n",
      "Training GraphConv model...\n",
      "/home/mounir/affinity_env/lib/python3.10/site-packages/tensorflow/python/framework/indexed_slices.py:444: UserWarning: Converting sparse IndexedSlices(IndexedSlices(indices=Tensor(\"gradient_tape/private__graph_conv_keras_model_2/graph_pool_5/Reshape_14:0\", shape=(231,), dtype=int32), values=Tensor(\"gradient_tape/private__graph_conv_keras_model_2/graph_pool_5/Reshape_13:0\", shape=(231, 128), dtype=float32), dense_shape=Tensor(\"gradient_tape/private__graph_conv_keras_model_2/graph_pool_5/Cast_4:0\", shape=(2,), dtype=int32))) to a dense Tensor of unknown shape. This may consume a large amount of memory.\n",
      "  warnings.warn(\n",
      "/home/mounir/affinity_env/lib/python3.10/site-packages/tensorflow/python/framework/indexed_slices.py:444: UserWarning: Converting sparse IndexedSlices(IndexedSlices(indices=Tensor(\"gradient_tape/private__graph_conv_keras_model_2/graph_pool_5/Reshape_17:0\", shape=(1144,), dtype=int32), values=Tensor(\"gradient_tape/private__graph_conv_keras_model_2/graph_pool_5/Reshape_16:0\", shape=(1144, 128), dtype=float32), dense_shape=Tensor(\"gradient_tape/private__graph_conv_keras_model_2/graph_pool_5/Cast_5:0\", shape=(2,), dtype=int32))) to a dense Tensor of unknown shape. This may consume a large amount of memory.\n",
      "  warnings.warn(\n",
      "/home/mounir/affinity_env/lib/python3.10/site-packages/tensorflow/python/framework/indexed_slices.py:444: UserWarning: Converting sparse IndexedSlices(IndexedSlices(indices=Tensor(\"gradient_tape/private__graph_conv_keras_model_2/graph_pool_5/Reshape_20:0\", shape=(987,), dtype=int32), values=Tensor(\"gradient_tape/private__graph_conv_keras_model_2/graph_pool_5/Reshape_19:0\", shape=(987, 128), dtype=float32), dense_shape=Tensor(\"gradient_tape/private__graph_conv_keras_model_2/graph_pool_5/Cast_6:0\", shape=(2,), dtype=int32))) to a dense Tensor of unknown shape. This may consume a large amount of memory.\n",
      "  warnings.warn(\n",
      "/home/mounir/affinity_env/lib/python3.10/site-packages/tensorflow/python/framework/indexed_slices.py:444: UserWarning: Converting sparse IndexedSlices(IndexedSlices(indices=Tensor(\"gradient_tape/private__graph_conv_keras_model_2/graph_pool_5/Reshape_23:0\", shape=(164,), dtype=int32), values=Tensor(\"gradient_tape/private__graph_conv_keras_model_2/graph_pool_5/Reshape_22:0\", shape=(164, 128), dtype=float32), dense_shape=Tensor(\"gradient_tape/private__graph_conv_keras_model_2/graph_pool_5/Cast_7:0\", shape=(2,), dtype=int32))) to a dense Tensor of unknown shape. This may consume a large amount of memory.\n",
      "  warnings.warn(\n",
      "/home/mounir/affinity_env/lib/python3.10/site-packages/tensorflow/python/framework/indexed_slices.py:444: UserWarning: Converting sparse IndexedSlices(IndexedSlices(indices=Tensor(\"gradient_tape/private__graph_conv_keras_model_2/graph_conv_5/Reshape_11:0\", shape=(231,), dtype=int32), values=Tensor(\"gradient_tape/private__graph_conv_keras_model_2/graph_conv_5/Reshape_10:0\", shape=(231, 128), dtype=float32), dense_shape=Tensor(\"gradient_tape/private__graph_conv_keras_model_2/graph_conv_5/Cast:0\", shape=(2,), dtype=int32))) to a dense Tensor of unknown shape. This may consume a large amount of memory.\n",
      "  warnings.warn(\n",
      "/home/mounir/affinity_env/lib/python3.10/site-packages/tensorflow/python/framework/indexed_slices.py:444: UserWarning: Converting sparse IndexedSlices(IndexedSlices(indices=Tensor(\"gradient_tape/private__graph_conv_keras_model_2/graph_conv_5/Reshape_13:0\", shape=(1144,), dtype=int32), values=Tensor(\"gradient_tape/private__graph_conv_keras_model_2/graph_conv_5/Reshape_12:0\", shape=(1144, 128), dtype=float32), dense_shape=Tensor(\"gradient_tape/private__graph_conv_keras_model_2/graph_conv_5/Cast_1:0\", shape=(2,), dtype=int32))) to a dense Tensor of unknown shape. This may consume a large amount of memory.\n",
      "  warnings.warn(\n",
      "/home/mounir/affinity_env/lib/python3.10/site-packages/tensorflow/python/framework/indexed_slices.py:444: UserWarning: Converting sparse IndexedSlices(IndexedSlices(indices=Tensor(\"gradient_tape/private__graph_conv_keras_model_2/graph_conv_5/Reshape_15:0\", shape=(987,), dtype=int32), values=Tensor(\"gradient_tape/private__graph_conv_keras_model_2/graph_conv_5/Reshape_14:0\", shape=(987, 128), dtype=float32), dense_shape=Tensor(\"gradient_tape/private__graph_conv_keras_model_2/graph_conv_5/Cast_2:0\", shape=(2,), dtype=int32))) to a dense Tensor of unknown shape. This may consume a large amount of memory.\n",
      "  warnings.warn(\n",
      "/home/mounir/affinity_env/lib/python3.10/site-packages/tensorflow/python/framework/indexed_slices.py:444: UserWarning: Converting sparse IndexedSlices(IndexedSlices(indices=Tensor(\"gradient_tape/private__graph_conv_keras_model_2/graph_conv_5/Reshape_17:0\", shape=(164,), dtype=int32), values=Tensor(\"gradient_tape/private__graph_conv_keras_model_2/graph_conv_5/Reshape_16:0\", shape=(164, 128), dtype=float32), dense_shape=Tensor(\"gradient_tape/private__graph_conv_keras_model_2/graph_conv_5/Cast_3:0\", shape=(2,), dtype=int32))) to a dense Tensor of unknown shape. This may consume a large amount of memory.\n",
      "  warnings.warn(\n",
      "/home/mounir/affinity_env/lib/python3.10/site-packages/tensorflow/python/framework/indexed_slices.py:444: UserWarning: Converting sparse IndexedSlices(IndexedSlices(indices=Tensor(\"gradient_tape/private__graph_conv_keras_model_2/graph_conv_5/Reshape_19:0\", shape=(0,), dtype=int32), values=Tensor(\"gradient_tape/private__graph_conv_keras_model_2/graph_conv_5/Reshape_18:0\", shape=(0, 128), dtype=float32), dense_shape=Tensor(\"gradient_tape/private__graph_conv_keras_model_2/graph_conv_5/Cast_4:0\", shape=(2,), dtype=int32))) to a dense Tensor of unknown shape. This may consume a large amount of memory.\n",
      "  warnings.warn(\n",
      "/home/mounir/affinity_env/lib/python3.10/site-packages/tensorflow/python/framework/indexed_slices.py:444: UserWarning: Converting sparse IndexedSlices(IndexedSlices(indices=Tensor(\"gradient_tape/private__graph_conv_keras_model_2/graph_conv_5/Reshape_21:0\", shape=(0,), dtype=int32), values=Tensor(\"gradient_tape/private__graph_conv_keras_model_2/graph_conv_5/Reshape_20:0\", shape=(0, 128), dtype=float32), dense_shape=Tensor(\"gradient_tape/private__graph_conv_keras_model_2/graph_conv_5/Cast_5:0\", shape=(2,), dtype=int32))) to a dense Tensor of unknown shape. This may consume a large amount of memory.\n",
      "  warnings.warn(\n",
      "/home/mounir/affinity_env/lib/python3.10/site-packages/tensorflow/python/framework/indexed_slices.py:444: UserWarning: Converting sparse IndexedSlices(IndexedSlices(indices=Tensor(\"gradient_tape/private__graph_conv_keras_model_2/graph_conv_5/Reshape_23:0\", shape=(0,), dtype=int32), values=Tensor(\"gradient_tape/private__graph_conv_keras_model_2/graph_conv_5/Reshape_22:0\", shape=(0, 128), dtype=float32), dense_shape=Tensor(\"gradient_tape/private__graph_conv_keras_model_2/graph_conv_5/Cast_6:0\", shape=(2,), dtype=int32))) to a dense Tensor of unknown shape. This may consume a large amount of memory.\n",
      "  warnings.warn(\n",
      "/home/mounir/affinity_env/lib/python3.10/site-packages/tensorflow/python/framework/indexed_slices.py:444: UserWarning: Converting sparse IndexedSlices(IndexedSlices(indices=Tensor(\"gradient_tape/private__graph_conv_keras_model_2/graph_conv_5/Reshape_25:0\", shape=(0,), dtype=int32), values=Tensor(\"gradient_tape/private__graph_conv_keras_model_2/graph_conv_5/Reshape_24:0\", shape=(0, 128), dtype=float32), dense_shape=Tensor(\"gradient_tape/private__graph_conv_keras_model_2/graph_conv_5/Cast_7:0\", shape=(2,), dtype=int32))) to a dense Tensor of unknown shape. This may consume a large amount of memory.\n",
      "  warnings.warn(\n",
      "/home/mounir/affinity_env/lib/python3.10/site-packages/tensorflow/python/framework/indexed_slices.py:444: UserWarning: Converting sparse IndexedSlices(IndexedSlices(indices=Tensor(\"gradient_tape/private__graph_conv_keras_model_2/graph_conv_5/Reshape_27:0\", shape=(0,), dtype=int32), values=Tensor(\"gradient_tape/private__graph_conv_keras_model_2/graph_conv_5/Reshape_26:0\", shape=(0, 128), dtype=float32), dense_shape=Tensor(\"gradient_tape/private__graph_conv_keras_model_2/graph_conv_5/Cast_8:0\", shape=(2,), dtype=int32))) to a dense Tensor of unknown shape. This may consume a large amount of memory.\n",
      "  warnings.warn(\n",
      "/home/mounir/affinity_env/lib/python3.10/site-packages/tensorflow/python/framework/indexed_slices.py:444: UserWarning: Converting sparse IndexedSlices(IndexedSlices(indices=Tensor(\"gradient_tape/private__graph_conv_keras_model_2/graph_conv_5/Reshape_29:0\", shape=(0,), dtype=int32), values=Tensor(\"gradient_tape/private__graph_conv_keras_model_2/graph_conv_5/Reshape_28:0\", shape=(0, 128), dtype=float32), dense_shape=Tensor(\"gradient_tape/private__graph_conv_keras_model_2/graph_conv_5/Cast_9:0\", shape=(2,), dtype=int32))) to a dense Tensor of unknown shape. This may consume a large amount of memory.\n",
      "  warnings.warn(\n",
      "/home/mounir/affinity_env/lib/python3.10/site-packages/tensorflow/python/framework/indexed_slices.py:444: UserWarning: Converting sparse IndexedSlices(IndexedSlices(indices=Tensor(\"gradient_tape/private__graph_conv_keras_model_2/graph_pool_4/Reshape_14:0\", shape=(231,), dtype=int32), values=Tensor(\"gradient_tape/private__graph_conv_keras_model_2/graph_pool_4/Reshape_13:0\", shape=(231, 128), dtype=float32), dense_shape=Tensor(\"gradient_tape/private__graph_conv_keras_model_2/graph_pool_4/Cast_4:0\", shape=(2,), dtype=int32))) to a dense Tensor of unknown shape. This may consume a large amount of memory.\n",
      "  warnings.warn(\n",
      "/home/mounir/affinity_env/lib/python3.10/site-packages/tensorflow/python/framework/indexed_slices.py:444: UserWarning: Converting sparse IndexedSlices(IndexedSlices(indices=Tensor(\"gradient_tape/private__graph_conv_keras_model_2/graph_pool_4/Reshape_17:0\", shape=(1144,), dtype=int32), values=Tensor(\"gradient_tape/private__graph_conv_keras_model_2/graph_pool_4/Reshape_16:0\", shape=(1144, 128), dtype=float32), dense_shape=Tensor(\"gradient_tape/private__graph_conv_keras_model_2/graph_pool_4/Cast_5:0\", shape=(2,), dtype=int32))) to a dense Tensor of unknown shape. This may consume a large amount of memory.\n",
      "  warnings.warn(\n",
      "/home/mounir/affinity_env/lib/python3.10/site-packages/tensorflow/python/framework/indexed_slices.py:444: UserWarning: Converting sparse IndexedSlices(IndexedSlices(indices=Tensor(\"gradient_tape/private__graph_conv_keras_model_2/graph_pool_4/Reshape_20:0\", shape=(987,), dtype=int32), values=Tensor(\"gradient_tape/private__graph_conv_keras_model_2/graph_pool_4/Reshape_19:0\", shape=(987, 128), dtype=float32), dense_shape=Tensor(\"gradient_tape/private__graph_conv_keras_model_2/graph_pool_4/Cast_6:0\", shape=(2,), dtype=int32))) to a dense Tensor of unknown shape. This may consume a large amount of memory.\n",
      "  warnings.warn(\n",
      "/home/mounir/affinity_env/lib/python3.10/site-packages/tensorflow/python/framework/indexed_slices.py:444: UserWarning: Converting sparse IndexedSlices(IndexedSlices(indices=Tensor(\"gradient_tape/private__graph_conv_keras_model_2/graph_pool_4/Reshape_23:0\", shape=(164,), dtype=int32), values=Tensor(\"gradient_tape/private__graph_conv_keras_model_2/graph_pool_4/Reshape_22:0\", shape=(164, 128), dtype=float32), dense_shape=Tensor(\"gradient_tape/private__graph_conv_keras_model_2/graph_pool_4/Cast_7:0\", shape=(2,), dtype=int32))) to a dense Tensor of unknown shape. This may consume a large amount of memory.\n",
      "  warnings.warn(\n",
      "/home/mounir/affinity_env/lib/python3.10/site-packages/tensorflow/python/framework/indexed_slices.py:444: UserWarning: Converting sparse IndexedSlices(IndexedSlices(indices=Tensor(\"gradient_tape/private__graph_conv_keras_model_2/graph_pool_5/Reshape_14:0\", shape=(None,), dtype=int32), values=Tensor(\"gradient_tape/private__graph_conv_keras_model_2/graph_pool_5/Reshape_13:0\", shape=(None, 128), dtype=float32), dense_shape=Tensor(\"gradient_tape/private__graph_conv_keras_model_2/graph_pool_5/Cast_4:0\", shape=(2,), dtype=int32))) to a dense Tensor of unknown shape. This may consume a large amount of memory.\n",
      "  warnings.warn(\n",
      "/home/mounir/affinity_env/lib/python3.10/site-packages/tensorflow/python/framework/indexed_slices.py:444: UserWarning: Converting sparse IndexedSlices(IndexedSlices(indices=Tensor(\"gradient_tape/private__graph_conv_keras_model_2/graph_pool_5/Reshape_17:0\", shape=(None,), dtype=int32), values=Tensor(\"gradient_tape/private__graph_conv_keras_model_2/graph_pool_5/Reshape_16:0\", shape=(None, 128), dtype=float32), dense_shape=Tensor(\"gradient_tape/private__graph_conv_keras_model_2/graph_pool_5/Cast_5:0\", shape=(2,), dtype=int32))) to a dense Tensor of unknown shape. This may consume a large amount of memory.\n",
      "  warnings.warn(\n",
      "/home/mounir/affinity_env/lib/python3.10/site-packages/tensorflow/python/framework/indexed_slices.py:444: UserWarning: Converting sparse IndexedSlices(IndexedSlices(indices=Tensor(\"gradient_tape/private__graph_conv_keras_model_2/graph_pool_5/Reshape_20:0\", shape=(None,), dtype=int32), values=Tensor(\"gradient_tape/private__graph_conv_keras_model_2/graph_pool_5/Reshape_19:0\", shape=(None, 128), dtype=float32), dense_shape=Tensor(\"gradient_tape/private__graph_conv_keras_model_2/graph_pool_5/Cast_6:0\", shape=(2,), dtype=int32))) to a dense Tensor of unknown shape. This may consume a large amount of memory.\n",
      "  warnings.warn(\n",
      "/home/mounir/affinity_env/lib/python3.10/site-packages/tensorflow/python/framework/indexed_slices.py:444: UserWarning: Converting sparse IndexedSlices(IndexedSlices(indices=Tensor(\"gradient_tape/private__graph_conv_keras_model_2/graph_pool_5/Reshape_23:0\", shape=(None,), dtype=int32), values=Tensor(\"gradient_tape/private__graph_conv_keras_model_2/graph_pool_5/Reshape_22:0\", shape=(None, 128), dtype=float32), dense_shape=Tensor(\"gradient_tape/private__graph_conv_keras_model_2/graph_pool_5/Cast_7:0\", shape=(2,), dtype=int32))) to a dense Tensor of unknown shape. This may consume a large amount of memory.\n",
      "  warnings.warn(\n",
      "/home/mounir/affinity_env/lib/python3.10/site-packages/tensorflow/python/framework/indexed_slices.py:444: UserWarning: Converting sparse IndexedSlices(IndexedSlices(indices=Tensor(\"gradient_tape/private__graph_conv_keras_model_2/graph_conv_5/Reshape_11:0\", shape=(None,), dtype=int32), values=Tensor(\"gradient_tape/private__graph_conv_keras_model_2/graph_conv_5/Reshape_10:0\", shape=(None, 128), dtype=float32), dense_shape=Tensor(\"gradient_tape/private__graph_conv_keras_model_2/graph_conv_5/Cast:0\", shape=(2,), dtype=int32))) to a dense Tensor of unknown shape. This may consume a large amount of memory.\n",
      "  warnings.warn(\n",
      "/home/mounir/affinity_env/lib/python3.10/site-packages/tensorflow/python/framework/indexed_slices.py:444: UserWarning: Converting sparse IndexedSlices(IndexedSlices(indices=Tensor(\"gradient_tape/private__graph_conv_keras_model_2/graph_conv_5/Reshape_13:0\", shape=(None,), dtype=int32), values=Tensor(\"gradient_tape/private__graph_conv_keras_model_2/graph_conv_5/Reshape_12:0\", shape=(None, 128), dtype=float32), dense_shape=Tensor(\"gradient_tape/private__graph_conv_keras_model_2/graph_conv_5/Cast_1:0\", shape=(2,), dtype=int32))) to a dense Tensor of unknown shape. This may consume a large amount of memory.\n",
      "  warnings.warn(\n",
      "/home/mounir/affinity_env/lib/python3.10/site-packages/tensorflow/python/framework/indexed_slices.py:444: UserWarning: Converting sparse IndexedSlices(IndexedSlices(indices=Tensor(\"gradient_tape/private__graph_conv_keras_model_2/graph_conv_5/Reshape_15:0\", shape=(None,), dtype=int32), values=Tensor(\"gradient_tape/private__graph_conv_keras_model_2/graph_conv_5/Reshape_14:0\", shape=(None, 128), dtype=float32), dense_shape=Tensor(\"gradient_tape/private__graph_conv_keras_model_2/graph_conv_5/Cast_2:0\", shape=(2,), dtype=int32))) to a dense Tensor of unknown shape. This may consume a large amount of memory.\n",
      "  warnings.warn(\n",
      "/home/mounir/affinity_env/lib/python3.10/site-packages/tensorflow/python/framework/indexed_slices.py:444: UserWarning: Converting sparse IndexedSlices(IndexedSlices(indices=Tensor(\"gradient_tape/private__graph_conv_keras_model_2/graph_conv_5/Reshape_17:0\", shape=(None,), dtype=int32), values=Tensor(\"gradient_tape/private__graph_conv_keras_model_2/graph_conv_5/Reshape_16:0\", shape=(None, 128), dtype=float32), dense_shape=Tensor(\"gradient_tape/private__graph_conv_keras_model_2/graph_conv_5/Cast_3:0\", shape=(2,), dtype=int32))) to a dense Tensor of unknown shape. This may consume a large amount of memory.\n",
      "  warnings.warn(\n",
      "/home/mounir/affinity_env/lib/python3.10/site-packages/tensorflow/python/framework/indexed_slices.py:444: UserWarning: Converting sparse IndexedSlices(IndexedSlices(indices=Tensor(\"gradient_tape/private__graph_conv_keras_model_2/graph_pool_4/Reshape_14:0\", shape=(None,), dtype=int32), values=Tensor(\"gradient_tape/private__graph_conv_keras_model_2/graph_pool_4/Reshape_13:0\", shape=(None, 128), dtype=float32), dense_shape=Tensor(\"gradient_tape/private__graph_conv_keras_model_2/graph_pool_4/Cast_4:0\", shape=(2,), dtype=int32))) to a dense Tensor of unknown shape. This may consume a large amount of memory.\n",
      "  warnings.warn(\n",
      "/home/mounir/affinity_env/lib/python3.10/site-packages/tensorflow/python/framework/indexed_slices.py:444: UserWarning: Converting sparse IndexedSlices(IndexedSlices(indices=Tensor(\"gradient_tape/private__graph_conv_keras_model_2/graph_pool_4/Reshape_17:0\", shape=(None,), dtype=int32), values=Tensor(\"gradient_tape/private__graph_conv_keras_model_2/graph_pool_4/Reshape_16:0\", shape=(None, 128), dtype=float32), dense_shape=Tensor(\"gradient_tape/private__graph_conv_keras_model_2/graph_pool_4/Cast_5:0\", shape=(2,), dtype=int32))) to a dense Tensor of unknown shape. This may consume a large amount of memory.\n",
      "  warnings.warn(\n",
      "/home/mounir/affinity_env/lib/python3.10/site-packages/tensorflow/python/framework/indexed_slices.py:444: UserWarning: Converting sparse IndexedSlices(IndexedSlices(indices=Tensor(\"gradient_tape/private__graph_conv_keras_model_2/graph_pool_4/Reshape_20:0\", shape=(None,), dtype=int32), values=Tensor(\"gradient_tape/private__graph_conv_keras_model_2/graph_pool_4/Reshape_19:0\", shape=(None, 128), dtype=float32), dense_shape=Tensor(\"gradient_tape/private__graph_conv_keras_model_2/graph_pool_4/Cast_6:0\", shape=(2,), dtype=int32))) to a dense Tensor of unknown shape. This may consume a large amount of memory.\n",
      "  warnings.warn(\n",
      "/home/mounir/affinity_env/lib/python3.10/site-packages/tensorflow/python/framework/indexed_slices.py:444: UserWarning: Converting sparse IndexedSlices(IndexedSlices(indices=Tensor(\"gradient_tape/private__graph_conv_keras_model_2/graph_pool_4/Reshape_23:0\", shape=(None,), dtype=int32), values=Tensor(\"gradient_tape/private__graph_conv_keras_model_2/graph_pool_4/Reshape_22:0\", shape=(None, 128), dtype=float32), dense_shape=Tensor(\"gradient_tape/private__graph_conv_keras_model_2/graph_pool_4/Cast_7:0\", shape=(2,), dtype=int32))) to a dense Tensor of unknown shape. This may consume a large amount of memory.\n",
      "  warnings.warn(\n",
      "2025-05-19 14:55:20,975 - INFO - computed_metrics: [-5.524338125963652]\n"
     ]
    },
    {
     "name": "stdout",
     "output_type": "stream",
     "text": [
      "Step 5 validation: r2_score=-5.52434\n"
     ]
    },
    {
     "name": "stderr",
     "output_type": "stream",
     "text": [
      "2025-05-19 14:55:21,370 - INFO - computed_metrics: [-8.297091414024369]\n"
     ]
    },
    {
     "name": "stdout",
     "output_type": "stream",
     "text": [
      "Step 10 validation: r2_score=-8.29709\n"
     ]
    },
    {
     "name": "stderr",
     "output_type": "stream",
     "text": [
      "2025-05-19 14:55:21,756 - INFO - computed_metrics: [-5.83898902548734]\n"
     ]
    },
    {
     "name": "stdout",
     "output_type": "stream",
     "text": [
      "Step 15 validation: r2_score=-5.83899\n"
     ]
    },
    {
     "name": "stderr",
     "output_type": "stream",
     "text": [
      "2025-05-19 14:55:22,145 - INFO - computed_metrics: [-2.568433001144057]\n"
     ]
    },
    {
     "name": "stdout",
     "output_type": "stream",
     "text": [
      "Step 20 validation: r2_score=-2.56843\n"
     ]
    },
    {
     "name": "stderr",
     "output_type": "stream",
     "text": [
      "2025-05-19 14:55:22,757 - INFO - computed_metrics: [-1.1251426739172232]\n"
     ]
    },
    {
     "name": "stdout",
     "output_type": "stream",
     "text": [
      "Step 25 validation: r2_score=-1.12514\n"
     ]
    },
    {
     "name": "stderr",
     "output_type": "stream",
     "text": [
      "2025-05-19 14:55:23,247 - INFO - computed_metrics: [-0.6276155177044545]\n"
     ]
    },
    {
     "name": "stdout",
     "output_type": "stream",
     "text": [
      "Step 30 validation: r2_score=-0.627616\n"
     ]
    },
    {
     "name": "stderr",
     "output_type": "stream",
     "text": [
      "2025-05-19 14:55:23,763 - INFO - computed_metrics: [-0.5407624877211521]\n"
     ]
    },
    {
     "name": "stdout",
     "output_type": "stream",
     "text": [
      "Step 35 validation: r2_score=-0.540762\n"
     ]
    },
    {
     "name": "stderr",
     "output_type": "stream",
     "text": [
      "2025-05-19 14:55:24,215 - INFO - computed_metrics: [-0.7409220689210407]\n"
     ]
    },
    {
     "name": "stdout",
     "output_type": "stream",
     "text": [
      "Step 40 validation: r2_score=-0.740922\n"
     ]
    },
    {
     "name": "stderr",
     "output_type": "stream",
     "text": [
      "2025-05-19 14:55:24,537 - INFO - computed_metrics: [-0.7856558120587143]\n"
     ]
    },
    {
     "name": "stdout",
     "output_type": "stream",
     "text": [
      "Step 45 validation: r2_score=-0.785656\n"
     ]
    },
    {
     "name": "stderr",
     "output_type": "stream",
     "text": [
      "2025-05-19 14:55:24,822 - INFO - computed_metrics: [-0.5565775542071507]\n"
     ]
    },
    {
     "name": "stdout",
     "output_type": "stream",
     "text": [
      "Step 50 validation: r2_score=-0.556578\n"
     ]
    },
    {
     "name": "stderr",
     "output_type": "stream",
     "text": [
      "2025-05-19 14:55:25,092 - INFO - computed_metrics: [-0.3514086942122452]\n"
     ]
    },
    {
     "name": "stdout",
     "output_type": "stream",
     "text": [
      "Step 55 validation: r2_score=-0.351409\n"
     ]
    },
    {
     "name": "stderr",
     "output_type": "stream",
     "text": [
      "2025-05-19 14:55:25,444 - INFO - computed_metrics: [-0.17965175408736478]\n"
     ]
    },
    {
     "name": "stdout",
     "output_type": "stream",
     "text": [
      "Step 60 validation: r2_score=-0.179652\n"
     ]
    },
    {
     "name": "stderr",
     "output_type": "stream",
     "text": [
      "2025-05-19 14:55:25,831 - INFO - computed_metrics: [-0.09913714588205291]\n"
     ]
    },
    {
     "name": "stdout",
     "output_type": "stream",
     "text": [
      "Step 65 validation: r2_score=-0.0991371\n"
     ]
    },
    {
     "name": "stderr",
     "output_type": "stream",
     "text": [
      "2025-05-19 14:55:26,236 - INFO - computed_metrics: [0.030328003381297153]\n"
     ]
    },
    {
     "name": "stdout",
     "output_type": "stream",
     "text": [
      "Step 70 validation: r2_score=0.030328\n"
     ]
    },
    {
     "name": "stderr",
     "output_type": "stream",
     "text": [
      "2025-05-19 14:55:26,650 - INFO - computed_metrics: [0.11738261055524779]\n"
     ]
    },
    {
     "name": "stdout",
     "output_type": "stream",
     "text": [
      "Step 75 validation: r2_score=0.117383\n"
     ]
    },
    {
     "name": "stderr",
     "output_type": "stream",
     "text": [
      "2025-05-19 14:55:27,071 - INFO - computed_metrics: [0.10785881937053121]\n"
     ]
    },
    {
     "name": "stdout",
     "output_type": "stream",
     "text": [
      "Step 80 validation: r2_score=0.107859\n"
     ]
    },
    {
     "name": "stderr",
     "output_type": "stream",
     "text": [
      "2025-05-19 14:55:27,394 - INFO - computed_metrics: [0.14493930741988337]\n"
     ]
    },
    {
     "name": "stdout",
     "output_type": "stream",
     "text": [
      "Step 85 validation: r2_score=0.144939\n"
     ]
    },
    {
     "name": "stderr",
     "output_type": "stream",
     "text": [
      "2025-05-19 14:55:27,830 - INFO - computed_metrics: [0.1579324167616717]\n"
     ]
    },
    {
     "name": "stdout",
     "output_type": "stream",
     "text": [
      "Step 90 validation: r2_score=0.157932\n"
     ]
    },
    {
     "name": "stderr",
     "output_type": "stream",
     "text": [
      "2025-05-19 14:55:28,175 - INFO - computed_metrics: [0.24532078283840475]\n"
     ]
    },
    {
     "name": "stdout",
     "output_type": "stream",
     "text": [
      "Step 95 validation: r2_score=0.245321\n"
     ]
    },
    {
     "name": "stderr",
     "output_type": "stream",
     "text": [
      "2025-05-19 14:55:28,461 - INFO - Ending global_step 100: Average loss 1.15249\n",
      "2025-05-19 14:55:28,537 - INFO - computed_metrics: [0.1601576721494684]\n"
     ]
    },
    {
     "name": "stdout",
     "output_type": "stream",
     "text": [
      "Step 100 validation: r2_score=0.160158\n"
     ]
    },
    {
     "name": "stderr",
     "output_type": "stream",
     "text": [
      "2025-05-19 14:55:28,816 - INFO - computed_metrics: [0.19375711466613044]\n"
     ]
    },
    {
     "name": "stdout",
     "output_type": "stream",
     "text": [
      "Step 105 validation: r2_score=0.193757\n"
     ]
    },
    {
     "name": "stderr",
     "output_type": "stream",
     "text": [
      "2025-05-19 14:55:29,083 - INFO - computed_metrics: [0.18172544807438973]\n"
     ]
    },
    {
     "name": "stdout",
     "output_type": "stream",
     "text": [
      "Step 110 validation: r2_score=0.181725\n"
     ]
    },
    {
     "name": "stderr",
     "output_type": "stream",
     "text": [
      "2025-05-19 14:55:29,336 - INFO - computed_metrics: [0.18479557685534798]\n"
     ]
    },
    {
     "name": "stdout",
     "output_type": "stream",
     "text": [
      "Step 115 validation: r2_score=0.184796\n"
     ]
    },
    {
     "name": "stderr",
     "output_type": "stream",
     "text": [
      "2025-05-19 14:55:29,606 - INFO - computed_metrics: [0.22279261242257564]\n"
     ]
    },
    {
     "name": "stdout",
     "output_type": "stream",
     "text": [
      "Step 120 validation: r2_score=0.222793\n"
     ]
    },
    {
     "name": "stderr",
     "output_type": "stream",
     "text": [
      "2025-05-19 14:55:29,853 - INFO - computed_metrics: [0.24579477132074035]\n"
     ]
    },
    {
     "name": "stdout",
     "output_type": "stream",
     "text": [
      "Step 125 validation: r2_score=0.245795\n"
     ]
    },
    {
     "name": "stderr",
     "output_type": "stream",
     "text": [
      "2025-05-19 14:55:30,222 - INFO - computed_metrics: [0.24645089214552063]\n"
     ]
    },
    {
     "name": "stdout",
     "output_type": "stream",
     "text": [
      "Step 130 validation: r2_score=0.246451\n"
     ]
    },
    {
     "name": "stderr",
     "output_type": "stream",
     "text": [
      "2025-05-19 14:55:30,576 - INFO - computed_metrics: [0.24621205566784976]\n"
     ]
    },
    {
     "name": "stdout",
     "output_type": "stream",
     "text": [
      "Step 135 validation: r2_score=0.246212\n"
     ]
    },
    {
     "name": "stderr",
     "output_type": "stream",
     "text": [
      "2025-05-19 14:55:30,826 - INFO - computed_metrics: [0.2560728313158631]\n"
     ]
    },
    {
     "name": "stdout",
     "output_type": "stream",
     "text": [
      "Step 140 validation: r2_score=0.256073\n"
     ]
    },
    {
     "name": "stderr",
     "output_type": "stream",
     "text": [
      "2025-05-19 14:55:31,222 - INFO - computed_metrics: [0.24569141211276457]\n"
     ]
    },
    {
     "name": "stdout",
     "output_type": "stream",
     "text": [
      "Step 145 validation: r2_score=0.245691\n"
     ]
    },
    {
     "name": "stderr",
     "output_type": "stream",
     "text": [
      "2025-05-19 14:55:31,471 - INFO - computed_metrics: [0.23372841110027398]\n"
     ]
    },
    {
     "name": "stdout",
     "output_type": "stream",
     "text": [
      "Step 150 validation: r2_score=0.233728\n"
     ]
    },
    {
     "name": "stderr",
     "output_type": "stream",
     "text": [
      "2025-05-19 14:55:31,748 - INFO - computed_metrics: [0.2048929508133841]\n"
     ]
    },
    {
     "name": "stdout",
     "output_type": "stream",
     "text": [
      "Step 155 validation: r2_score=0.204893\n"
     ]
    },
    {
     "name": "stderr",
     "output_type": "stream",
     "text": [
      "2025-05-19 14:55:31,999 - INFO - computed_metrics: [0.20202514442003527]\n"
     ]
    },
    {
     "name": "stdout",
     "output_type": "stream",
     "text": [
      "Step 160 validation: r2_score=0.202025\n"
     ]
    },
    {
     "name": "stderr",
     "output_type": "stream",
     "text": [
      "2025-05-19 14:55:32,262 - INFO - computed_metrics: [0.15990209001289857]\n"
     ]
    },
    {
     "name": "stdout",
     "output_type": "stream",
     "text": [
      "Step 165 validation: r2_score=0.159902\n"
     ]
    },
    {
     "name": "stderr",
     "output_type": "stream",
     "text": [
      "2025-05-19 14:55:32,490 - INFO - computed_metrics: [0.13140720966546715]\n"
     ]
    },
    {
     "name": "stdout",
     "output_type": "stream",
     "text": [
      "Step 170 validation: r2_score=0.131407\n"
     ]
    },
    {
     "name": "stderr",
     "output_type": "stream",
     "text": [
      "2025-05-19 14:55:32,733 - INFO - computed_metrics: [0.11319992367381393]\n"
     ]
    },
    {
     "name": "stdout",
     "output_type": "stream",
     "text": [
      "Step 175 validation: r2_score=0.1132\n"
     ]
    },
    {
     "name": "stderr",
     "output_type": "stream",
     "text": [
      "2025-05-19 14:55:33,004 - INFO - computed_metrics: [0.17042956807845455]\n"
     ]
    },
    {
     "name": "stdout",
     "output_type": "stream",
     "text": [
      "Step 180 validation: r2_score=0.17043\n"
     ]
    },
    {
     "name": "stderr",
     "output_type": "stream",
     "text": [
      "2025-05-19 14:55:33,251 - INFO - computed_metrics: [0.17986136329681301]\n"
     ]
    },
    {
     "name": "stdout",
     "output_type": "stream",
     "text": [
      "Step 185 validation: r2_score=0.179861\n"
     ]
    },
    {
     "name": "stderr",
     "output_type": "stream",
     "text": [
      "2025-05-19 14:55:33,534 - INFO - computed_metrics: [0.1784846760533787]\n"
     ]
    },
    {
     "name": "stdout",
     "output_type": "stream",
     "text": [
      "Step 190 validation: r2_score=0.178485\n"
     ]
    },
    {
     "name": "stderr",
     "output_type": "stream",
     "text": [
      "2025-05-19 14:55:33,808 - INFO - computed_metrics: [0.16464713676811205]\n"
     ]
    },
    {
     "name": "stdout",
     "output_type": "stream",
     "text": [
      "Step 195 validation: r2_score=0.164647\n"
     ]
    },
    {
     "name": "stderr",
     "output_type": "stream",
     "text": [
      "2025-05-19 14:55:34,033 - INFO - Ending global_step 200: Average loss 0.682632\n",
      "2025-05-19 14:55:34,136 - INFO - computed_metrics: [0.17343269078048107]\n"
     ]
    },
    {
     "name": "stdout",
     "output_type": "stream",
     "text": [
      "Step 200 validation: r2_score=0.173433\n"
     ]
    },
    {
     "name": "stderr",
     "output_type": "stream",
     "text": [
      "2025-05-19 14:55:34,452 - INFO - computed_metrics: [0.1915694067554259]\n"
     ]
    },
    {
     "name": "stdout",
     "output_type": "stream",
     "text": [
      "Step 205 validation: r2_score=0.191569\n"
     ]
    },
    {
     "name": "stderr",
     "output_type": "stream",
     "text": [
      "2025-05-19 14:55:34,742 - INFO - computed_metrics: [0.24667329103943247]\n"
     ]
    },
    {
     "name": "stdout",
     "output_type": "stream",
     "text": [
      "Step 210 validation: r2_score=0.246673\n"
     ]
    },
    {
     "name": "stderr",
     "output_type": "stream",
     "text": [
      "2025-05-19 14:55:35,111 - INFO - computed_metrics: [0.21394586963525042]\n"
     ]
    },
    {
     "name": "stdout",
     "output_type": "stream",
     "text": [
      "Step 215 validation: r2_score=0.213946\n"
     ]
    },
    {
     "name": "stderr",
     "output_type": "stream",
     "text": [
      "2025-05-19 14:55:35,437 - INFO - computed_metrics: [0.15857953263144942]\n"
     ]
    },
    {
     "name": "stdout",
     "output_type": "stream",
     "text": [
      "Step 220 validation: r2_score=0.15858\n"
     ]
    },
    {
     "name": "stderr",
     "output_type": "stream",
     "text": [
      "2025-05-19 14:55:35,897 - INFO - computed_metrics: [0.059300622589073315]\n"
     ]
    },
    {
     "name": "stdout",
     "output_type": "stream",
     "text": [
      "Step 225 validation: r2_score=0.0593006\n"
     ]
    },
    {
     "name": "stderr",
     "output_type": "stream",
     "text": [
      "2025-05-19 14:55:36,200 - INFO - computed_metrics: [0.11867362628705291]\n"
     ]
    },
    {
     "name": "stdout",
     "output_type": "stream",
     "text": [
      "Step 230 validation: r2_score=0.118674\n"
     ]
    },
    {
     "name": "stderr",
     "output_type": "stream",
     "text": [
      "2025-05-19 14:55:36,509 - INFO - computed_metrics: [0.22503453859908684]\n"
     ]
    },
    {
     "name": "stdout",
     "output_type": "stream",
     "text": [
      "Step 235 validation: r2_score=0.225035\n"
     ]
    },
    {
     "name": "stderr",
     "output_type": "stream",
     "text": [
      "2025-05-19 14:55:36,838 - INFO - computed_metrics: [0.21305470273071314]\n"
     ]
    },
    {
     "name": "stdout",
     "output_type": "stream",
     "text": [
      "Step 240 validation: r2_score=0.213055\n"
     ]
    },
    {
     "name": "stderr",
     "output_type": "stream",
     "text": [
      "2025-05-19 14:55:37,183 - INFO - computed_metrics: [0.13996811949763832]\n"
     ]
    },
    {
     "name": "stdout",
     "output_type": "stream",
     "text": [
      "Step 245 validation: r2_score=0.139968\n"
     ]
    },
    {
     "name": "stderr",
     "output_type": "stream",
     "text": [
      "2025-05-19 14:55:37,470 - INFO - computed_metrics: [0.08530541857744156]\n"
     ]
    },
    {
     "name": "stdout",
     "output_type": "stream",
     "text": [
      "Step 250 validation: r2_score=0.0853054\n"
     ]
    },
    {
     "name": "stderr",
     "output_type": "stream",
     "text": [
      "2025-05-19 14:55:37,762 - INFO - computed_metrics: [0.18582240325295007]\n"
     ]
    },
    {
     "name": "stdout",
     "output_type": "stream",
     "text": [
      "Step 255 validation: r2_score=0.185822\n"
     ]
    },
    {
     "name": "stderr",
     "output_type": "stream",
     "text": [
      "2025-05-19 14:55:38,069 - INFO - computed_metrics: [0.2047989433090922]\n"
     ]
    },
    {
     "name": "stdout",
     "output_type": "stream",
     "text": [
      "Step 260 validation: r2_score=0.204799\n"
     ]
    },
    {
     "name": "stderr",
     "output_type": "stream",
     "text": [
      "2025-05-19 14:55:38,432 - INFO - computed_metrics: [0.20561620041740836]\n"
     ]
    },
    {
     "name": "stdout",
     "output_type": "stream",
     "text": [
      "Step 265 validation: r2_score=0.205616\n"
     ]
    },
    {
     "name": "stderr",
     "output_type": "stream",
     "text": [
      "2025-05-19 14:55:38,746 - INFO - computed_metrics: [0.21733417411446931]\n"
     ]
    },
    {
     "name": "stdout",
     "output_type": "stream",
     "text": [
      "Step 270 validation: r2_score=0.217334\n"
     ]
    },
    {
     "name": "stderr",
     "output_type": "stream",
     "text": [
      "2025-05-19 14:55:39,018 - INFO - computed_metrics: [0.2501193565017117]\n"
     ]
    },
    {
     "name": "stdout",
     "output_type": "stream",
     "text": [
      "Step 275 validation: r2_score=0.250119\n"
     ]
    },
    {
     "name": "stderr",
     "output_type": "stream",
     "text": [
      "2025-05-19 14:55:39,311 - INFO - computed_metrics: [0.3088430225716198]\n"
     ]
    },
    {
     "name": "stdout",
     "output_type": "stream",
     "text": [
      "Step 280 validation: r2_score=0.308843\n"
     ]
    },
    {
     "name": "stderr",
     "output_type": "stream",
     "text": [
      "2025-05-19 14:55:39,745 - INFO - computed_metrics: [0.3267715267197172]\n"
     ]
    },
    {
     "name": "stdout",
     "output_type": "stream",
     "text": [
      "Step 285 validation: r2_score=0.326772\n"
     ]
    },
    {
     "name": "stderr",
     "output_type": "stream",
     "text": [
      "2025-05-19 14:55:40,099 - INFO - computed_metrics: [0.32432637153380883]\n"
     ]
    },
    {
     "name": "stdout",
     "output_type": "stream",
     "text": [
      "Step 290 validation: r2_score=0.324326\n"
     ]
    },
    {
     "name": "stderr",
     "output_type": "stream",
     "text": [
      "2025-05-19 14:55:40,352 - INFO - computed_metrics: [0.3278314569179972]\n"
     ]
    },
    {
     "name": "stdout",
     "output_type": "stream",
     "text": [
      "Step 295 validation: r2_score=0.327831\n"
     ]
    },
    {
     "name": "stderr",
     "output_type": "stream",
     "text": [
      "2025-05-19 14:55:40,646 - INFO - Ending global_step 300: Average loss 0.55333\n",
      "2025-05-19 14:55:40,716 - INFO - computed_metrics: [0.3787362744012194]\n"
     ]
    },
    {
     "name": "stdout",
     "output_type": "stream",
     "text": [
      "Step 300 validation: r2_score=0.378736\n"
     ]
    },
    {
     "name": "stderr",
     "output_type": "stream",
     "text": [
      "2025-05-19 14:55:41,099 - INFO - computed_metrics: [0.2837146134634112]\n"
     ]
    },
    {
     "name": "stdout",
     "output_type": "stream",
     "text": [
      "Step 305 validation: r2_score=0.283715\n"
     ]
    },
    {
     "name": "stderr",
     "output_type": "stream",
     "text": [
      "2025-05-19 14:55:41,366 - INFO - computed_metrics: [0.21969408013653835]\n"
     ]
    },
    {
     "name": "stdout",
     "output_type": "stream",
     "text": [
      "Step 310 validation: r2_score=0.219694\n"
     ]
    },
    {
     "name": "stderr",
     "output_type": "stream",
     "text": [
      "2025-05-19 14:55:41,649 - INFO - computed_metrics: [0.2961079101443014]\n"
     ]
    },
    {
     "name": "stdout",
     "output_type": "stream",
     "text": [
      "Step 315 validation: r2_score=0.296108\n"
     ]
    },
    {
     "name": "stderr",
     "output_type": "stream",
     "text": [
      "2025-05-19 14:55:41,918 - INFO - computed_metrics: [0.391817426955653]\n"
     ]
    },
    {
     "name": "stdout",
     "output_type": "stream",
     "text": [
      "Step 320 validation: r2_score=0.391817\n"
     ]
    },
    {
     "name": "stderr",
     "output_type": "stream",
     "text": [
      "2025-05-19 14:55:42,301 - INFO - computed_metrics: [0.3829800597321297]\n"
     ]
    },
    {
     "name": "stdout",
     "output_type": "stream",
     "text": [
      "Step 325 validation: r2_score=0.38298\n"
     ]
    },
    {
     "name": "stderr",
     "output_type": "stream",
     "text": [
      "2025-05-19 14:55:42,560 - INFO - computed_metrics: [0.37982265414644756]\n"
     ]
    },
    {
     "name": "stdout",
     "output_type": "stream",
     "text": [
      "Step 330 validation: r2_score=0.379823\n"
     ]
    },
    {
     "name": "stderr",
     "output_type": "stream",
     "text": [
      "2025-05-19 14:55:42,863 - INFO - computed_metrics: [0.3861092025003413]\n"
     ]
    },
    {
     "name": "stdout",
     "output_type": "stream",
     "text": [
      "Step 335 validation: r2_score=0.386109\n"
     ]
    },
    {
     "name": "stderr",
     "output_type": "stream",
     "text": [
      "2025-05-19 14:55:43,150 - INFO - computed_metrics: [0.38298151642572686]\n"
     ]
    },
    {
     "name": "stdout",
     "output_type": "stream",
     "text": [
      "Step 340 validation: r2_score=0.382982\n"
     ]
    },
    {
     "name": "stderr",
     "output_type": "stream",
     "text": [
      "2025-05-19 14:55:43,403 - INFO - computed_metrics: [0.4210129678688015]\n"
     ]
    },
    {
     "name": "stdout",
     "output_type": "stream",
     "text": [
      "Step 345 validation: r2_score=0.421013\n"
     ]
    },
    {
     "name": "stderr",
     "output_type": "stream",
     "text": [
      "2025-05-19 14:55:43,752 - INFO - computed_metrics: [0.423478302439124]\n"
     ]
    },
    {
     "name": "stdout",
     "output_type": "stream",
     "text": [
      "Step 350 validation: r2_score=0.423478\n"
     ]
    },
    {
     "name": "stderr",
     "output_type": "stream",
     "text": [
      "2025-05-19 14:55:44,114 - INFO - computed_metrics: [0.4159803023687727]\n"
     ]
    },
    {
     "name": "stdout",
     "output_type": "stream",
     "text": [
      "Step 355 validation: r2_score=0.41598\n"
     ]
    },
    {
     "name": "stderr",
     "output_type": "stream",
     "text": [
      "2025-05-19 14:55:44,396 - INFO - computed_metrics: [0.36759901703149467]\n"
     ]
    },
    {
     "name": "stdout",
     "output_type": "stream",
     "text": [
      "Step 360 validation: r2_score=0.367599\n"
     ]
    },
    {
     "name": "stderr",
     "output_type": "stream",
     "text": [
      "2025-05-19 14:55:44,672 - INFO - computed_metrics: [0.3824500628524016]\n"
     ]
    },
    {
     "name": "stdout",
     "output_type": "stream",
     "text": [
      "Step 365 validation: r2_score=0.38245\n"
     ]
    },
    {
     "name": "stderr",
     "output_type": "stream",
     "text": [
      "2025-05-19 14:55:44,911 - INFO - computed_metrics: [0.4027828894368769]\n"
     ]
    },
    {
     "name": "stdout",
     "output_type": "stream",
     "text": [
      "Step 370 validation: r2_score=0.402783\n"
     ]
    },
    {
     "name": "stderr",
     "output_type": "stream",
     "text": [
      "2025-05-19 14:55:45,164 - INFO - computed_metrics: [0.3869054744194811]\n"
     ]
    },
    {
     "name": "stdout",
     "output_type": "stream",
     "text": [
      "Step 375 validation: r2_score=0.386905\n"
     ]
    },
    {
     "name": "stderr",
     "output_type": "stream",
     "text": [
      "2025-05-19 14:55:45,402 - INFO - computed_metrics: [0.3353676151351701]\n"
     ]
    },
    {
     "name": "stdout",
     "output_type": "stream",
     "text": [
      "Step 380 validation: r2_score=0.335368\n"
     ]
    },
    {
     "name": "stderr",
     "output_type": "stream",
     "text": [
      "2025-05-19 14:55:45,652 - INFO - computed_metrics: [0.23496158426299052]\n"
     ]
    },
    {
     "name": "stdout",
     "output_type": "stream",
     "text": [
      "Step 385 validation: r2_score=0.234962\n"
     ]
    },
    {
     "name": "stderr",
     "output_type": "stream",
     "text": [
      "2025-05-19 14:55:45,898 - INFO - computed_metrics: [0.3699376464473435]\n"
     ]
    },
    {
     "name": "stdout",
     "output_type": "stream",
     "text": [
      "Step 390 validation: r2_score=0.369938\n"
     ]
    },
    {
     "name": "stderr",
     "output_type": "stream",
     "text": [
      "2025-05-19 14:55:46,141 - INFO - computed_metrics: [0.4286555686794896]\n"
     ]
    },
    {
     "name": "stdout",
     "output_type": "stream",
     "text": [
      "Step 395 validation: r2_score=0.428656\n"
     ]
    },
    {
     "name": "stderr",
     "output_type": "stream",
     "text": [
      "2025-05-19 14:55:46,437 - INFO - Ending global_step 400: Average loss 0.474939\n",
      "2025-05-19 14:55:46,520 - INFO - computed_metrics: [0.37178126402278755]\n"
     ]
    },
    {
     "name": "stdout",
     "output_type": "stream",
     "text": [
      "Step 400 validation: r2_score=0.371781\n"
     ]
    },
    {
     "name": "stderr",
     "output_type": "stream",
     "text": [
      "2025-05-19 14:55:46,766 - INFO - computed_metrics: [0.19940702763512452]\n"
     ]
    },
    {
     "name": "stdout",
     "output_type": "stream",
     "text": [
      "Step 405 validation: r2_score=0.199407\n"
     ]
    },
    {
     "name": "stderr",
     "output_type": "stream",
     "text": [
      "2025-05-19 14:55:47,021 - INFO - computed_metrics: [0.269133994433327]\n"
     ]
    },
    {
     "name": "stdout",
     "output_type": "stream",
     "text": [
      "Step 410 validation: r2_score=0.269134\n"
     ]
    },
    {
     "name": "stderr",
     "output_type": "stream",
     "text": [
      "2025-05-19 14:55:47,249 - INFO - computed_metrics: [0.3354549227525363]\n"
     ]
    },
    {
     "name": "stdout",
     "output_type": "stream",
     "text": [
      "Step 415 validation: r2_score=0.335455\n"
     ]
    },
    {
     "name": "stderr",
     "output_type": "stream",
     "text": [
      "2025-05-19 14:55:47,493 - INFO - computed_metrics: [0.3252590702576219]\n"
     ]
    },
    {
     "name": "stdout",
     "output_type": "stream",
     "text": [
      "Step 420 validation: r2_score=0.325259\n"
     ]
    },
    {
     "name": "stderr",
     "output_type": "stream",
     "text": [
      "2025-05-19 14:55:47,741 - INFO - computed_metrics: [0.39437962013536565]\n"
     ]
    },
    {
     "name": "stdout",
     "output_type": "stream",
     "text": [
      "Step 425 validation: r2_score=0.39438\n"
     ]
    },
    {
     "name": "stderr",
     "output_type": "stream",
     "text": [
      "2025-05-19 14:55:47,982 - INFO - computed_metrics: [0.4709365771507651]\n"
     ]
    },
    {
     "name": "stdout",
     "output_type": "stream",
     "text": [
      "Step 430 validation: r2_score=0.470937\n"
     ]
    },
    {
     "name": "stderr",
     "output_type": "stream",
     "text": [
      "2025-05-19 14:55:48,325 - INFO - computed_metrics: [0.445199638765968]\n"
     ]
    },
    {
     "name": "stdout",
     "output_type": "stream",
     "text": [
      "Step 435 validation: r2_score=0.4452\n"
     ]
    },
    {
     "name": "stderr",
     "output_type": "stream",
     "text": [
      "2025-05-19 14:55:48,568 - INFO - computed_metrics: [0.45446027185555093]\n"
     ]
    },
    {
     "name": "stdout",
     "output_type": "stream",
     "text": [
      "Step 440 validation: r2_score=0.45446\n"
     ]
    },
    {
     "name": "stderr",
     "output_type": "stream",
     "text": [
      "2025-05-19 14:55:48,802 - INFO - computed_metrics: [0.39846352569692]\n"
     ]
    },
    {
     "name": "stdout",
     "output_type": "stream",
     "text": [
      "Step 445 validation: r2_score=0.398464\n"
     ]
    },
    {
     "name": "stderr",
     "output_type": "stream",
     "text": [
      "2025-05-19 14:55:49,038 - INFO - computed_metrics: [0.44127642262335065]\n"
     ]
    },
    {
     "name": "stdout",
     "output_type": "stream",
     "text": [
      "Step 450 validation: r2_score=0.441276\n"
     ]
    },
    {
     "name": "stderr",
     "output_type": "stream",
     "text": [
      "2025-05-19 14:55:49,313 - INFO - computed_metrics: [0.4677055864525741]\n"
     ]
    },
    {
     "name": "stdout",
     "output_type": "stream",
     "text": [
      "Step 455 validation: r2_score=0.467706\n"
     ]
    },
    {
     "name": "stderr",
     "output_type": "stream",
     "text": [
      "2025-05-19 14:55:49,562 - INFO - computed_metrics: [0.4666244279809002]\n"
     ]
    },
    {
     "name": "stdout",
     "output_type": "stream",
     "text": [
      "Step 460 validation: r2_score=0.466624\n"
     ]
    },
    {
     "name": "stderr",
     "output_type": "stream",
     "text": [
      "2025-05-19 14:55:49,799 - INFO - computed_metrics: [0.42246458151196375]\n"
     ]
    },
    {
     "name": "stdout",
     "output_type": "stream",
     "text": [
      "Step 465 validation: r2_score=0.422465\n"
     ]
    },
    {
     "name": "stderr",
     "output_type": "stream",
     "text": [
      "2025-05-19 14:55:50,051 - INFO - computed_metrics: [0.4012153720140207]\n"
     ]
    },
    {
     "name": "stdout",
     "output_type": "stream",
     "text": [
      "Step 470 validation: r2_score=0.401215\n"
     ]
    },
    {
     "name": "stderr",
     "output_type": "stream",
     "text": [
      "2025-05-19 14:55:50,297 - INFO - computed_metrics: [0.43068870110684443]\n"
     ]
    },
    {
     "name": "stdout",
     "output_type": "stream",
     "text": [
      "Step 475 validation: r2_score=0.430689\n"
     ]
    },
    {
     "name": "stderr",
     "output_type": "stream",
     "text": [
      "2025-05-19 14:55:50,543 - INFO - computed_metrics: [0.4702271821853996]\n"
     ]
    },
    {
     "name": "stdout",
     "output_type": "stream",
     "text": [
      "Step 480 validation: r2_score=0.470227\n"
     ]
    },
    {
     "name": "stderr",
     "output_type": "stream",
     "text": [
      "2025-05-19 14:55:50,785 - INFO - computed_metrics: [0.4722028633666724]\n"
     ]
    },
    {
     "name": "stdout",
     "output_type": "stream",
     "text": [
      "Step 485 validation: r2_score=0.472203\n"
     ]
    },
    {
     "name": "stderr",
     "output_type": "stream",
     "text": [
      "2025-05-19 14:55:51,135 - INFO - computed_metrics: [0.3872778733683916]\n"
     ]
    },
    {
     "name": "stdout",
     "output_type": "stream",
     "text": [
      "Step 490 validation: r2_score=0.387278\n"
     ]
    },
    {
     "name": "stderr",
     "output_type": "stream",
     "text": [
      "2025-05-19 14:55:51,376 - INFO - computed_metrics: [0.44171063912923303]\n",
      "2025-05-19 14:55:51,535 - INFO - Ending global_step 500: Average loss 0.453212\n"
     ]
    },
    {
     "name": "stdout",
     "output_type": "stream",
     "text": [
      "Step 495 validation: r2_score=0.441711\n"
     ]
    },
    {
     "name": "stderr",
     "output_type": "stream",
     "text": [
      "2025-05-19 14:55:51,615 - INFO - computed_metrics: [0.44277790240953907]\n"
     ]
    },
    {
     "name": "stdout",
     "output_type": "stream",
     "text": [
      "Step 500 validation: r2_score=0.442778\n"
     ]
    },
    {
     "name": "stderr",
     "output_type": "stream",
     "text": [
      "2025-05-19 14:55:51,856 - INFO - computed_metrics: [0.44981161039163853]\n"
     ]
    },
    {
     "name": "stdout",
     "output_type": "stream",
     "text": [
      "Step 505 validation: r2_score=0.449812\n"
     ]
    },
    {
     "name": "stderr",
     "output_type": "stream",
     "text": [
      "2025-05-19 14:55:52,102 - INFO - computed_metrics: [0.4547998686324536]\n"
     ]
    },
    {
     "name": "stdout",
     "output_type": "stream",
     "text": [
      "Step 510 validation: r2_score=0.4548\n"
     ]
    },
    {
     "name": "stderr",
     "output_type": "stream",
     "text": [
      "2025-05-19 14:55:52,348 - INFO - computed_metrics: [0.480187354611304]\n"
     ]
    },
    {
     "name": "stdout",
     "output_type": "stream",
     "text": [
      "Step 515 validation: r2_score=0.480187\n"
     ]
    },
    {
     "name": "stderr",
     "output_type": "stream",
     "text": [
      "2025-05-19 14:55:52,699 - INFO - computed_metrics: [0.5081442293832409]\n"
     ]
    },
    {
     "name": "stdout",
     "output_type": "stream",
     "text": [
      "Step 520 validation: r2_score=0.508144\n"
     ]
    },
    {
     "name": "stderr",
     "output_type": "stream",
     "text": [
      "2025-05-19 14:55:53,028 - INFO - computed_metrics: [0.5118585508992844]\n"
     ]
    },
    {
     "name": "stdout",
     "output_type": "stream",
     "text": [
      "Step 525 validation: r2_score=0.511859\n"
     ]
    },
    {
     "name": "stderr",
     "output_type": "stream",
     "text": [
      "2025-05-19 14:55:53,362 - INFO - computed_metrics: [0.5265479272029407]\n"
     ]
    },
    {
     "name": "stdout",
     "output_type": "stream",
     "text": [
      "Step 530 validation: r2_score=0.526548\n"
     ]
    },
    {
     "name": "stderr",
     "output_type": "stream",
     "text": [
      "2025-05-19 14:55:53,697 - INFO - computed_metrics: [0.49502658595782134]\n"
     ]
    },
    {
     "name": "stdout",
     "output_type": "stream",
     "text": [
      "Step 535 validation: r2_score=0.495027\n"
     ]
    },
    {
     "name": "stderr",
     "output_type": "stream",
     "text": [
      "2025-05-19 14:55:53,934 - INFO - computed_metrics: [0.4670569492412696]\n"
     ]
    },
    {
     "name": "stdout",
     "output_type": "stream",
     "text": [
      "Step 540 validation: r2_score=0.467057\n"
     ]
    },
    {
     "name": "stderr",
     "output_type": "stream",
     "text": [
      "2025-05-19 14:55:54,168 - INFO - computed_metrics: [0.4086249964795542]\n"
     ]
    },
    {
     "name": "stdout",
     "output_type": "stream",
     "text": [
      "Step 545 validation: r2_score=0.408625\n"
     ]
    },
    {
     "name": "stderr",
     "output_type": "stream",
     "text": [
      "2025-05-19 14:55:54,407 - INFO - computed_metrics: [0.478003899503589]\n"
     ]
    },
    {
     "name": "stdout",
     "output_type": "stream",
     "text": [
      "Step 550 validation: r2_score=0.478004\n"
     ]
    },
    {
     "name": "stderr",
     "output_type": "stream",
     "text": [
      "2025-05-19 14:55:54,662 - INFO - computed_metrics: [0.487500267178137]\n"
     ]
    },
    {
     "name": "stdout",
     "output_type": "stream",
     "text": [
      "Step 555 validation: r2_score=0.4875\n"
     ]
    },
    {
     "name": "stderr",
     "output_type": "stream",
     "text": [
      "2025-05-19 14:55:54,930 - INFO - computed_metrics: [0.5185493461732644]\n"
     ]
    },
    {
     "name": "stdout",
     "output_type": "stream",
     "text": [
      "Step 560 validation: r2_score=0.518549\n"
     ]
    },
    {
     "name": "stderr",
     "output_type": "stream",
     "text": [
      "2025-05-19 14:55:55,176 - INFO - computed_metrics: [0.4961940714635752]\n"
     ]
    },
    {
     "name": "stdout",
     "output_type": "stream",
     "text": [
      "Step 565 validation: r2_score=0.496194\n"
     ]
    },
    {
     "name": "stderr",
     "output_type": "stream",
     "text": [
      "2025-05-19 14:55:55,422 - INFO - computed_metrics: [0.4920519330894666]\n"
     ]
    },
    {
     "name": "stdout",
     "output_type": "stream",
     "text": [
      "Step 570 validation: r2_score=0.492052\n"
     ]
    },
    {
     "name": "stderr",
     "output_type": "stream",
     "text": [
      "2025-05-19 14:55:55,666 - INFO - computed_metrics: [0.518362187756036]\n"
     ]
    },
    {
     "name": "stdout",
     "output_type": "stream",
     "text": [
      "Step 575 validation: r2_score=0.518362\n"
     ]
    },
    {
     "name": "stderr",
     "output_type": "stream",
     "text": [
      "2025-05-19 14:55:55,940 - INFO - computed_metrics: [0.5232399643568566]\n"
     ]
    },
    {
     "name": "stdout",
     "output_type": "stream",
     "text": [
      "Step 580 validation: r2_score=0.52324\n"
     ]
    },
    {
     "name": "stderr",
     "output_type": "stream",
     "text": [
      "2025-05-19 14:55:56,198 - INFO - computed_metrics: [0.5041663966188024]\n"
     ]
    },
    {
     "name": "stdout",
     "output_type": "stream",
     "text": [
      "Step 585 validation: r2_score=0.504166\n"
     ]
    },
    {
     "name": "stderr",
     "output_type": "stream",
     "text": [
      "2025-05-19 14:55:56,434 - INFO - computed_metrics: [0.5034637648284801]\n"
     ]
    },
    {
     "name": "stdout",
     "output_type": "stream",
     "text": [
      "Step 590 validation: r2_score=0.503464\n"
     ]
    },
    {
     "name": "stderr",
     "output_type": "stream",
     "text": [
      "2025-05-19 14:55:56,662 - INFO - computed_metrics: [0.5259381956528003]\n"
     ]
    },
    {
     "name": "stdout",
     "output_type": "stream",
     "text": [
      "Step 595 validation: r2_score=0.525938\n"
     ]
    },
    {
     "name": "stderr",
     "output_type": "stream",
     "text": [
      "2025-05-19 14:55:57,092 - INFO - Ending global_step 600: Average loss 0.402527\n",
      "2025-05-19 14:55:57,162 - INFO - computed_metrics: [0.5321606542318498]\n"
     ]
    },
    {
     "name": "stdout",
     "output_type": "stream",
     "text": [
      "Step 600 validation: r2_score=0.532161\n"
     ]
    },
    {
     "name": "stderr",
     "output_type": "stream",
     "text": [
      "2025-05-19 14:55:57,505 - INFO - computed_metrics: [0.5390499495442622]\n"
     ]
    },
    {
     "name": "stdout",
     "output_type": "stream",
     "text": [
      "Step 605 validation: r2_score=0.53905\n"
     ]
    },
    {
     "name": "stderr",
     "output_type": "stream",
     "text": [
      "2025-05-19 14:55:57,883 - INFO - computed_metrics: [0.4305143972161588]\n"
     ]
    },
    {
     "name": "stdout",
     "output_type": "stream",
     "text": [
      "Step 610 validation: r2_score=0.430514\n"
     ]
    },
    {
     "name": "stderr",
     "output_type": "stream",
     "text": [
      "2025-05-19 14:55:58,136 - INFO - computed_metrics: [0.545245200419656]\n"
     ]
    },
    {
     "name": "stdout",
     "output_type": "stream",
     "text": [
      "Step 615 validation: r2_score=0.545245\n"
     ]
    },
    {
     "name": "stderr",
     "output_type": "stream",
     "text": [
      "2025-05-19 14:55:58,488 - INFO - computed_metrics: [0.48277313696351254]\n"
     ]
    },
    {
     "name": "stdout",
     "output_type": "stream",
     "text": [
      "Step 620 validation: r2_score=0.482773\n"
     ]
    },
    {
     "name": "stderr",
     "output_type": "stream",
     "text": [
      "2025-05-19 14:55:58,735 - INFO - computed_metrics: [0.5461303970721112]\n"
     ]
    },
    {
     "name": "stdout",
     "output_type": "stream",
     "text": [
      "Step 625 validation: r2_score=0.54613\n"
     ]
    },
    {
     "name": "stderr",
     "output_type": "stream",
     "text": [
      "2025-05-19 14:55:59,108 - INFO - computed_metrics: [0.5210293642155278]\n"
     ]
    },
    {
     "name": "stdout",
     "output_type": "stream",
     "text": [
      "Step 630 validation: r2_score=0.521029\n"
     ]
    },
    {
     "name": "stderr",
     "output_type": "stream",
     "text": [
      "2025-05-19 14:55:59,386 - INFO - computed_metrics: [0.5361391382331653]\n"
     ]
    },
    {
     "name": "stdout",
     "output_type": "stream",
     "text": [
      "Step 635 validation: r2_score=0.536139\n"
     ]
    },
    {
     "name": "stderr",
     "output_type": "stream",
     "text": [
      "2025-05-19 14:55:59,682 - INFO - computed_metrics: [0.5396980364619803]\n"
     ]
    },
    {
     "name": "stdout",
     "output_type": "stream",
     "text": [
      "Step 640 validation: r2_score=0.539698\n"
     ]
    },
    {
     "name": "stderr",
     "output_type": "stream",
     "text": [
      "2025-05-19 14:55:59,996 - INFO - computed_metrics: [0.5070087536442724]\n"
     ]
    },
    {
     "name": "stdout",
     "output_type": "stream",
     "text": [
      "Step 645 validation: r2_score=0.507009\n"
     ]
    },
    {
     "name": "stderr",
     "output_type": "stream",
     "text": [
      "2025-05-19 14:56:00,320 - INFO - computed_metrics: [0.5195253644433844]\n"
     ]
    },
    {
     "name": "stdout",
     "output_type": "stream",
     "text": [
      "Step 650 validation: r2_score=0.519525\n"
     ]
    },
    {
     "name": "stderr",
     "output_type": "stream",
     "text": [
      "2025-05-19 14:56:00,639 - INFO - computed_metrics: [0.5558742357475149]\n"
     ]
    },
    {
     "name": "stdout",
     "output_type": "stream",
     "text": [
      "Step 655 validation: r2_score=0.555874\n"
     ]
    },
    {
     "name": "stderr",
     "output_type": "stream",
     "text": [
      "2025-05-19 14:56:01,057 - INFO - computed_metrics: [0.5328809239854548]\n"
     ]
    },
    {
     "name": "stdout",
     "output_type": "stream",
     "text": [
      "Step 660 validation: r2_score=0.532881\n"
     ]
    },
    {
     "name": "stderr",
     "output_type": "stream",
     "text": [
      "2025-05-19 14:56:01,355 - INFO - computed_metrics: [0.5563665750642567]\n"
     ]
    },
    {
     "name": "stdout",
     "output_type": "stream",
     "text": [
      "Step 665 validation: r2_score=0.556367\n"
     ]
    },
    {
     "name": "stderr",
     "output_type": "stream",
     "text": [
      "2025-05-19 14:56:01,797 - INFO - computed_metrics: [0.5460566854198232]\n"
     ]
    },
    {
     "name": "stdout",
     "output_type": "stream",
     "text": [
      "Step 670 validation: r2_score=0.546057\n"
     ]
    },
    {
     "name": "stderr",
     "output_type": "stream",
     "text": [
      "2025-05-19 14:56:02,081 - INFO - computed_metrics: [0.5189080002311441]\n"
     ]
    },
    {
     "name": "stdout",
     "output_type": "stream",
     "text": [
      "Step 675 validation: r2_score=0.518908\n"
     ]
    },
    {
     "name": "stderr",
     "output_type": "stream",
     "text": [
      "2025-05-19 14:56:02,365 - INFO - computed_metrics: [0.4936462395993396]\n"
     ]
    },
    {
     "name": "stdout",
     "output_type": "stream",
     "text": [
      "Step 680 validation: r2_score=0.493646\n"
     ]
    },
    {
     "name": "stderr",
     "output_type": "stream",
     "text": [
      "2025-05-19 14:56:02,640 - INFO - computed_metrics: [0.500714854825771]\n"
     ]
    },
    {
     "name": "stdout",
     "output_type": "stream",
     "text": [
      "Step 685 validation: r2_score=0.500715\n"
     ]
    },
    {
     "name": "stderr",
     "output_type": "stream",
     "text": [
      "2025-05-19 14:56:02,952 - INFO - computed_metrics: [0.4750216940500327]\n"
     ]
    },
    {
     "name": "stdout",
     "output_type": "stream",
     "text": [
      "Step 690 validation: r2_score=0.475022\n"
     ]
    },
    {
     "name": "stderr",
     "output_type": "stream",
     "text": [
      "2025-05-19 14:56:03,255 - INFO - computed_metrics: [0.5047287402017323]\n"
     ]
    },
    {
     "name": "stdout",
     "output_type": "stream",
     "text": [
      "Step 695 validation: r2_score=0.504729\n"
     ]
    },
    {
     "name": "stderr",
     "output_type": "stream",
     "text": [
      "2025-05-19 14:56:03,475 - INFO - Ending global_step 700: Average loss 0.395072\n",
      "2025-05-19 14:56:03,562 - INFO - computed_metrics: [0.502351823567028]\n"
     ]
    },
    {
     "name": "stdout",
     "output_type": "stream",
     "text": [
      "Step 700 validation: r2_score=0.502352\n"
     ]
    },
    {
     "name": "stderr",
     "output_type": "stream",
     "text": [
      "2025-05-19 14:56:03,844 - INFO - computed_metrics: [0.5091970036063411]\n"
     ]
    },
    {
     "name": "stdout",
     "output_type": "stream",
     "text": [
      "Step 705 validation: r2_score=0.509197\n"
     ]
    },
    {
     "name": "stderr",
     "output_type": "stream",
     "text": [
      "2025-05-19 14:56:04,104 - INFO - computed_metrics: [0.41314105969213]\n"
     ]
    },
    {
     "name": "stdout",
     "output_type": "stream",
     "text": [
      "Step 710 validation: r2_score=0.413141\n"
     ]
    },
    {
     "name": "stderr",
     "output_type": "stream",
     "text": [
      "2025-05-19 14:56:04,392 - INFO - computed_metrics: [0.3159514045535614]\n"
     ]
    },
    {
     "name": "stdout",
     "output_type": "stream",
     "text": [
      "Step 715 validation: r2_score=0.315951\n"
     ]
    },
    {
     "name": "stderr",
     "output_type": "stream",
     "text": [
      "2025-05-19 14:56:04,654 - INFO - computed_metrics: [0.4967571960574453]\n"
     ]
    },
    {
     "name": "stdout",
     "output_type": "stream",
     "text": [
      "Step 720 validation: r2_score=0.496757\n"
     ]
    },
    {
     "name": "stderr",
     "output_type": "stream",
     "text": [
      "2025-05-19 14:56:04,937 - INFO - computed_metrics: [0.5258055874623246]\n"
     ]
    },
    {
     "name": "stdout",
     "output_type": "stream",
     "text": [
      "Step 725 validation: r2_score=0.525806\n"
     ]
    },
    {
     "name": "stderr",
     "output_type": "stream",
     "text": [
      "2025-05-19 14:56:05,225 - INFO - computed_metrics: [0.37249502682875335]\n"
     ]
    },
    {
     "name": "stdout",
     "output_type": "stream",
     "text": [
      "Step 730 validation: r2_score=0.372495\n"
     ]
    },
    {
     "name": "stderr",
     "output_type": "stream",
     "text": [
      "2025-05-19 14:56:05,502 - INFO - computed_metrics: [0.46572286121700457]\n"
     ]
    },
    {
     "name": "stdout",
     "output_type": "stream",
     "text": [
      "Step 735 validation: r2_score=0.465723\n"
     ]
    },
    {
     "name": "stderr",
     "output_type": "stream",
     "text": [
      "2025-05-19 14:56:05,785 - INFO - computed_metrics: [0.5528088128180376]\n"
     ]
    },
    {
     "name": "stdout",
     "output_type": "stream",
     "text": [
      "Step 740 validation: r2_score=0.552809\n"
     ]
    },
    {
     "name": "stderr",
     "output_type": "stream",
     "text": [
      "2025-05-19 14:56:06,065 - INFO - computed_metrics: [0.4753377383803489]\n"
     ]
    },
    {
     "name": "stdout",
     "output_type": "stream",
     "text": [
      "Step 745 validation: r2_score=0.475338\n"
     ]
    },
    {
     "name": "stderr",
     "output_type": "stream",
     "text": [
      "2025-05-19 14:56:06,339 - INFO - computed_metrics: [0.4512526619633246]\n"
     ]
    },
    {
     "name": "stdout",
     "output_type": "stream",
     "text": [
      "Step 750 validation: r2_score=0.451253\n"
     ]
    },
    {
     "name": "stderr",
     "output_type": "stream",
     "text": [
      "2025-05-19 14:56:06,601 - INFO - computed_metrics: [0.5384872850622113]\n"
     ]
    },
    {
     "name": "stdout",
     "output_type": "stream",
     "text": [
      "Step 755 validation: r2_score=0.538487\n"
     ]
    },
    {
     "name": "stderr",
     "output_type": "stream",
     "text": [
      "2025-05-19 14:56:06,874 - INFO - computed_metrics: [0.5749162290181848]\n"
     ]
    },
    {
     "name": "stdout",
     "output_type": "stream",
     "text": [
      "Step 760 validation: r2_score=0.574916\n"
     ]
    },
    {
     "name": "stderr",
     "output_type": "stream",
     "text": [
      "2025-05-19 14:56:07,265 - INFO - computed_metrics: [0.460672966746429]\n"
     ]
    },
    {
     "name": "stdout",
     "output_type": "stream",
     "text": [
      "Step 765 validation: r2_score=0.460673\n"
     ]
    },
    {
     "name": "stderr",
     "output_type": "stream",
     "text": [
      "2025-05-19 14:56:07,560 - INFO - computed_metrics: [0.47158955579878736]\n"
     ]
    },
    {
     "name": "stdout",
     "output_type": "stream",
     "text": [
      "Step 770 validation: r2_score=0.47159\n"
     ]
    },
    {
     "name": "stderr",
     "output_type": "stream",
     "text": [
      "2025-05-19 14:56:07,881 - INFO - computed_metrics: [0.5594365776607906]\n"
     ]
    },
    {
     "name": "stdout",
     "output_type": "stream",
     "text": [
      "Step 775 validation: r2_score=0.559437\n"
     ]
    },
    {
     "name": "stderr",
     "output_type": "stream",
     "text": [
      "2025-05-19 14:56:08,179 - INFO - computed_metrics: [0.5409360172247096]\n"
     ]
    },
    {
     "name": "stdout",
     "output_type": "stream",
     "text": [
      "Step 780 validation: r2_score=0.540936\n"
     ]
    },
    {
     "name": "stderr",
     "output_type": "stream",
     "text": [
      "2025-05-19 14:56:08,449 - INFO - computed_metrics: [0.44186188147464067]\n"
     ]
    },
    {
     "name": "stdout",
     "output_type": "stream",
     "text": [
      "Step 785 validation: r2_score=0.441862\n"
     ]
    },
    {
     "name": "stderr",
     "output_type": "stream",
     "text": [
      "2025-05-19 14:56:08,717 - INFO - computed_metrics: [0.5044543388459239]\n"
     ]
    },
    {
     "name": "stdout",
     "output_type": "stream",
     "text": [
      "Step 790 validation: r2_score=0.504454\n"
     ]
    },
    {
     "name": "stderr",
     "output_type": "stream",
     "text": [
      "2025-05-19 14:56:08,987 - INFO - computed_metrics: [0.5464201372811066]\n",
      "2025-05-19 14:56:09,175 - INFO - Ending global_step 800: Average loss 0.359593\n"
     ]
    },
    {
     "name": "stdout",
     "output_type": "stream",
     "text": [
      "Step 795 validation: r2_score=0.54642\n"
     ]
    },
    {
     "name": "stderr",
     "output_type": "stream",
     "text": [
      "2025-05-19 14:56:09,257 - INFO - computed_metrics: [0.5553817678107202]\n"
     ]
    },
    {
     "name": "stdout",
     "output_type": "stream",
     "text": [
      "Step 800 validation: r2_score=0.555382\n"
     ]
    },
    {
     "name": "stderr",
     "output_type": "stream",
     "text": [
      "2025-05-19 14:56:09,549 - INFO - computed_metrics: [0.5635205620716777]\n"
     ]
    },
    {
     "name": "stdout",
     "output_type": "stream",
     "text": [
      "Step 805 validation: r2_score=0.563521\n"
     ]
    },
    {
     "name": "stderr",
     "output_type": "stream",
     "text": [
      "2025-05-19 14:56:09,834 - INFO - computed_metrics: [0.5701966979955668]\n"
     ]
    },
    {
     "name": "stdout",
     "output_type": "stream",
     "text": [
      "Step 810 validation: r2_score=0.570197\n"
     ]
    },
    {
     "name": "stderr",
     "output_type": "stream",
     "text": [
      "2025-05-19 14:56:10,129 - INFO - computed_metrics: [0.5753175486870181]\n"
     ]
    },
    {
     "name": "stdout",
     "output_type": "stream",
     "text": [
      "Step 815 validation: r2_score=0.575318\n"
     ]
    },
    {
     "name": "stderr",
     "output_type": "stream",
     "text": [
      "2025-05-19 14:56:10,530 - INFO - computed_metrics: [0.5983821007246115]\n"
     ]
    },
    {
     "name": "stdout",
     "output_type": "stream",
     "text": [
      "Step 820 validation: r2_score=0.598382\n"
     ]
    },
    {
     "name": "stderr",
     "output_type": "stream",
     "text": [
      "2025-05-19 14:56:10,963 - INFO - computed_metrics: [0.6145454394310932]\n"
     ]
    },
    {
     "name": "stdout",
     "output_type": "stream",
     "text": [
      "Step 825 validation: r2_score=0.614545\n"
     ]
    },
    {
     "name": "stderr",
     "output_type": "stream",
     "text": [
      "2025-05-19 14:56:11,420 - INFO - computed_metrics: [0.6109032109106067]\n"
     ]
    },
    {
     "name": "stdout",
     "output_type": "stream",
     "text": [
      "Step 830 validation: r2_score=0.610903\n"
     ]
    },
    {
     "name": "stderr",
     "output_type": "stream",
     "text": [
      "2025-05-19 14:56:11,682 - INFO - computed_metrics: [0.6053439681121754]\n"
     ]
    },
    {
     "name": "stdout",
     "output_type": "stream",
     "text": [
      "Step 835 validation: r2_score=0.605344\n"
     ]
    },
    {
     "name": "stderr",
     "output_type": "stream",
     "text": [
      "2025-05-19 14:56:11,968 - INFO - computed_metrics: [0.5693645723072984]\n"
     ]
    },
    {
     "name": "stdout",
     "output_type": "stream",
     "text": [
      "Step 840 validation: r2_score=0.569365\n"
     ]
    },
    {
     "name": "stderr",
     "output_type": "stream",
     "text": [
      "2025-05-19 14:56:12,280 - INFO - computed_metrics: [0.5693229667679418]\n"
     ]
    },
    {
     "name": "stdout",
     "output_type": "stream",
     "text": [
      "Step 845 validation: r2_score=0.569323\n"
     ]
    },
    {
     "name": "stderr",
     "output_type": "stream",
     "text": [
      "2025-05-19 14:56:12,579 - INFO - computed_metrics: [0.5474900928499041]\n"
     ]
    },
    {
     "name": "stdout",
     "output_type": "stream",
     "text": [
      "Step 850 validation: r2_score=0.54749\n"
     ]
    },
    {
     "name": "stderr",
     "output_type": "stream",
     "text": [
      "2025-05-19 14:56:12,873 - INFO - computed_metrics: [0.5793329807046849]\n"
     ]
    },
    {
     "name": "stdout",
     "output_type": "stream",
     "text": [
      "Step 855 validation: r2_score=0.579333\n"
     ]
    },
    {
     "name": "stderr",
     "output_type": "stream",
     "text": [
      "2025-05-19 14:56:13,137 - INFO - computed_metrics: [0.502261376466216]\n"
     ]
    },
    {
     "name": "stdout",
     "output_type": "stream",
     "text": [
      "Step 860 validation: r2_score=0.502261\n"
     ]
    },
    {
     "name": "stderr",
     "output_type": "stream",
     "text": [
      "2025-05-19 14:56:13,415 - INFO - computed_metrics: [0.4688229346414482]\n"
     ]
    },
    {
     "name": "stdout",
     "output_type": "stream",
     "text": [
      "Step 865 validation: r2_score=0.468823\n"
     ]
    },
    {
     "name": "stderr",
     "output_type": "stream",
     "text": [
      "2025-05-19 14:56:13,659 - INFO - computed_metrics: [0.5609657001046798]\n"
     ]
    },
    {
     "name": "stdout",
     "output_type": "stream",
     "text": [
      "Step 870 validation: r2_score=0.560966\n"
     ]
    },
    {
     "name": "stderr",
     "output_type": "stream",
     "text": [
      "2025-05-19 14:56:13,958 - INFO - computed_metrics: [0.5432889639145153]\n"
     ]
    },
    {
     "name": "stdout",
     "output_type": "stream",
     "text": [
      "Step 875 validation: r2_score=0.543289\n"
     ]
    },
    {
     "name": "stderr",
     "output_type": "stream",
     "text": [
      "2025-05-19 14:56:14,253 - INFO - computed_metrics: [0.5753896028915138]\n"
     ]
    },
    {
     "name": "stdout",
     "output_type": "stream",
     "text": [
      "Step 880 validation: r2_score=0.57539\n"
     ]
    },
    {
     "name": "stderr",
     "output_type": "stream",
     "text": [
      "2025-05-19 14:56:14,539 - INFO - computed_metrics: [0.5820326033794034]\n"
     ]
    },
    {
     "name": "stdout",
     "output_type": "stream",
     "text": [
      "Step 885 validation: r2_score=0.582033\n"
     ]
    },
    {
     "name": "stderr",
     "output_type": "stream",
     "text": [
      "2025-05-19 14:56:14,842 - INFO - computed_metrics: [0.5439618159791353]\n"
     ]
    },
    {
     "name": "stdout",
     "output_type": "stream",
     "text": [
      "Step 890 validation: r2_score=0.543962\n"
     ]
    },
    {
     "name": "stderr",
     "output_type": "stream",
     "text": [
      "2025-05-19 14:56:15,118 - INFO - computed_metrics: [0.5170755715157438]\n",
      "2025-05-19 14:56:15,290 - INFO - Ending global_step 900: Average loss 0.35224\n"
     ]
    },
    {
     "name": "stdout",
     "output_type": "stream",
     "text": [
      "Step 895 validation: r2_score=0.517076\n"
     ]
    },
    {
     "name": "stderr",
     "output_type": "stream",
     "text": [
      "2025-05-19 14:56:15,362 - INFO - computed_metrics: [0.5557078495183845]\n"
     ]
    },
    {
     "name": "stdout",
     "output_type": "stream",
     "text": [
      "Step 900 validation: r2_score=0.555708\n"
     ]
    },
    {
     "name": "stderr",
     "output_type": "stream",
     "text": [
      "2025-05-19 14:56:15,606 - INFO - computed_metrics: [0.5648475467355398]\n"
     ]
    },
    {
     "name": "stdout",
     "output_type": "stream",
     "text": [
      "Step 905 validation: r2_score=0.564848\n"
     ]
    },
    {
     "name": "stderr",
     "output_type": "stream",
     "text": [
      "2025-05-19 14:56:15,860 - INFO - computed_metrics: [0.52043854985776]\n"
     ]
    },
    {
     "name": "stdout",
     "output_type": "stream",
     "text": [
      "Step 910 validation: r2_score=0.520439\n"
     ]
    },
    {
     "name": "stderr",
     "output_type": "stream",
     "text": [
      "2025-05-19 14:56:16,158 - INFO - computed_metrics: [0.5532905940507299]\n"
     ]
    },
    {
     "name": "stdout",
     "output_type": "stream",
     "text": [
      "Step 915 validation: r2_score=0.553291\n"
     ]
    },
    {
     "name": "stderr",
     "output_type": "stream",
     "text": [
      "2025-05-19 14:56:16,465 - INFO - computed_metrics: [0.5795808055867921]\n"
     ]
    },
    {
     "name": "stdout",
     "output_type": "stream",
     "text": [
      "Step 920 validation: r2_score=0.579581\n"
     ]
    },
    {
     "name": "stderr",
     "output_type": "stream",
     "text": [
      "2025-05-19 14:56:16,722 - INFO - computed_metrics: [0.5868104642479522]\n"
     ]
    },
    {
     "name": "stdout",
     "output_type": "stream",
     "text": [
      "Step 925 validation: r2_score=0.58681\n"
     ]
    },
    {
     "name": "stderr",
     "output_type": "stream",
     "text": [
      "2025-05-19 14:56:17,013 - INFO - computed_metrics: [0.5714115202160726]\n"
     ]
    },
    {
     "name": "stdout",
     "output_type": "stream",
     "text": [
      "Step 930 validation: r2_score=0.571412\n"
     ]
    },
    {
     "name": "stderr",
     "output_type": "stream",
     "text": [
      "2025-05-19 14:56:17,328 - INFO - computed_metrics: [0.5587172774131326]\n"
     ]
    },
    {
     "name": "stdout",
     "output_type": "stream",
     "text": [
      "Step 935 validation: r2_score=0.558717\n"
     ]
    },
    {
     "name": "stderr",
     "output_type": "stream",
     "text": [
      "2025-05-19 14:56:17,590 - INFO - computed_metrics: [0.6039953711049105]\n"
     ]
    },
    {
     "name": "stdout",
     "output_type": "stream",
     "text": [
      "Step 940 validation: r2_score=0.603995\n"
     ]
    },
    {
     "name": "stderr",
     "output_type": "stream",
     "text": [
      "2025-05-19 14:56:17,857 - INFO - computed_metrics: [0.6104332563807006]\n"
     ]
    },
    {
     "name": "stdout",
     "output_type": "stream",
     "text": [
      "Step 945 validation: r2_score=0.610433\n"
     ]
    },
    {
     "name": "stderr",
     "output_type": "stream",
     "text": [
      "2025-05-19 14:56:18,124 - INFO - computed_metrics: [0.5819743076715003]\n"
     ]
    },
    {
     "name": "stdout",
     "output_type": "stream",
     "text": [
      "Step 950 validation: r2_score=0.581974\n"
     ]
    },
    {
     "name": "stderr",
     "output_type": "stream",
     "text": [
      "2025-05-19 14:56:18,391 - INFO - computed_metrics: [0.6113930488667096]\n"
     ]
    },
    {
     "name": "stdout",
     "output_type": "stream",
     "text": [
      "Step 955 validation: r2_score=0.611393\n"
     ]
    },
    {
     "name": "stderr",
     "output_type": "stream",
     "text": [
      "2025-05-19 14:56:18,681 - INFO - computed_metrics: [0.6099442107897419]\n"
     ]
    },
    {
     "name": "stdout",
     "output_type": "stream",
     "text": [
      "Step 960 validation: r2_score=0.609944\n"
     ]
    },
    {
     "name": "stderr",
     "output_type": "stream",
     "text": [
      "2025-05-19 14:56:18,950 - INFO - computed_metrics: [0.5753995067110309]\n"
     ]
    },
    {
     "name": "stdout",
     "output_type": "stream",
     "text": [
      "Step 965 validation: r2_score=0.5754\n"
     ]
    },
    {
     "name": "stderr",
     "output_type": "stream",
     "text": [
      "2025-05-19 14:56:19,222 - INFO - computed_metrics: [0.6074045182893876]\n"
     ]
    },
    {
     "name": "stdout",
     "output_type": "stream",
     "text": [
      "Step 970 validation: r2_score=0.607405\n"
     ]
    },
    {
     "name": "stderr",
     "output_type": "stream",
     "text": [
      "2025-05-19 14:56:19,460 - INFO - computed_metrics: [0.5797363344477281]\n"
     ]
    },
    {
     "name": "stdout",
     "output_type": "stream",
     "text": [
      "Step 975 validation: r2_score=0.579736\n"
     ]
    },
    {
     "name": "stderr",
     "output_type": "stream",
     "text": [
      "2025-05-19 14:56:19,711 - INFO - computed_metrics: [0.542441317967425]\n"
     ]
    },
    {
     "name": "stdout",
     "output_type": "stream",
     "text": [
      "Step 980 validation: r2_score=0.542441\n"
     ]
    },
    {
     "name": "stderr",
     "output_type": "stream",
     "text": [
      "2025-05-19 14:56:19,985 - INFO - computed_metrics: [0.5709890657140549]\n"
     ]
    },
    {
     "name": "stdout",
     "output_type": "stream",
     "text": [
      "Step 985 validation: r2_score=0.570989\n"
     ]
    },
    {
     "name": "stderr",
     "output_type": "stream",
     "text": [
      "2025-05-19 14:56:20,318 - INFO - computed_metrics: [0.588141681044632]\n"
     ]
    },
    {
     "name": "stdout",
     "output_type": "stream",
     "text": [
      "Step 990 validation: r2_score=0.588142\n"
     ]
    },
    {
     "name": "stderr",
     "output_type": "stream",
     "text": [
      "2025-05-19 14:56:20,587 - INFO - computed_metrics: [0.5612255299613067]\n"
     ]
    },
    {
     "name": "stdout",
     "output_type": "stream",
     "text": [
      "Step 995 validation: r2_score=0.561226\n"
     ]
    },
    {
     "name": "stderr",
     "output_type": "stream",
     "text": [
      "2025-05-19 14:56:20,937 - INFO - Ending global_step 1000: Average loss 0.342473\n",
      "2025-05-19 14:56:21,015 - INFO - computed_metrics: [0.540602635880465]\n"
     ]
    },
    {
     "name": "stdout",
     "output_type": "stream",
     "text": [
      "Step 1000 validation: r2_score=0.540603\n"
     ]
    },
    {
     "name": "stderr",
     "output_type": "stream",
     "text": [
      "2025-05-19 14:56:21,265 - INFO - computed_metrics: [0.5846524961284987]\n"
     ]
    },
    {
     "name": "stdout",
     "output_type": "stream",
     "text": [
      "Step 1005 validation: r2_score=0.584652\n"
     ]
    },
    {
     "name": "stderr",
     "output_type": "stream",
     "text": [
      "2025-05-19 14:56:21,523 - INFO - computed_metrics: [0.5646798850383739]\n"
     ]
    },
    {
     "name": "stdout",
     "output_type": "stream",
     "text": [
      "Step 1010 validation: r2_score=0.56468\n"
     ]
    },
    {
     "name": "stderr",
     "output_type": "stream",
     "text": [
      "2025-05-19 14:56:21,770 - INFO - computed_metrics: [0.5841218238726145]\n"
     ]
    },
    {
     "name": "stdout",
     "output_type": "stream",
     "text": [
      "Step 1015 validation: r2_score=0.584122\n"
     ]
    },
    {
     "name": "stderr",
     "output_type": "stream",
     "text": [
      "2025-05-19 14:56:22,069 - INFO - computed_metrics: [0.6109532284509759]\n"
     ]
    },
    {
     "name": "stdout",
     "output_type": "stream",
     "text": [
      "Step 1020 validation: r2_score=0.610953\n"
     ]
    },
    {
     "name": "stderr",
     "output_type": "stream",
     "text": [
      "2025-05-19 14:56:22,407 - INFO - computed_metrics: [0.6009896074132813]\n"
     ]
    },
    {
     "name": "stdout",
     "output_type": "stream",
     "text": [
      "Step 1025 validation: r2_score=0.60099\n"
     ]
    },
    {
     "name": "stderr",
     "output_type": "stream",
     "text": [
      "2025-05-19 14:56:22,776 - INFO - computed_metrics: [0.5857118773785028]\n"
     ]
    },
    {
     "name": "stdout",
     "output_type": "stream",
     "text": [
      "Step 1030 validation: r2_score=0.585712\n"
     ]
    },
    {
     "name": "stderr",
     "output_type": "stream",
     "text": [
      "2025-05-19 14:56:23,108 - INFO - computed_metrics: [0.5420751415027294]\n"
     ]
    },
    {
     "name": "stdout",
     "output_type": "stream",
     "text": [
      "Step 1035 validation: r2_score=0.542075\n"
     ]
    },
    {
     "name": "stderr",
     "output_type": "stream",
     "text": [
      "2025-05-19 14:56:23,457 - INFO - computed_metrics: [0.5593417834697307]\n"
     ]
    },
    {
     "name": "stdout",
     "output_type": "stream",
     "text": [
      "Step 1040 validation: r2_score=0.559342\n"
     ]
    },
    {
     "name": "stderr",
     "output_type": "stream",
     "text": [
      "2025-05-19 14:56:23,781 - INFO - computed_metrics: [0.5676369742588268]\n"
     ]
    },
    {
     "name": "stdout",
     "output_type": "stream",
     "text": [
      "Step 1045 validation: r2_score=0.567637\n"
     ]
    },
    {
     "name": "stderr",
     "output_type": "stream",
     "text": [
      "2025-05-19 14:56:24,065 - INFO - computed_metrics: [0.5907146594576287]\n"
     ]
    },
    {
     "name": "stdout",
     "output_type": "stream",
     "text": [
      "Step 1050 validation: r2_score=0.590715\n"
     ]
    },
    {
     "name": "stderr",
     "output_type": "stream",
     "text": [
      "2025-05-19 14:56:24,307 - INFO - computed_metrics: [0.5207749910022712]\n"
     ]
    },
    {
     "name": "stdout",
     "output_type": "stream",
     "text": [
      "Step 1055 validation: r2_score=0.520775\n"
     ]
    },
    {
     "name": "stderr",
     "output_type": "stream",
     "text": [
      "2025-05-19 14:56:24,564 - INFO - computed_metrics: [0.5679384265906894]\n"
     ]
    },
    {
     "name": "stdout",
     "output_type": "stream",
     "text": [
      "Step 1060 validation: r2_score=0.567938\n"
     ]
    },
    {
     "name": "stderr",
     "output_type": "stream",
     "text": [
      "2025-05-19 14:56:24,839 - INFO - computed_metrics: [0.5807410626964291]\n"
     ]
    },
    {
     "name": "stdout",
     "output_type": "stream",
     "text": [
      "Step 1065 validation: r2_score=0.580741\n"
     ]
    },
    {
     "name": "stderr",
     "output_type": "stream",
     "text": [
      "2025-05-19 14:56:25,098 - INFO - computed_metrics: [0.5003483287346681]\n"
     ]
    },
    {
     "name": "stdout",
     "output_type": "stream",
     "text": [
      "Step 1070 validation: r2_score=0.500348\n"
     ]
    },
    {
     "name": "stderr",
     "output_type": "stream",
     "text": [
      "2025-05-19 14:56:25,342 - INFO - computed_metrics: [0.5888951299058689]\n"
     ]
    },
    {
     "name": "stdout",
     "output_type": "stream",
     "text": [
      "Step 1075 validation: r2_score=0.588895\n"
     ]
    },
    {
     "name": "stderr",
     "output_type": "stream",
     "text": [
      "2025-05-19 14:56:25,601 - INFO - computed_metrics: [0.5913303283632181]\n"
     ]
    },
    {
     "name": "stdout",
     "output_type": "stream",
     "text": [
      "Step 1080 validation: r2_score=0.59133\n"
     ]
    },
    {
     "name": "stderr",
     "output_type": "stream",
     "text": [
      "2025-05-19 14:56:25,893 - INFO - computed_metrics: [0.5386170725685223]\n"
     ]
    },
    {
     "name": "stdout",
     "output_type": "stream",
     "text": [
      "Step 1085 validation: r2_score=0.538617\n"
     ]
    },
    {
     "name": "stderr",
     "output_type": "stream",
     "text": [
      "2025-05-19 14:56:26,161 - INFO - computed_metrics: [0.564502870607265]\n"
     ]
    },
    {
     "name": "stdout",
     "output_type": "stream",
     "text": [
      "Step 1090 validation: r2_score=0.564503\n"
     ]
    },
    {
     "name": "stderr",
     "output_type": "stream",
     "text": [
      "2025-05-19 14:56:26,511 - INFO - computed_metrics: [0.5849012410439043]\n",
      "2025-05-19 14:56:26,707 - INFO - Ending global_step 1100: Average loss 0.332348\n"
     ]
    },
    {
     "name": "stdout",
     "output_type": "stream",
     "text": [
      "Step 1095 validation: r2_score=0.584901\n"
     ]
    },
    {
     "name": "stderr",
     "output_type": "stream",
     "text": [
      "2025-05-19 14:56:26,797 - INFO - computed_metrics: [0.5652377975314704]\n"
     ]
    },
    {
     "name": "stdout",
     "output_type": "stream",
     "text": [
      "Step 1100 validation: r2_score=0.565238\n"
     ]
    },
    {
     "name": "stderr",
     "output_type": "stream",
     "text": [
      "2025-05-19 14:56:27,087 - INFO - computed_metrics: [0.49882219621838064]\n"
     ]
    },
    {
     "name": "stdout",
     "output_type": "stream",
     "text": [
      "Step 1105 validation: r2_score=0.498822\n"
     ]
    },
    {
     "name": "stderr",
     "output_type": "stream",
     "text": [
      "2025-05-19 14:56:27,399 - INFO - computed_metrics: [0.5333471948132857]\n"
     ]
    },
    {
     "name": "stdout",
     "output_type": "stream",
     "text": [
      "Step 1110 validation: r2_score=0.533347\n"
     ]
    },
    {
     "name": "stderr",
     "output_type": "stream",
     "text": [
      "2025-05-19 14:56:27,655 - INFO - computed_metrics: [0.5079621473713869]\n"
     ]
    },
    {
     "name": "stdout",
     "output_type": "stream",
     "text": [
      "Step 1115 validation: r2_score=0.507962\n"
     ]
    },
    {
     "name": "stderr",
     "output_type": "stream",
     "text": [
      "2025-05-19 14:56:27,948 - INFO - computed_metrics: [0.49512260260405816]\n"
     ]
    },
    {
     "name": "stdout",
     "output_type": "stream",
     "text": [
      "Step 1120 validation: r2_score=0.495123\n"
     ]
    },
    {
     "name": "stderr",
     "output_type": "stream",
     "text": [
      "2025-05-19 14:56:28,273 - INFO - computed_metrics: [0.4830695711934718]\n"
     ]
    },
    {
     "name": "stdout",
     "output_type": "stream",
     "text": [
      "Step 1125 validation: r2_score=0.48307\n"
     ]
    },
    {
     "name": "stderr",
     "output_type": "stream",
     "text": [
      "2025-05-19 14:56:28,576 - INFO - computed_metrics: [0.4038322135137826]\n"
     ]
    },
    {
     "name": "stdout",
     "output_type": "stream",
     "text": [
      "Step 1130 validation: r2_score=0.403832\n"
     ]
    },
    {
     "name": "stderr",
     "output_type": "stream",
     "text": [
      "2025-05-19 14:56:28,882 - INFO - computed_metrics: [0.5382286284641565]\n"
     ]
    },
    {
     "name": "stdout",
     "output_type": "stream",
     "text": [
      "Step 1135 validation: r2_score=0.538229\n"
     ]
    },
    {
     "name": "stderr",
     "output_type": "stream",
     "text": [
      "2025-05-19 14:56:29,199 - INFO - computed_metrics: [0.5608347924281565]\n"
     ]
    },
    {
     "name": "stdout",
     "output_type": "stream",
     "text": [
      "Step 1140 validation: r2_score=0.560835\n"
     ]
    },
    {
     "name": "stderr",
     "output_type": "stream",
     "text": [
      "2025-05-19 14:56:29,505 - INFO - computed_metrics: [0.4573080631778498]\n"
     ]
    },
    {
     "name": "stdout",
     "output_type": "stream",
     "text": [
      "Step 1145 validation: r2_score=0.457308\n"
     ]
    },
    {
     "name": "stderr",
     "output_type": "stream",
     "text": [
      "2025-05-19 14:56:29,791 - INFO - computed_metrics: [0.41070139357400526]\n"
     ]
    },
    {
     "name": "stdout",
     "output_type": "stream",
     "text": [
      "Step 1150 validation: r2_score=0.410701\n"
     ]
    },
    {
     "name": "stderr",
     "output_type": "stream",
     "text": [
      "2025-05-19 14:56:30,101 - INFO - computed_metrics: [0.5834276483076992]\n"
     ]
    },
    {
     "name": "stdout",
     "output_type": "stream",
     "text": [
      "Step 1155 validation: r2_score=0.583428\n"
     ]
    },
    {
     "name": "stderr",
     "output_type": "stream",
     "text": [
      "2025-05-19 14:56:30,382 - INFO - computed_metrics: [0.5538607759530343]\n"
     ]
    },
    {
     "name": "stdout",
     "output_type": "stream",
     "text": [
      "Step 1160 validation: r2_score=0.553861\n"
     ]
    },
    {
     "name": "stderr",
     "output_type": "stream",
     "text": [
      "2025-05-19 14:56:30,668 - INFO - computed_metrics: [0.5310528167664996]\n"
     ]
    },
    {
     "name": "stdout",
     "output_type": "stream",
     "text": [
      "Step 1165 validation: r2_score=0.531053\n"
     ]
    },
    {
     "name": "stderr",
     "output_type": "stream",
     "text": [
      "2025-05-19 14:56:30,915 - INFO - computed_metrics: [0.5497112843755436]\n"
     ]
    },
    {
     "name": "stdout",
     "output_type": "stream",
     "text": [
      "Step 1170 validation: r2_score=0.549711\n"
     ]
    },
    {
     "name": "stderr",
     "output_type": "stream",
     "text": [
      "2025-05-19 14:56:31,188 - INFO - computed_metrics: [0.47626770867464663]\n"
     ]
    },
    {
     "name": "stdout",
     "output_type": "stream",
     "text": [
      "Step 1175 validation: r2_score=0.476268\n"
     ]
    },
    {
     "name": "stderr",
     "output_type": "stream",
     "text": [
      "2025-05-19 14:56:31,443 - INFO - computed_metrics: [0.47666214757968495]\n"
     ]
    },
    {
     "name": "stdout",
     "output_type": "stream",
     "text": [
      "Step 1180 validation: r2_score=0.476662\n"
     ]
    },
    {
     "name": "stderr",
     "output_type": "stream",
     "text": [
      "2025-05-19 14:56:31,676 - INFO - computed_metrics: [0.5364150919659072]\n"
     ]
    },
    {
     "name": "stdout",
     "output_type": "stream",
     "text": [
      "Step 1185 validation: r2_score=0.536415\n"
     ]
    },
    {
     "name": "stderr",
     "output_type": "stream",
     "text": [
      "2025-05-19 14:56:31,929 - INFO - computed_metrics: [0.4456313020456478]\n"
     ]
    },
    {
     "name": "stdout",
     "output_type": "stream",
     "text": [
      "Step 1190 validation: r2_score=0.445631\n"
     ]
    },
    {
     "name": "stderr",
     "output_type": "stream",
     "text": [
      "2025-05-19 14:56:32,187 - INFO - computed_metrics: [0.40950769082586413]\n"
     ]
    },
    {
     "name": "stdout",
     "output_type": "stream",
     "text": [
      "Step 1195 validation: r2_score=0.409508\n"
     ]
    },
    {
     "name": "stderr",
     "output_type": "stream",
     "text": [
      "2025-05-19 14:56:32,399 - INFO - Ending global_step 1200: Average loss 0.313704\n",
      "2025-05-19 14:56:32,488 - INFO - computed_metrics: [0.34002402943242227]\n"
     ]
    },
    {
     "name": "stdout",
     "output_type": "stream",
     "text": [
      "Step 1200 validation: r2_score=0.340024\n"
     ]
    },
    {
     "name": "stderr",
     "output_type": "stream",
     "text": [
      "2025-05-19 14:56:32,752 - INFO - computed_metrics: [0.5800771369013267]\n"
     ]
    },
    {
     "name": "stdout",
     "output_type": "stream",
     "text": [
      "Step 1205 validation: r2_score=0.580077\n"
     ]
    },
    {
     "name": "stderr",
     "output_type": "stream",
     "text": [
      "2025-05-19 14:56:33,021 - INFO - computed_metrics: [0.6096207804105018]\n"
     ]
    },
    {
     "name": "stdout",
     "output_type": "stream",
     "text": [
      "Step 1210 validation: r2_score=0.609621\n"
     ]
    },
    {
     "name": "stderr",
     "output_type": "stream",
     "text": [
      "2025-05-19 14:56:33,291 - INFO - computed_metrics: [0.509124524887694]\n"
     ]
    },
    {
     "name": "stdout",
     "output_type": "stream",
     "text": [
      "Step 1215 validation: r2_score=0.509125\n"
     ]
    },
    {
     "name": "stderr",
     "output_type": "stream",
     "text": [
      "2025-05-19 14:56:33,558 - INFO - computed_metrics: [0.5582891899478093]\n"
     ]
    },
    {
     "name": "stdout",
     "output_type": "stream",
     "text": [
      "Step 1220 validation: r2_score=0.558289\n"
     ]
    },
    {
     "name": "stderr",
     "output_type": "stream",
     "text": [
      "2025-05-19 14:56:33,807 - INFO - computed_metrics: [0.5820272979169373]\n"
     ]
    },
    {
     "name": "stdout",
     "output_type": "stream",
     "text": [
      "Step 1225 validation: r2_score=0.582027\n"
     ]
    },
    {
     "name": "stderr",
     "output_type": "stream",
     "text": [
      "2025-05-19 14:56:34,049 - INFO - computed_metrics: [0.4603190196081701]\n"
     ]
    },
    {
     "name": "stdout",
     "output_type": "stream",
     "text": [
      "Step 1230 validation: r2_score=0.460319\n"
     ]
    },
    {
     "name": "stderr",
     "output_type": "stream",
     "text": [
      "2025-05-19 14:56:34,299 - INFO - computed_metrics: [0.5212847255385644]\n"
     ]
    },
    {
     "name": "stdout",
     "output_type": "stream",
     "text": [
      "Step 1235 validation: r2_score=0.521285\n"
     ]
    },
    {
     "name": "stderr",
     "output_type": "stream",
     "text": [
      "2025-05-19 14:56:34,571 - INFO - computed_metrics: [0.6015166610523508]\n"
     ]
    },
    {
     "name": "stdout",
     "output_type": "stream",
     "text": [
      "Step 1240 validation: r2_score=0.601517\n"
     ]
    },
    {
     "name": "stderr",
     "output_type": "stream",
     "text": [
      "2025-05-19 14:56:34,840 - INFO - computed_metrics: [0.5970430392613626]\n"
     ]
    },
    {
     "name": "stdout",
     "output_type": "stream",
     "text": [
      "Step 1245 validation: r2_score=0.597043\n"
     ]
    },
    {
     "name": "stderr",
     "output_type": "stream",
     "text": [
      "2025-05-19 14:56:35,083 - INFO - computed_metrics: [0.5307929075226971]\n"
     ]
    },
    {
     "name": "stdout",
     "output_type": "stream",
     "text": [
      "Step 1250 validation: r2_score=0.530793\n"
     ]
    },
    {
     "name": "stderr",
     "output_type": "stream",
     "text": [
      "2025-05-19 14:56:35,340 - INFO - computed_metrics: [0.5136959346032755]\n"
     ]
    },
    {
     "name": "stdout",
     "output_type": "stream",
     "text": [
      "Step 1255 validation: r2_score=0.513696\n"
     ]
    },
    {
     "name": "stderr",
     "output_type": "stream",
     "text": [
      "2025-05-19 14:56:35,580 - INFO - computed_metrics: [0.5819698694378305]\n"
     ]
    },
    {
     "name": "stdout",
     "output_type": "stream",
     "text": [
      "Step 1260 validation: r2_score=0.58197\n"
     ]
    },
    {
     "name": "stderr",
     "output_type": "stream",
     "text": [
      "2025-05-19 14:56:35,827 - INFO - computed_metrics: [0.618566705138875]\n"
     ]
    },
    {
     "name": "stdout",
     "output_type": "stream",
     "text": [
      "Step 1265 validation: r2_score=0.618567\n"
     ]
    },
    {
     "name": "stderr",
     "output_type": "stream",
     "text": [
      "2025-05-19 14:56:36,204 - INFO - computed_metrics: [0.5464669140478704]\n"
     ]
    },
    {
     "name": "stdout",
     "output_type": "stream",
     "text": [
      "Step 1270 validation: r2_score=0.546467\n"
     ]
    },
    {
     "name": "stderr",
     "output_type": "stream",
     "text": [
      "2025-05-19 14:56:36,448 - INFO - computed_metrics: [0.43437938458962544]\n"
     ]
    },
    {
     "name": "stdout",
     "output_type": "stream",
     "text": [
      "Step 1275 validation: r2_score=0.434379\n"
     ]
    },
    {
     "name": "stderr",
     "output_type": "stream",
     "text": [
      "2025-05-19 14:56:36,691 - INFO - computed_metrics: [0.5892219211219517]\n"
     ]
    },
    {
     "name": "stdout",
     "output_type": "stream",
     "text": [
      "Step 1280 validation: r2_score=0.589222\n"
     ]
    },
    {
     "name": "stderr",
     "output_type": "stream",
     "text": [
      "2025-05-19 14:56:36,940 - INFO - computed_metrics: [0.5978188134876242]\n"
     ]
    },
    {
     "name": "stdout",
     "output_type": "stream",
     "text": [
      "Step 1285 validation: r2_score=0.597819\n"
     ]
    },
    {
     "name": "stderr",
     "output_type": "stream",
     "text": [
      "2025-05-19 14:56:37,185 - INFO - computed_metrics: [0.603312552184021]\n"
     ]
    },
    {
     "name": "stdout",
     "output_type": "stream",
     "text": [
      "Step 1290 validation: r2_score=0.603313\n"
     ]
    },
    {
     "name": "stderr",
     "output_type": "stream",
     "text": [
      "2025-05-19 14:56:37,435 - INFO - computed_metrics: [0.5672454358877733]\n",
      "2025-05-19 14:56:37,608 - INFO - Ending global_step 1300: Average loss 0.297209\n"
     ]
    },
    {
     "name": "stdout",
     "output_type": "stream",
     "text": [
      "Step 1295 validation: r2_score=0.567245\n"
     ]
    },
    {
     "name": "stderr",
     "output_type": "stream",
     "text": [
      "2025-05-19 14:56:37,684 - INFO - computed_metrics: [0.5308907354944173]\n"
     ]
    },
    {
     "name": "stdout",
     "output_type": "stream",
     "text": [
      "Step 1300 validation: r2_score=0.530891\n"
     ]
    },
    {
     "name": "stderr",
     "output_type": "stream",
     "text": [
      "2025-05-19 14:56:37,942 - INFO - computed_metrics: [0.547428101800552]\n"
     ]
    },
    {
     "name": "stdout",
     "output_type": "stream",
     "text": [
      "Step 1305 validation: r2_score=0.547428\n"
     ]
    },
    {
     "name": "stderr",
     "output_type": "stream",
     "text": [
      "2025-05-19 14:56:38,199 - INFO - computed_metrics: [0.5117981931001414]\n"
     ]
    },
    {
     "name": "stdout",
     "output_type": "stream",
     "text": [
      "Step 1310 validation: r2_score=0.511798\n"
     ]
    },
    {
     "name": "stderr",
     "output_type": "stream",
     "text": [
      "2025-05-19 14:56:38,446 - INFO - computed_metrics: [0.5131745321255541]\n"
     ]
    },
    {
     "name": "stdout",
     "output_type": "stream",
     "text": [
      "Step 1315 validation: r2_score=0.513175\n"
     ]
    },
    {
     "name": "stderr",
     "output_type": "stream",
     "text": [
      "2025-05-19 14:56:38,677 - INFO - computed_metrics: [0.5958085373268149]\n"
     ]
    },
    {
     "name": "stdout",
     "output_type": "stream",
     "text": [
      "Step 1320 validation: r2_score=0.595809\n"
     ]
    },
    {
     "name": "stderr",
     "output_type": "stream",
     "text": [
      "2025-05-19 14:56:38,909 - INFO - computed_metrics: [0.5782079632707118]\n"
     ]
    },
    {
     "name": "stdout",
     "output_type": "stream",
     "text": [
      "Step 1325 validation: r2_score=0.578208\n"
     ]
    },
    {
     "name": "stderr",
     "output_type": "stream",
     "text": [
      "2025-05-19 14:56:39,141 - INFO - computed_metrics: [0.537034798975761]\n"
     ]
    },
    {
     "name": "stdout",
     "output_type": "stream",
     "text": [
      "Step 1330 validation: r2_score=0.537035\n"
     ]
    },
    {
     "name": "stderr",
     "output_type": "stream",
     "text": [
      "2025-05-19 14:56:39,376 - INFO - computed_metrics: [0.6181433375442624]\n"
     ]
    },
    {
     "name": "stdout",
     "output_type": "stream",
     "text": [
      "Step 1335 validation: r2_score=0.618143\n"
     ]
    },
    {
     "name": "stderr",
     "output_type": "stream",
     "text": [
      "2025-05-19 14:56:39,608 - INFO - computed_metrics: [0.6086081976222613]\n"
     ]
    },
    {
     "name": "stdout",
     "output_type": "stream",
     "text": [
      "Step 1340 validation: r2_score=0.608608\n"
     ]
    },
    {
     "name": "stderr",
     "output_type": "stream",
     "text": [
      "2025-05-19 14:56:39,849 - INFO - computed_metrics: [0.5483039003269417]\n"
     ]
    },
    {
     "name": "stdout",
     "output_type": "stream",
     "text": [
      "Step 1345 validation: r2_score=0.548304\n"
     ]
    },
    {
     "name": "stderr",
     "output_type": "stream",
     "text": [
      "2025-05-19 14:56:40,083 - INFO - computed_metrics: [0.6177929390656004]\n"
     ]
    },
    {
     "name": "stdout",
     "output_type": "stream",
     "text": [
      "Step 1350 validation: r2_score=0.617793\n"
     ]
    },
    {
     "name": "stderr",
     "output_type": "stream",
     "text": [
      "2025-05-19 14:56:40,326 - INFO - computed_metrics: [0.5843928421817687]\n"
     ]
    },
    {
     "name": "stdout",
     "output_type": "stream",
     "text": [
      "Step 1355 validation: r2_score=0.584393\n"
     ]
    },
    {
     "name": "stderr",
     "output_type": "stream",
     "text": [
      "2025-05-19 14:56:40,575 - INFO - computed_metrics: [0.5605107878355604]\n"
     ]
    },
    {
     "name": "stdout",
     "output_type": "stream",
     "text": [
      "Step 1360 validation: r2_score=0.560511\n"
     ]
    },
    {
     "name": "stderr",
     "output_type": "stream",
     "text": [
      "2025-05-19 14:56:40,817 - INFO - computed_metrics: [0.6016974163204694]\n"
     ]
    },
    {
     "name": "stdout",
     "output_type": "stream",
     "text": [
      "Step 1365 validation: r2_score=0.601697\n"
     ]
    },
    {
     "name": "stderr",
     "output_type": "stream",
     "text": [
      "2025-05-19 14:56:41,067 - INFO - computed_metrics: [0.5704946196342724]\n"
     ]
    },
    {
     "name": "stdout",
     "output_type": "stream",
     "text": [
      "Step 1370 validation: r2_score=0.570495\n"
     ]
    },
    {
     "name": "stderr",
     "output_type": "stream",
     "text": [
      "2025-05-19 14:56:41,309 - INFO - computed_metrics: [0.5256240546142721]\n"
     ]
    },
    {
     "name": "stdout",
     "output_type": "stream",
     "text": [
      "Step 1375 validation: r2_score=0.525624\n"
     ]
    },
    {
     "name": "stderr",
     "output_type": "stream",
     "text": [
      "2025-05-19 14:56:41,561 - INFO - computed_metrics: [0.5916005458656198]\n"
     ]
    },
    {
     "name": "stdout",
     "output_type": "stream",
     "text": [
      "Step 1380 validation: r2_score=0.591601\n"
     ]
    },
    {
     "name": "stderr",
     "output_type": "stream",
     "text": [
      "2025-05-19 14:56:41,809 - INFO - computed_metrics: [0.5720266253574867]\n"
     ]
    },
    {
     "name": "stdout",
     "output_type": "stream",
     "text": [
      "Step 1385 validation: r2_score=0.572027\n"
     ]
    },
    {
     "name": "stderr",
     "output_type": "stream",
     "text": [
      "2025-05-19 14:56:42,054 - INFO - computed_metrics: [0.4879932590235827]\n"
     ]
    },
    {
     "name": "stdout",
     "output_type": "stream",
     "text": [
      "Step 1390 validation: r2_score=0.487993\n"
     ]
    },
    {
     "name": "stderr",
     "output_type": "stream",
     "text": [
      "2025-05-19 14:56:42,283 - INFO - computed_metrics: [0.4910697842633118]\n",
      "2025-05-19 14:56:42,447 - INFO - Ending global_step 1400: Average loss 0.3003\n"
     ]
    },
    {
     "name": "stdout",
     "output_type": "stream",
     "text": [
      "Step 1395 validation: r2_score=0.49107\n"
     ]
    },
    {
     "name": "stderr",
     "output_type": "stream",
     "text": [
      "2025-05-19 14:56:42,518 - INFO - computed_metrics: [0.5728063772842508]\n"
     ]
    },
    {
     "name": "stdout",
     "output_type": "stream",
     "text": [
      "Step 1400 validation: r2_score=0.572806\n"
     ]
    },
    {
     "name": "stderr",
     "output_type": "stream",
     "text": [
      "2025-05-19 14:56:42,756 - INFO - computed_metrics: [0.5664861652831293]\n"
     ]
    },
    {
     "name": "stdout",
     "output_type": "stream",
     "text": [
      "Step 1405 validation: r2_score=0.566486\n"
     ]
    },
    {
     "name": "stderr",
     "output_type": "stream",
     "text": [
      "2025-05-19 14:56:43,014 - INFO - computed_metrics: [0.5420218731305962]\n"
     ]
    },
    {
     "name": "stdout",
     "output_type": "stream",
     "text": [
      "Step 1410 validation: r2_score=0.542022\n"
     ]
    },
    {
     "name": "stderr",
     "output_type": "stream",
     "text": [
      "2025-05-19 14:56:43,254 - INFO - computed_metrics: [0.5899894893844477]\n"
     ]
    },
    {
     "name": "stdout",
     "output_type": "stream",
     "text": [
      "Step 1415 validation: r2_score=0.589989\n"
     ]
    },
    {
     "name": "stderr",
     "output_type": "stream",
     "text": [
      "2025-05-19 14:56:43,482 - INFO - computed_metrics: [0.6093682717571407]\n"
     ]
    },
    {
     "name": "stdout",
     "output_type": "stream",
     "text": [
      "Step 1420 validation: r2_score=0.609368\n"
     ]
    },
    {
     "name": "stderr",
     "output_type": "stream",
     "text": [
      "2025-05-19 14:56:43,716 - INFO - computed_metrics: [0.5523115444776183]\n"
     ]
    },
    {
     "name": "stdout",
     "output_type": "stream",
     "text": [
      "Step 1425 validation: r2_score=0.552312\n"
     ]
    },
    {
     "name": "stderr",
     "output_type": "stream",
     "text": [
      "2025-05-19 14:56:43,937 - INFO - computed_metrics: [0.5785739553118607]\n"
     ]
    },
    {
     "name": "stdout",
     "output_type": "stream",
     "text": [
      "Step 1430 validation: r2_score=0.578574\n"
     ]
    },
    {
     "name": "stderr",
     "output_type": "stream",
     "text": [
      "2025-05-19 14:56:44,164 - INFO - computed_metrics: [0.5665863109229761]\n"
     ]
    },
    {
     "name": "stdout",
     "output_type": "stream",
     "text": [
      "Step 1435 validation: r2_score=0.566586\n"
     ]
    },
    {
     "name": "stderr",
     "output_type": "stream",
     "text": [
      "2025-05-19 14:56:44,397 - INFO - computed_metrics: [0.5922763070789546]\n"
     ]
    },
    {
     "name": "stdout",
     "output_type": "stream",
     "text": [
      "Step 1440 validation: r2_score=0.592276\n"
     ]
    },
    {
     "name": "stderr",
     "output_type": "stream",
     "text": [
      "2025-05-19 14:56:44,670 - INFO - computed_metrics: [0.5552015510170525]\n"
     ]
    },
    {
     "name": "stdout",
     "output_type": "stream",
     "text": [
      "Step 1445 validation: r2_score=0.555202\n"
     ]
    },
    {
     "name": "stderr",
     "output_type": "stream",
     "text": [
      "2025-05-19 14:56:44,940 - INFO - computed_metrics: [0.5842732408508593]\n"
     ]
    },
    {
     "name": "stdout",
     "output_type": "stream",
     "text": [
      "Step 1450 validation: r2_score=0.584273\n"
     ]
    },
    {
     "name": "stderr",
     "output_type": "stream",
     "text": [
      "2025-05-19 14:56:45,190 - INFO - computed_metrics: [0.5737502686728839]\n"
     ]
    },
    {
     "name": "stdout",
     "output_type": "stream",
     "text": [
      "Step 1455 validation: r2_score=0.57375\n"
     ]
    },
    {
     "name": "stderr",
     "output_type": "stream",
     "text": [
      "2025-05-19 14:56:45,431 - INFO - computed_metrics: [0.5152978029702904]\n"
     ]
    },
    {
     "name": "stdout",
     "output_type": "stream",
     "text": [
      "Step 1460 validation: r2_score=0.515298\n"
     ]
    },
    {
     "name": "stderr",
     "output_type": "stream",
     "text": [
      "2025-05-19 14:56:45,678 - INFO - computed_metrics: [0.6089168396483042]\n"
     ]
    },
    {
     "name": "stdout",
     "output_type": "stream",
     "text": [
      "Step 1465 validation: r2_score=0.608917\n"
     ]
    },
    {
     "name": "stderr",
     "output_type": "stream",
     "text": [
      "2025-05-19 14:56:45,928 - INFO - computed_metrics: [0.6174630620401876]\n"
     ]
    },
    {
     "name": "stdout",
     "output_type": "stream",
     "text": [
      "Step 1470 validation: r2_score=0.617463\n"
     ]
    },
    {
     "name": "stderr",
     "output_type": "stream",
     "text": [
      "2025-05-19 14:56:46,198 - INFO - computed_metrics: [0.593295784980102]\n"
     ]
    },
    {
     "name": "stdout",
     "output_type": "stream",
     "text": [
      "Step 1475 validation: r2_score=0.593296\n"
     ]
    },
    {
     "name": "stderr",
     "output_type": "stream",
     "text": [
      "2025-05-19 14:56:46,441 - INFO - computed_metrics: [0.6091927015596217]\n"
     ]
    },
    {
     "name": "stdout",
     "output_type": "stream",
     "text": [
      "Step 1480 validation: r2_score=0.609193\n"
     ]
    },
    {
     "name": "stderr",
     "output_type": "stream",
     "text": [
      "2025-05-19 14:56:46,692 - INFO - computed_metrics: [0.5870420283577452]\n"
     ]
    },
    {
     "name": "stdout",
     "output_type": "stream",
     "text": [
      "Step 1485 validation: r2_score=0.587042\n"
     ]
    },
    {
     "name": "stderr",
     "output_type": "stream",
     "text": [
      "2025-05-19 14:56:46,942 - INFO - computed_metrics: [0.5962268998485812]\n"
     ]
    },
    {
     "name": "stdout",
     "output_type": "stream",
     "text": [
      "Step 1490 validation: r2_score=0.596227\n"
     ]
    },
    {
     "name": "stderr",
     "output_type": "stream",
     "text": [
      "2025-05-19 14:56:47,192 - INFO - computed_metrics: [0.5179294075317431]\n",
      "2025-05-19 14:56:47,363 - INFO - Ending global_step 1500: Average loss 0.280041\n"
     ]
    },
    {
     "name": "stdout",
     "output_type": "stream",
     "text": [
      "Step 1495 validation: r2_score=0.517929\n"
     ]
    },
    {
     "name": "stderr",
     "output_type": "stream",
     "text": [
      "2025-05-19 14:56:47,438 - INFO - computed_metrics: [0.5893400885350939]\n"
     ]
    },
    {
     "name": "stdout",
     "output_type": "stream",
     "text": [
      "Step 1500 validation: r2_score=0.58934\n"
     ]
    },
    {
     "name": "stderr",
     "output_type": "stream",
     "text": [
      "2025-05-19 14:56:47,691 - INFO - computed_metrics: [0.6174538971854237]\n"
     ]
    },
    {
     "name": "stdout",
     "output_type": "stream",
     "text": [
      "Step 1505 validation: r2_score=0.617454\n"
     ]
    },
    {
     "name": "stderr",
     "output_type": "stream",
     "text": [
      "2025-05-19 14:56:47,943 - INFO - computed_metrics: [0.6447472896641832]\n"
     ]
    },
    {
     "name": "stdout",
     "output_type": "stream",
     "text": [
      "Step 1510 validation: r2_score=0.644747\n"
     ]
    },
    {
     "name": "stderr",
     "output_type": "stream",
     "text": [
      "2025-05-19 14:56:48,314 - INFO - computed_metrics: [0.6380158058112821]\n"
     ]
    },
    {
     "name": "stdout",
     "output_type": "stream",
     "text": [
      "Step 1515 validation: r2_score=0.638016\n"
     ]
    },
    {
     "name": "stderr",
     "output_type": "stream",
     "text": [
      "2025-05-19 14:56:48,564 - INFO - computed_metrics: [0.6381767257688507]\n"
     ]
    },
    {
     "name": "stdout",
     "output_type": "stream",
     "text": [
      "Step 1520 validation: r2_score=0.638177\n"
     ]
    },
    {
     "name": "stderr",
     "output_type": "stream",
     "text": [
      "2025-05-19 14:56:48,818 - INFO - computed_metrics: [0.642929846979435]\n"
     ]
    },
    {
     "name": "stdout",
     "output_type": "stream",
     "text": [
      "Step 1525 validation: r2_score=0.64293\n"
     ]
    },
    {
     "name": "stderr",
     "output_type": "stream",
     "text": [
      "2025-05-19 14:56:49,103 - INFO - computed_metrics: [0.6448772336607742]\n"
     ]
    },
    {
     "name": "stdout",
     "output_type": "stream",
     "text": [
      "Step 1530 validation: r2_score=0.644877\n"
     ]
    },
    {
     "name": "stderr",
     "output_type": "stream",
     "text": [
      "2025-05-19 14:56:49,516 - INFO - computed_metrics: [0.6648179546999713]\n"
     ]
    },
    {
     "name": "stdout",
     "output_type": "stream",
     "text": [
      "Step 1535 validation: r2_score=0.664818\n"
     ]
    },
    {
     "name": "stderr",
     "output_type": "stream",
     "text": [
      "2025-05-19 14:56:49,916 - INFO - computed_metrics: [0.669889057713854]\n"
     ]
    },
    {
     "name": "stdout",
     "output_type": "stream",
     "text": [
      "Step 1540 validation: r2_score=0.669889\n"
     ]
    },
    {
     "name": "stderr",
     "output_type": "stream",
     "text": [
      "2025-05-19 14:56:50,322 - INFO - computed_metrics: [0.6390288736179865]\n"
     ]
    },
    {
     "name": "stdout",
     "output_type": "stream",
     "text": [
      "Step 1545 validation: r2_score=0.639029\n"
     ]
    },
    {
     "name": "stderr",
     "output_type": "stream",
     "text": [
      "2025-05-19 14:56:50,589 - INFO - computed_metrics: [0.6549880969220812]\n",
      "2025-05-19 14:56:50,592 - INFO - Ending global_step 1550: Average loss 0.284849\n",
      "2025-05-19 14:56:50,723 - INFO - TIMING: model fitting took 98.072 s\n"
     ]
    },
    {
     "name": "stdout",
     "output_type": "stream",
     "text": [
      "Step 1550 validation: r2_score=0.654988\n"
     ]
    },
    {
     "name": "stderr",
     "output_type": "stream",
     "text": [
      "2025-05-19 14:56:50,811 - INFO - Graph Model Test R²: 0.664\n",
      "2025-05-19 14:56:50,812 - INFO - Graph Model Test MAE: 0.440\n",
      "2025-05-19 14:56:50,813 - INFO - \n",
      "Training Fingerprint model...\n",
      "2025-05-19 14:56:52,206 - INFO - Fingerprint Model Test R²: 0.658\n",
      "2025-05-19 14:56:52,207 - INFO - Fingerprint Model Test MAE: 0.427\n",
      "2025-05-19 14:56:52,208 - INFO - \n",
      "Building ensemble model...\n",
      "2025-05-19 14:56:53,078 - INFO - Ensemble Test R²: 0.673\n",
      "2025-05-19 14:56:53,079 - INFO - Ensemble Test MAE: 0.408\n"
     ]
    },
    {
     "data": {
      "image/png": "[encoded data removed]",
      "text/plain": [
       "<Figure size 800x600 with 1 Axes>"
      ]
     },
     "metadata": {},
     "output_type": "display_data"
    },
    {
     "name": "stdout",
     "output_type": "stream",
     "text": [
      "\n",
      "=== Model Performance Report ===\n",
      "\n",
      "Dataset Size: 1513 compounds\n",
      "pIC50 Range: 2.54 to 10.52\n",
      "\n",
      "Model Performance:\n",
      "GraphConv Model:\n",
      "- R²: 0.664\n",
      "- MAE: 0.440\n",
      "- Training Time: 98.16431593894958s\n",
      "\n",
      "Fingerprint Model:\n",
      "- R²: 0.658\n",
      "- MAE: 0.427\n",
      "- Training Time: 1.3928115367889404s\n",
      "\n",
      "Ensemble Model:\n",
      "- R²: 0.673\n",
      "- MAE: 0.408\n",
      "\n",
      "=== BACE1 Affinity Prediction ===\n",
      "Enter SMILES strings or 'quit' to exit\n",
      "\n"
     ]
    },
    {
     "name": "stderr",
     "output_type": "stream",
     "text": [
      "\n",
      "KeyboardInterrupt\n",
      "\n"
     ]
    }
   ],
   "source": [
    "def main():\n",
    "    predictor = AffinityPredictor()\n",
    "    try:\n",
    "        logger.info(\"Starting data loading...\")\n",
    "        try:\n",
    "            predictor.load_data(use_chembl=True)\n",
    "        except Exception as e:\n",
    "            logger.warning(f\"Initial load failed, trying local only: {str(e)}\")\n",
    "            predictor.load_data(use_chembl=False)\n",
    "        if hasattr(predictor, 'dataset_df') and len(predictor.dataset_df) >= 100:\n",
    "            logger.info(\"Starting model training...\")\n",
    "            predictor.train_and_evaluate()\n",
    "            predictor.report()\n",
    "            predictor.interactive_predict()\n",
    "        else:\n",
    "            logger.error(\"Insufficient data for training (need at least 100 samples)\")\n",
    "            print(\"\\nError: Not enough valid data for training (need at least 100 samples)\")\n",
    "    except Exception as e:\n",
    "        logger.error(f\"Fatal error: {str(e)}\", exc_info=True)\n",
    "        print(f\"\\nA critical error occurred: {str(e)}\\n\")\n",
    "\n",
    "if __name__ == \"__main__\":\n",
    "    main()"
   ]
  },
  {
   "cell_type": "code",
   "execution_count": null,
   "id": "581c9509-88f1-475f-8e26-03b4f1a94d30",
   "metadata": {},
   "outputs": [],
   "source": []
  },
  {
   "cell_type": "code",
   "execution_count": null,
   "id": "c4df4c8b-e630-423e-bfa3-ba80cb8570a3",
   "metadata": {},
   "outputs": [],
   "source": []
  },
  {
   "cell_type": "code",
   "execution_count": null,
   "id": "d17f142c-09d5-4c01-b523-2a72f1d10f36",
   "metadata": {},
   "outputs": [],
   "source": []
  },
  {
   "cell_type": "code",
   "execution_count": null,
   "id": "474ddabd-d9b6-4afa-93b0-940d9648e06e",
   "metadata": {},
   "outputs": [],
   "source": []
  }
 ],
 "metadata": {
  "kernelspec": {
   "display_name": "Python (affinity_env)",
   "language": "python",
   "name": "affinity_env"
  },
  "language_info": {
   "codemirror_mode": {
    "name": "ipython",
    "version": 3
   },
   "file_extension": ".py",
   "mimetype": "text/x-python",
   "name": "python",
   "nbconvert_exporter": "python",
   "pygments_lexer": "ipython3",
   "version": "3.10.12"
  }
 },
 "nbformat": 4,
 "nbformat_minor": 5
}

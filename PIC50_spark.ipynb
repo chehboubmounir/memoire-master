{
 "cells": [
  {
   "cell_type": "code",
   "execution_count": 1,
   "id": "72073e9c-49a4-4f15-823d-13ec6b6a9f97",
   "metadata": {},
   "outputs": [
    {
     "name": "stderr",
     "output_type": "stream",
     "text": [
      "2025-05-19 17:20:46.712770: I tensorflow/core/platform/cpu_feature_guard.cc:193] This TensorFlow binary is optimized with oneAPI Deep Neural Network Library (oneDNN) to use the following CPU instructions in performance-critical operations:  AVX2 FMA\n",
      "To enable them in other operations, rebuild TensorFlow with the appropriate compiler flags.\n",
      "2025-05-19 17:20:47.141256: W tensorflow/stream_executor/platform/default/dso_loader.cc:64] Could not load dynamic library 'libcudart.so.11.0'; dlerror: libcudart.so.11.0: cannot open shared object file: No such file or directory\n",
      "2025-05-19 17:20:47.141284: I tensorflow/stream_executor/cuda/cudart_stub.cc:29] Ignore above cudart dlerror if you do not have a GPU set up on your machine.\n",
      "2025-05-19 17:20:47.209043: E tensorflow/stream_executor/cuda/cuda_blas.cc:2981] Unable to register cuBLAS factory: Attempting to register factory for plugin cuBLAS when one has already been registered\n",
      "2025-05-19 17:20:48.383797: W tensorflow/stream_executor/platform/default/dso_loader.cc:64] Could not load dynamic library 'libnvinfer.so.7'; dlerror: libnvinfer.so.7: cannot open shared object file: No such file or directory\n",
      "2025-05-19 17:20:48.383939: W tensorflow/stream_executor/platform/default/dso_loader.cc:64] Could not load dynamic library 'libnvinfer_plugin.so.7'; dlerror: libnvinfer_plugin.so.7: cannot open shared object file: No such file or directory\n",
      "2025-05-19 17:20:48.383951: W tensorflow/compiler/tf2tensorrt/utils/py_utils.cc:38] TF-TRT Warning: Cannot dlopen some TensorRT libraries. If you would like to use Nvidia GPU with TensorRT, please make sure the missing libraries mentioned above are installed properly.\n",
      "Skipped loading some PyTorch models, missing a dependency. No module named 'torch'\n",
      "Skipped loading modules with pytorch-geometric dependency, missing a dependency. No module named 'torch'\n",
      "Skipped loading modules with pytorch-lightning dependency, missing a dependency. No module named 'torch'\n",
      "Skipped loading some Jax models, missing a dependency. No module named 'jax'\n",
      "2025-05-19 17:20:53,103 - INFO - Initializing Affinity Predictor...\n",
      "25/05/19 17:20:55 WARN Utils: Your hostname, mounir-HP-ProBook-430-G5 resolves to a loopback address: 127.0.1.1; using 192.168.1.7 instead (on interface wlp2s0)\n",
      "25/05/19 17:20:55 WARN Utils: Set SPARK_LOCAL_IP if you need to bind to another address\n",
      "Setting default log level to \"WARN\".\n",
      "To adjust logging level use sc.setLogLevel(newLevel). For SparkR, use setLogLevel(newLevel).\n",
      "25/05/19 17:20:55 WARN NativeCodeLoader: Unable to load native-hadoop library for your platform... using builtin-java classes where applicable\n",
      "2025-05-19 17:20:57,273 - INFO - Spark session initialized successfully\n",
      "2025-05-19 17:20:57,274 - INFO - Starting data loading pipeline...\n",
      "2025-05-19 17:20:57,275 - INFO - Starting data loading pipeline...\n",
      "2025-05-19 17:20:57,410 - INFO - Loaded 1513 local compounds from bace.csv\n",
      "2025-05-19 17:20:57,415 - INFO - Loaded 508 cached ChEMBL compounds from chembl_cache.csv\n",
      "2025-05-19 17:20:57,418 - INFO - Total raw compounds before processing: 1944\n",
      "2025-05-19 17:20:57,419 - INFO - Starting Spark-based molecule processing...\n",
      "Traceback (most recent call last):\n",
      "  File \"/home/mounir/spark_logp_fixed_env/lib/python3.10/site-packages/pyspark/serializers.py\", line 459, in dumps\n",
      "    return cloudpickle.dumps(obj, pickle_protocol)\n",
      "  File \"/home/mounir/spark_logp_fixed_env/lib/python3.10/site-packages/pyspark/cloudpickle/cloudpickle_fast.py\", line 73, in dumps\n",
      "    cp.dump(obj)\n",
      "  File \"/home/mounir/spark_logp_fixed_env/lib/python3.10/site-packages/pyspark/cloudpickle/cloudpickle_fast.py\", line 632, in dump\n",
      "    return Pickler.dump(self, obj)\n",
      "  File \"/home/mounir/spark_logp_fixed_env/lib/python3.10/site-packages/requests_cache/session.py\", line 348, in __getstate__\n",
      "    raise NotImplementedError('CachedSession cannot be pickled')\n",
      "NotImplementedError: CachedSession cannot be pickled\n",
      "2025-05-19 17:20:59,715 - WARNING - Spark processing failed: Could not serialize object: NotImplementedError: CachedSession cannot be pickled. Falling back to single-core.\n",
      "2025-05-19 17:20:59,716 - INFO - Starting single-core molecule processing...\n",
      "2025-05-19 17:20:59,814 - INFO - Processed 194/1944 molecules...\n",
      "2025-05-19 17:20:59,906 - INFO - Processed 388/1944 molecules...\n",
      "2025-05-19 17:20:59,997 - INFO - Processed 582/1944 molecules...\n",
      "2025-05-19 17:21:00,103 - INFO - Processed 776/1944 molecules...\n",
      "2025-05-19 17:21:00,182 - INFO - Processed 970/1944 molecules...\n",
      "2025-05-19 17:21:00,255 - INFO - Processed 1164/1944 molecules...\n",
      "2025-05-19 17:21:00,332 - INFO - Processed 1358/1944 molecules...\n",
      "2025-05-19 17:21:00,404 - INFO - Processed 1552/1944 molecules...\n",
      "2025-05-19 17:21:00,473 - INFO - Processed 1746/1944 molecules...\n",
      "2025-05-19 17:21:00,539 - INFO - Processed 1940/1944 molecules...\n",
      "2025-05-19 17:21:00,568 - INFO - Completed single-core processing of 1944 valid molecules\n",
      "2025-05-19 17:21:00,574 - INFO - Successfully scaled target values\n",
      "2025-05-19 17:21:00,574 - INFO - Final dataset contains 1944 compounds\n",
      "2025-05-19 17:21:00,575 - INFO - pIC50 statistics - Mean: 6.52, Std: 1.32, Range: 2.54-10.52\n",
      "2025-05-19 17:21:00,576 - INFO - Creating graph features...\n",
      "2025-05-19 17:21:00,577 - INFO - Featurizing datapoint 0\n",
      "2025-05-19 17:21:02,189 - INFO - Featurizing datapoint 1000\n",
      "2025-05-19 17:21:03,642 - INFO - Graph features created in 3.07 seconds\n",
      "2025-05-19 17:21:03,643 - INFO - Creating fingerprint features...\n",
      "2025-05-19 17:21:09.256854: I tensorflow/core/platform/cpu_feature_guard.cc:193] This TensorFlow binary is optimized with oneAPI Deep Neural Network Library (oneDNN) to use the following CPU instructions in performance-critical operations:  AVX2 FMA\n",
      "To enable them in other operations, rebuild TensorFlow with the appropriate compiler flags.\n",
      "2025-05-19 17:21:09.256854: I tensorflow/core/platform/cpu_feature_guard.cc:193] This TensorFlow binary is optimized with oneAPI Deep Neural Network Library (oneDNN) to use the following CPU instructions in performance-critical operations:  AVX2 FMA\n",
      "To enable them in other operations, rebuild TensorFlow with the appropriate compiler flags.\n",
      "2025-05-19 17:21:09.256854: I tensorflow/core/platform/cpu_feature_guard.cc:193] This TensorFlow binary is optimized with oneAPI Deep Neural Network Library (oneDNN) to use the following CPU instructions in performance-critical operations:  AVX2 FMA\n",
      "To enable them in other operations, rebuild TensorFlow with the appropriate compiler flags.\n",
      "2025-05-19 17:21:09.256854: I tensorflow/core/platform/cpu_feature_guard.cc:193] This TensorFlow binary is optimized with oneAPI Deep Neural Network Library (oneDNN) to use the following CPU instructions in performance-critical operations:  AVX2 FMA\n",
      "To enable them in other operations, rebuild TensorFlow with the appropriate compiler flags.\n",
      "2025-05-19 17:21:09.256854: I tensorflow/core/platform/cpu_feature_guard.cc:193] This TensorFlow binary is optimized with oneAPI Deep Neural Network Library (oneDNN) to use the following CPU instructions in performance-critical operations:  AVX2 FMA\n",
      "To enable them in other operations, rebuild TensorFlow with the appropriate compiler flags.\n",
      "2025-05-19 17:21:09.256854: I tensorflow/core/platform/cpu_feature_guard.cc:193] This TensorFlow binary is optimized with oneAPI Deep Neural Network Library (oneDNN) to use the following CPU instructions in performance-critical operations:  AVX2 FMA\n",
      "To enable them in other operations, rebuild TensorFlow with the appropriate compiler flags.\n",
      "2025-05-19 17:21:09.256854: I tensorflow/core/platform/cpu_feature_guard.cc:193] This TensorFlow binary is optimized with oneAPI Deep Neural Network Library (oneDNN) to use the following CPU instructions in performance-critical operations:  AVX2 FMA\n",
      "To enable them in other operations, rebuild TensorFlow with the appropriate compiler flags.\n",
      "2025-05-19 17:21:09.256854: I tensorflow/core/platform/cpu_feature_guard.cc:193] This TensorFlow binary is optimized with oneAPI Deep Neural Network Library (oneDNN) to use the following CPU instructions in performance-critical operations:  AVX2 FMA\n",
      "To enable them in other operations, rebuild TensorFlow with the appropriate compiler flags.\n",
      "2025-05-19 17:21:09.721652: W tensorflow/stream_executor/platform/default/dso_loader.cc:64] Could not load dynamic library 'libcudart.so.11.0'; dlerror: libcudart.so.11.0: cannot open shared object file: No such file or directory\n",
      "2025-05-19 17:21:09.721653: W tensorflow/stream_executor/platform/default/dso_loader.cc:64] Could not load dynamic library 'libcudart.so.11.0'; dlerror: libcudart.so.11.0: cannot open shared object file: No such file or directory\n",
      "2025-05-19 17:21:09.721652: W tensorflow/stream_executor/platform/default/dso_loader.cc:64] Could not load dynamic library 'libcudart.so.11.0'; dlerror: libcudart.so.11.0: cannot open shared object file: No such file or directory\n",
      "2025-05-19 17:21:09.721652: W tensorflow/stream_executor/platform/default/dso_loader.cc:64] Could not load dynamic library 'libcudart.so.11.0'; dlerror: libcudart.so.11.0: cannot open shared object file: No such file or directory\n",
      "2025-05-19 17:21:09.721652: W tensorflow/stream_executor/platform/default/dso_loader.cc:64] Could not load dynamic library 'libcudart.so.11.0'; dlerror: libcudart.so.11.0: cannot open shared object file: No such file or directory\n",
      "2025-05-19 17:21:09.721667: W tensorflow/stream_executor/platform/default/dso_loader.cc:64] Could not load dynamic library 'libcudart.so.11.0'; dlerror: libcudart.so.11.0: cannot open shared object file: No such file or directory\n",
      "2025-05-19 17:21:09.721667: W tensorflow/stream_executor/platform/default/dso_loader.cc:64] Could not load dynamic library 'libcudart.so.11.0'; dlerror: libcudart.so.11.0: cannot open shared object file: No such file or directory\n",
      "2025-05-19 17:21:09.721683: I tensorflow/stream_executor/cuda/cudart_stub.cc:29] Ignore above cudart dlerror if you do not have a GPU set up on your machine.\n",
      "2025-05-19 17:21:09.721683: I tensorflow/stream_executor/cuda/cudart_stub.cc:29] Ignore above cudart dlerror if you do not have a GPU set up on your machine.\n",
      "2025-05-19 17:21:09.721684: I tensorflow/stream_executor/cuda/cudart_stub.cc:29] Ignore above cudart dlerror if you do not have a GPU set up on your machine.\n",
      "2025-05-19 17:21:09.721688: I tensorflow/stream_executor/cuda/cudart_stub.cc:29] Ignore above cudart dlerror if you do not have a GPU set up on your machine.\n",
      "2025-05-19 17:21:09.721685: I tensorflow/stream_executor/cuda/cudart_stub.cc:29] Ignore above cudart dlerror if you do not have a GPU set up on your machine.\n",
      "2025-05-19 17:21:09.721688: I tensorflow/stream_executor/cuda/cudart_stub.cc:29] Ignore above cudart dlerror if you do not have a GPU set up on your machine.\n",
      "2025-05-19 17:21:09.721688: I tensorflow/stream_executor/cuda/cudart_stub.cc:29] Ignore above cudart dlerror if you do not have a GPU set up on your machine.\n",
      "2025-05-19 17:21:09.721694: W tensorflow/stream_executor/platform/default/dso_loader.cc:64] Could not load dynamic library 'libcudart.so.11.0'; dlerror: libcudart.so.11.0: cannot open shared object file: No such file or directory\n",
      "2025-05-19 17:21:09.721712: I tensorflow/stream_executor/cuda/cudart_stub.cc:29] Ignore above cudart dlerror if you do not have a GPU set up on your machine.\n",
      "2025-05-19 17:21:09.833753: E tensorflow/stream_executor/cuda/cuda_blas.cc:2981] Unable to register cuBLAS factory: Attempting to register factory for plugin cuBLAS when one has already been registered\n",
      "2025-05-19 17:21:09.833913: E tensorflow/stream_executor/cuda/cuda_blas.cc:2981] Unable to register cuBLAS factory: Attempting to register factory for plugin cuBLAS when one has already been registered\n",
      "2025-05-19 17:21:09.833968: E tensorflow/stream_executor/cuda/cuda_blas.cc:2981] Unable to register cuBLAS factory: Attempting to register factory for plugin cuBLAS when one has already been registered\n",
      "2025-05-19 17:21:09.834683: E tensorflow/stream_executor/cuda/cuda_blas.cc:2981] Unable to register cuBLAS factory: Attempting to register factory for plugin cuBLAS when one has already been registered\n",
      "2025-05-19 17:21:09.839155: E tensorflow/stream_executor/cuda/cuda_blas.cc:2981] Unable to register cuBLAS factory: Attempting to register factory for plugin cuBLAS when one has already been registered\n",
      "2025-05-19 17:21:09.839726: E tensorflow/stream_executor/cuda/cuda_blas.cc:2981] Unable to register cuBLAS factory: Attempting to register factory for plugin cuBLAS when one has already been registered\n",
      "2025-05-19 17:21:09.840109: E tensorflow/stream_executor/cuda/cuda_blas.cc:2981] Unable to register cuBLAS factory: Attempting to register factory for plugin cuBLAS when one has already been registered\n",
      "2025-05-19 17:21:09.859966: E tensorflow/stream_executor/cuda/cuda_blas.cc:2981] Unable to register cuBLAS factory: Attempting to register factory for plugin cuBLAS when one has already been registered\n",
      "2025-05-19 17:21:12.149826: W tensorflow/stream_executor/platform/default/dso_loader.cc:64] Could not load dynamic library 'libnvinfer.so.7'; dlerror: libnvinfer.so.7: cannot open shared object file: No such file or directory\n",
      "2025-05-19 17:21:12.149826: W tensorflow/stream_executor/platform/default/dso_loader.cc:64] Could not load dynamic library 'libnvinfer.so.7'; dlerror: libnvinfer.so.7: cannot open shared object file: No such file or directory\n",
      "2025-05-19 17:21:12.149834: W tensorflow/stream_executor/platform/default/dso_loader.cc:64] Could not load dynamic library 'libnvinfer.so.7'; dlerror: libnvinfer.so.7: cannot open shared object file: No such file or directory\n",
      "2025-05-19 17:21:12.149837: W tensorflow/stream_executor/platform/default/dso_loader.cc:64] Could not load dynamic library 'libnvinfer.so.7'; dlerror: libnvinfer.so.7: cannot open shared object file: No such file or directory\n",
      "2025-05-19 17:21:12.149837: W tensorflow/stream_executor/platform/default/dso_loader.cc:64] Could not load dynamic library 'libnvinfer.so.7'; dlerror: libnvinfer.so.7: cannot open shared object file: No such file or directory\n",
      "2025-05-19 17:21:12.149901: W tensorflow/stream_executor/platform/default/dso_loader.cc:64] Could not load dynamic library 'libnvinfer.so.7'; dlerror: libnvinfer.so.7: cannot open shared object file: No such file or directory\n",
      "2025-05-19 17:21:12.150166: W tensorflow/stream_executor/platform/default/dso_loader.cc:64] Could not load dynamic library 'libnvinfer_plugin.so.7'; dlerror: libnvinfer_plugin.so.7: cannot open shared object file: No such file or directory\n",
      "2025-05-19 17:21:12.150164: W tensorflow/stream_executor/platform/default/dso_loader.cc:64] Could not load dynamic library 'libnvinfer_plugin.so.7'; dlerror: libnvinfer_plugin.so.7: cannot open shared object file: No such file or directory\n",
      "2025-05-19 17:21:12.150168: W tensorflow/stream_executor/platform/default/dso_loader.cc:64] Could not load dynamic library 'libnvinfer_plugin.so.7'; dlerror: libnvinfer_plugin.so.7: cannot open shared object file: No such file or directory\n",
      "2025-05-19 17:21:12.150169: W tensorflow/stream_executor/platform/default/dso_loader.cc:64] Could not load dynamic library 'libnvinfer_plugin.so.7'; dlerror: libnvinfer_plugin.so.7: cannot open shared object file: No such file or directory\n",
      "2025-05-19 17:21:12.150194: W tensorflow/compiler/tf2tensorrt/utils/py_utils.cc:38] TF-TRT Warning: Cannot dlopen some TensorRT libraries. If you would like to use Nvidia GPU with TensorRT, please make sure the missing libraries mentioned above are installed properly.\n",
      "2025-05-19 17:21:12.150190: W tensorflow/stream_executor/platform/default/dso_loader.cc:64] Could not load dynamic library 'libnvinfer_plugin.so.7'; dlerror: libnvinfer_plugin.so.7: cannot open shared object file: No such file or directory\n",
      "2025-05-19 17:21:12.150195: W tensorflow/compiler/tf2tensorrt/utils/py_utils.cc:38] TF-TRT Warning: Cannot dlopen some TensorRT libraries. If you would like to use Nvidia GPU with TensorRT, please make sure the missing libraries mentioned above are installed properly.\n",
      "2025-05-19 17:21:12.150196: W tensorflow/compiler/tf2tensorrt/utils/py_utils.cc:38] TF-TRT Warning: Cannot dlopen some TensorRT libraries. If you would like to use Nvidia GPU with TensorRT, please make sure the missing libraries mentioned above are installed properly.\n",
      "2025-05-19 17:21:12.150198: W tensorflow/compiler/tf2tensorrt/utils/py_utils.cc:38] TF-TRT Warning: Cannot dlopen some TensorRT libraries. If you would like to use Nvidia GPU with TensorRT, please make sure the missing libraries mentioned above are installed properly.\n",
      "2025-05-19 17:21:12.150214: W tensorflow/compiler/tf2tensorrt/utils/py_utils.cc:38] TF-TRT Warning: Cannot dlopen some TensorRT libraries. If you would like to use Nvidia GPU with TensorRT, please make sure the missing libraries mentioned above are installed properly.\n",
      "2025-05-19 17:21:12.150293: W tensorflow/stream_executor/platform/default/dso_loader.cc:64] Could not load dynamic library 'libnvinfer_plugin.so.7'; dlerror: libnvinfer_plugin.so.7: cannot open shared object file: No such file or directory\n",
      "2025-05-19 17:21:12.150328: W tensorflow/compiler/tf2tensorrt/utils/py_utils.cc:38] TF-TRT Warning: Cannot dlopen some TensorRT libraries. If you would like to use Nvidia GPU with TensorRT, please make sure the missing libraries mentioned above are installed properly.\n",
      "2025-05-19 17:21:12.151045: W tensorflow/stream_executor/platform/default/dso_loader.cc:64] Could not load dynamic library 'libnvinfer.so.7'; dlerror: libnvinfer.so.7: cannot open shared object file: No such file or directory\n",
      "2025-05-19 17:21:12.151253: W tensorflow/stream_executor/platform/default/dso_loader.cc:64] Could not load dynamic library 'libnvinfer_plugin.so.7'; dlerror: libnvinfer_plugin.so.7: cannot open shared object file: No such file or directory\n",
      "2025-05-19 17:21:12.151280: W tensorflow/compiler/tf2tensorrt/utils/py_utils.cc:38] TF-TRT Warning: Cannot dlopen some TensorRT libraries. If you would like to use Nvidia GPU with TensorRT, please make sure the missing libraries mentioned above are installed properly.\n",
      "2025-05-19 17:21:12.149839: W tensorflow/stream_executor/platform/default/dso_loader.cc:64] Could not load dynamic library 'libnvinfer.so.7'; dlerror: libnvinfer.so.7: cannot open shared object file: No such file or directory\n",
      "2025-05-19 17:21:12.153902: W tensorflow/stream_executor/platform/default/dso_loader.cc:64] Could not load dynamic library 'libnvinfer_plugin.so.7'; dlerror: libnvinfer_plugin.so.7: cannot open shared object file: No such file or directory\n",
      "2025-05-19 17:21:12.153946: W tensorflow/compiler/tf2tensorrt/utils/py_utils.cc:38] TF-TRT Warning: Cannot dlopen some TensorRT libraries. If you would like to use Nvidia GPU with TensorRT, please make sure the missing libraries mentioned above are installed properly.\n",
      "WARNING:tensorflow:From /home/mounir/logp_env/lib/python3.10/site-packages/tensorflow/python/util/deprecation.py:561: calling function (from tensorflow.python.eager.def_function) with experimental_relax_shapes is deprecated and will be removed in a future version.\n",
      "Instructions for updating:\n",
      "experimental_relax_shapes is deprecated, use reduce_retracing instead\n",
      "WARNING:tensorflow:From /home/mounir/logp_env/lib/python3.10/site-packages/tensorflow/python/util/deprecation.py:561: calling function (from tensorflow.python.eager.def_function) with experimental_relax_shapes is deprecated and will be removed in a future version.\n",
      "Instructions for updating:\n",
      "experimental_relax_shapes is deprecated, use reduce_retracing instead\n",
      "WARNING:tensorflow:From /home/mounir/logp_env/lib/python3.10/site-packages/tensorflow/python/util/deprecation.py:561: calling function (from tensorflow.python.eager.def_function) with experimental_relax_shapes is deprecated and will be removed in a future version.\n",
      "Instructions for updating:\n",
      "experimental_relax_shapes is deprecated, use reduce_retracing instead\n",
      "WARNING:tensorflow:From /home/mounir/logp_env/lib/python3.10/site-packages/tensorflow/python/util/deprecation.py:561: calling function (from tensorflow.python.eager.def_function) with experimental_relax_shapes is deprecated and will be removed in a future version.\n",
      "Instructions for updating:\n",
      "experimental_relax_shapes is deprecated, use reduce_retracing instead\n",
      "WARNING:tensorflow:From /home/mounir/logp_env/lib/python3.10/site-packages/tensorflow/python/util/deprecation.py:561: calling function (from tensorflow.python.eager.def_function) with experimental_relax_shapes is deprecated and will be removed in a future version.\n",
      "Instructions for updating:\n",
      "experimental_relax_shapes is deprecated, use reduce_retracing instead\n",
      "WARNING:tensorflow:From /home/mounir/logp_env/lib/python3.10/site-packages/tensorflow/python/util/deprecation.py:561: calling function (from tensorflow.python.eager.def_function) with experimental_relax_shapes is deprecated and will be removed in a future version.\n",
      "Instructions for updating:\n",
      "experimental_relax_shapes is deprecated, use reduce_retracing instead\n",
      "WARNING:tensorflow:From /home/mounir/logp_env/lib/python3.10/site-packages/tensorflow/python/util/deprecation.py:561: calling function (from tensorflow.python.eager.def_function) with experimental_relax_shapes is deprecated and will be removed in a future version.\n",
      "Instructions for updating:\n",
      "experimental_relax_shapes is deprecated, use reduce_retracing instead\n",
      "WARNING:tensorflow:From /home/mounir/logp_env/lib/python3.10/site-packages/tensorflow/python/util/deprecation.py:561: calling function (from tensorflow.python.eager.def_function) with experimental_relax_shapes is deprecated and will be removed in a future version.\n",
      "Instructions for updating:\n",
      "experimental_relax_shapes is deprecated, use reduce_retracing instead\n",
      "Skipped loading some PyTorch models, missing a dependency. No module named 'torch'\n",
      "Skipped loading some PyTorch models, missing a dependency. No module named 'torch'\n",
      "Skipped loading some PyTorch models, missing a dependency. No module named 'torch'\n",
      "Skipped loading some PyTorch models, missing a dependency. No module named 'torch'\n",
      "Skipped loading some PyTorch models, missing a dependency. No module named 'torch'\n",
      "Skipped loading modules with pytorch-geometric dependency, missing a dependency. No module named 'torch'\n",
      "Skipped loading modules with pytorch-geometric dependency, missing a dependency. No module named 'torch'\n",
      "Skipped loading modules with pytorch-geometric dependency, missing a dependency. No module named 'torch'\n",
      "Skipped loading some PyTorch models, missing a dependency. No module named 'torch'\n",
      "Skipped loading some PyTorch models, missing a dependency. No module named 'torch'\n",
      "Skipped loading some PyTorch models, missing a dependency. No module named 'torch'\n",
      "Skipped loading modules with pytorch-geometric dependency, missing a dependency. No module named 'torch'\n",
      "Skipped loading modules with pytorch-geometric dependency, missing a dependency. No module named 'torch'\n",
      "Skipped loading modules with pytorch-geometric dependency, missing a dependency. No module named 'torch'\n",
      "Skipped loading modules with pytorch-lightning dependency, missing a dependency. No module named 'torch'\n",
      "Skipped loading modules with pytorch-lightning dependency, missing a dependency. No module named 'torch'\n",
      "Skipped loading modules with pytorch-geometric dependency, missing a dependency. No module named 'torch'\n",
      "Skipped loading modules with pytorch-lightning dependency, missing a dependency. No module named 'torch'\n",
      "Skipped loading modules with pytorch-geometric dependency, missing a dependency. No module named 'torch'\n",
      "Skipped loading modules with pytorch-lightning dependency, missing a dependency. No module named 'torch'\n",
      "Skipped loading modules with pytorch-lightning dependency, missing a dependency. No module named 'torch'\n",
      "Skipped loading modules with pytorch-lightning dependency, missing a dependency. No module named 'torch'\n",
      "Skipped loading modules with pytorch-lightning dependency, missing a dependency. No module named 'torch'\n",
      "Skipped loading modules with pytorch-lightning dependency, missing a dependency. No module named 'torch'\n",
      "Skipped loading some Jax models, missing a dependency. No module named 'jax'\n",
      "Skipped loading some Jax models, missing a dependency. No module named 'jax'\n",
      "Skipped loading some Jax models, missing a dependency. No module named 'jax'\n",
      "Skipped loading some Jax models, missing a dependency. No module named 'jax'\n",
      "Skipped loading some Jax models, missing a dependency. No module named 'jax'\n",
      "Skipped loading some Jax models, missing a dependency. No module named 'jax'\n",
      "Skipped loading some Jax models, missing a dependency. No module named 'jax'\n",
      "Skipped loading some Jax models, missing a dependency. No module named 'jax'\n",
      "25/05/19 17:21:14 ERROR Executor: Exception in task 6.0 in stage 0.0 (TID 6)\n",
      "org.apache.spark.api.python.PythonException: Traceback (most recent call last):\n",
      "  File \"/opt/spark/python/lib/pyspark.zip/pyspark/worker.py\", line 1231, in main\n",
      "    func, profiler, deserializer, serializer = read_udfs(pickleSer, infile, eval_type)\n",
      "  File \"/opt/spark/python/lib/pyspark.zip/pyspark/worker.py\", line 1067, in read_udfs\n",
      "    udfs.append(read_single_udf(pickleSer, infile, eval_type, runner_conf, udf_index=i))\n",
      "  File \"/opt/spark/python/lib/pyspark.zip/pyspark/worker.py\", line 547, in read_single_udf\n",
      "    return arg_offsets, wrap_scalar_pandas_udf(func, return_type)\n",
      "  File \"/opt/spark/python/lib/pyspark.zip/pyspark/worker.py\", line 110, in wrap_scalar_pandas_udf\n",
      "    arrow_return_type = to_arrow_type(return_type)\n",
      "  File \"/opt/spark/python/lib/pyspark.zip/pyspark/sql/pandas/types.py\", line 65, in to_arrow_type\n",
      "    import pyarrow as pa\n",
      "ModuleNotFoundError: No module named 'pyarrow'\n",
      "\n",
      "\tat org.apache.spark.api.python.BasePythonRunner$ReaderIterator.handlePythonException(PythonRunner.scala:572)\n",
      "\tat org.apache.spark.sql.execution.python.PythonArrowOutput$$anon$1.read(PythonArrowOutput.scala:118)\n",
      "\tat org.apache.spark.api.python.BasePythonRunner$ReaderIterator.hasNext(PythonRunner.scala:525)\n",
      "\tat org.apache.spark.InterruptibleIterator.hasNext(InterruptibleIterator.scala:37)\n",
      "\tat scala.collection.Iterator$$anon$11.hasNext(Iterator.scala:491)\n",
      "\tat scala.collection.Iterator$$anon$10.hasNext(Iterator.scala:460)\n",
      "\tat org.apache.spark.sql.catalyst.expressions.GeneratedClass$GeneratedIteratorForCodegenStage1.processNext(Unknown Source)\n",
      "\tat org.apache.spark.sql.execution.BufferedRowIterator.hasNext(BufferedRowIterator.java:43)\n",
      "\tat org.apache.spark.sql.execution.WholeStageCodegenEvaluatorFactory$WholeStageCodegenPartitionEvaluator$$anon$1.hasNext(WholeStageCodegenEvaluatorFactory.scala:43)\n",
      "\tat org.apache.spark.sql.execution.SparkPlan.$anonfun$getByteArrayRdd$1(SparkPlan.scala:388)\n",
      "\tat org.apache.spark.rdd.RDD.$anonfun$mapPartitionsInternal$2(RDD.scala:893)\n",
      "\tat org.apache.spark.rdd.RDD.$anonfun$mapPartitionsInternal$2$adapted(RDD.scala:893)\n",
      "\tat org.apache.spark.rdd.MapPartitionsRDD.compute(MapPartitionsRDD.scala:52)\n",
      "\tat org.apache.spark.rdd.RDD.computeOrReadCheckpoint(RDD.scala:367)\n",
      "\tat org.apache.spark.rdd.RDD.iterator(RDD.scala:331)\n",
      "\tat org.apache.spark.scheduler.ResultTask.runTask(ResultTask.scala:93)\n",
      "\tat org.apache.spark.TaskContext.runTaskWithListeners(TaskContext.scala:166)\n",
      "\tat org.apache.spark.scheduler.Task.run(Task.scala:141)\n",
      "\tat org.apache.spark.executor.Executor$TaskRunner.$anonfun$run$4(Executor.scala:620)\n",
      "\tat org.apache.spark.util.SparkErrorUtils.tryWithSafeFinally(SparkErrorUtils.scala:64)\n",
      "\tat org.apache.spark.util.SparkErrorUtils.tryWithSafeFinally$(SparkErrorUtils.scala:61)\n",
      "\tat org.apache.spark.util.Utils$.tryWithSafeFinally(Utils.scala:94)\n",
      "\tat org.apache.spark.executor.Executor$TaskRunner.run(Executor.scala:623)\n",
      "\tat java.base/java.util.concurrent.ThreadPoolExecutor.runWorker(ThreadPoolExecutor.java:1128)\n",
      "\tat java.base/java.util.concurrent.ThreadPoolExecutor$Worker.run(ThreadPoolExecutor.java:628)\n",
      "\tat java.base/java.lang.Thread.run(Thread.java:829)\n",
      "25/05/19 17:21:14 ERROR Executor: Exception in task 3.0 in stage 0.0 (TID 3)\n",
      "org.apache.spark.api.python.PythonException: Traceback (most recent call last):\n",
      "  File \"/opt/spark/python/lib/pyspark.zip/pyspark/worker.py\", line 1231, in main\n",
      "    func, profiler, deserializer, serializer = read_udfs(pickleSer, infile, eval_type)\n",
      "  File \"/opt/spark/python/lib/pyspark.zip/pyspark/worker.py\", line 1067, in read_udfs\n",
      "    udfs.append(read_single_udf(pickleSer, infile, eval_type, runner_conf, udf_index=i))\n",
      "  File \"/opt/spark/python/lib/pyspark.zip/pyspark/worker.py\", line 547, in read_single_udf\n",
      "    return arg_offsets, wrap_scalar_pandas_udf(func, return_type)\n",
      "  File \"/opt/spark/python/lib/pyspark.zip/pyspark/worker.py\", line 110, in wrap_scalar_pandas_udf\n",
      "    arrow_return_type = to_arrow_type(return_type)\n",
      "  File \"/opt/spark/python/lib/pyspark.zip/pyspark/sql/pandas/types.py\", line 65, in to_arrow_type\n",
      "    import pyarrow as pa\n",
      "ModuleNotFoundError: No module named 'pyarrow'\n",
      "\n",
      "\tat org.apache.spark.api.python.BasePythonRunner$ReaderIterator.handlePythonException(PythonRunner.scala:572)\n",
      "\tat org.apache.spark.sql.execution.python.PythonArrowOutput$$anon$1.read(PythonArrowOutput.scala:118)\n",
      "\tat org.apache.spark.api.python.BasePythonRunner$ReaderIterator.hasNext(PythonRunner.scala:525)\n",
      "\tat org.apache.spark.InterruptibleIterator.hasNext(InterruptibleIterator.scala:37)\n",
      "\tat scala.collection.Iterator$$anon$11.hasNext(Iterator.scala:491)\n",
      "\tat scala.collection.Iterator$$anon$10.hasNext(Iterator.scala:460)\n",
      "\tat org.apache.spark.sql.catalyst.expressions.GeneratedClass$GeneratedIteratorForCodegenStage1.processNext(Unknown Source)\n",
      "\tat org.apache.spark.sql.execution.BufferedRowIterator.hasNext(BufferedRowIterator.java:43)\n",
      "\tat org.apache.spark.sql.execution.WholeStageCodegenEvaluatorFactory$WholeStageCodegenPartitionEvaluator$$anon$1.hasNext(WholeStageCodegenEvaluatorFactory.scala:43)\n",
      "\tat org.apache.spark.sql.execution.SparkPlan.$anonfun$getByteArrayRdd$1(SparkPlan.scala:388)\n",
      "\tat org.apache.spark.rdd.RDD.$anonfun$mapPartitionsInternal$2(RDD.scala:893)\n",
      "\tat org.apache.spark.rdd.RDD.$anonfun$mapPartitionsInternal$2$adapted(RDD.scala:893)\n",
      "\tat org.apache.spark.rdd.MapPartitionsRDD.compute(MapPartitionsRDD.scala:52)\n",
      "\tat org.apache.spark.rdd.RDD.computeOrReadCheckpoint(RDD.scala:367)\n",
      "\tat org.apache.spark.rdd.RDD.iterator(RDD.scala:331)\n",
      "\tat org.apache.spark.scheduler.ResultTask.runTask(ResultTask.scala:93)\n",
      "\tat org.apache.spark.TaskContext.runTaskWithListeners(TaskContext.scala:166)\n",
      "\tat org.apache.spark.scheduler.Task.run(Task.scala:141)\n",
      "\tat org.apache.spark.executor.Executor$TaskRunner.$anonfun$run$4(Executor.scala:620)\n",
      "\tat org.apache.spark.util.SparkErrorUtils.tryWithSafeFinally(SparkErrorUtils.scala:64)\n",
      "\tat org.apache.spark.util.SparkErrorUtils.tryWithSafeFinally$(SparkErrorUtils.scala:61)\n",
      "\tat org.apache.spark.util.Utils$.tryWithSafeFinally(Utils.scala:94)\n",
      "\tat org.apache.spark.executor.Executor$TaskRunner.run(Executor.scala:623)\n",
      "\tat java.base/java.util.concurrent.ThreadPoolExecutor.runWorker(ThreadPoolExecutor.java:1128)\n",
      "\tat java.base/java.util.concurrent.ThreadPoolExecutor$Worker.run(ThreadPoolExecutor.java:628)\n",
      "\tat java.base/java.lang.Thread.run(Thread.java:829)\n",
      "25/05/19 17:21:14 ERROR Executor: Exception in task 2.0 in stage 0.0 (TID 2)\n",
      "org.apache.spark.api.python.PythonException: Traceback (most recent call last):\n",
      "  File \"/opt/spark/python/lib/pyspark.zip/pyspark/worker.py\", line 1231, in main\n",
      "    func, profiler, deserializer, serializer = read_udfs(pickleSer, infile, eval_type)\n",
      "  File \"/opt/spark/python/lib/pyspark.zip/pyspark/worker.py\", line 1067, in read_udfs\n",
      "    udfs.append(read_single_udf(pickleSer, infile, eval_type, runner_conf, udf_index=i))\n",
      "  File \"/opt/spark/python/lib/pyspark.zip/pyspark/worker.py\", line 547, in read_single_udf\n",
      "    return arg_offsets, wrap_scalar_pandas_udf(func, return_type)\n",
      "  File \"/opt/spark/python/lib/pyspark.zip/pyspark/worker.py\", line 110, in wrap_scalar_pandas_udf\n",
      "    arrow_return_type = to_arrow_type(return_type)\n",
      "  File \"/opt/spark/python/lib/pyspark.zip/pyspark/sql/pandas/types.py\", line 65, in to_arrow_type\n",
      "    import pyarrow as pa\n",
      "ModuleNotFoundError: No module named 'pyarrow'\n",
      "\n",
      "\tat org.apache.spark.api.python.BasePythonRunner$ReaderIterator.handlePythonException(PythonRunner.scala:572)\n",
      "\tat org.apache.spark.sql.execution.python.PythonArrowOutput$$anon$1.read(PythonArrowOutput.scala:118)\n",
      "\tat org.apache.spark.api.python.BasePythonRunner$ReaderIterator.hasNext(PythonRunner.scala:525)\n",
      "\tat org.apache.spark.InterruptibleIterator.hasNext(InterruptibleIterator.scala:37)\n",
      "\tat scala.collection.Iterator$$anon$11.hasNext(Iterator.scala:491)\n",
      "\tat scala.collection.Iterator$$anon$10.hasNext(Iterator.scala:460)\n",
      "\tat org.apache.spark.sql.catalyst.expressions.GeneratedClass$GeneratedIteratorForCodegenStage1.processNext(Unknown Source)\n",
      "\tat org.apache.spark.sql.execution.BufferedRowIterator.hasNext(BufferedRowIterator.java:43)\n",
      "\tat org.apache.spark.sql.execution.WholeStageCodegenEvaluatorFactory$WholeStageCodegenPartitionEvaluator$$anon$1.hasNext(WholeStageCodegenEvaluatorFactory.scala:43)\n",
      "\tat org.apache.spark.sql.execution.SparkPlan.$anonfun$getByteArrayRdd$1(SparkPlan.scala:388)\n",
      "\tat org.apache.spark.rdd.RDD.$anonfun$mapPartitionsInternal$2(RDD.scala:893)\n",
      "\tat org.apache.spark.rdd.RDD.$anonfun$mapPartitionsInternal$2$adapted(RDD.scala:893)\n",
      "\tat org.apache.spark.rdd.MapPartitionsRDD.compute(MapPartitionsRDD.scala:52)\n",
      "\tat org.apache.spark.rdd.RDD.computeOrReadCheckpoint(RDD.scala:367)\n",
      "\tat org.apache.spark.rdd.RDD.iterator(RDD.scala:331)\n",
      "\tat org.apache.spark.scheduler.ResultTask.runTask(ResultTask.scala:93)\n",
      "\tat org.apache.spark.TaskContext.runTaskWithListeners(TaskContext.scala:166)\n",
      "\tat org.apache.spark.scheduler.Task.run(Task.scala:141)\n",
      "\tat org.apache.spark.executor.Executor$TaskRunner.$anonfun$run$4(Executor.scala:620)\n",
      "\tat org.apache.spark.util.SparkErrorUtils.tryWithSafeFinally(SparkErrorUtils.scala:64)\n",
      "\tat org.apache.spark.util.SparkErrorUtils.tryWithSafeFinally$(SparkErrorUtils.scala:61)\n",
      "\tat org.apache.spark.util.Utils$.tryWithSafeFinally(Utils.scala:94)\n",
      "\tat org.apache.spark.executor.Executor$TaskRunner.run(Executor.scala:623)\n",
      "\tat java.base/java.util.concurrent.ThreadPoolExecutor.runWorker(ThreadPoolExecutor.java:1128)\n",
      "\tat java.base/java.util.concurrent.ThreadPoolExecutor$Worker.run(ThreadPoolExecutor.java:628)\n",
      "\tat java.base/java.lang.Thread.run(Thread.java:829)\n",
      "25/05/19 17:21:14 ERROR Executor: Exception in task 5.0 in stage 0.0 (TID 5)\n",
      "org.apache.spark.api.python.PythonException: Traceback (most recent call last):\n",
      "  File \"/opt/spark/python/lib/pyspark.zip/pyspark/worker.py\", line 1231, in main\n",
      "    func, profiler, deserializer, serializer = read_udfs(pickleSer, infile, eval_type)\n",
      "  File \"/opt/spark/python/lib/pyspark.zip/pyspark/worker.py\", line 1067, in read_udfs\n",
      "    udfs.append(read_single_udf(pickleSer, infile, eval_type, runner_conf, udf_index=i))\n",
      "  File \"/opt/spark/python/lib/pyspark.zip/pyspark/worker.py\", line 547, in read_single_udf\n",
      "    return arg_offsets, wrap_scalar_pandas_udf(func, return_type)\n",
      "  File \"/opt/spark/python/lib/pyspark.zip/pyspark/worker.py\", line 110, in wrap_scalar_pandas_udf\n",
      "    arrow_return_type = to_arrow_type(return_type)\n",
      "  File \"/opt/spark/python/lib/pyspark.zip/pyspark/sql/pandas/types.py\", line 65, in to_arrow_type\n",
      "    import pyarrow as pa\n",
      "ModuleNotFoundError: No module named 'pyarrow'\n",
      "\n",
      "\tat org.apache.spark.api.python.BasePythonRunner$ReaderIterator.handlePythonException(PythonRunner.scala:572)\n",
      "\tat org.apache.spark.sql.execution.python.PythonArrowOutput$$anon$1.read(PythonArrowOutput.scala:118)\n",
      "\tat org.apache.spark.api.python.BasePythonRunner$ReaderIterator.hasNext(PythonRunner.scala:525)\n",
      "\tat org.apache.spark.InterruptibleIterator.hasNext(InterruptibleIterator.scala:37)\n",
      "\tat scala.collection.Iterator$$anon$11.hasNext(Iterator.scala:491)\n",
      "\tat scala.collection.Iterator$$anon$10.hasNext(Iterator.scala:460)\n",
      "\tat org.apache.spark.sql.catalyst.expressions.GeneratedClass$GeneratedIteratorForCodegenStage1.processNext(Unknown Source)\n",
      "\tat org.apache.spark.sql.execution.BufferedRowIterator.hasNext(BufferedRowIterator.java:43)\n",
      "\tat org.apache.spark.sql.execution.WholeStageCodegenEvaluatorFactory$WholeStageCodegenPartitionEvaluator$$anon$1.hasNext(WholeStageCodegenEvaluatorFactory.scala:43)\n",
      "\tat org.apache.spark.sql.execution.SparkPlan.$anonfun$getByteArrayRdd$1(SparkPlan.scala:388)\n",
      "\tat org.apache.spark.rdd.RDD.$anonfun$mapPartitionsInternal$2(RDD.scala:893)\n",
      "\tat org.apache.spark.rdd.RDD.$anonfun$mapPartitionsInternal$2$adapted(RDD.scala:893)\n",
      "\tat org.apache.spark.rdd.MapPartitionsRDD.compute(MapPartitionsRDD.scala:52)\n",
      "\tat org.apache.spark.rdd.RDD.computeOrReadCheckpoint(RDD.scala:367)\n",
      "\tat org.apache.spark.rdd.RDD.iterator(RDD.scala:331)\n",
      "\tat org.apache.spark.scheduler.ResultTask.runTask(ResultTask.scala:93)\n",
      "\tat org.apache.spark.TaskContext.runTaskWithListeners(TaskContext.scala:166)\n",
      "\tat org.apache.spark.scheduler.Task.run(Task.scala:141)\n",
      "\tat org.apache.spark.executor.Executor$TaskRunner.$anonfun$run$4(Executor.scala:620)\n",
      "\tat org.apache.spark.util.SparkErrorUtils.tryWithSafeFinally(SparkErrorUtils.scala:64)\n",
      "\tat org.apache.spark.util.SparkErrorUtils.tryWithSafeFinally$(SparkErrorUtils.scala:61)\n",
      "\tat org.apache.spark.util.Utils$.tryWithSafeFinally(Utils.scala:94)\n",
      "\tat org.apache.spark.executor.Executor$TaskRunner.run(Executor.scala:623)\n",
      "\tat java.base/java.util.concurrent.ThreadPoolExecutor.runWorker(ThreadPoolExecutor.java:1128)\n",
      "\tat java.base/java.util.concurrent.ThreadPoolExecutor$Worker.run(ThreadPoolExecutor.java:628)\n",
      "\tat java.base/java.lang.Thread.run(Thread.java:829)\n",
      "25/05/19 17:21:14 ERROR Executor: Exception in task 7.0 in stage 0.0 (TID 7)\n",
      "org.apache.spark.api.python.PythonException: Traceback (most recent call last):\n",
      "  File \"/opt/spark/python/lib/pyspark.zip/pyspark/worker.py\", line 1231, in main\n",
      "    func, profiler, deserializer, serializer = read_udfs(pickleSer, infile, eval_type)\n",
      "  File \"/opt/spark/python/lib/pyspark.zip/pyspark/worker.py\", line 1067, in read_udfs\n",
      "    udfs.append(read_single_udf(pickleSer, infile, eval_type, runner_conf, udf_index=i))\n",
      "  File \"/opt/spark/python/lib/pyspark.zip/pyspark/worker.py\", line 547, in read_single_udf\n",
      "    return arg_offsets, wrap_scalar_pandas_udf(func, return_type)\n",
      "  File \"/opt/spark/python/lib/pyspark.zip/pyspark/worker.py\", line 110, in wrap_scalar_pandas_udf\n",
      "    arrow_return_type = to_arrow_type(return_type)\n",
      "  File \"/opt/spark/python/lib/pyspark.zip/pyspark/sql/pandas/types.py\", line 65, in to_arrow_type\n",
      "    import pyarrow as pa\n",
      "ModuleNotFoundError: No module named 'pyarrow'\n",
      "\n",
      "\tat org.apache.spark.api.python.BasePythonRunner$ReaderIterator.handlePythonException(PythonRunner.scala:572)\n",
      "\tat org.apache.spark.sql.execution.python.PythonArrowOutput$$anon$1.read(PythonArrowOutput.scala:118)\n",
      "\tat org.apache.spark.api.python.BasePythonRunner$ReaderIterator.hasNext(PythonRunner.scala:525)\n",
      "\tat org.apache.spark.InterruptibleIterator.hasNext(InterruptibleIterator.scala:37)\n",
      "\tat scala.collection.Iterator$$anon$11.hasNext(Iterator.scala:491)\n",
      "\tat scala.collection.Iterator$$anon$10.hasNext(Iterator.scala:460)\n",
      "\tat org.apache.spark.sql.catalyst.expressions.GeneratedClass$GeneratedIteratorForCodegenStage1.processNext(Unknown Source)\n",
      "\tat org.apache.spark.sql.execution.BufferedRowIterator.hasNext(BufferedRowIterator.java:43)\n",
      "\tat org.apache.spark.sql.execution.WholeStageCodegenEvaluatorFactory$WholeStageCodegenPartitionEvaluator$$anon$1.hasNext(WholeStageCodegenEvaluatorFactory.scala:43)\n",
      "\tat org.apache.spark.sql.execution.SparkPlan.$anonfun$getByteArrayRdd$1(SparkPlan.scala:388)\n",
      "\tat org.apache.spark.rdd.RDD.$anonfun$mapPartitionsInternal$2(RDD.scala:893)\n",
      "\tat org.apache.spark.rdd.RDD.$anonfun$mapPartitionsInternal$2$adapted(RDD.scala:893)\n",
      "\tat org.apache.spark.rdd.MapPartitionsRDD.compute(MapPartitionsRDD.scala:52)\n",
      "\tat org.apache.spark.rdd.RDD.computeOrReadCheckpoint(RDD.scala:367)\n",
      "\tat org.apache.spark.rdd.RDD.iterator(RDD.scala:331)\n",
      "\tat org.apache.spark.scheduler.ResultTask.runTask(ResultTask.scala:93)\n",
      "\tat org.apache.spark.TaskContext.runTaskWithListeners(TaskContext.scala:166)\n",
      "\tat org.apache.spark.scheduler.Task.run(Task.scala:141)\n",
      "\tat org.apache.spark.executor.Executor$TaskRunner.$anonfun$run$4(Executor.scala:620)\n",
      "\tat org.apache.spark.util.SparkErrorUtils.tryWithSafeFinally(SparkErrorUtils.scala:64)\n",
      "\tat org.apache.spark.util.SparkErrorUtils.tryWithSafeFinally$(SparkErrorUtils.scala:61)\n",
      "\tat org.apache.spark.util.Utils$.tryWithSafeFinally(Utils.scala:94)\n",
      "\tat org.apache.spark.executor.Executor$TaskRunner.run(Executor.scala:623)\n",
      "\tat java.base/java.util.concurrent.ThreadPoolExecutor.runWorker(ThreadPoolExecutor.java:1128)\n",
      "\tat java.base/java.util.concurrent.ThreadPoolExecutor$Worker.run(ThreadPoolExecutor.java:628)\n",
      "\tat java.base/java.lang.Thread.run(Thread.java:829)\n",
      "25/05/19 17:21:14 ERROR Executor: Exception in task 1.0 in stage 0.0 (TID 1)\n",
      "org.apache.spark.api.python.PythonException: Traceback (most recent call last):\n",
      "  File \"/opt/spark/python/lib/pyspark.zip/pyspark/worker.py\", line 1231, in main\n",
      "    func, profiler, deserializer, serializer = read_udfs(pickleSer, infile, eval_type)\n",
      "  File \"/opt/spark/python/lib/pyspark.zip/pyspark/worker.py\", line 1067, in read_udfs\n",
      "    udfs.append(read_single_udf(pickleSer, infile, eval_type, runner_conf, udf_index=i))\n",
      "  File \"/opt/spark/python/lib/pyspark.zip/pyspark/worker.py\", line 547, in read_single_udf\n",
      "    return arg_offsets, wrap_scalar_pandas_udf(func, return_type)\n",
      "  File \"/opt/spark/python/lib/pyspark.zip/pyspark/worker.py\", line 110, in wrap_scalar_pandas_udf\n",
      "    arrow_return_type = to_arrow_type(return_type)\n",
      "  File \"/opt/spark/python/lib/pyspark.zip/pyspark/sql/pandas/types.py\", line 65, in to_arrow_type\n",
      "    import pyarrow as pa\n",
      "ModuleNotFoundError: No module named 'pyarrow'\n",
      "\n",
      "\tat org.apache.spark.api.python.BasePythonRunner$ReaderIterator.handlePythonException(PythonRunner.scala:572)\n",
      "\tat org.apache.spark.sql.execution.python.PythonArrowOutput$$anon$1.read(PythonArrowOutput.scala:118)\n",
      "\tat org.apache.spark.api.python.BasePythonRunner$ReaderIterator.hasNext(PythonRunner.scala:525)\n",
      "\tat org.apache.spark.InterruptibleIterator.hasNext(InterruptibleIterator.scala:37)\n",
      "\tat scala.collection.Iterator$$anon$11.hasNext(Iterator.scala:491)\n",
      "\tat scala.collection.Iterator$$anon$10.hasNext(Iterator.scala:460)\n",
      "\tat org.apache.spark.sql.catalyst.expressions.GeneratedClass$GeneratedIteratorForCodegenStage1.processNext(Unknown Source)\n",
      "\tat org.apache.spark.sql.execution.BufferedRowIterator.hasNext(BufferedRowIterator.java:43)\n",
      "\tat org.apache.spark.sql.execution.WholeStageCodegenEvaluatorFactory$WholeStageCodegenPartitionEvaluator$$anon$1.hasNext(WholeStageCodegenEvaluatorFactory.scala:43)\n",
      "\tat org.apache.spark.sql.execution.SparkPlan.$anonfun$getByteArrayRdd$1(SparkPlan.scala:388)\n",
      "\tat org.apache.spark.rdd.RDD.$anonfun$mapPartitionsInternal$2(RDD.scala:893)\n",
      "\tat org.apache.spark.rdd.RDD.$anonfun$mapPartitionsInternal$2$adapted(RDD.scala:893)\n",
      "\tat org.apache.spark.rdd.MapPartitionsRDD.compute(MapPartitionsRDD.scala:52)\n",
      "\tat org.apache.spark.rdd.RDD.computeOrReadCheckpoint(RDD.scala:367)\n",
      "\tat org.apache.spark.rdd.RDD.iterator(RDD.scala:331)\n",
      "\tat org.apache.spark.scheduler.ResultTask.runTask(ResultTask.scala:93)\n",
      "\tat org.apache.spark.TaskContext.runTaskWithListeners(TaskContext.scala:166)\n",
      "\tat org.apache.spark.scheduler.Task.run(Task.scala:141)\n",
      "\tat org.apache.spark.executor.Executor$TaskRunner.$anonfun$run$4(Executor.scala:620)\n",
      "\tat org.apache.spark.util.SparkErrorUtils.tryWithSafeFinally(SparkErrorUtils.scala:64)\n",
      "\tat org.apache.spark.util.SparkErrorUtils.tryWithSafeFinally$(SparkErrorUtils.scala:61)\n",
      "\tat org.apache.spark.util.Utils$.tryWithSafeFinally(Utils.scala:94)\n",
      "\tat org.apache.spark.executor.Executor$TaskRunner.run(Executor.scala:623)\n",
      "\tat java.base/java.util.concurrent.ThreadPoolExecutor.runWorker(ThreadPoolExecutor.java:1128)\n",
      "\tat java.base/java.util.concurrent.ThreadPoolExecutor$Worker.run(ThreadPoolExecutor.java:628)\n",
      "\tat java.base/java.lang.Thread.run(Thread.java:829)\n",
      "25/05/19 17:21:14 ERROR Executor: Exception in task 4.0 in stage 0.0 (TID 4)\n",
      "org.apache.spark.api.python.PythonException: Traceback (most recent call last):\n",
      "  File \"/opt/spark/python/lib/pyspark.zip/pyspark/worker.py\", line 1231, in main\n",
      "    func, profiler, deserializer, serializer = read_udfs(pickleSer, infile, eval_type)\n",
      "  File \"/opt/spark/python/lib/pyspark.zip/pyspark/worker.py\", line 1067, in read_udfs\n",
      "    udfs.append(read_single_udf(pickleSer, infile, eval_type, runner_conf, udf_index=i))\n",
      "  File \"/opt/spark/python/lib/pyspark.zip/pyspark/worker.py\", line 547, in read_single_udf\n",
      "    return arg_offsets, wrap_scalar_pandas_udf(func, return_type)\n",
      "  File \"/opt/spark/python/lib/pyspark.zip/pyspark/worker.py\", line 110, in wrap_scalar_pandas_udf\n",
      "    arrow_return_type = to_arrow_type(return_type)\n",
      "  File \"/opt/spark/python/lib/pyspark.zip/pyspark/sql/pandas/types.py\", line 65, in to_arrow_type\n",
      "    import pyarrow as pa\n",
      "ModuleNotFoundError: No module named 'pyarrow'\n",
      "\n",
      "\tat org.apache.spark.api.python.BasePythonRunner$ReaderIterator.handlePythonException(PythonRunner.scala:572)\n",
      "\tat org.apache.spark.sql.execution.python.PythonArrowOutput$$anon$1.read(PythonArrowOutput.scala:118)\n",
      "\tat org.apache.spark.api.python.BasePythonRunner$ReaderIterator.hasNext(PythonRunner.scala:525)\n",
      "\tat org.apache.spark.InterruptibleIterator.hasNext(InterruptibleIterator.scala:37)\n",
      "\tat scala.collection.Iterator$$anon$11.hasNext(Iterator.scala:491)\n",
      "\tat scala.collection.Iterator$$anon$10.hasNext(Iterator.scala:460)\n",
      "\tat org.apache.spark.sql.catalyst.expressions.GeneratedClass$GeneratedIteratorForCodegenStage1.processNext(Unknown Source)\n",
      "\tat org.apache.spark.sql.execution.BufferedRowIterator.hasNext(BufferedRowIterator.java:43)\n",
      "\tat org.apache.spark.sql.execution.WholeStageCodegenEvaluatorFactory$WholeStageCodegenPartitionEvaluator$$anon$1.hasNext(WholeStageCodegenEvaluatorFactory.scala:43)\n",
      "\tat org.apache.spark.sql.execution.SparkPlan.$anonfun$getByteArrayRdd$1(SparkPlan.scala:388)\n",
      "\tat org.apache.spark.rdd.RDD.$anonfun$mapPartitionsInternal$2(RDD.scala:893)\n",
      "\tat org.apache.spark.rdd.RDD.$anonfun$mapPartitionsInternal$2$adapted(RDD.scala:893)\n",
      "\tat org.apache.spark.rdd.MapPartitionsRDD.compute(MapPartitionsRDD.scala:52)\n",
      "\tat org.apache.spark.rdd.RDD.computeOrReadCheckpoint(RDD.scala:367)\n",
      "\tat org.apache.spark.rdd.RDD.iterator(RDD.scala:331)\n",
      "\tat org.apache.spark.scheduler.ResultTask.runTask(ResultTask.scala:93)\n",
      "\tat org.apache.spark.TaskContext.runTaskWithListeners(TaskContext.scala:166)\n",
      "\tat org.apache.spark.scheduler.Task.run(Task.scala:141)\n",
      "\tat org.apache.spark.executor.Executor$TaskRunner.$anonfun$run$4(Executor.scala:620)\n",
      "\tat org.apache.spark.util.SparkErrorUtils.tryWithSafeFinally(SparkErrorUtils.scala:64)\n",
      "\tat org.apache.spark.util.SparkErrorUtils.tryWithSafeFinally$(SparkErrorUtils.scala:61)\n",
      "\tat org.apache.spark.util.Utils$.tryWithSafeFinally(Utils.scala:94)\n",
      "\tat org.apache.spark.executor.Executor$TaskRunner.run(Executor.scala:623)\n",
      "\tat java.base/java.util.concurrent.ThreadPoolExecutor.runWorker(ThreadPoolExecutor.java:1128)\n",
      "\tat java.base/java.util.concurrent.ThreadPoolExecutor$Worker.run(ThreadPoolExecutor.java:628)\n",
      "\tat java.base/java.lang.Thread.run(Thread.java:829)\n",
      "25/05/19 17:21:14 ERROR Executor: Exception in task 0.0 in stage 0.0 (TID 0)\n",
      "org.apache.spark.api.python.PythonException: Traceback (most recent call last):\n",
      "  File \"/opt/spark/python/lib/pyspark.zip/pyspark/worker.py\", line 1231, in main\n",
      "    func, profiler, deserializer, serializer = read_udfs(pickleSer, infile, eval_type)\n",
      "  File \"/opt/spark/python/lib/pyspark.zip/pyspark/worker.py\", line 1067, in read_udfs\n",
      "    udfs.append(read_single_udf(pickleSer, infile, eval_type, runner_conf, udf_index=i))\n",
      "  File \"/opt/spark/python/lib/pyspark.zip/pyspark/worker.py\", line 547, in read_single_udf\n",
      "    return arg_offsets, wrap_scalar_pandas_udf(func, return_type)\n",
      "  File \"/opt/spark/python/lib/pyspark.zip/pyspark/worker.py\", line 110, in wrap_scalar_pandas_udf\n",
      "    arrow_return_type = to_arrow_type(return_type)\n",
      "  File \"/opt/spark/python/lib/pyspark.zip/pyspark/sql/pandas/types.py\", line 65, in to_arrow_type\n",
      "    import pyarrow as pa\n",
      "ModuleNotFoundError: No module named 'pyarrow'\n",
      "\n",
      "\tat org.apache.spark.api.python.BasePythonRunner$ReaderIterator.handlePythonException(PythonRunner.scala:572)\n",
      "\tat org.apache.spark.sql.execution.python.PythonArrowOutput$$anon$1.read(PythonArrowOutput.scala:118)\n",
      "\tat org.apache.spark.api.python.BasePythonRunner$ReaderIterator.hasNext(PythonRunner.scala:525)\n",
      "\tat org.apache.spark.InterruptibleIterator.hasNext(InterruptibleIterator.scala:37)\n",
      "\tat scala.collection.Iterator$$anon$11.hasNext(Iterator.scala:491)\n",
      "\tat scala.collection.Iterator$$anon$10.hasNext(Iterator.scala:460)\n",
      "\tat org.apache.spark.sql.catalyst.expressions.GeneratedClass$GeneratedIteratorForCodegenStage1.processNext(Unknown Source)\n",
      "\tat org.apache.spark.sql.execution.BufferedRowIterator.hasNext(BufferedRowIterator.java:43)\n",
      "\tat org.apache.spark.sql.execution.WholeStageCodegenEvaluatorFactory$WholeStageCodegenPartitionEvaluator$$anon$1.hasNext(WholeStageCodegenEvaluatorFactory.scala:43)\n",
      "\tat org.apache.spark.sql.execution.SparkPlan.$anonfun$getByteArrayRdd$1(SparkPlan.scala:388)\n",
      "\tat org.apache.spark.rdd.RDD.$anonfun$mapPartitionsInternal$2(RDD.scala:893)\n",
      "\tat org.apache.spark.rdd.RDD.$anonfun$mapPartitionsInternal$2$adapted(RDD.scala:893)\n",
      "\tat org.apache.spark.rdd.MapPartitionsRDD.compute(MapPartitionsRDD.scala:52)\n",
      "\tat org.apache.spark.rdd.RDD.computeOrReadCheckpoint(RDD.scala:367)\n",
      "\tat org.apache.spark.rdd.RDD.iterator(RDD.scala:331)\n",
      "\tat org.apache.spark.scheduler.ResultTask.runTask(ResultTask.scala:93)\n",
      "\tat org.apache.spark.TaskContext.runTaskWithListeners(TaskContext.scala:166)\n",
      "\tat org.apache.spark.scheduler.Task.run(Task.scala:141)\n",
      "\tat org.apache.spark.executor.Executor$TaskRunner.$anonfun$run$4(Executor.scala:620)\n",
      "\tat org.apache.spark.util.SparkErrorUtils.tryWithSafeFinally(SparkErrorUtils.scala:64)\n",
      "\tat org.apache.spark.util.SparkErrorUtils.tryWithSafeFinally$(SparkErrorUtils.scala:61)\n",
      "\tat org.apache.spark.util.Utils$.tryWithSafeFinally(Utils.scala:94)\n",
      "\tat org.apache.spark.executor.Executor$TaskRunner.run(Executor.scala:623)\n",
      "\tat java.base/java.util.concurrent.ThreadPoolExecutor.runWorker(ThreadPoolExecutor.java:1128)\n",
      "\tat java.base/java.util.concurrent.ThreadPoolExecutor$Worker.run(ThreadPoolExecutor.java:628)\n",
      "\tat java.base/java.lang.Thread.run(Thread.java:829)\n",
      "25/05/19 17:21:14 WARN TaskSetManager: Lost task 7.0 in stage 0.0 (TID 7) (192.168.1.7 executor driver): org.apache.spark.api.python.PythonException: Traceback (most recent call last):\n",
      "  File \"/opt/spark/python/lib/pyspark.zip/pyspark/worker.py\", line 1231, in main\n",
      "    func, profiler, deserializer, serializer = read_udfs(pickleSer, infile, eval_type)\n",
      "  File \"/opt/spark/python/lib/pyspark.zip/pyspark/worker.py\", line 1067, in read_udfs\n",
      "    udfs.append(read_single_udf(pickleSer, infile, eval_type, runner_conf, udf_index=i))\n",
      "  File \"/opt/spark/python/lib/pyspark.zip/pyspark/worker.py\", line 547, in read_single_udf\n",
      "    return arg_offsets, wrap_scalar_pandas_udf(func, return_type)\n",
      "  File \"/opt/spark/python/lib/pyspark.zip/pyspark/worker.py\", line 110, in wrap_scalar_pandas_udf\n",
      "    arrow_return_type = to_arrow_type(return_type)\n",
      "  File \"/opt/spark/python/lib/pyspark.zip/pyspark/sql/pandas/types.py\", line 65, in to_arrow_type\n",
      "    import pyarrow as pa\n",
      "ModuleNotFoundError: No module named 'pyarrow'\n",
      "\n",
      "\tat org.apache.spark.api.python.BasePythonRunner$ReaderIterator.handlePythonException(PythonRunner.scala:572)\n",
      "\tat org.apache.spark.sql.execution.python.PythonArrowOutput$$anon$1.read(PythonArrowOutput.scala:118)\n",
      "\tat org.apache.spark.api.python.BasePythonRunner$ReaderIterator.hasNext(PythonRunner.scala:525)\n",
      "\tat org.apache.spark.InterruptibleIterator.hasNext(InterruptibleIterator.scala:37)\n",
      "\tat scala.collection.Iterator$$anon$11.hasNext(Iterator.scala:491)\n",
      "\tat scala.collection.Iterator$$anon$10.hasNext(Iterator.scala:460)\n",
      "\tat org.apache.spark.sql.catalyst.expressions.GeneratedClass$GeneratedIteratorForCodegenStage1.processNext(Unknown Source)\n",
      "\tat org.apache.spark.sql.execution.BufferedRowIterator.hasNext(BufferedRowIterator.java:43)\n",
      "\tat org.apache.spark.sql.execution.WholeStageCodegenEvaluatorFactory$WholeStageCodegenPartitionEvaluator$$anon$1.hasNext(WholeStageCodegenEvaluatorFactory.scala:43)\n",
      "\tat org.apache.spark.sql.execution.SparkPlan.$anonfun$getByteArrayRdd$1(SparkPlan.scala:388)\n",
      "\tat org.apache.spark.rdd.RDD.$anonfun$mapPartitionsInternal$2(RDD.scala:893)\n",
      "\tat org.apache.spark.rdd.RDD.$anonfun$mapPartitionsInternal$2$adapted(RDD.scala:893)\n",
      "\tat org.apache.spark.rdd.MapPartitionsRDD.compute(MapPartitionsRDD.scala:52)\n",
      "\tat org.apache.spark.rdd.RDD.computeOrReadCheckpoint(RDD.scala:367)\n",
      "\tat org.apache.spark.rdd.RDD.iterator(RDD.scala:331)\n",
      "\tat org.apache.spark.scheduler.ResultTask.runTask(ResultTask.scala:93)\n",
      "\tat org.apache.spark.TaskContext.runTaskWithListeners(TaskContext.scala:166)\n",
      "\tat org.apache.spark.scheduler.Task.run(Task.scala:141)\n",
      "\tat org.apache.spark.executor.Executor$TaskRunner.$anonfun$run$4(Executor.scala:620)\n",
      "\tat org.apache.spark.util.SparkErrorUtils.tryWithSafeFinally(SparkErrorUtils.scala:64)\n",
      "\tat org.apache.spark.util.SparkErrorUtils.tryWithSafeFinally$(SparkErrorUtils.scala:61)\n",
      "\tat org.apache.spark.util.Utils$.tryWithSafeFinally(Utils.scala:94)\n",
      "\tat org.apache.spark.executor.Executor$TaskRunner.run(Executor.scala:623)\n",
      "\tat java.base/java.util.concurrent.ThreadPoolExecutor.runWorker(ThreadPoolExecutor.java:1128)\n",
      "\tat java.base/java.util.concurrent.ThreadPoolExecutor$Worker.run(ThreadPoolExecutor.java:628)\n",
      "\tat java.base/java.lang.Thread.run(Thread.java:829)\n",
      "\n",
      "25/05/19 17:21:14 ERROR TaskSetManager: Task 7 in stage 0.0 failed 1 times; aborting job\n",
      "2025-05-19 17:21:15,064 - WARNING - Spark fingerprint generation failed: \n",
      "  An exception was thrown from the Python worker. Please see the stack trace below.\n",
      "Traceback (most recent call last):\n",
      "  File \"/opt/spark/python/lib/pyspark.zip/pyspark/worker.py\", line 1231, in main\n",
      "    func, profiler, deserializer, serializer = read_udfs(pickleSer, infile, eval_type)\n",
      "  File \"/opt/spark/python/lib/pyspark.zip/pyspark/worker.py\", line 1067, in read_udfs\n",
      "    udfs.append(read_single_udf(pickleSer, infile, eval_type, runner_conf, udf_index=i))\n",
      "  File \"/opt/spark/python/lib/pyspark.zip/pyspark/worker.py\", line 547, in read_single_udf\n",
      "    return arg_offsets, wrap_scalar_pandas_udf(func, return_type)\n",
      "  File \"/opt/spark/python/lib/pyspark.zip/pyspark/worker.py\", line 110, in wrap_scalar_pandas_udf\n",
      "    arrow_return_type = to_arrow_type(return_type)\n",
      "  File \"/opt/spark/python/lib/pyspark.zip/pyspark/sql/pandas/types.py\", line 65, in to_arrow_type\n",
      "    import pyarrow as pa\n",
      "ModuleNotFoundError: No module named 'pyarrow'\n",
      ". Falling back to single-core.\n",
      "2025-05-19 17:21:15,066 - INFO - Featurizing datapoint 0\n",
      "[17:21:15] DEPRECATION WARNING: please use MorganGenerator\n",
      "[17:21:15] DEPRECATION WARNING: please use MorganGenerator\n",
      "[17:21:15] DEPRECATION WARNING: please use MorganGenerator\n",
      "[17:21:15] DEPRECATION WARNING: please use MorganGenerator\n",
      "[17:21:15] DEPRECATION WARNING: please use MorganGenerator\n",
      "[17:21:15] DEPRECATION WARNING: please use MorganGenerator\n",
      "[17:21:15] DEPRECATION WARNING: please use MorganGenerator\n",
      "[17:21:15] DEPRECATION WARNING: please use MorganGenerator\n",
      "[17:21:15] DEPRECATION WARNING: please use MorganGenerator\n",
      "[17:21:15] DEPRECATION WARNING: please use MorganGenerator\n",
      "[17:21:15] DEPRECATION WARNING: please use MorganGenerator\n",
      "[17:21:15] DEPRECATION WARNING: please use MorganGenerator\n",
      "[17:21:15] DEPRECATION WARNING: please use MorganGenerator\n",
      "[17:21:15] DEPRECATION WARNING: please use MorganGenerator\n",
      "[17:21:15] DEPRECATION WARNING: please use MorganGenerator\n",
      "[17:21:15] DEPRECATION WARNING: please use MorganGenerator\n",
      "[17:21:15] DEPRECATION WARNING: please use MorganGenerator\n",
      "[17:21:15] DEPRECATION WARNING: please use MorganGenerator\n",
      "[17:21:15] DEPRECATION WARNING: please use MorganGenerator\n",
      "[17:21:15] DEPRECATION WARNING: please use MorganGenerator\n",
      "[17:21:15] DEPRECATION WARNING: please use MorganGenerator\n",
      "[17:21:15] DEPRECATION WARNING: please use MorganGenerator\n",
      "[17:21:15] DEPRECATION WARNING: please use MorganGenerator\n",
      "[17:21:15] DEPRECATION WARNING: please use MorganGenerator\n",
      "[17:21:15] DEPRECATION WARNING: please use MorganGenerator\n",
      "[17:21:15] DEPRECATION WARNING: please use MorganGenerator\n",
      "[17:21:15] DEPRECATION WARNING: please use MorganGenerator\n",
      "[17:21:15] DEPRECATION WARNING: please use MorganGenerator\n",
      "[17:21:15] DEPRECATION WARNING: please use MorganGenerator\n",
      "[17:21:15] DEPRECATION WARNING: please use MorganGenerator\n",
      "[17:21:15] DEPRECATION WARNING: please use MorganGenerator\n",
      "[17:21:15] DEPRECATION WARNING: please use MorganGenerator\n",
      "[17:21:15] DEPRECATION WARNING: please use MorganGenerator\n",
      "[17:21:15] DEPRECATION WARNING: please use MorganGenerator\n",
      "[17:21:15] DEPRECATION WARNING: please use MorganGenerator\n",
      "[17:21:15] DEPRECATION WARNING: please use MorganGenerator\n",
      "[17:21:15] DEPRECATION WARNING: please use MorganGenerator\n",
      "[17:21:15] DEPRECATION WARNING: please use MorganGenerator\n",
      "[17:21:15] DEPRECATION WARNING: please use MorganGenerator\n",
      "[17:21:15] DEPRECATION WARNING: please use MorganGenerator\n",
      "[17:21:15] DEPRECATION WARNING: please use MorganGenerator\n",
      "[17:21:15] DEPRECATION WARNING: please use MorganGenerator\n",
      "[17:21:15] DEPRECATION WARNING: please use MorganGenerator\n",
      "[17:21:15] DEPRECATION WARNING: please use MorganGenerator\n",
      "[17:21:15] DEPRECATION WARNING: please use MorganGenerator\n",
      "[17:21:15] DEPRECATION WARNING: please use MorganGenerator\n",
      "[17:21:15] DEPRECATION WARNING: please use MorganGenerator\n",
      "[17:21:15] DEPRECATION WARNING: please use MorganGenerator\n",
      "[17:21:15] DEPRECATION WARNING: please use MorganGenerator\n",
      "[17:21:15] DEPRECATION WARNING: please use MorganGenerator\n",
      "[17:21:15] DEPRECATION WARNING: please use MorganGenerator\n",
      "[17:21:15] DEPRECATION WARNING: please use MorganGenerator\n",
      "[17:21:15] DEPRECATION WARNING: please use MorganGenerator\n",
      "[17:21:15] DEPRECATION WARNING: please use MorganGenerator\n",
      "[17:21:15] DEPRECATION WARNING: please use MorganGenerator\n",
      "[17:21:15] DEPRECATION WARNING: please use MorganGenerator\n",
      "[17:21:15] DEPRECATION WARNING: please use MorganGenerator\n",
      "[17:21:15] DEPRECATION WARNING: please use MorganGenerator\n",
      "[17:21:15] DEPRECATION WARNING: please use MorganGenerator\n",
      "[17:21:15] DEPRECATION WARNING: please use MorganGenerator\n",
      "[17:21:15] DEPRECATION WARNING: please use MorganGenerator\n",
      "[17:21:15] DEPRECATION WARNING: please use MorganGenerator\n",
      "[17:21:15] DEPRECATION WARNING: please use MorganGenerator\n",
      "[17:21:15] DEPRECATION WARNING: please use MorganGenerator\n",
      "[17:21:15] DEPRECATION WARNING: please use MorganGenerator\n",
      "[17:21:15] DEPRECATION WARNING: please use MorganGenerator\n",
      "[17:21:15] DEPRECATION WARNING: please use MorganGenerator\n",
      "[17:21:15] DEPRECATION WARNING: please use MorganGenerator\n",
      "[17:21:15] DEPRECATION WARNING: please use MorganGenerator\n",
      "[17:21:15] DEPRECATION WARNING: please use MorganGenerator\n",
      "[17:21:15] DEPRECATION WARNING: please use MorganGenerator\n",
      "[17:21:15] DEPRECATION WARNING: please use MorganGenerator\n",
      "[17:21:15] DEPRECATION WARNING: please use MorganGenerator\n",
      "[17:21:15] DEPRECATION WARNING: please use MorganGenerator\n",
      "[17:21:15] DEPRECATION WARNING: please use MorganGenerator\n",
      "[17:21:15] DEPRECATION WARNING: please use MorganGenerator\n",
      "[17:21:15] DEPRECATION WARNING: please use MorganGenerator\n",
      "[17:21:15] DEPRECATION WARNING: please use MorganGenerator\n",
      "[17:21:15] DEPRECATION WARNING: please use MorganGenerator\n",
      "[17:21:15] DEPRECATION WARNING: please use MorganGenerator\n",
      "[17:21:15] DEPRECATION WARNING: please use MorganGenerator\n",
      "[17:21:15] DEPRECATION WARNING: please use MorganGenerator\n",
      "[17:21:15] DEPRECATION WARNING: please use MorganGenerator\n",
      "[17:21:15] DEPRECATION WARNING: please use MorganGenerator\n",
      "[17:21:15] DEPRECATION WARNING: please use MorganGenerator\n",
      "[17:21:15] DEPRECATION WARNING: please use MorganGenerator\n",
      "[17:21:15] DEPRECATION WARNING: please use MorganGenerator\n",
      "[17:21:15] DEPRECATION WARNING: please use MorganGenerator\n",
      "[17:21:15] DEPRECATION WARNING: please use MorganGenerator\n",
      "[17:21:15] DEPRECATION WARNING: please use MorganGenerator\n",
      "[17:21:15] DEPRECATION WARNING: please use MorganGenerator\n",
      "[17:21:15] DEPRECATION WARNING: please use MorganGenerator\n",
      "[17:21:15] DEPRECATION WARNING: please use MorganGenerator\n",
      "[17:21:15] DEPRECATION WARNING: please use MorganGenerator\n",
      "[17:21:15] DEPRECATION WARNING: please use MorganGenerator\n",
      "[17:21:15] DEPRECATION WARNING: please use MorganGenerator\n",
      "[17:21:15] DEPRECATION WARNING: please use MorganGenerator\n",
      "[17:21:15] DEPRECATION WARNING: please use MorganGenerator\n",
      "[17:21:15] DEPRECATION WARNING: please use MorganGenerator\n",
      "[17:21:15] DEPRECATION WARNING: please use MorganGenerator\n",
      "[17:21:15] DEPRECATION WARNING: please use MorganGenerator\n",
      "[17:21:15] DEPRECATION WARNING: please use MorganGenerator\n",
      "[17:21:15] DEPRECATION WARNING: please use MorganGenerator\n",
      "[17:21:15] DEPRECATION WARNING: please use MorganGenerator\n",
      "[17:21:15] DEPRECATION WARNING: please use MorganGenerator\n",
      "[17:21:15] DEPRECATION WARNING: please use MorganGenerator\n",
      "[17:21:15] DEPRECATION WARNING: please use MorganGenerator\n",
      "[17:21:15] DEPRECATION WARNING: please use MorganGenerator\n",
      "[17:21:15] DEPRECATION WARNING: please use MorganGenerator\n",
      "[17:21:15] DEPRECATION WARNING: please use MorganGenerator\n",
      "[17:21:15] DEPRECATION WARNING: please use MorganGenerator\n",
      "[17:21:15] DEPRECATION WARNING: please use MorganGenerator\n",
      "[17:21:15] DEPRECATION WARNING: please use MorganGenerator\n",
      "[17:21:15] DEPRECATION WARNING: please use MorganGenerator\n",
      "[17:21:15] DEPRECATION WARNING: please use MorganGenerator\n",
      "[17:21:15] DEPRECATION WARNING: please use MorganGenerator\n",
      "[17:21:15] DEPRECATION WARNING: please use MorganGenerator\n",
      "[17:21:15] DEPRECATION WARNING: please use MorganGenerator\n",
      "[17:21:15] DEPRECATION WARNING: please use MorganGenerator\n",
      "[17:21:15] DEPRECATION WARNING: please use MorganGenerator\n",
      "[17:21:15] DEPRECATION WARNING: please use MorganGenerator\n",
      "[17:21:15] DEPRECATION WARNING: please use MorganGenerator\n",
      "[17:21:15] DEPRECATION WARNING: please use MorganGenerator\n",
      "[17:21:15] DEPRECATION WARNING: please use MorganGenerator\n",
      "[17:21:15] DEPRECATION WARNING: please use MorganGenerator\n",
      "[17:21:15] DEPRECATION WARNING: please use MorganGenerator\n",
      "[17:21:15] DEPRECATION WARNING: please use MorganGenerator\n",
      "[17:21:15] DEPRECATION WARNING: please use MorganGenerator\n",
      "[17:21:15] DEPRECATION WARNING: please use MorganGenerator\n",
      "[17:21:15] DEPRECATION WARNING: please use MorganGenerator\n",
      "[17:21:15] DEPRECATION WARNING: please use MorganGenerator\n",
      "[17:21:15] DEPRECATION WARNING: please use MorganGenerator\n",
      "[17:21:15] DEPRECATION WARNING: please use MorganGenerator\n",
      "[17:21:15] DEPRECATION WARNING: please use MorganGenerator\n",
      "[17:21:15] DEPRECATION WARNING: please use MorganGenerator\n",
      "[17:21:15] DEPRECATION WARNING: please use MorganGenerator\n",
      "[17:21:15] DEPRECATION WARNING: please use MorganGenerator\n",
      "[17:21:15] DEPRECATION WARNING: please use MorganGenerator\n",
      "[17:21:15] DEPRECATION WARNING: please use MorganGenerator\n",
      "[17:21:15] DEPRECATION WARNING: please use MorganGenerator\n",
      "[17:21:15] DEPRECATION WARNING: please use MorganGenerator\n",
      "[17:21:15] DEPRECATION WARNING: please use MorganGenerator\n",
      "[17:21:15] DEPRECATION WARNING: please use MorganGenerator\n",
      "[17:21:15] DEPRECATION WARNING: please use MorganGenerator\n",
      "[17:21:15] DEPRECATION WARNING: please use MorganGenerator\n",
      "[17:21:15] DEPRECATION WARNING: please use MorganGenerator\n",
      "[17:21:15] DEPRECATION WARNING: please use MorganGenerator\n",
      "[17:21:15] DEPRECATION WARNING: please use MorganGenerator\n",
      "[17:21:15] DEPRECATION WARNING: please use MorganGenerator\n",
      "[17:21:15] DEPRECATION WARNING: please use MorganGenerator\n",
      "[17:21:15] DEPRECATION WARNING: please use MorganGenerator\n",
      "[17:21:15] DEPRECATION WARNING: please use MorganGenerator\n",
      "[17:21:15] DEPRECATION WARNING: please use MorganGenerator\n",
      "[17:21:15] DEPRECATION WARNING: please use MorganGenerator\n",
      "[17:21:15] DEPRECATION WARNING: please use MorganGenerator\n",
      "[17:21:15] DEPRECATION WARNING: please use MorganGenerator\n",
      "[17:21:15] DEPRECATION WARNING: please use MorganGenerator\n",
      "[17:21:15] DEPRECATION WARNING: please use MorganGenerator\n",
      "[17:21:15] DEPRECATION WARNING: please use MorganGenerator\n",
      "[17:21:15] DEPRECATION WARNING: please use MorganGenerator\n",
      "[17:21:15] DEPRECATION WARNING: please use MorganGenerator\n",
      "[17:21:15] DEPRECATION WARNING: please use MorganGenerator\n",
      "[17:21:15] DEPRECATION WARNING: please use MorganGenerator\n",
      "[17:21:15] DEPRECATION WARNING: please use MorganGenerator\n",
      "[17:21:15] DEPRECATION WARNING: please use MorganGenerator\n",
      "[17:21:15] DEPRECATION WARNING: please use MorganGenerator\n",
      "[17:21:15] DEPRECATION WARNING: please use MorganGenerator\n",
      "[17:21:15] DEPRECATION WARNING: please use MorganGenerator\n",
      "[17:21:15] DEPRECATION WARNING: please use MorganGenerator\n",
      "[17:21:15] DEPRECATION WARNING: please use MorganGenerator\n",
      "[17:21:15] DEPRECATION WARNING: please use MorganGenerator\n",
      "[17:21:15] DEPRECATION WARNING: please use MorganGenerator\n",
      "[17:21:15] DEPRECATION WARNING: please use MorganGenerator\n",
      "[17:21:15] DEPRECATION WARNING: please use MorganGenerator\n",
      "[17:21:15] DEPRECATION WARNING: please use MorganGenerator\n",
      "[17:21:15] DEPRECATION WARNING: please use MorganGenerator\n",
      "[17:21:15] DEPRECATION WARNING: please use MorganGenerator\n",
      "[17:21:15] DEPRECATION WARNING: please use MorganGenerator\n",
      "[17:21:15] DEPRECATION WARNING: please use MorganGenerator\n",
      "[17:21:15] DEPRECATION WARNING: please use MorganGenerator\n",
      "[17:21:15] DEPRECATION WARNING: please use MorganGenerator\n",
      "[17:21:15] DEPRECATION WARNING: please use MorganGenerator\n",
      "[17:21:15] DEPRECATION WARNING: please use MorganGenerator\n",
      "[17:21:15] DEPRECATION WARNING: please use MorganGenerator\n",
      "[17:21:15] DEPRECATION WARNING: please use MorganGenerator\n",
      "[17:21:15] DEPRECATION WARNING: please use MorganGenerator\n",
      "[17:21:15] DEPRECATION WARNING: please use MorganGenerator\n",
      "[17:21:15] DEPRECATION WARNING: please use MorganGenerator\n",
      "[17:21:15] DEPRECATION WARNING: please use MorganGenerator\n",
      "[17:21:15] DEPRECATION WARNING: please use MorganGenerator\n",
      "[17:21:15] DEPRECATION WARNING: please use MorganGenerator\n",
      "[17:21:15] DEPRECATION WARNING: please use MorganGenerator\n",
      "[17:21:15] DEPRECATION WARNING: please use MorganGenerator\n",
      "[17:21:15] DEPRECATION WARNING: please use MorganGenerator\n",
      "[17:21:15] DEPRECATION WARNING: please use MorganGenerator\n",
      "[17:21:15] DEPRECATION WARNING: please use MorganGenerator\n",
      "[17:21:15] DEPRECATION WARNING: please use MorganGenerator\n",
      "[17:21:15] DEPRECATION WARNING: please use MorganGenerator\n",
      "[17:21:15] DEPRECATION WARNING: please use MorganGenerator\n",
      "[17:21:15] DEPRECATION WARNING: please use MorganGenerator\n",
      "[17:21:15] DEPRECATION WARNING: please use MorganGenerator\n",
      "[17:21:15] DEPRECATION WARNING: please use MorganGenerator\n",
      "[17:21:15] DEPRECATION WARNING: please use MorganGenerator\n",
      "[17:21:15] DEPRECATION WARNING: please use MorganGenerator\n",
      "[17:21:15] DEPRECATION WARNING: please use MorganGenerator\n",
      "[17:21:15] DEPRECATION WARNING: please use MorganGenerator\n",
      "[17:21:15] DEPRECATION WARNING: please use MorganGenerator\n",
      "[17:21:15] DEPRECATION WARNING: please use MorganGenerator\n",
      "[17:21:15] DEPRECATION WARNING: please use MorganGenerator\n",
      "[17:21:15] DEPRECATION WARNING: please use MorganGenerator\n",
      "[17:21:15] DEPRECATION WARNING: please use MorganGenerator\n",
      "[17:21:15] DEPRECATION WARNING: please use MorganGenerator\n",
      "[17:21:15] DEPRECATION WARNING: please use MorganGenerator\n",
      "[17:21:15] DEPRECATION WARNING: please use MorganGenerator\n",
      "[17:21:15] DEPRECATION WARNING: please use MorganGenerator\n",
      "[17:21:15] DEPRECATION WARNING: please use MorganGenerator\n",
      "[17:21:15] DEPRECATION WARNING: please use MorganGenerator\n",
      "[17:21:15] DEPRECATION WARNING: please use MorganGenerator\n",
      "[17:21:15] DEPRECATION WARNING: please use MorganGenerator\n",
      "[17:21:15] DEPRECATION WARNING: please use MorganGenerator\n",
      "[17:21:15] DEPRECATION WARNING: please use MorganGenerator\n",
      "[17:21:15] DEPRECATION WARNING: please use MorganGenerator\n",
      "[17:21:15] DEPRECATION WARNING: please use MorganGenerator\n",
      "[17:21:15] DEPRECATION WARNING: please use MorganGenerator\n",
      "[17:21:15] DEPRECATION WARNING: please use MorganGenerator\n",
      "[17:21:15] DEPRECATION WARNING: please use MorganGenerator\n",
      "[17:21:15] DEPRECATION WARNING: please use MorganGenerator\n",
      "[17:21:15] DEPRECATION WARNING: please use MorganGenerator\n",
      "[17:21:15] DEPRECATION WARNING: please use MorganGenerator\n",
      "[17:21:15] DEPRECATION WARNING: please use MorganGenerator\n",
      "[17:21:15] DEPRECATION WARNING: please use MorganGenerator\n",
      "[17:21:15] DEPRECATION WARNING: please use MorganGenerator\n",
      "[17:21:15] DEPRECATION WARNING: please use MorganGenerator\n",
      "[17:21:15] DEPRECATION WARNING: please use MorganGenerator\n",
      "[17:21:15] DEPRECATION WARNING: please use MorganGenerator\n",
      "[17:21:15] DEPRECATION WARNING: please use MorganGenerator\n",
      "[17:21:15] DEPRECATION WARNING: please use MorganGenerator\n",
      "[17:21:15] DEPRECATION WARNING: please use MorganGenerator\n",
      "[17:21:15] DEPRECATION WARNING: please use MorganGenerator\n",
      "[17:21:15] DEPRECATION WARNING: please use MorganGenerator\n",
      "[17:21:15] DEPRECATION WARNING: please use MorganGenerator\n",
      "[17:21:15] DEPRECATION WARNING: please use MorganGenerator\n",
      "[17:21:15] DEPRECATION WARNING: please use MorganGenerator\n",
      "[17:21:15] DEPRECATION WARNING: please use MorganGenerator\n",
      "[17:21:15] DEPRECATION WARNING: please use MorganGenerator\n",
      "[17:21:15] DEPRECATION WARNING: please use MorganGenerator\n",
      "[17:21:15] DEPRECATION WARNING: please use MorganGenerator\n",
      "[17:21:15] DEPRECATION WARNING: please use MorganGenerator\n",
      "[17:21:15] DEPRECATION WARNING: please use MorganGenerator\n",
      "[17:21:15] DEPRECATION WARNING: please use MorganGenerator\n",
      "[17:21:15] DEPRECATION WARNING: please use MorganGenerator\n",
      "[17:21:15] DEPRECATION WARNING: please use MorganGenerator\n",
      "[17:21:15] DEPRECATION WARNING: please use MorganGenerator\n",
      "[17:21:15] DEPRECATION WARNING: please use MorganGenerator\n",
      "[17:21:15] DEPRECATION WARNING: please use MorganGenerator\n",
      "[17:21:15] DEPRECATION WARNING: please use MorganGenerator\n",
      "[17:21:15] DEPRECATION WARNING: please use MorganGenerator\n",
      "[17:21:15] DEPRECATION WARNING: please use MorganGenerator\n",
      "[17:21:15] DEPRECATION WARNING: please use MorganGenerator\n",
      "[17:21:15] DEPRECATION WARNING: please use MorganGenerator\n",
      "[17:21:15] DEPRECATION WARNING: please use MorganGenerator\n",
      "[17:21:15] DEPRECATION WARNING: please use MorganGenerator\n",
      "[17:21:15] DEPRECATION WARNING: please use MorganGenerator\n",
      "[17:21:15] DEPRECATION WARNING: please use MorganGenerator\n",
      "[17:21:15] DEPRECATION WARNING: please use MorganGenerator\n",
      "[17:21:15] DEPRECATION WARNING: please use MorganGenerator\n",
      "[17:21:15] DEPRECATION WARNING: please use MorganGenerator\n",
      "[17:21:15] DEPRECATION WARNING: please use MorganGenerator\n",
      "[17:21:15] DEPRECATION WARNING: please use MorganGenerator\n",
      "[17:21:15] DEPRECATION WARNING: please use MorganGenerator\n",
      "[17:21:15] DEPRECATION WARNING: please use MorganGenerator\n",
      "[17:21:15] DEPRECATION WARNING: please use MorganGenerator\n",
      "[17:21:15] DEPRECATION WARNING: please use MorganGenerator\n",
      "[17:21:15] DEPRECATION WARNING: please use MorganGenerator\n",
      "[17:21:15] DEPRECATION WARNING: please use MorganGenerator\n",
      "[17:21:15] DEPRECATION WARNING: please use MorganGenerator\n",
      "[17:21:15] DEPRECATION WARNING: please use MorganGenerator\n",
      "[17:21:15] DEPRECATION WARNING: please use MorganGenerator\n",
      "[17:21:15] DEPRECATION WARNING: please use MorganGenerator\n",
      "[17:21:15] DEPRECATION WARNING: please use MorganGenerator\n",
      "[17:21:15] DEPRECATION WARNING: please use MorganGenerator\n",
      "[17:21:15] DEPRECATION WARNING: please use MorganGenerator\n",
      "[17:21:15] DEPRECATION WARNING: please use MorganGenerator\n",
      "[17:21:15] DEPRECATION WARNING: please use MorganGenerator\n",
      "[17:21:15] DEPRECATION WARNING: please use MorganGenerator\n",
      "[17:21:15] DEPRECATION WARNING: please use MorganGenerator\n",
      "[17:21:15] DEPRECATION WARNING: please use MorganGenerator\n",
      "[17:21:15] DEPRECATION WARNING: please use MorganGenerator\n",
      "[17:21:15] DEPRECATION WARNING: please use MorganGenerator\n",
      "[17:21:15] DEPRECATION WARNING: please use MorganGenerator\n",
      "[17:21:15] DEPRECATION WARNING: please use MorganGenerator\n",
      "[17:21:15] DEPRECATION WARNING: please use MorganGenerator\n",
      "[17:21:15] DEPRECATION WARNING: please use MorganGenerator\n",
      "[17:21:15] DEPRECATION WARNING: please use MorganGenerator\n",
      "[17:21:15] DEPRECATION WARNING: please use MorganGenerator\n",
      "[17:21:15] DEPRECATION WARNING: please use MorganGenerator\n",
      "[17:21:15] DEPRECATION WARNING: please use MorganGenerator\n",
      "[17:21:15] DEPRECATION WARNING: please use MorganGenerator\n",
      "[17:21:15] DEPRECATION WARNING: please use MorganGenerator\n",
      "[17:21:15] DEPRECATION WARNING: please use MorganGenerator\n",
      "[17:21:15] DEPRECATION WARNING: please use MorganGenerator\n",
      "[17:21:15] DEPRECATION WARNING: please use MorganGenerator\n",
      "[17:21:15] DEPRECATION WARNING: please use MorganGenerator\n",
      "[17:21:15] DEPRECATION WARNING: please use MorganGenerator\n",
      "[17:21:15] DEPRECATION WARNING: please use MorganGenerator\n",
      "[17:21:15] DEPRECATION WARNING: please use MorganGenerator\n",
      "[17:21:15] DEPRECATION WARNING: please use MorganGenerator\n",
      "[17:21:15] DEPRECATION WARNING: please use MorganGenerator\n",
      "[17:21:15] DEPRECATION WARNING: please use MorganGenerator\n",
      "[17:21:15] DEPRECATION WARNING: please use MorganGenerator\n",
      "[17:21:15] DEPRECATION WARNING: please use MorganGenerator\n",
      "[17:21:15] DEPRECATION WARNING: please use MorganGenerator\n",
      "[17:21:15] DEPRECATION WARNING: please use MorganGenerator\n",
      "[17:21:15] DEPRECATION WARNING: please use MorganGenerator\n",
      "[17:21:15] DEPRECATION WARNING: please use MorganGenerator\n",
      "[17:21:15] DEPRECATION WARNING: please use MorganGenerator\n",
      "[17:21:15] DEPRECATION WARNING: please use MorganGenerator\n",
      "[17:21:15] DEPRECATION WARNING: please use MorganGenerator\n",
      "[17:21:15] DEPRECATION WARNING: please use MorganGenerator\n",
      "[17:21:15] DEPRECATION WARNING: please use MorganGenerator\n",
      "[17:21:15] DEPRECATION WARNING: please use MorganGenerator\n",
      "[17:21:15] DEPRECATION WARNING: please use MorganGenerator\n",
      "[17:21:15] DEPRECATION WARNING: please use MorganGenerator\n",
      "[17:21:15] DEPRECATION WARNING: please use MorganGenerator\n",
      "[17:21:15] DEPRECATION WARNING: please use MorganGenerator\n",
      "[17:21:15] DEPRECATION WARNING: please use MorganGenerator\n",
      "[17:21:15] DEPRECATION WARNING: please use MorganGenerator\n",
      "[17:21:15] DEPRECATION WARNING: please use MorganGenerator\n",
      "[17:21:15] DEPRECATION WARNING: please use MorganGenerator\n",
      "[17:21:15] DEPRECATION WARNING: please use MorganGenerator\n",
      "[17:21:15] DEPRECATION WARNING: please use MorganGenerator\n",
      "[17:21:15] DEPRECATION WARNING: please use MorganGenerator\n",
      "[17:21:15] DEPRECATION WARNING: please use MorganGenerator\n",
      "[17:21:15] DEPRECATION WARNING: please use MorganGenerator\n",
      "[17:21:15] DEPRECATION WARNING: please use MorganGenerator\n",
      "[17:21:15] DEPRECATION WARNING: please use MorganGenerator\n",
      "[17:21:15] DEPRECATION WARNING: please use MorganGenerator\n",
      "[17:21:15] DEPRECATION WARNING: please use MorganGenerator\n",
      "[17:21:15] DEPRECATION WARNING: please use MorganGenerator\n",
      "[17:21:15] DEPRECATION WARNING: please use MorganGenerator\n",
      "[17:21:15] DEPRECATION WARNING: please use MorganGenerator\n",
      "[17:21:15] DEPRECATION WARNING: please use MorganGenerator\n",
      "[17:21:15] DEPRECATION WARNING: please use MorganGenerator\n",
      "[17:21:15] DEPRECATION WARNING: please use MorganGenerator\n",
      "[17:21:15] DEPRECATION WARNING: please use MorganGenerator\n",
      "[17:21:15] DEPRECATION WARNING: please use MorganGenerator\n",
      "[17:21:15] DEPRECATION WARNING: please use MorganGenerator\n",
      "[17:21:15] DEPRECATION WARNING: please use MorganGenerator\n",
      "[17:21:15] DEPRECATION WARNING: please use MorganGenerator\n",
      "[17:21:15] DEPRECATION WARNING: please use MorganGenerator\n",
      "[17:21:15] DEPRECATION WARNING: please use MorganGenerator\n",
      "[17:21:15] DEPRECATION WARNING: please use MorganGenerator\n",
      "[17:21:15] DEPRECATION WARNING: please use MorganGenerator\n",
      "[17:21:15] DEPRECATION WARNING: please use MorganGenerator\n",
      "[17:21:15] DEPRECATION WARNING: please use MorganGenerator\n",
      "[17:21:15] DEPRECATION WARNING: please use MorganGenerator\n",
      "[17:21:15] DEPRECATION WARNING: please use MorganGenerator\n",
      "[17:21:15] DEPRECATION WARNING: please use MorganGenerator\n",
      "[17:21:15] DEPRECATION WARNING: please use MorganGenerator\n",
      "[17:21:15] DEPRECATION WARNING: please use MorganGenerator\n",
      "[17:21:15] DEPRECATION WARNING: please use MorganGenerator\n",
      "[17:21:15] DEPRECATION WARNING: please use MorganGenerator\n",
      "[17:21:15] DEPRECATION WARNING: please use MorganGenerator\n",
      "[17:21:15] DEPRECATION WARNING: please use MorganGenerator\n",
      "[17:21:15] DEPRECATION WARNING: please use MorganGenerator\n",
      "[17:21:15] DEPRECATION WARNING: please use MorganGenerator\n",
      "[17:21:15] DEPRECATION WARNING: please use MorganGenerator\n",
      "[17:21:15] DEPRECATION WARNING: please use MorganGenerator\n",
      "[17:21:15] DEPRECATION WARNING: please use MorganGenerator\n",
      "[17:21:15] DEPRECATION WARNING: please use MorganGenerator\n",
      "[17:21:15] DEPRECATION WARNING: please use MorganGenerator\n",
      "[17:21:15] DEPRECATION WARNING: please use MorganGenerator\n",
      "[17:21:15] DEPRECATION WARNING: please use MorganGenerator\n",
      "[17:21:15] DEPRECATION WARNING: please use MorganGenerator\n",
      "[17:21:15] DEPRECATION WARNING: please use MorganGenerator\n",
      "[17:21:15] DEPRECATION WARNING: please use MorganGenerator\n",
      "[17:21:15] DEPRECATION WARNING: please use MorganGenerator\n",
      "[17:21:15] DEPRECATION WARNING: please use MorganGenerator\n",
      "[17:21:15] DEPRECATION WARNING: please use MorganGenerator\n",
      "[17:21:15] DEPRECATION WARNING: please use MorganGenerator\n",
      "[17:21:15] DEPRECATION WARNING: please use MorganGenerator\n",
      "[17:21:15] DEPRECATION WARNING: please use MorganGenerator\n",
      "[17:21:15] DEPRECATION WARNING: please use MorganGenerator\n",
      "[17:21:15] DEPRECATION WARNING: please use MorganGenerator\n",
      "[17:21:15] DEPRECATION WARNING: please use MorganGenerator\n",
      "[17:21:15] DEPRECATION WARNING: please use MorganGenerator\n",
      "[17:21:15] DEPRECATION WARNING: please use MorganGenerator\n",
      "[17:21:15] DEPRECATION WARNING: please use MorganGenerator\n",
      "[17:21:15] DEPRECATION WARNING: please use MorganGenerator\n",
      "[17:21:15] DEPRECATION WARNING: please use MorganGenerator\n",
      "[17:21:15] DEPRECATION WARNING: please use MorganGenerator\n",
      "[17:21:15] DEPRECATION WARNING: please use MorganGenerator\n",
      "[17:21:15] DEPRECATION WARNING: please use MorganGenerator\n",
      "[17:21:15] DEPRECATION WARNING: please use MorganGenerator\n",
      "[17:21:15] DEPRECATION WARNING: please use MorganGenerator\n",
      "[17:21:15] DEPRECATION WARNING: please use MorganGenerator\n",
      "[17:21:15] DEPRECATION WARNING: please use MorganGenerator\n",
      "[17:21:15] DEPRECATION WARNING: please use MorganGenerator\n",
      "[17:21:15] DEPRECATION WARNING: please use MorganGenerator\n",
      "[17:21:15] DEPRECATION WARNING: please use MorganGenerator\n",
      "[17:21:15] DEPRECATION WARNING: please use MorganGenerator\n",
      "[17:21:15] DEPRECATION WARNING: please use MorganGenerator\n",
      "[17:21:15] DEPRECATION WARNING: please use MorganGenerator\n",
      "[17:21:15] DEPRECATION WARNING: please use MorganGenerator\n",
      "[17:21:15] DEPRECATION WARNING: please use MorganGenerator\n",
      "[17:21:15] DEPRECATION WARNING: please use MorganGenerator\n",
      "[17:21:15] DEPRECATION WARNING: please use MorganGenerator\n",
      "[17:21:15] DEPRECATION WARNING: please use MorganGenerator\n",
      "[17:21:15] DEPRECATION WARNING: please use MorganGenerator\n",
      "[17:21:15] DEPRECATION WARNING: please use MorganGenerator\n",
      "[17:21:15] DEPRECATION WARNING: please use MorganGenerator\n",
      "[17:21:15] DEPRECATION WARNING: please use MorganGenerator\n",
      "[17:21:15] DEPRECATION WARNING: please use MorganGenerator\n",
      "[17:21:15] DEPRECATION WARNING: please use MorganGenerator\n",
      "[17:21:15] DEPRECATION WARNING: please use MorganGenerator\n",
      "[17:21:15] DEPRECATION WARNING: please use MorganGenerator\n",
      "[17:21:15] DEPRECATION WARNING: please use MorganGenerator\n",
      "[17:21:15] DEPRECATION WARNING: please use MorganGenerator\n",
      "[17:21:15] DEPRECATION WARNING: please use MorganGenerator\n",
      "[17:21:15] DEPRECATION WARNING: please use MorganGenerator\n",
      "[17:21:15] DEPRECATION WARNING: please use MorganGenerator\n",
      "[17:21:15] DEPRECATION WARNING: please use MorganGenerator\n",
      "[17:21:15] DEPRECATION WARNING: please use MorganGenerator\n",
      "[17:21:15] DEPRECATION WARNING: please use MorganGenerator\n",
      "[17:21:15] DEPRECATION WARNING: please use MorganGenerator\n",
      "[17:21:15] DEPRECATION WARNING: please use MorganGenerator\n",
      "[17:21:15] DEPRECATION WARNING: please use MorganGenerator\n",
      "[17:21:15] DEPRECATION WARNING: please use MorganGenerator\n",
      "[17:21:15] DEPRECATION WARNING: please use MorganGenerator\n",
      "[17:21:15] DEPRECATION WARNING: please use MorganGenerator\n",
      "[17:21:15] DEPRECATION WARNING: please use MorganGenerator\n",
      "[17:21:15] DEPRECATION WARNING: please use MorganGenerator\n",
      "[17:21:15] DEPRECATION WARNING: please use MorganGenerator\n",
      "[17:21:15] DEPRECATION WARNING: please use MorganGenerator\n",
      "[17:21:15] DEPRECATION WARNING: please use MorganGenerator\n",
      "[17:21:15] DEPRECATION WARNING: please use MorganGenerator\n",
      "[17:21:15] DEPRECATION WARNING: please use MorganGenerator\n",
      "[17:21:15] DEPRECATION WARNING: please use MorganGenerator\n",
      "[17:21:15] DEPRECATION WARNING: please use MorganGenerator\n",
      "[17:21:15] DEPRECATION WARNING: please use MorganGenerator\n",
      "[17:21:15] DEPRECATION WARNING: please use MorganGenerator\n",
      "[17:21:15] DEPRECATION WARNING: please use MorganGenerator\n",
      "[17:21:15] DEPRECATION WARNING: please use MorganGenerator\n",
      "[17:21:15] DEPRECATION WARNING: please use MorganGenerator\n",
      "[17:21:15] DEPRECATION WARNING: please use MorganGenerator\n",
      "[17:21:15] DEPRECATION WARNING: please use MorganGenerator\n",
      "[17:21:15] DEPRECATION WARNING: please use MorganGenerator\n",
      "[17:21:15] DEPRECATION WARNING: please use MorganGenerator\n",
      "[17:21:15] DEPRECATION WARNING: please use MorganGenerator\n",
      "[17:21:15] DEPRECATION WARNING: please use MorganGenerator\n",
      "[17:21:15] DEPRECATION WARNING: please use MorganGenerator\n",
      "[17:21:15] DEPRECATION WARNING: please use MorganGenerator\n",
      "[17:21:15] DEPRECATION WARNING: please use MorganGenerator\n",
      "[17:21:15] DEPRECATION WARNING: please use MorganGenerator\n",
      "[17:21:15] DEPRECATION WARNING: please use MorganGenerator\n",
      "[17:21:15] DEPRECATION WARNING: please use MorganGenerator\n",
      "[17:21:15] DEPRECATION WARNING: please use MorganGenerator\n",
      "[17:21:15] DEPRECATION WARNING: please use MorganGenerator\n",
      "[17:21:15] DEPRECATION WARNING: please use MorganGenerator\n",
      "[17:21:15] DEPRECATION WARNING: please use MorganGenerator\n",
      "[17:21:15] DEPRECATION WARNING: please use MorganGenerator\n",
      "[17:21:15] DEPRECATION WARNING: please use MorganGenerator\n",
      "[17:21:15] DEPRECATION WARNING: please use MorganGenerator\n",
      "[17:21:15] DEPRECATION WARNING: please use MorganGenerator\n",
      "[17:21:15] DEPRECATION WARNING: please use MorganGenerator\n",
      "[17:21:15] DEPRECATION WARNING: please use MorganGenerator\n",
      "[17:21:15] DEPRECATION WARNING: please use MorganGenerator\n",
      "[17:21:15] DEPRECATION WARNING: please use MorganGenerator\n",
      "[17:21:15] DEPRECATION WARNING: please use MorganGenerator\n",
      "[17:21:15] DEPRECATION WARNING: please use MorganGenerator\n",
      "[17:21:15] DEPRECATION WARNING: please use MorganGenerator\n",
      "[17:21:15] DEPRECATION WARNING: please use MorganGenerator\n",
      "[17:21:15] DEPRECATION WARNING: please use MorganGenerator\n",
      "[17:21:15] DEPRECATION WARNING: please use MorganGenerator\n",
      "[17:21:15] DEPRECATION WARNING: please use MorganGenerator\n",
      "[17:21:15] DEPRECATION WARNING: please use MorganGenerator\n",
      "[17:21:15] DEPRECATION WARNING: please use MorganGenerator\n",
      "[17:21:15] DEPRECATION WARNING: please use MorganGenerator\n",
      "[17:21:15] DEPRECATION WARNING: please use MorganGenerator\n",
      "[17:21:15] DEPRECATION WARNING: please use MorganGenerator\n",
      "[17:21:15] DEPRECATION WARNING: please use MorganGenerator\n",
      "[17:21:15] DEPRECATION WARNING: please use MorganGenerator\n",
      "[17:21:15] DEPRECATION WARNING: please use MorganGenerator\n",
      "[17:21:15] DEPRECATION WARNING: please use MorganGenerator\n",
      "[17:21:15] DEPRECATION WARNING: please use MorganGenerator\n",
      "[17:21:15] DEPRECATION WARNING: please use MorganGenerator\n",
      "[17:21:15] DEPRECATION WARNING: please use MorganGenerator\n",
      "[17:21:15] DEPRECATION WARNING: please use MorganGenerator\n",
      "[17:21:15] DEPRECATION WARNING: please use MorganGenerator\n",
      "[17:21:15] DEPRECATION WARNING: please use MorganGenerator\n",
      "[17:21:15] DEPRECATION WARNING: please use MorganGenerator\n",
      "[17:21:15] DEPRECATION WARNING: please use MorganGenerator\n",
      "[17:21:15] DEPRECATION WARNING: please use MorganGenerator\n",
      "[17:21:15] DEPRECATION WARNING: please use MorganGenerator\n",
      "[17:21:15] DEPRECATION WARNING: please use MorganGenerator\n",
      "[17:21:15] DEPRECATION WARNING: please use MorganGenerator\n",
      "[17:21:15] DEPRECATION WARNING: please use MorganGenerator\n",
      "[17:21:15] DEPRECATION WARNING: please use MorganGenerator\n",
      "[17:21:15] DEPRECATION WARNING: please use MorganGenerator\n",
      "[17:21:15] DEPRECATION WARNING: please use MorganGenerator\n",
      "[17:21:15] DEPRECATION WARNING: please use MorganGenerator\n",
      "[17:21:15] DEPRECATION WARNING: please use MorganGenerator\n",
      "[17:21:15] DEPRECATION WARNING: please use MorganGenerator\n",
      "[17:21:15] DEPRECATION WARNING: please use MorganGenerator\n",
      "[17:21:15] DEPRECATION WARNING: please use MorganGenerator\n",
      "[17:21:15] DEPRECATION WARNING: please use MorganGenerator\n",
      "[17:21:15] DEPRECATION WARNING: please use MorganGenerator\n",
      "[17:21:15] DEPRECATION WARNING: please use MorganGenerator\n",
      "[17:21:15] DEPRECATION WARNING: please use MorganGenerator\n",
      "[17:21:15] DEPRECATION WARNING: please use MorganGenerator\n",
      "[17:21:15] DEPRECATION WARNING: please use MorganGenerator\n",
      "[17:21:15] DEPRECATION WARNING: please use MorganGenerator\n",
      "[17:21:15] DEPRECATION WARNING: please use MorganGenerator\n",
      "[17:21:15] DEPRECATION WARNING: please use MorganGenerator\n",
      "[17:21:15] DEPRECATION WARNING: please use MorganGenerator\n",
      "[17:21:15] DEPRECATION WARNING: please use MorganGenerator\n",
      "[17:21:15] DEPRECATION WARNING: please use MorganGenerator\n",
      "[17:21:15] DEPRECATION WARNING: please use MorganGenerator\n",
      "[17:21:15] DEPRECATION WARNING: please use MorganGenerator\n",
      "[17:21:15] DEPRECATION WARNING: please use MorganGenerator\n",
      "[17:21:15] DEPRECATION WARNING: please use MorganGenerator\n",
      "[17:21:15] DEPRECATION WARNING: please use MorganGenerator\n",
      "[17:21:15] DEPRECATION WARNING: please use MorganGenerator\n",
      "[17:21:15] DEPRECATION WARNING: please use MorganGenerator\n",
      "[17:21:15] DEPRECATION WARNING: please use MorganGenerator\n",
      "[17:21:15] DEPRECATION WARNING: please use MorganGenerator\n",
      "[17:21:15] DEPRECATION WARNING: please use MorganGenerator\n",
      "[17:21:15] DEPRECATION WARNING: please use MorganGenerator\n",
      "[17:21:15] DEPRECATION WARNING: please use MorganGenerator\n",
      "[17:21:15] DEPRECATION WARNING: please use MorganGenerator\n",
      "[17:21:15] DEPRECATION WARNING: please use MorganGenerator\n",
      "[17:21:15] DEPRECATION WARNING: please use MorganGenerator\n",
      "[17:21:15] DEPRECATION WARNING: please use MorganGenerator\n",
      "[17:21:15] DEPRECATION WARNING: please use MorganGenerator\n",
      "[17:21:15] DEPRECATION WARNING: please use MorganGenerator\n",
      "[17:21:15] DEPRECATION WARNING: please use MorganGenerator\n",
      "[17:21:15] DEPRECATION WARNING: please use MorganGenerator\n",
      "[17:21:15] DEPRECATION WARNING: please use MorganGenerator\n",
      "[17:21:15] DEPRECATION WARNING: please use MorganGenerator\n",
      "[17:21:15] DEPRECATION WARNING: please use MorganGenerator\n",
      "[17:21:15] DEPRECATION WARNING: please use MorganGenerator\n",
      "[17:21:15] DEPRECATION WARNING: please use MorganGenerator\n",
      "[17:21:15] DEPRECATION WARNING: please use MorganGenerator\n",
      "[17:21:15] DEPRECATION WARNING: please use MorganGenerator\n",
      "[17:21:15] DEPRECATION WARNING: please use MorganGenerator\n",
      "[17:21:15] DEPRECATION WARNING: please use MorganGenerator\n",
      "[17:21:15] DEPRECATION WARNING: please use MorganGenerator\n",
      "[17:21:15] DEPRECATION WARNING: please use MorganGenerator\n",
      "[17:21:15] DEPRECATION WARNING: please use MorganGenerator\n",
      "[17:21:15] DEPRECATION WARNING: please use MorganGenerator\n",
      "[17:21:15] DEPRECATION WARNING: please use MorganGenerator\n",
      "[17:21:15] DEPRECATION WARNING: please use MorganGenerator\n",
      "[17:21:15] DEPRECATION WARNING: please use MorganGenerator\n",
      "[17:21:15] DEPRECATION WARNING: please use MorganGenerator\n",
      "[17:21:15] DEPRECATION WARNING: please use MorganGenerator\n",
      "[17:21:15] DEPRECATION WARNING: please use MorganGenerator\n",
      "[17:21:15] DEPRECATION WARNING: please use MorganGenerator\n",
      "[17:21:15] DEPRECATION WARNING: please use MorganGenerator\n",
      "[17:21:15] DEPRECATION WARNING: please use MorganGenerator\n",
      "[17:21:15] DEPRECATION WARNING: please use MorganGenerator\n",
      "[17:21:15] DEPRECATION WARNING: please use MorganGenerator\n",
      "[17:21:15] DEPRECATION WARNING: please use MorganGenerator\n",
      "[17:21:15] DEPRECATION WARNING: please use MorganGenerator\n",
      "[17:21:15] DEPRECATION WARNING: please use MorganGenerator\n",
      "[17:21:15] DEPRECATION WARNING: please use MorganGenerator\n",
      "[17:21:15] DEPRECATION WARNING: please use MorganGenerator\n",
      "[17:21:15] DEPRECATION WARNING: please use MorganGenerator\n",
      "[17:21:15] DEPRECATION WARNING: please use MorganGenerator\n",
      "[17:21:15] DEPRECATION WARNING: please use MorganGenerator\n",
      "[17:21:15] DEPRECATION WARNING: please use MorganGenerator\n",
      "[17:21:15] DEPRECATION WARNING: please use MorganGenerator\n",
      "[17:21:15] DEPRECATION WARNING: please use MorganGenerator\n",
      "[17:21:15] DEPRECATION WARNING: please use MorganGenerator\n",
      "[17:21:15] DEPRECATION WARNING: please use MorganGenerator\n",
      "[17:21:15] DEPRECATION WARNING: please use MorganGenerator\n",
      "[17:21:15] DEPRECATION WARNING: please use MorganGenerator\n",
      "[17:21:15] DEPRECATION WARNING: please use MorganGenerator\n",
      "[17:21:15] DEPRECATION WARNING: please use MorganGenerator\n",
      "[17:21:15] DEPRECATION WARNING: please use MorganGenerator\n",
      "[17:21:15] DEPRECATION WARNING: please use MorganGenerator\n",
      "[17:21:15] DEPRECATION WARNING: please use MorganGenerator\n",
      "[17:21:15] DEPRECATION WARNING: please use MorganGenerator\n",
      "[17:21:15] DEPRECATION WARNING: please use MorganGenerator\n",
      "[17:21:15] DEPRECATION WARNING: please use MorganGenerator\n",
      "[17:21:15] DEPRECATION WARNING: please use MorganGenerator\n",
      "[17:21:15] DEPRECATION WARNING: please use MorganGenerator\n",
      "[17:21:15] DEPRECATION WARNING: please use MorganGenerator\n",
      "[17:21:15] DEPRECATION WARNING: please use MorganGenerator\n",
      "[17:21:15] DEPRECATION WARNING: please use MorganGenerator\n",
      "[17:21:15] DEPRECATION WARNING: please use MorganGenerator\n",
      "[17:21:15] DEPRECATION WARNING: please use MorganGenerator\n",
      "[17:21:15] DEPRECATION WARNING: please use MorganGenerator\n",
      "[17:21:15] DEPRECATION WARNING: please use MorganGenerator\n",
      "[17:21:15] DEPRECATION WARNING: please use MorganGenerator\n",
      "[17:21:15] DEPRECATION WARNING: please use MorganGenerator\n",
      "[17:21:15] DEPRECATION WARNING: please use MorganGenerator\n",
      "[17:21:15] DEPRECATION WARNING: please use MorganGenerator\n",
      "[17:21:15] DEPRECATION WARNING: please use MorganGenerator\n",
      "[17:21:15] DEPRECATION WARNING: please use MorganGenerator\n",
      "[17:21:15] DEPRECATION WARNING: please use MorganGenerator\n",
      "[17:21:15] DEPRECATION WARNING: please use MorganGenerator\n",
      "[17:21:15] DEPRECATION WARNING: please use MorganGenerator\n",
      "[17:21:15] DEPRECATION WARNING: please use MorganGenerator\n",
      "[17:21:15] DEPRECATION WARNING: please use MorganGenerator\n",
      "[17:21:15] DEPRECATION WARNING: please use MorganGenerator\n",
      "[17:21:15] DEPRECATION WARNING: please use MorganGenerator\n",
      "[17:21:15] DEPRECATION WARNING: please use MorganGenerator\n",
      "[17:21:15] DEPRECATION WARNING: please use MorganGenerator\n",
      "[17:21:15] DEPRECATION WARNING: please use MorganGenerator\n",
      "[17:21:15] DEPRECATION WARNING: please use MorganGenerator\n",
      "[17:21:15] DEPRECATION WARNING: please use MorganGenerator\n",
      "[17:21:15] DEPRECATION WARNING: please use MorganGenerator\n",
      "[17:21:15] DEPRECATION WARNING: please use MorganGenerator\n",
      "[17:21:15] DEPRECATION WARNING: please use MorganGenerator\n",
      "[17:21:15] DEPRECATION WARNING: please use MorganGenerator\n",
      "[17:21:15] DEPRECATION WARNING: please use MorganGenerator\n",
      "[17:21:15] DEPRECATION WARNING: please use MorganGenerator\n",
      "[17:21:15] DEPRECATION WARNING: please use MorganGenerator\n",
      "[17:21:15] DEPRECATION WARNING: please use MorganGenerator\n",
      "[17:21:15] DEPRECATION WARNING: please use MorganGenerator\n",
      "[17:21:15] DEPRECATION WARNING: please use MorganGenerator\n",
      "[17:21:15] DEPRECATION WARNING: please use MorganGenerator\n",
      "[17:21:15] DEPRECATION WARNING: please use MorganGenerator\n",
      "[17:21:15] DEPRECATION WARNING: please use MorganGenerator\n",
      "[17:21:15] DEPRECATION WARNING: please use MorganGenerator\n",
      "[17:21:15] DEPRECATION WARNING: please use MorganGenerator\n",
      "[17:21:15] DEPRECATION WARNING: please use MorganGenerator\n",
      "[17:21:15] DEPRECATION WARNING: please use MorganGenerator\n",
      "[17:21:15] DEPRECATION WARNING: please use MorganGenerator\n",
      "[17:21:15] DEPRECATION WARNING: please use MorganGenerator\n",
      "[17:21:15] DEPRECATION WARNING: please use MorganGenerator\n",
      "[17:21:15] DEPRECATION WARNING: please use MorganGenerator\n",
      "[17:21:15] DEPRECATION WARNING: please use MorganGenerator\n",
      "[17:21:15] DEPRECATION WARNING: please use MorganGenerator\n",
      "[17:21:15] DEPRECATION WARNING: please use MorganGenerator\n",
      "[17:21:15] DEPRECATION WARNING: please use MorganGenerator\n",
      "[17:21:15] DEPRECATION WARNING: please use MorganGenerator\n",
      "[17:21:15] DEPRECATION WARNING: please use MorganGenerator\n",
      "[17:21:15] DEPRECATION WARNING: please use MorganGenerator\n",
      "[17:21:15] DEPRECATION WARNING: please use MorganGenerator\n",
      "[17:21:15] DEPRECATION WARNING: please use MorganGenerator\n",
      "[17:21:15] DEPRECATION WARNING: please use MorganGenerator\n",
      "[17:21:15] DEPRECATION WARNING: please use MorganGenerator\n",
      "[17:21:15] DEPRECATION WARNING: please use MorganGenerator\n",
      "[17:21:15] DEPRECATION WARNING: please use MorganGenerator\n",
      "[17:21:15] DEPRECATION WARNING: please use MorganGenerator\n",
      "[17:21:15] DEPRECATION WARNING: please use MorganGenerator\n",
      "[17:21:15] DEPRECATION WARNING: please use MorganGenerator\n",
      "[17:21:15] DEPRECATION WARNING: please use MorganGenerator\n",
      "[17:21:15] DEPRECATION WARNING: please use MorganGenerator\n",
      "[17:21:15] DEPRECATION WARNING: please use MorganGenerator\n",
      "[17:21:15] DEPRECATION WARNING: please use MorganGenerator\n",
      "[17:21:15] DEPRECATION WARNING: please use MorganGenerator\n",
      "[17:21:15] DEPRECATION WARNING: please use MorganGenerator\n",
      "[17:21:15] DEPRECATION WARNING: please use MorganGenerator\n",
      "[17:21:15] DEPRECATION WARNING: please use MorganGenerator\n",
      "[17:21:15] DEPRECATION WARNING: please use MorganGenerator\n",
      "[17:21:15] DEPRECATION WARNING: please use MorganGenerator\n",
      "[17:21:15] DEPRECATION WARNING: please use MorganGenerator\n",
      "[17:21:15] DEPRECATION WARNING: please use MorganGenerator\n",
      "[17:21:15] DEPRECATION WARNING: please use MorganGenerator\n",
      "[17:21:15] DEPRECATION WARNING: please use MorganGenerator\n",
      "[17:21:15] DEPRECATION WARNING: please use MorganGenerator\n",
      "[17:21:15] DEPRECATION WARNING: please use MorganGenerator\n",
      "[17:21:15] DEPRECATION WARNING: please use MorganGenerator\n",
      "[17:21:15] DEPRECATION WARNING: please use MorganGenerator\n",
      "[17:21:15] DEPRECATION WARNING: please use MorganGenerator\n",
      "[17:21:15] DEPRECATION WARNING: please use MorganGenerator\n",
      "[17:21:15] DEPRECATION WARNING: please use MorganGenerator\n",
      "[17:21:15] DEPRECATION WARNING: please use MorganGenerator\n",
      "[17:21:15] DEPRECATION WARNING: please use MorganGenerator\n",
      "[17:21:15] DEPRECATION WARNING: please use MorganGenerator\n",
      "[17:21:15] DEPRECATION WARNING: please use MorganGenerator\n",
      "[17:21:15] DEPRECATION WARNING: please use MorganGenerator\n",
      "[17:21:15] DEPRECATION WARNING: please use MorganGenerator\n",
      "[17:21:15] DEPRECATION WARNING: please use MorganGenerator\n",
      "[17:21:15] DEPRECATION WARNING: please use MorganGenerator\n",
      "[17:21:15] DEPRECATION WARNING: please use MorganGenerator\n",
      "[17:21:15] DEPRECATION WARNING: please use MorganGenerator\n",
      "[17:21:15] DEPRECATION WARNING: please use MorganGenerator\n",
      "[17:21:15] DEPRECATION WARNING: please use MorganGenerator\n",
      "[17:21:15] DEPRECATION WARNING: please use MorganGenerator\n",
      "[17:21:15] DEPRECATION WARNING: please use MorganGenerator\n",
      "[17:21:15] DEPRECATION WARNING: please use MorganGenerator\n",
      "[17:21:15] DEPRECATION WARNING: please use MorganGenerator\n",
      "[17:21:15] DEPRECATION WARNING: please use MorganGenerator\n",
      "[17:21:15] DEPRECATION WARNING: please use MorganGenerator\n",
      "[17:21:15] DEPRECATION WARNING: please use MorganGenerator\n",
      "[17:21:15] DEPRECATION WARNING: please use MorganGenerator\n",
      "[17:21:15] DEPRECATION WARNING: please use MorganGenerator\n",
      "[17:21:15] DEPRECATION WARNING: please use MorganGenerator\n",
      "[17:21:15] DEPRECATION WARNING: please use MorganGenerator\n",
      "[17:21:15] DEPRECATION WARNING: please use MorganGenerator\n",
      "[17:21:15] DEPRECATION WARNING: please use MorganGenerator\n",
      "[17:21:15] DEPRECATION WARNING: please use MorganGenerator\n",
      "[17:21:15] DEPRECATION WARNING: please use MorganGenerator\n",
      "[17:21:15] DEPRECATION WARNING: please use MorganGenerator\n",
      "[17:21:15] DEPRECATION WARNING: please use MorganGenerator\n",
      "[17:21:15] DEPRECATION WARNING: please use MorganGenerator\n",
      "[17:21:15] DEPRECATION WARNING: please use MorganGenerator\n",
      "[17:21:15] DEPRECATION WARNING: please use MorganGenerator\n",
      "[17:21:15] DEPRECATION WARNING: please use MorganGenerator\n",
      "[17:21:15] DEPRECATION WARNING: please use MorganGenerator\n",
      "[17:21:15] DEPRECATION WARNING: please use MorganGenerator\n",
      "[17:21:15] DEPRECATION WARNING: please use MorganGenerator\n",
      "[17:21:15] DEPRECATION WARNING: please use MorganGenerator\n",
      "[17:21:15] DEPRECATION WARNING: please use MorganGenerator\n",
      "[17:21:15] DEPRECATION WARNING: please use MorganGenerator\n",
      "[17:21:15] DEPRECATION WARNING: please use MorganGenerator\n",
      "[17:21:15] DEPRECATION WARNING: please use MorganGenerator\n",
      "[17:21:15] DEPRECATION WARNING: please use MorganGenerator\n",
      "[17:21:15] DEPRECATION WARNING: please use MorganGenerator\n",
      "[17:21:15] DEPRECATION WARNING: please use MorganGenerator\n",
      "[17:21:15] DEPRECATION WARNING: please use MorganGenerator\n",
      "[17:21:15] DEPRECATION WARNING: please use MorganGenerator\n",
      "[17:21:16] DEPRECATION WARNING: please use MorganGenerator\n",
      "[17:21:16] DEPRECATION WARNING: please use MorganGenerator\n",
      "[17:21:16] DEPRECATION WARNING: please use MorganGenerator\n",
      "[17:21:16] DEPRECATION WARNING: please use MorganGenerator\n",
      "[17:21:16] DEPRECATION WARNING: please use MorganGenerator\n",
      "[17:21:16] DEPRECATION WARNING: please use MorganGenerator\n",
      "[17:21:16] DEPRECATION WARNING: please use MorganGenerator\n",
      "[17:21:16] DEPRECATION WARNING: please use MorganGenerator\n",
      "[17:21:16] DEPRECATION WARNING: please use MorganGenerator\n",
      "[17:21:16] DEPRECATION WARNING: please use MorganGenerator\n",
      "[17:21:16] DEPRECATION WARNING: please use MorganGenerator\n",
      "[17:21:16] DEPRECATION WARNING: please use MorganGenerator\n",
      "[17:21:16] DEPRECATION WARNING: please use MorganGenerator\n",
      "[17:21:16] DEPRECATION WARNING: please use MorganGenerator\n",
      "[17:21:16] DEPRECATION WARNING: please use MorganGenerator\n",
      "[17:21:16] DEPRECATION WARNING: please use MorganGenerator\n",
      "[17:21:16] DEPRECATION WARNING: please use MorganGenerator\n",
      "[17:21:16] DEPRECATION WARNING: please use MorganGenerator\n",
      "[17:21:16] DEPRECATION WARNING: please use MorganGenerator\n",
      "[17:21:16] DEPRECATION WARNING: please use MorganGenerator\n",
      "[17:21:16] DEPRECATION WARNING: please use MorganGenerator\n",
      "[17:21:16] DEPRECATION WARNING: please use MorganGenerator\n",
      "[17:21:16] DEPRECATION WARNING: please use MorganGenerator\n",
      "[17:21:16] DEPRECATION WARNING: please use MorganGenerator\n",
      "[17:21:16] DEPRECATION WARNING: please use MorganGenerator\n",
      "[17:21:16] DEPRECATION WARNING: please use MorganGenerator\n",
      "[17:21:16] DEPRECATION WARNING: please use MorganGenerator\n",
      "[17:21:16] DEPRECATION WARNING: please use MorganGenerator\n",
      "[17:21:16] DEPRECATION WARNING: please use MorganGenerator\n",
      "[17:21:16] DEPRECATION WARNING: please use MorganGenerator\n",
      "[17:21:16] DEPRECATION WARNING: please use MorganGenerator\n",
      "[17:21:16] DEPRECATION WARNING: please use MorganGenerator\n",
      "[17:21:16] DEPRECATION WARNING: please use MorganGenerator\n",
      "[17:21:16] DEPRECATION WARNING: please use MorganGenerator\n",
      "[17:21:16] DEPRECATION WARNING: please use MorganGenerator\n",
      "[17:21:16] DEPRECATION WARNING: please use MorganGenerator\n",
      "[17:21:16] DEPRECATION WARNING: please use MorganGenerator\n",
      "[17:21:16] DEPRECATION WARNING: please use MorganGenerator\n",
      "[17:21:16] DEPRECATION WARNING: please use MorganGenerator\n",
      "[17:21:16] DEPRECATION WARNING: please use MorganGenerator\n",
      "[17:21:16] DEPRECATION WARNING: please use MorganGenerator\n",
      "[17:21:16] DEPRECATION WARNING: please use MorganGenerator\n",
      "[17:21:16] DEPRECATION WARNING: please use MorganGenerator\n",
      "[17:21:16] DEPRECATION WARNING: please use MorganGenerator\n",
      "[17:21:16] DEPRECATION WARNING: please use MorganGenerator\n",
      "[17:21:16] DEPRECATION WARNING: please use MorganGenerator\n",
      "[17:21:16] DEPRECATION WARNING: please use MorganGenerator\n",
      "[17:21:16] DEPRECATION WARNING: please use MorganGenerator\n",
      "[17:21:16] DEPRECATION WARNING: please use MorganGenerator\n",
      "[17:21:16] DEPRECATION WARNING: please use MorganGenerator\n",
      "[17:21:16] DEPRECATION WARNING: please use MorganGenerator\n",
      "[17:21:16] DEPRECATION WARNING: please use MorganGenerator\n",
      "[17:21:16] DEPRECATION WARNING: please use MorganGenerator\n",
      "[17:21:16] DEPRECATION WARNING: please use MorganGenerator\n",
      "[17:21:16] DEPRECATION WARNING: please use MorganGenerator\n",
      "[17:21:16] DEPRECATION WARNING: please use MorganGenerator\n",
      "[17:21:16] DEPRECATION WARNING: please use MorganGenerator\n",
      "[17:21:16] DEPRECATION WARNING: please use MorganGenerator\n",
      "[17:21:16] DEPRECATION WARNING: please use MorganGenerator\n",
      "[17:21:16] DEPRECATION WARNING: please use MorganGenerator\n",
      "[17:21:16] DEPRECATION WARNING: please use MorganGenerator\n",
      "[17:21:16] DEPRECATION WARNING: please use MorganGenerator\n",
      "[17:21:16] DEPRECATION WARNING: please use MorganGenerator\n",
      "[17:21:16] DEPRECATION WARNING: please use MorganGenerator\n",
      "[17:21:16] DEPRECATION WARNING: please use MorganGenerator\n",
      "[17:21:16] DEPRECATION WARNING: please use MorganGenerator\n",
      "[17:21:16] DEPRECATION WARNING: please use MorganGenerator\n",
      "[17:21:16] DEPRECATION WARNING: please use MorganGenerator\n",
      "[17:21:16] DEPRECATION WARNING: please use MorganGenerator\n",
      "[17:21:16] DEPRECATION WARNING: please use MorganGenerator\n",
      "[17:21:16] DEPRECATION WARNING: please use MorganGenerator\n",
      "[17:21:16] DEPRECATION WARNING: please use MorganGenerator\n",
      "[17:21:16] DEPRECATION WARNING: please use MorganGenerator\n",
      "[17:21:16] DEPRECATION WARNING: please use MorganGenerator\n",
      "[17:21:16] DEPRECATION WARNING: please use MorganGenerator\n",
      "[17:21:16] DEPRECATION WARNING: please use MorganGenerator\n",
      "[17:21:16] DEPRECATION WARNING: please use MorganGenerator\n",
      "[17:21:16] DEPRECATION WARNING: please use MorganGenerator\n",
      "[17:21:16] DEPRECATION WARNING: please use MorganGenerator\n",
      "[17:21:16] DEPRECATION WARNING: please use MorganGenerator\n",
      "[17:21:16] DEPRECATION WARNING: please use MorganGenerator\n",
      "[17:21:16] DEPRECATION WARNING: please use MorganGenerator\n",
      "[17:21:16] DEPRECATION WARNING: please use MorganGenerator\n",
      "[17:21:16] DEPRECATION WARNING: please use MorganGenerator\n",
      "[17:21:16] DEPRECATION WARNING: please use MorganGenerator\n",
      "[17:21:16] DEPRECATION WARNING: please use MorganGenerator\n",
      "[17:21:16] DEPRECATION WARNING: please use MorganGenerator\n",
      "[17:21:16] DEPRECATION WARNING: please use MorganGenerator\n",
      "[17:21:16] DEPRECATION WARNING: please use MorganGenerator\n",
      "[17:21:16] DEPRECATION WARNING: please use MorganGenerator\n",
      "[17:21:16] DEPRECATION WARNING: please use MorganGenerator\n",
      "[17:21:16] DEPRECATION WARNING: please use MorganGenerator\n",
      "[17:21:16] DEPRECATION WARNING: please use MorganGenerator\n",
      "[17:21:16] DEPRECATION WARNING: please use MorganGenerator\n",
      "[17:21:16] DEPRECATION WARNING: please use MorganGenerator\n",
      "[17:21:16] DEPRECATION WARNING: please use MorganGenerator\n",
      "[17:21:16] DEPRECATION WARNING: please use MorganGenerator\n",
      "[17:21:16] DEPRECATION WARNING: please use MorganGenerator\n",
      "[17:21:16] DEPRECATION WARNING: please use MorganGenerator\n",
      "[17:21:16] DEPRECATION WARNING: please use MorganGenerator\n",
      "[17:21:16] DEPRECATION WARNING: please use MorganGenerator\n",
      "[17:21:16] DEPRECATION WARNING: please use MorganGenerator\n",
      "[17:21:16] DEPRECATION WARNING: please use MorganGenerator\n",
      "[17:21:16] DEPRECATION WARNING: please use MorganGenerator\n",
      "[17:21:16] DEPRECATION WARNING: please use MorganGenerator\n",
      "[17:21:16] DEPRECATION WARNING: please use MorganGenerator\n",
      "[17:21:16] DEPRECATION WARNING: please use MorganGenerator\n",
      "[17:21:16] DEPRECATION WARNING: please use MorganGenerator\n",
      "[17:21:16] DEPRECATION WARNING: please use MorganGenerator\n",
      "[17:21:16] DEPRECATION WARNING: please use MorganGenerator\n",
      "[17:21:16] DEPRECATION WARNING: please use MorganGenerator\n",
      "[17:21:16] DEPRECATION WARNING: please use MorganGenerator\n",
      "[17:21:16] DEPRECATION WARNING: please use MorganGenerator\n",
      "[17:21:16] DEPRECATION WARNING: please use MorganGenerator\n",
      "[17:21:16] DEPRECATION WARNING: please use MorganGenerator\n",
      "[17:21:16] DEPRECATION WARNING: please use MorganGenerator\n",
      "[17:21:16] DEPRECATION WARNING: please use MorganGenerator\n",
      "[17:21:16] DEPRECATION WARNING: please use MorganGenerator\n",
      "[17:21:16] DEPRECATION WARNING: please use MorganGenerator\n",
      "[17:21:16] DEPRECATION WARNING: please use MorganGenerator\n",
      "[17:21:16] DEPRECATION WARNING: please use MorganGenerator\n",
      "[17:21:16] DEPRECATION WARNING: please use MorganGenerator\n",
      "[17:21:16] DEPRECATION WARNING: please use MorganGenerator\n",
      "[17:21:16] DEPRECATION WARNING: please use MorganGenerator\n",
      "[17:21:16] DEPRECATION WARNING: please use MorganGenerator\n",
      "[17:21:16] DEPRECATION WARNING: please use MorganGenerator\n",
      "[17:21:16] DEPRECATION WARNING: please use MorganGenerator\n",
      "[17:21:16] DEPRECATION WARNING: please use MorganGenerator\n",
      "[17:21:16] DEPRECATION WARNING: please use MorganGenerator\n",
      "[17:21:16] DEPRECATION WARNING: please use MorganGenerator\n",
      "[17:21:16] DEPRECATION WARNING: please use MorganGenerator\n",
      "[17:21:16] DEPRECATION WARNING: please use MorganGenerator\n",
      "[17:21:16] DEPRECATION WARNING: please use MorganGenerator\n",
      "[17:21:16] DEPRECATION WARNING: please use MorganGenerator\n",
      "[17:21:16] DEPRECATION WARNING: please use MorganGenerator\n",
      "[17:21:16] DEPRECATION WARNING: please use MorganGenerator\n",
      "[17:21:16] DEPRECATION WARNING: please use MorganGenerator\n",
      "[17:21:16] DEPRECATION WARNING: please use MorganGenerator\n",
      "[17:21:16] DEPRECATION WARNING: please use MorganGenerator\n",
      "[17:21:16] DEPRECATION WARNING: please use MorganGenerator\n",
      "[17:21:16] DEPRECATION WARNING: please use MorganGenerator\n",
      "[17:21:16] DEPRECATION WARNING: please use MorganGenerator\n",
      "[17:21:16] DEPRECATION WARNING: please use MorganGenerator\n",
      "[17:21:16] DEPRECATION WARNING: please use MorganGenerator\n",
      "[17:21:16] DEPRECATION WARNING: please use MorganGenerator\n",
      "[17:21:16] DEPRECATION WARNING: please use MorganGenerator\n",
      "[17:21:16] DEPRECATION WARNING: please use MorganGenerator\n",
      "[17:21:16] DEPRECATION WARNING: please use MorganGenerator\n",
      "[17:21:16] DEPRECATION WARNING: please use MorganGenerator\n",
      "[17:21:16] DEPRECATION WARNING: please use MorganGenerator\n",
      "[17:21:16] DEPRECATION WARNING: please use MorganGenerator\n",
      "[17:21:16] DEPRECATION WARNING: please use MorganGenerator\n",
      "[17:21:16] DEPRECATION WARNING: please use MorganGenerator\n",
      "[17:21:16] DEPRECATION WARNING: please use MorganGenerator\n",
      "[17:21:16] DEPRECATION WARNING: please use MorganGenerator\n",
      "[17:21:16] DEPRECATION WARNING: please use MorganGenerator\n",
      "[17:21:16] DEPRECATION WARNING: please use MorganGenerator\n",
      "[17:21:16] DEPRECATION WARNING: please use MorganGenerator\n",
      "[17:21:16] DEPRECATION WARNING: please use MorganGenerator\n",
      "[17:21:16] DEPRECATION WARNING: please use MorganGenerator\n",
      "[17:21:16] DEPRECATION WARNING: please use MorganGenerator\n",
      "[17:21:16] DEPRECATION WARNING: please use MorganGenerator\n",
      "[17:21:16] DEPRECATION WARNING: please use MorganGenerator\n",
      "[17:21:16] DEPRECATION WARNING: please use MorganGenerator\n",
      "[17:21:16] DEPRECATION WARNING: please use MorganGenerator\n",
      "[17:21:16] DEPRECATION WARNING: please use MorganGenerator\n",
      "[17:21:16] DEPRECATION WARNING: please use MorganGenerator\n",
      "[17:21:16] DEPRECATION WARNING: please use MorganGenerator\n",
      "[17:21:16] DEPRECATION WARNING: please use MorganGenerator\n",
      "[17:21:16] DEPRECATION WARNING: please use MorganGenerator\n",
      "[17:21:16] DEPRECATION WARNING: please use MorganGenerator\n",
      "[17:21:16] DEPRECATION WARNING: please use MorganGenerator\n",
      "[17:21:16] DEPRECATION WARNING: please use MorganGenerator\n",
      "[17:21:16] DEPRECATION WARNING: please use MorganGenerator\n",
      "[17:21:16] DEPRECATION WARNING: please use MorganGenerator\n",
      "[17:21:16] DEPRECATION WARNING: please use MorganGenerator\n",
      "[17:21:16] DEPRECATION WARNING: please use MorganGenerator\n",
      "[17:21:16] DEPRECATION WARNING: please use MorganGenerator\n",
      "[17:21:16] DEPRECATION WARNING: please use MorganGenerator\n",
      "[17:21:16] DEPRECATION WARNING: please use MorganGenerator\n",
      "[17:21:16] DEPRECATION WARNING: please use MorganGenerator\n",
      "[17:21:16] DEPRECATION WARNING: please use MorganGenerator\n",
      "[17:21:16] DEPRECATION WARNING: please use MorganGenerator\n",
      "[17:21:16] DEPRECATION WARNING: please use MorganGenerator\n",
      "[17:21:16] DEPRECATION WARNING: please use MorganGenerator\n",
      "[17:21:16] DEPRECATION WARNING: please use MorganGenerator\n",
      "[17:21:16] DEPRECATION WARNING: please use MorganGenerator\n",
      "[17:21:16] DEPRECATION WARNING: please use MorganGenerator\n",
      "[17:21:16] DEPRECATION WARNING: please use MorganGenerator\n",
      "[17:21:16] DEPRECATION WARNING: please use MorganGenerator\n",
      "[17:21:16] DEPRECATION WARNING: please use MorganGenerator\n",
      "[17:21:16] DEPRECATION WARNING: please use MorganGenerator\n",
      "[17:21:16] DEPRECATION WARNING: please use MorganGenerator\n",
      "[17:21:16] DEPRECATION WARNING: please use MorganGenerator\n",
      "[17:21:16] DEPRECATION WARNING: please use MorganGenerator\n",
      "[17:21:16] DEPRECATION WARNING: please use MorganGenerator\n",
      "[17:21:16] DEPRECATION WARNING: please use MorganGenerator\n",
      "[17:21:16] DEPRECATION WARNING: please use MorganGenerator\n",
      "[17:21:16] DEPRECATION WARNING: please use MorganGenerator\n",
      "[17:21:16] DEPRECATION WARNING: please use MorganGenerator\n",
      "[17:21:16] DEPRECATION WARNING: please use MorganGenerator\n",
      "[17:21:16] DEPRECATION WARNING: please use MorganGenerator\n",
      "[17:21:16] DEPRECATION WARNING: please use MorganGenerator\n",
      "[17:21:16] DEPRECATION WARNING: please use MorganGenerator\n",
      "[17:21:16] DEPRECATION WARNING: please use MorganGenerator\n",
      "[17:21:16] DEPRECATION WARNING: please use MorganGenerator\n",
      "[17:21:16] DEPRECATION WARNING: please use MorganGenerator\n",
      "[17:21:16] DEPRECATION WARNING: please use MorganGenerator\n",
      "[17:21:16] DEPRECATION WARNING: please use MorganGenerator\n",
      "[17:21:16] DEPRECATION WARNING: please use MorganGenerator\n",
      "[17:21:16] DEPRECATION WARNING: please use MorganGenerator\n",
      "[17:21:16] DEPRECATION WARNING: please use MorganGenerator\n",
      "[17:21:16] DEPRECATION WARNING: please use MorganGenerator\n",
      "[17:21:16] DEPRECATION WARNING: please use MorganGenerator\n",
      "[17:21:16] DEPRECATION WARNING: please use MorganGenerator\n",
      "[17:21:16] DEPRECATION WARNING: please use MorganGenerator\n",
      "[17:21:16] DEPRECATION WARNING: please use MorganGenerator\n",
      "[17:21:16] DEPRECATION WARNING: please use MorganGenerator\n",
      "[17:21:16] DEPRECATION WARNING: please use MorganGenerator\n",
      "[17:21:16] DEPRECATION WARNING: please use MorganGenerator\n",
      "[17:21:16] DEPRECATION WARNING: please use MorganGenerator\n",
      "[17:21:16] DEPRECATION WARNING: please use MorganGenerator\n",
      "[17:21:16] DEPRECATION WARNING: please use MorganGenerator\n",
      "[17:21:16] DEPRECATION WARNING: please use MorganGenerator\n",
      "[17:21:16] DEPRECATION WARNING: please use MorganGenerator\n",
      "[17:21:16] DEPRECATION WARNING: please use MorganGenerator\n",
      "[17:21:16] DEPRECATION WARNING: please use MorganGenerator\n",
      "[17:21:16] DEPRECATION WARNING: please use MorganGenerator\n",
      "[17:21:16] DEPRECATION WARNING: please use MorganGenerator\n",
      "[17:21:16] DEPRECATION WARNING: please use MorganGenerator\n",
      "[17:21:16] DEPRECATION WARNING: please use MorganGenerator\n",
      "[17:21:16] DEPRECATION WARNING: please use MorganGenerator\n",
      "[17:21:16] DEPRECATION WARNING: please use MorganGenerator\n",
      "[17:21:16] DEPRECATION WARNING: please use MorganGenerator\n",
      "[17:21:16] DEPRECATION WARNING: please use MorganGenerator\n",
      "[17:21:16] DEPRECATION WARNING: please use MorganGenerator\n",
      "[17:21:16] DEPRECATION WARNING: please use MorganGenerator\n",
      "[17:21:16] DEPRECATION WARNING: please use MorganGenerator\n",
      "[17:21:16] DEPRECATION WARNING: please use MorganGenerator\n",
      "[17:21:16] DEPRECATION WARNING: please use MorganGenerator\n",
      "[17:21:16] DEPRECATION WARNING: please use MorganGenerator\n",
      "[17:21:16] DEPRECATION WARNING: please use MorganGenerator\n",
      "[17:21:16] DEPRECATION WARNING: please use MorganGenerator\n",
      "[17:21:16] DEPRECATION WARNING: please use MorganGenerator\n",
      "[17:21:16] DEPRECATION WARNING: please use MorganGenerator\n",
      "[17:21:16] DEPRECATION WARNING: please use MorganGenerator\n",
      "[17:21:16] DEPRECATION WARNING: please use MorganGenerator\n",
      "[17:21:16] DEPRECATION WARNING: please use MorganGenerator\n",
      "[17:21:16] DEPRECATION WARNING: please use MorganGenerator\n",
      "[17:21:16] DEPRECATION WARNING: please use MorganGenerator\n",
      "[17:21:16] DEPRECATION WARNING: please use MorganGenerator\n",
      "[17:21:16] DEPRECATION WARNING: please use MorganGenerator\n",
      "[17:21:16] DEPRECATION WARNING: please use MorganGenerator\n",
      "[17:21:16] DEPRECATION WARNING: please use MorganGenerator\n",
      "[17:21:16] DEPRECATION WARNING: please use MorganGenerator\n",
      "[17:21:16] DEPRECATION WARNING: please use MorganGenerator\n",
      "[17:21:16] DEPRECATION WARNING: please use MorganGenerator\n",
      "[17:21:16] DEPRECATION WARNING: please use MorganGenerator\n",
      "[17:21:16] DEPRECATION WARNING: please use MorganGenerator\n",
      "[17:21:16] DEPRECATION WARNING: please use MorganGenerator\n",
      "[17:21:16] DEPRECATION WARNING: please use MorganGenerator\n",
      "[17:21:16] DEPRECATION WARNING: please use MorganGenerator\n",
      "[17:21:16] DEPRECATION WARNING: please use MorganGenerator\n",
      "[17:21:16] DEPRECATION WARNING: please use MorganGenerator\n",
      "[17:21:16] DEPRECATION WARNING: please use MorganGenerator\n",
      "[17:21:16] DEPRECATION WARNING: please use MorganGenerator\n",
      "[17:21:16] DEPRECATION WARNING: please use MorganGenerator\n",
      "[17:21:16] DEPRECATION WARNING: please use MorganGenerator\n",
      "[17:21:16] DEPRECATION WARNING: please use MorganGenerator\n",
      "[17:21:16] DEPRECATION WARNING: please use MorganGenerator\n",
      "[17:21:16] DEPRECATION WARNING: please use MorganGenerator\n",
      "[17:21:16] DEPRECATION WARNING: please use MorganGenerator\n",
      "[17:21:16] DEPRECATION WARNING: please use MorganGenerator\n",
      "[17:21:16] DEPRECATION WARNING: please use MorganGenerator\n",
      "[17:21:16] DEPRECATION WARNING: please use MorganGenerator\n",
      "[17:21:16] DEPRECATION WARNING: please use MorganGenerator\n",
      "[17:21:16] DEPRECATION WARNING: please use MorganGenerator\n",
      "[17:21:16] DEPRECATION WARNING: please use MorganGenerator\n",
      "[17:21:16] DEPRECATION WARNING: please use MorganGenerator\n",
      "[17:21:16] DEPRECATION WARNING: please use MorganGenerator\n",
      "[17:21:16] DEPRECATION WARNING: please use MorganGenerator\n",
      "[17:21:16] DEPRECATION WARNING: please use MorganGenerator\n",
      "[17:21:16] DEPRECATION WARNING: please use MorganGenerator\n",
      "[17:21:16] DEPRECATION WARNING: please use MorganGenerator\n",
      "[17:21:16] DEPRECATION WARNING: please use MorganGenerator\n",
      "2025-05-19 17:21:16,246 - INFO - Featurizing datapoint 1000\n",
      "[17:21:16] DEPRECATION WARNING: please use MorganGenerator\n",
      "[17:21:16] DEPRECATION WARNING: please use MorganGenerator\n",
      "[17:21:16] DEPRECATION WARNING: please use MorganGenerator\n",
      "[17:21:16] DEPRECATION WARNING: please use MorganGenerator\n",
      "[17:21:16] DEPRECATION WARNING: please use MorganGenerator\n",
      "[17:21:16] DEPRECATION WARNING: please use MorganGenerator\n",
      "[17:21:16] DEPRECATION WARNING: please use MorganGenerator\n",
      "[17:21:16] DEPRECATION WARNING: please use MorganGenerator\n",
      "[17:21:16] DEPRECATION WARNING: please use MorganGenerator\n",
      "[17:21:16] DEPRECATION WARNING: please use MorganGenerator\n",
      "[17:21:16] DEPRECATION WARNING: please use MorganGenerator\n",
      "[17:21:16] DEPRECATION WARNING: please use MorganGenerator\n",
      "[17:21:16] DEPRECATION WARNING: please use MorganGenerator\n",
      "[17:21:16] DEPRECATION WARNING: please use MorganGenerator\n",
      "[17:21:16] DEPRECATION WARNING: please use MorganGenerator\n",
      "[17:21:16] DEPRECATION WARNING: please use MorganGenerator\n",
      "[17:21:16] DEPRECATION WARNING: please use MorganGenerator\n",
      "[17:21:16] DEPRECATION WARNING: please use MorganGenerator\n",
      "[17:21:16] DEPRECATION WARNING: please use MorganGenerator\n",
      "[17:21:16] DEPRECATION WARNING: please use MorganGenerator\n",
      "[17:21:16] DEPRECATION WARNING: please use MorganGenerator\n",
      "[17:21:16] DEPRECATION WARNING: please use MorganGenerator\n",
      "[17:21:16] DEPRECATION WARNING: please use MorganGenerator\n",
      "[17:21:16] DEPRECATION WARNING: please use MorganGenerator\n",
      "[17:21:16] DEPRECATION WARNING: please use MorganGenerator\n",
      "[17:21:16] DEPRECATION WARNING: please use MorganGenerator\n",
      "[17:21:16] DEPRECATION WARNING: please use MorganGenerator\n",
      "[17:21:16] DEPRECATION WARNING: please use MorganGenerator\n",
      "[17:21:16] DEPRECATION WARNING: please use MorganGenerator\n",
      "[17:21:16] DEPRECATION WARNING: please use MorganGenerator\n",
      "[17:21:16] DEPRECATION WARNING: please use MorganGenerator\n",
      "[17:21:16] DEPRECATION WARNING: please use MorganGenerator\n",
      "[17:21:16] DEPRECATION WARNING: please use MorganGenerator\n",
      "[17:21:16] DEPRECATION WARNING: please use MorganGenerator\n",
      "[17:21:16] DEPRECATION WARNING: please use MorganGenerator\n",
      "[17:21:16] DEPRECATION WARNING: please use MorganGenerator\n",
      "[17:21:16] DEPRECATION WARNING: please use MorganGenerator\n",
      "[17:21:16] DEPRECATION WARNING: please use MorganGenerator\n",
      "[17:21:16] DEPRECATION WARNING: please use MorganGenerator\n",
      "[17:21:16] DEPRECATION WARNING: please use MorganGenerator\n",
      "[17:21:16] DEPRECATION WARNING: please use MorganGenerator\n",
      "[17:21:16] DEPRECATION WARNING: please use MorganGenerator\n",
      "[17:21:16] DEPRECATION WARNING: please use MorganGenerator\n",
      "[17:21:16] DEPRECATION WARNING: please use MorganGenerator\n",
      "[17:21:16] DEPRECATION WARNING: please use MorganGenerator\n",
      "[17:21:16] DEPRECATION WARNING: please use MorganGenerator\n",
      "[17:21:16] DEPRECATION WARNING: please use MorganGenerator\n",
      "[17:21:16] DEPRECATION WARNING: please use MorganGenerator\n",
      "[17:21:16] DEPRECATION WARNING: please use MorganGenerator\n",
      "[17:21:16] DEPRECATION WARNING: please use MorganGenerator\n",
      "[17:21:16] DEPRECATION WARNING: please use MorganGenerator\n",
      "[17:21:16] DEPRECATION WARNING: please use MorganGenerator\n",
      "[17:21:16] DEPRECATION WARNING: please use MorganGenerator\n",
      "[17:21:16] DEPRECATION WARNING: please use MorganGenerator\n",
      "[17:21:16] DEPRECATION WARNING: please use MorganGenerator\n",
      "[17:21:16] DEPRECATION WARNING: please use MorganGenerator\n",
      "[17:21:16] DEPRECATION WARNING: please use MorganGenerator\n",
      "[17:21:16] DEPRECATION WARNING: please use MorganGenerator\n",
      "[17:21:16] DEPRECATION WARNING: please use MorganGenerator\n",
      "[17:21:16] DEPRECATION WARNING: please use MorganGenerator\n",
      "[17:21:16] DEPRECATION WARNING: please use MorganGenerator\n",
      "[17:21:16] DEPRECATION WARNING: please use MorganGenerator\n",
      "[17:21:16] DEPRECATION WARNING: please use MorganGenerator\n",
      "[17:21:16] DEPRECATION WARNING: please use MorganGenerator\n",
      "[17:21:16] DEPRECATION WARNING: please use MorganGenerator\n",
      "[17:21:16] DEPRECATION WARNING: please use MorganGenerator\n",
      "[17:21:16] DEPRECATION WARNING: please use MorganGenerator\n",
      "[17:21:16] DEPRECATION WARNING: please use MorganGenerator\n",
      "[17:21:16] DEPRECATION WARNING: please use MorganGenerator\n",
      "[17:21:16] DEPRECATION WARNING: please use MorganGenerator\n",
      "[17:21:16] DEPRECATION WARNING: please use MorganGenerator\n",
      "[17:21:16] DEPRECATION WARNING: please use MorganGenerator\n",
      "[17:21:16] DEPRECATION WARNING: please use MorganGenerator\n",
      "[17:21:16] DEPRECATION WARNING: please use MorganGenerator\n",
      "[17:21:16] DEPRECATION WARNING: please use MorganGenerator\n",
      "[17:21:16] DEPRECATION WARNING: please use MorganGenerator\n",
      "[17:21:16] DEPRECATION WARNING: please use MorganGenerator\n",
      "[17:21:16] DEPRECATION WARNING: please use MorganGenerator\n",
      "[17:21:16] DEPRECATION WARNING: please use MorganGenerator\n",
      "[17:21:16] DEPRECATION WARNING: please use MorganGenerator\n",
      "[17:21:16] DEPRECATION WARNING: please use MorganGenerator\n",
      "[17:21:16] DEPRECATION WARNING: please use MorganGenerator\n",
      "[17:21:16] DEPRECATION WARNING: please use MorganGenerator\n",
      "[17:21:16] DEPRECATION WARNING: please use MorganGenerator\n",
      "[17:21:16] DEPRECATION WARNING: please use MorganGenerator\n",
      "[17:21:16] DEPRECATION WARNING: please use MorganGenerator\n",
      "[17:21:16] DEPRECATION WARNING: please use MorganGenerator\n",
      "[17:21:16] DEPRECATION WARNING: please use MorganGenerator\n",
      "[17:21:16] DEPRECATION WARNING: please use MorganGenerator\n",
      "[17:21:16] DEPRECATION WARNING: please use MorganGenerator\n",
      "[17:21:16] DEPRECATION WARNING: please use MorganGenerator\n",
      "[17:21:16] DEPRECATION WARNING: please use MorganGenerator\n",
      "[17:21:16] DEPRECATION WARNING: please use MorganGenerator\n",
      "[17:21:16] DEPRECATION WARNING: please use MorganGenerator\n",
      "[17:21:16] DEPRECATION WARNING: please use MorganGenerator\n",
      "[17:21:16] DEPRECATION WARNING: please use MorganGenerator\n",
      "[17:21:16] DEPRECATION WARNING: please use MorganGenerator\n",
      "[17:21:16] DEPRECATION WARNING: please use MorganGenerator\n",
      "[17:21:16] DEPRECATION WARNING: please use MorganGenerator\n",
      "[17:21:16] DEPRECATION WARNING: please use MorganGenerator\n",
      "[17:21:16] DEPRECATION WARNING: please use MorganGenerator\n",
      "[17:21:16] DEPRECATION WARNING: please use MorganGenerator\n",
      "[17:21:16] DEPRECATION WARNING: please use MorganGenerator\n",
      "[17:21:16] DEPRECATION WARNING: please use MorganGenerator\n",
      "[17:21:16] DEPRECATION WARNING: please use MorganGenerator\n",
      "[17:21:16] DEPRECATION WARNING: please use MorganGenerator\n",
      "[17:21:16] DEPRECATION WARNING: please use MorganGenerator\n",
      "[17:21:16] DEPRECATION WARNING: please use MorganGenerator\n",
      "[17:21:16] DEPRECATION WARNING: please use MorganGenerator\n",
      "[17:21:16] DEPRECATION WARNING: please use MorganGenerator\n",
      "[17:21:16] DEPRECATION WARNING: please use MorganGenerator\n",
      "[17:21:16] DEPRECATION WARNING: please use MorganGenerator\n",
      "[17:21:16] DEPRECATION WARNING: please use MorganGenerator\n",
      "[17:21:16] DEPRECATION WARNING: please use MorganGenerator\n",
      "[17:21:16] DEPRECATION WARNING: please use MorganGenerator\n",
      "[17:21:16] DEPRECATION WARNING: please use MorganGenerator\n",
      "[17:21:16] DEPRECATION WARNING: please use MorganGenerator\n",
      "[17:21:16] DEPRECATION WARNING: please use MorganGenerator\n",
      "[17:21:16] DEPRECATION WARNING: please use MorganGenerator\n",
      "[17:21:16] DEPRECATION WARNING: please use MorganGenerator\n",
      "[17:21:16] DEPRECATION WARNING: please use MorganGenerator\n",
      "[17:21:16] DEPRECATION WARNING: please use MorganGenerator\n",
      "[17:21:16] DEPRECATION WARNING: please use MorganGenerator\n",
      "[17:21:16] DEPRECATION WARNING: please use MorganGenerator\n",
      "[17:21:16] DEPRECATION WARNING: please use MorganGenerator\n",
      "[17:21:16] DEPRECATION WARNING: please use MorganGenerator\n",
      "[17:21:16] DEPRECATION WARNING: please use MorganGenerator\n",
      "[17:21:16] DEPRECATION WARNING: please use MorganGenerator\n",
      "[17:21:16] DEPRECATION WARNING: please use MorganGenerator\n",
      "[17:21:16] DEPRECATION WARNING: please use MorganGenerator\n",
      "[17:21:16] DEPRECATION WARNING: please use MorganGenerator\n",
      "[17:21:16] DEPRECATION WARNING: please use MorganGenerator\n",
      "[17:21:16] DEPRECATION WARNING: please use MorganGenerator\n",
      "[17:21:16] DEPRECATION WARNING: please use MorganGenerator\n",
      "[17:21:16] DEPRECATION WARNING: please use MorganGenerator\n",
      "[17:21:16] DEPRECATION WARNING: please use MorganGenerator\n",
      "[17:21:16] DEPRECATION WARNING: please use MorganGenerator\n",
      "[17:21:16] DEPRECATION WARNING: please use MorganGenerator\n",
      "[17:21:16] DEPRECATION WARNING: please use MorganGenerator\n",
      "[17:21:16] DEPRECATION WARNING: please use MorganGenerator\n",
      "[17:21:16] DEPRECATION WARNING: please use MorganGenerator\n",
      "[17:21:16] DEPRECATION WARNING: please use MorganGenerator\n",
      "[17:21:16] DEPRECATION WARNING: please use MorganGenerator\n",
      "[17:21:16] DEPRECATION WARNING: please use MorganGenerator\n",
      "[17:21:16] DEPRECATION WARNING: please use MorganGenerator\n",
      "[17:21:16] DEPRECATION WARNING: please use MorganGenerator\n",
      "[17:21:16] DEPRECATION WARNING: please use MorganGenerator\n",
      "[17:21:16] DEPRECATION WARNING: please use MorganGenerator\n",
      "[17:21:16] DEPRECATION WARNING: please use MorganGenerator\n",
      "[17:21:16] DEPRECATION WARNING: please use MorganGenerator\n",
      "[17:21:16] DEPRECATION WARNING: please use MorganGenerator\n",
      "[17:21:16] DEPRECATION WARNING: please use MorganGenerator\n",
      "[17:21:16] DEPRECATION WARNING: please use MorganGenerator\n",
      "[17:21:16] DEPRECATION WARNING: please use MorganGenerator\n",
      "[17:21:16] DEPRECATION WARNING: please use MorganGenerator\n",
      "[17:21:16] DEPRECATION WARNING: please use MorganGenerator\n",
      "[17:21:16] DEPRECATION WARNING: please use MorganGenerator\n",
      "[17:21:16] DEPRECATION WARNING: please use MorganGenerator\n",
      "[17:21:16] DEPRECATION WARNING: please use MorganGenerator\n",
      "[17:21:16] DEPRECATION WARNING: please use MorganGenerator\n",
      "[17:21:16] DEPRECATION WARNING: please use MorganGenerator\n",
      "[17:21:16] DEPRECATION WARNING: please use MorganGenerator\n",
      "[17:21:16] DEPRECATION WARNING: please use MorganGenerator\n",
      "[17:21:16] DEPRECATION WARNING: please use MorganGenerator\n",
      "[17:21:16] DEPRECATION WARNING: please use MorganGenerator\n",
      "[17:21:16] DEPRECATION WARNING: please use MorganGenerator\n",
      "[17:21:16] DEPRECATION WARNING: please use MorganGenerator\n",
      "[17:21:16] DEPRECATION WARNING: please use MorganGenerator\n",
      "[17:21:16] DEPRECATION WARNING: please use MorganGenerator\n",
      "[17:21:16] DEPRECATION WARNING: please use MorganGenerator\n",
      "[17:21:16] DEPRECATION WARNING: please use MorganGenerator\n",
      "[17:21:16] DEPRECATION WARNING: please use MorganGenerator\n",
      "[17:21:16] DEPRECATION WARNING: please use MorganGenerator\n",
      "[17:21:16] DEPRECATION WARNING: please use MorganGenerator\n",
      "[17:21:16] DEPRECATION WARNING: please use MorganGenerator\n",
      "[17:21:16] DEPRECATION WARNING: please use MorganGenerator\n",
      "[17:21:16] DEPRECATION WARNING: please use MorganGenerator\n",
      "[17:21:16] DEPRECATION WARNING: please use MorganGenerator\n",
      "[17:21:16] DEPRECATION WARNING: please use MorganGenerator\n",
      "[17:21:16] DEPRECATION WARNING: please use MorganGenerator\n",
      "[17:21:16] DEPRECATION WARNING: please use MorganGenerator\n",
      "[17:21:16] DEPRECATION WARNING: please use MorganGenerator\n",
      "[17:21:16] DEPRECATION WARNING: please use MorganGenerator\n",
      "[17:21:16] DEPRECATION WARNING: please use MorganGenerator\n",
      "[17:21:16] DEPRECATION WARNING: please use MorganGenerator\n",
      "[17:21:16] DEPRECATION WARNING: please use MorganGenerator\n",
      "[17:21:16] DEPRECATION WARNING: please use MorganGenerator\n",
      "[17:21:16] DEPRECATION WARNING: please use MorganGenerator\n",
      "[17:21:16] DEPRECATION WARNING: please use MorganGenerator\n",
      "[17:21:16] DEPRECATION WARNING: please use MorganGenerator\n",
      "[17:21:16] DEPRECATION WARNING: please use MorganGenerator\n",
      "[17:21:16] DEPRECATION WARNING: please use MorganGenerator\n",
      "[17:21:16] DEPRECATION WARNING: please use MorganGenerator\n",
      "[17:21:16] DEPRECATION WARNING: please use MorganGenerator\n",
      "[17:21:16] DEPRECATION WARNING: please use MorganGenerator\n",
      "[17:21:16] DEPRECATION WARNING: please use MorganGenerator\n",
      "[17:21:16] DEPRECATION WARNING: please use MorganGenerator\n",
      "[17:21:16] DEPRECATION WARNING: please use MorganGenerator\n",
      "[17:21:16] DEPRECATION WARNING: please use MorganGenerator\n",
      "[17:21:16] DEPRECATION WARNING: please use MorganGenerator\n",
      "[17:21:16] DEPRECATION WARNING: please use MorganGenerator\n",
      "[17:21:16] DEPRECATION WARNING: please use MorganGenerator\n",
      "[17:21:16] DEPRECATION WARNING: please use MorganGenerator\n",
      "[17:21:16] DEPRECATION WARNING: please use MorganGenerator\n",
      "[17:21:16] DEPRECATION WARNING: please use MorganGenerator\n",
      "[17:21:16] DEPRECATION WARNING: please use MorganGenerator\n",
      "[17:21:16] DEPRECATION WARNING: please use MorganGenerator\n",
      "[17:21:16] DEPRECATION WARNING: please use MorganGenerator\n",
      "[17:21:16] DEPRECATION WARNING: please use MorganGenerator\n",
      "[17:21:16] DEPRECATION WARNING: please use MorganGenerator\n",
      "[17:21:16] DEPRECATION WARNING: please use MorganGenerator\n",
      "[17:21:16] DEPRECATION WARNING: please use MorganGenerator\n",
      "[17:21:16] DEPRECATION WARNING: please use MorganGenerator\n",
      "[17:21:16] DEPRECATION WARNING: please use MorganGenerator\n",
      "[17:21:16] DEPRECATION WARNING: please use MorganGenerator\n",
      "[17:21:16] DEPRECATION WARNING: please use MorganGenerator\n",
      "[17:21:16] DEPRECATION WARNING: please use MorganGenerator\n",
      "[17:21:16] DEPRECATION WARNING: please use MorganGenerator\n",
      "[17:21:16] DEPRECATION WARNING: please use MorganGenerator\n",
      "[17:21:16] DEPRECATION WARNING: please use MorganGenerator\n",
      "[17:21:16] DEPRECATION WARNING: please use MorganGenerator\n",
      "[17:21:16] DEPRECATION WARNING: please use MorganGenerator\n",
      "[17:21:16] DEPRECATION WARNING: please use MorganGenerator\n",
      "[17:21:16] DEPRECATION WARNING: please use MorganGenerator\n",
      "[17:21:16] DEPRECATION WARNING: please use MorganGenerator\n",
      "[17:21:16] DEPRECATION WARNING: please use MorganGenerator\n",
      "[17:21:16] DEPRECATION WARNING: please use MorganGenerator\n",
      "[17:21:16] DEPRECATION WARNING: please use MorganGenerator\n",
      "[17:21:16] DEPRECATION WARNING: please use MorganGenerator\n",
      "[17:21:16] DEPRECATION WARNING: please use MorganGenerator\n",
      "[17:21:16] DEPRECATION WARNING: please use MorganGenerator\n",
      "[17:21:16] DEPRECATION WARNING: please use MorganGenerator\n",
      "[17:21:16] DEPRECATION WARNING: please use MorganGenerator\n",
      "[17:21:16] DEPRECATION WARNING: please use MorganGenerator\n",
      "[17:21:16] DEPRECATION WARNING: please use MorganGenerator\n",
      "[17:21:16] DEPRECATION WARNING: please use MorganGenerator\n",
      "[17:21:16] DEPRECATION WARNING: please use MorganGenerator\n",
      "[17:21:16] DEPRECATION WARNING: please use MorganGenerator\n",
      "[17:21:16] DEPRECATION WARNING: please use MorganGenerator\n",
      "[17:21:16] DEPRECATION WARNING: please use MorganGenerator\n",
      "[17:21:16] DEPRECATION WARNING: please use MorganGenerator\n",
      "[17:21:16] DEPRECATION WARNING: please use MorganGenerator\n",
      "[17:21:16] DEPRECATION WARNING: please use MorganGenerator\n",
      "[17:21:16] DEPRECATION WARNING: please use MorganGenerator\n",
      "[17:21:16] DEPRECATION WARNING: please use MorganGenerator\n",
      "[17:21:16] DEPRECATION WARNING: please use MorganGenerator\n",
      "[17:21:16] DEPRECATION WARNING: please use MorganGenerator\n",
      "[17:21:16] DEPRECATION WARNING: please use MorganGenerator\n",
      "[17:21:16] DEPRECATION WARNING: please use MorganGenerator\n",
      "[17:21:16] DEPRECATION WARNING: please use MorganGenerator\n",
      "[17:21:16] DEPRECATION WARNING: please use MorganGenerator\n",
      "[17:21:16] DEPRECATION WARNING: please use MorganGenerator\n",
      "[17:21:16] DEPRECATION WARNING: please use MorganGenerator\n",
      "[17:21:16] DEPRECATION WARNING: please use MorganGenerator\n",
      "[17:21:16] DEPRECATION WARNING: please use MorganGenerator\n",
      "[17:21:16] DEPRECATION WARNING: please use MorganGenerator\n",
      "[17:21:16] DEPRECATION WARNING: please use MorganGenerator\n",
      "[17:21:16] DEPRECATION WARNING: please use MorganGenerator\n",
      "[17:21:16] DEPRECATION WARNING: please use MorganGenerator\n",
      "[17:21:16] DEPRECATION WARNING: please use MorganGenerator\n",
      "[17:21:16] DEPRECATION WARNING: please use MorganGenerator\n",
      "[17:21:16] DEPRECATION WARNING: please use MorganGenerator\n",
      "[17:21:16] DEPRECATION WARNING: please use MorganGenerator\n",
      "[17:21:16] DEPRECATION WARNING: please use MorganGenerator\n",
      "[17:21:16] DEPRECATION WARNING: please use MorganGenerator\n",
      "[17:21:16] DEPRECATION WARNING: please use MorganGenerator\n",
      "[17:21:16] DEPRECATION WARNING: please use MorganGenerator\n",
      "[17:21:16] DEPRECATION WARNING: please use MorganGenerator\n",
      "[17:21:16] DEPRECATION WARNING: please use MorganGenerator\n",
      "[17:21:16] DEPRECATION WARNING: please use MorganGenerator\n",
      "[17:21:16] DEPRECATION WARNING: please use MorganGenerator\n",
      "[17:21:16] DEPRECATION WARNING: please use MorganGenerator\n",
      "[17:21:16] DEPRECATION WARNING: please use MorganGenerator\n",
      "[17:21:16] DEPRECATION WARNING: please use MorganGenerator\n",
      "[17:21:16] DEPRECATION WARNING: please use MorganGenerator\n",
      "[17:21:16] DEPRECATION WARNING: please use MorganGenerator\n",
      "[17:21:16] DEPRECATION WARNING: please use MorganGenerator\n",
      "[17:21:16] DEPRECATION WARNING: please use MorganGenerator\n",
      "[17:21:16] DEPRECATION WARNING: please use MorganGenerator\n",
      "[17:21:16] DEPRECATION WARNING: please use MorganGenerator\n",
      "[17:21:16] DEPRECATION WARNING: please use MorganGenerator\n",
      "[17:21:16] DEPRECATION WARNING: please use MorganGenerator\n",
      "[17:21:16] DEPRECATION WARNING: please use MorganGenerator\n",
      "[17:21:16] DEPRECATION WARNING: please use MorganGenerator\n",
      "[17:21:16] DEPRECATION WARNING: please use MorganGenerator\n",
      "[17:21:16] DEPRECATION WARNING: please use MorganGenerator\n",
      "[17:21:16] DEPRECATION WARNING: please use MorganGenerator\n",
      "[17:21:16] DEPRECATION WARNING: please use MorganGenerator\n",
      "[17:21:16] DEPRECATION WARNING: please use MorganGenerator\n",
      "[17:21:16] DEPRECATION WARNING: please use MorganGenerator\n",
      "[17:21:16] DEPRECATION WARNING: please use MorganGenerator\n",
      "[17:21:16] DEPRECATION WARNING: please use MorganGenerator\n",
      "[17:21:16] DEPRECATION WARNING: please use MorganGenerator\n",
      "[17:21:16] DEPRECATION WARNING: please use MorganGenerator\n",
      "[17:21:16] DEPRECATION WARNING: please use MorganGenerator\n",
      "[17:21:16] DEPRECATION WARNING: please use MorganGenerator\n",
      "[17:21:16] DEPRECATION WARNING: please use MorganGenerator\n",
      "[17:21:16] DEPRECATION WARNING: please use MorganGenerator\n",
      "[17:21:16] DEPRECATION WARNING: please use MorganGenerator\n",
      "[17:21:16] DEPRECATION WARNING: please use MorganGenerator\n",
      "[17:21:16] DEPRECATION WARNING: please use MorganGenerator\n",
      "[17:21:16] DEPRECATION WARNING: please use MorganGenerator\n",
      "[17:21:16] DEPRECATION WARNING: please use MorganGenerator\n",
      "[17:21:16] DEPRECATION WARNING: please use MorganGenerator\n",
      "[17:21:16] DEPRECATION WARNING: please use MorganGenerator\n",
      "[17:21:16] DEPRECATION WARNING: please use MorganGenerator\n",
      "[17:21:16] DEPRECATION WARNING: please use MorganGenerator\n",
      "[17:21:16] DEPRECATION WARNING: please use MorganGenerator\n",
      "[17:21:16] DEPRECATION WARNING: please use MorganGenerator\n",
      "[17:21:16] DEPRECATION WARNING: please use MorganGenerator\n",
      "[17:21:16] DEPRECATION WARNING: please use MorganGenerator\n",
      "[17:21:16] DEPRECATION WARNING: please use MorganGenerator\n",
      "[17:21:16] DEPRECATION WARNING: please use MorganGenerator\n",
      "[17:21:16] DEPRECATION WARNING: please use MorganGenerator\n",
      "[17:21:16] DEPRECATION WARNING: please use MorganGenerator\n",
      "[17:21:16] DEPRECATION WARNING: please use MorganGenerator\n",
      "[17:21:16] DEPRECATION WARNING: please use MorganGenerator\n",
      "[17:21:16] DEPRECATION WARNING: please use MorganGenerator\n",
      "[17:21:16] DEPRECATION WARNING: please use MorganGenerator\n",
      "[17:21:16] DEPRECATION WARNING: please use MorganGenerator\n",
      "[17:21:16] DEPRECATION WARNING: please use MorganGenerator\n",
      "[17:21:16] DEPRECATION WARNING: please use MorganGenerator\n",
      "[17:21:16] DEPRECATION WARNING: please use MorganGenerator\n",
      "[17:21:16] DEPRECATION WARNING: please use MorganGenerator\n",
      "[17:21:16] DEPRECATION WARNING: please use MorganGenerator\n",
      "[17:21:16] DEPRECATION WARNING: please use MorganGenerator\n",
      "[17:21:16] DEPRECATION WARNING: please use MorganGenerator\n",
      "[17:21:16] DEPRECATION WARNING: please use MorganGenerator\n",
      "[17:21:16] DEPRECATION WARNING: please use MorganGenerator\n",
      "[17:21:16] DEPRECATION WARNING: please use MorganGenerator\n",
      "[17:21:16] DEPRECATION WARNING: please use MorganGenerator\n",
      "[17:21:16] DEPRECATION WARNING: please use MorganGenerator\n",
      "[17:21:16] DEPRECATION WARNING: please use MorganGenerator\n",
      "[17:21:16] DEPRECATION WARNING: please use MorganGenerator\n",
      "[17:21:16] DEPRECATION WARNING: please use MorganGenerator\n",
      "[17:21:16] DEPRECATION WARNING: please use MorganGenerator\n",
      "[17:21:16] DEPRECATION WARNING: please use MorganGenerator\n",
      "[17:21:16] DEPRECATION WARNING: please use MorganGenerator\n",
      "[17:21:16] DEPRECATION WARNING: please use MorganGenerator\n",
      "[17:21:16] DEPRECATION WARNING: please use MorganGenerator\n",
      "[17:21:16] DEPRECATION WARNING: please use MorganGenerator\n",
      "[17:21:16] DEPRECATION WARNING: please use MorganGenerator\n",
      "[17:21:16] DEPRECATION WARNING: please use MorganGenerator\n",
      "[17:21:16] DEPRECATION WARNING: please use MorganGenerator\n",
      "[17:21:16] DEPRECATION WARNING: please use MorganGenerator\n",
      "[17:21:16] DEPRECATION WARNING: please use MorganGenerator\n",
      "[17:21:16] DEPRECATION WARNING: please use MorganGenerator\n",
      "[17:21:16] DEPRECATION WARNING: please use MorganGenerator\n",
      "[17:21:16] DEPRECATION WARNING: please use MorganGenerator\n",
      "[17:21:16] DEPRECATION WARNING: please use MorganGenerator\n",
      "[17:21:16] DEPRECATION WARNING: please use MorganGenerator\n",
      "[17:21:16] DEPRECATION WARNING: please use MorganGenerator\n",
      "[17:21:16] DEPRECATION WARNING: please use MorganGenerator\n",
      "[17:21:16] DEPRECATION WARNING: please use MorganGenerator\n",
      "[17:21:16] DEPRECATION WARNING: please use MorganGenerator\n",
      "[17:21:16] DEPRECATION WARNING: please use MorganGenerator\n",
      "[17:21:16] DEPRECATION WARNING: please use MorganGenerator\n",
      "[17:21:16] DEPRECATION WARNING: please use MorganGenerator\n",
      "[17:21:16] DEPRECATION WARNING: please use MorganGenerator\n",
      "[17:21:16] DEPRECATION WARNING: please use MorganGenerator\n",
      "[17:21:16] DEPRECATION WARNING: please use MorganGenerator\n",
      "[17:21:16] DEPRECATION WARNING: please use MorganGenerator\n",
      "[17:21:16] DEPRECATION WARNING: please use MorganGenerator\n",
      "[17:21:16] DEPRECATION WARNING: please use MorganGenerator\n",
      "[17:21:16] DEPRECATION WARNING: please use MorganGenerator\n",
      "[17:21:16] DEPRECATION WARNING: please use MorganGenerator\n",
      "[17:21:16] DEPRECATION WARNING: please use MorganGenerator\n",
      "[17:21:16] DEPRECATION WARNING: please use MorganGenerator\n",
      "[17:21:16] DEPRECATION WARNING: please use MorganGenerator\n",
      "[17:21:16] DEPRECATION WARNING: please use MorganGenerator\n",
      "[17:21:16] DEPRECATION WARNING: please use MorganGenerator\n",
      "[17:21:16] DEPRECATION WARNING: please use MorganGenerator\n",
      "[17:21:16] DEPRECATION WARNING: please use MorganGenerator\n",
      "[17:21:16] DEPRECATION WARNING: please use MorganGenerator\n",
      "[17:21:16] DEPRECATION WARNING: please use MorganGenerator\n",
      "[17:21:16] DEPRECATION WARNING: please use MorganGenerator\n",
      "[17:21:16] DEPRECATION WARNING: please use MorganGenerator\n",
      "[17:21:16] DEPRECATION WARNING: please use MorganGenerator\n",
      "[17:21:16] DEPRECATION WARNING: please use MorganGenerator\n",
      "[17:21:16] DEPRECATION WARNING: please use MorganGenerator\n",
      "[17:21:16] DEPRECATION WARNING: please use MorganGenerator\n",
      "[17:21:16] DEPRECATION WARNING: please use MorganGenerator\n",
      "[17:21:16] DEPRECATION WARNING: please use MorganGenerator\n",
      "[17:21:16] DEPRECATION WARNING: please use MorganGenerator\n",
      "[17:21:16] DEPRECATION WARNING: please use MorganGenerator\n",
      "[17:21:16] DEPRECATION WARNING: please use MorganGenerator\n",
      "[17:21:16] DEPRECATION WARNING: please use MorganGenerator\n",
      "[17:21:16] DEPRECATION WARNING: please use MorganGenerator\n",
      "[17:21:16] DEPRECATION WARNING: please use MorganGenerator\n",
      "[17:21:16] DEPRECATION WARNING: please use MorganGenerator\n",
      "[17:21:16] DEPRECATION WARNING: please use MorganGenerator\n",
      "[17:21:16] DEPRECATION WARNING: please use MorganGenerator\n",
      "[17:21:16] DEPRECATION WARNING: please use MorganGenerator\n",
      "[17:21:16] DEPRECATION WARNING: please use MorganGenerator\n",
      "[17:21:16] DEPRECATION WARNING: please use MorganGenerator\n",
      "[17:21:16] DEPRECATION WARNING: please use MorganGenerator\n",
      "[17:21:16] DEPRECATION WARNING: please use MorganGenerator\n",
      "[17:21:16] DEPRECATION WARNING: please use MorganGenerator\n",
      "[17:21:16] DEPRECATION WARNING: please use MorganGenerator\n",
      "[17:21:16] DEPRECATION WARNING: please use MorganGenerator\n",
      "[17:21:16] DEPRECATION WARNING: please use MorganGenerator\n",
      "[17:21:16] DEPRECATION WARNING: please use MorganGenerator\n",
      "[17:21:16] DEPRECATION WARNING: please use MorganGenerator\n",
      "[17:21:16] DEPRECATION WARNING: please use MorganGenerator\n",
      "[17:21:16] DEPRECATION WARNING: please use MorganGenerator\n",
      "[17:21:16] DEPRECATION WARNING: please use MorganGenerator\n",
      "[17:21:16] DEPRECATION WARNING: please use MorganGenerator\n",
      "[17:21:16] DEPRECATION WARNING: please use MorganGenerator\n",
      "[17:21:16] DEPRECATION WARNING: please use MorganGenerator\n",
      "[17:21:16] DEPRECATION WARNING: please use MorganGenerator\n",
      "[17:21:16] DEPRECATION WARNING: please use MorganGenerator\n",
      "[17:21:16] DEPRECATION WARNING: please use MorganGenerator\n",
      "[17:21:16] DEPRECATION WARNING: please use MorganGenerator\n",
      "[17:21:16] DEPRECATION WARNING: please use MorganGenerator\n",
      "[17:21:16] DEPRECATION WARNING: please use MorganGenerator\n",
      "[17:21:16] DEPRECATION WARNING: please use MorganGenerator\n",
      "[17:21:16] DEPRECATION WARNING: please use MorganGenerator\n",
      "[17:21:16] DEPRECATION WARNING: please use MorganGenerator\n",
      "[17:21:16] DEPRECATION WARNING: please use MorganGenerator\n",
      "[17:21:16] DEPRECATION WARNING: please use MorganGenerator\n",
      "[17:21:16] DEPRECATION WARNING: please use MorganGenerator\n",
      "[17:21:16] DEPRECATION WARNING: please use MorganGenerator\n",
      "[17:21:16] DEPRECATION WARNING: please use MorganGenerator\n",
      "[17:21:16] DEPRECATION WARNING: please use MorganGenerator\n",
      "[17:21:16] DEPRECATION WARNING: please use MorganGenerator\n",
      "[17:21:16] DEPRECATION WARNING: please use MorganGenerator\n",
      "[17:21:16] DEPRECATION WARNING: please use MorganGenerator\n",
      "[17:21:16] DEPRECATION WARNING: please use MorganGenerator\n",
      "[17:21:16] DEPRECATION WARNING: please use MorganGenerator\n",
      "[17:21:16] DEPRECATION WARNING: please use MorganGenerator\n",
      "[17:21:16] DEPRECATION WARNING: please use MorganGenerator\n",
      "[17:21:16] DEPRECATION WARNING: please use MorganGenerator\n",
      "[17:21:16] DEPRECATION WARNING: please use MorganGenerator\n",
      "[17:21:16] DEPRECATION WARNING: please use MorganGenerator\n",
      "[17:21:16] DEPRECATION WARNING: please use MorganGenerator\n",
      "[17:21:16] DEPRECATION WARNING: please use MorganGenerator\n",
      "[17:21:16] DEPRECATION WARNING: please use MorganGenerator\n",
      "[17:21:16] DEPRECATION WARNING: please use MorganGenerator\n",
      "[17:21:16] DEPRECATION WARNING: please use MorganGenerator\n",
      "[17:21:16] DEPRECATION WARNING: please use MorganGenerator\n",
      "[17:21:16] DEPRECATION WARNING: please use MorganGenerator\n",
      "[17:21:16] DEPRECATION WARNING: please use MorganGenerator\n",
      "[17:21:16] DEPRECATION WARNING: please use MorganGenerator\n",
      "[17:21:16] DEPRECATION WARNING: please use MorganGenerator\n",
      "[17:21:16] DEPRECATION WARNING: please use MorganGenerator\n",
      "[17:21:16] DEPRECATION WARNING: please use MorganGenerator\n",
      "[17:21:16] DEPRECATION WARNING: please use MorganGenerator\n",
      "[17:21:16] DEPRECATION WARNING: please use MorganGenerator\n",
      "[17:21:16] DEPRECATION WARNING: please use MorganGenerator\n",
      "[17:21:16] DEPRECATION WARNING: please use MorganGenerator\n",
      "[17:21:16] DEPRECATION WARNING: please use MorganGenerator\n",
      "[17:21:16] DEPRECATION WARNING: please use MorganGenerator\n",
      "[17:21:16] DEPRECATION WARNING: please use MorganGenerator\n",
      "[17:21:16] DEPRECATION WARNING: please use MorganGenerator\n",
      "[17:21:16] DEPRECATION WARNING: please use MorganGenerator\n",
      "[17:21:16] DEPRECATION WARNING: please use MorganGenerator\n",
      "[17:21:16] DEPRECATION WARNING: please use MorganGenerator\n",
      "[17:21:16] DEPRECATION WARNING: please use MorganGenerator\n",
      "[17:21:16] DEPRECATION WARNING: please use MorganGenerator\n",
      "[17:21:16] DEPRECATION WARNING: please use MorganGenerator\n",
      "[17:21:16] DEPRECATION WARNING: please use MorganGenerator\n",
      "[17:21:16] DEPRECATION WARNING: please use MorganGenerator\n",
      "[17:21:16] DEPRECATION WARNING: please use MorganGenerator\n",
      "[17:21:16] DEPRECATION WARNING: please use MorganGenerator\n",
      "[17:21:16] DEPRECATION WARNING: please use MorganGenerator\n",
      "[17:21:16] DEPRECATION WARNING: please use MorganGenerator\n",
      "[17:21:16] DEPRECATION WARNING: please use MorganGenerator\n",
      "[17:21:16] DEPRECATION WARNING: please use MorganGenerator\n",
      "[17:21:16] DEPRECATION WARNING: please use MorganGenerator\n",
      "[17:21:16] DEPRECATION WARNING: please use MorganGenerator\n",
      "[17:21:16] DEPRECATION WARNING: please use MorganGenerator\n",
      "[17:21:16] DEPRECATION WARNING: please use MorganGenerator\n",
      "[17:21:16] DEPRECATION WARNING: please use MorganGenerator\n",
      "[17:21:16] DEPRECATION WARNING: please use MorganGenerator\n",
      "[17:21:16] DEPRECATION WARNING: please use MorganGenerator\n",
      "[17:21:16] DEPRECATION WARNING: please use MorganGenerator\n",
      "[17:21:16] DEPRECATION WARNING: please use MorganGenerator\n",
      "[17:21:16] DEPRECATION WARNING: please use MorganGenerator\n",
      "[17:21:16] DEPRECATION WARNING: please use MorganGenerator\n",
      "[17:21:16] DEPRECATION WARNING: please use MorganGenerator\n",
      "[17:21:16] DEPRECATION WARNING: please use MorganGenerator\n",
      "[17:21:16] DEPRECATION WARNING: please use MorganGenerator\n",
      "[17:21:16] DEPRECATION WARNING: please use MorganGenerator\n",
      "[17:21:16] DEPRECATION WARNING: please use MorganGenerator\n",
      "[17:21:16] DEPRECATION WARNING: please use MorganGenerator\n",
      "[17:21:16] DEPRECATION WARNING: please use MorganGenerator\n",
      "[17:21:16] DEPRECATION WARNING: please use MorganGenerator\n",
      "[17:21:16] DEPRECATION WARNING: please use MorganGenerator\n",
      "[17:21:16] DEPRECATION WARNING: please use MorganGenerator\n",
      "[17:21:16] DEPRECATION WARNING: please use MorganGenerator\n",
      "[17:21:16] DEPRECATION WARNING: please use MorganGenerator\n",
      "[17:21:16] DEPRECATION WARNING: please use MorganGenerator\n",
      "[17:21:16] DEPRECATION WARNING: please use MorganGenerator\n",
      "[17:21:16] DEPRECATION WARNING: please use MorganGenerator\n",
      "[17:21:16] DEPRECATION WARNING: please use MorganGenerator\n",
      "[17:21:16] DEPRECATION WARNING: please use MorganGenerator\n",
      "[17:21:16] DEPRECATION WARNING: please use MorganGenerator\n",
      "[17:21:16] DEPRECATION WARNING: please use MorganGenerator\n",
      "[17:21:16] DEPRECATION WARNING: please use MorganGenerator\n",
      "[17:21:16] DEPRECATION WARNING: please use MorganGenerator\n",
      "[17:21:16] DEPRECATION WARNING: please use MorganGenerator\n",
      "[17:21:16] DEPRECATION WARNING: please use MorganGenerator\n",
      "[17:21:16] DEPRECATION WARNING: please use MorganGenerator\n",
      "[17:21:16] DEPRECATION WARNING: please use MorganGenerator\n",
      "[17:21:16] DEPRECATION WARNING: please use MorganGenerator\n",
      "[17:21:16] DEPRECATION WARNING: please use MorganGenerator\n",
      "[17:21:16] DEPRECATION WARNING: please use MorganGenerator\n",
      "[17:21:16] DEPRECATION WARNING: please use MorganGenerator\n",
      "[17:21:16] DEPRECATION WARNING: please use MorganGenerator\n",
      "[17:21:16] DEPRECATION WARNING: please use MorganGenerator\n",
      "[17:21:16] DEPRECATION WARNING: please use MorganGenerator\n",
      "[17:21:16] DEPRECATION WARNING: please use MorganGenerator\n",
      "[17:21:16] DEPRECATION WARNING: please use MorganGenerator\n",
      "[17:21:16] DEPRECATION WARNING: please use MorganGenerator\n",
      "[17:21:16] DEPRECATION WARNING: please use MorganGenerator\n",
      "[17:21:16] DEPRECATION WARNING: please use MorganGenerator\n",
      "[17:21:16] DEPRECATION WARNING: please use MorganGenerator\n",
      "[17:21:16] DEPRECATION WARNING: please use MorganGenerator\n",
      "[17:21:16] DEPRECATION WARNING: please use MorganGenerator\n",
      "[17:21:16] DEPRECATION WARNING: please use MorganGenerator\n",
      "[17:21:16] DEPRECATION WARNING: please use MorganGenerator\n",
      "[17:21:16] DEPRECATION WARNING: please use MorganGenerator\n",
      "[17:21:16] DEPRECATION WARNING: please use MorganGenerator\n",
      "[17:21:16] DEPRECATION WARNING: please use MorganGenerator\n",
      "[17:21:16] DEPRECATION WARNING: please use MorganGenerator\n",
      "[17:21:16] DEPRECATION WARNING: please use MorganGenerator\n",
      "[17:21:16] DEPRECATION WARNING: please use MorganGenerator\n",
      "[17:21:16] DEPRECATION WARNING: please use MorganGenerator\n",
      "[17:21:16] DEPRECATION WARNING: please use MorganGenerator\n",
      "[17:21:16] DEPRECATION WARNING: please use MorganGenerator\n",
      "[17:21:16] DEPRECATION WARNING: please use MorganGenerator\n",
      "[17:21:16] DEPRECATION WARNING: please use MorganGenerator\n",
      "[17:21:16] DEPRECATION WARNING: please use MorganGenerator\n",
      "[17:21:16] DEPRECATION WARNING: please use MorganGenerator\n",
      "[17:21:16] DEPRECATION WARNING: please use MorganGenerator\n",
      "[17:21:16] DEPRECATION WARNING: please use MorganGenerator\n",
      "[17:21:16] DEPRECATION WARNING: please use MorganGenerator\n",
      "[17:21:16] DEPRECATION WARNING: please use MorganGenerator\n",
      "[17:21:16] DEPRECATION WARNING: please use MorganGenerator\n",
      "[17:21:16] DEPRECATION WARNING: please use MorganGenerator\n",
      "[17:21:16] DEPRECATION WARNING: please use MorganGenerator\n",
      "[17:21:16] DEPRECATION WARNING: please use MorganGenerator\n",
      "[17:21:16] DEPRECATION WARNING: please use MorganGenerator\n",
      "[17:21:16] DEPRECATION WARNING: please use MorganGenerator\n",
      "[17:21:16] DEPRECATION WARNING: please use MorganGenerator\n",
      "[17:21:16] DEPRECATION WARNING: please use MorganGenerator\n",
      "[17:21:16] DEPRECATION WARNING: please use MorganGenerator\n",
      "[17:21:16] DEPRECATION WARNING: please use MorganGenerator\n",
      "[17:21:16] DEPRECATION WARNING: please use MorganGenerator\n",
      "[17:21:16] DEPRECATION WARNING: please use MorganGenerator\n",
      "[17:21:16] DEPRECATION WARNING: please use MorganGenerator\n",
      "[17:21:16] DEPRECATION WARNING: please use MorganGenerator\n",
      "[17:21:16] DEPRECATION WARNING: please use MorganGenerator\n",
      "[17:21:16] DEPRECATION WARNING: please use MorganGenerator\n",
      "[17:21:16] DEPRECATION WARNING: please use MorganGenerator\n",
      "[17:21:16] DEPRECATION WARNING: please use MorganGenerator\n",
      "[17:21:16] DEPRECATION WARNING: please use MorganGenerator\n",
      "[17:21:16] DEPRECATION WARNING: please use MorganGenerator\n",
      "[17:21:16] DEPRECATION WARNING: please use MorganGenerator\n",
      "[17:21:16] DEPRECATION WARNING: please use MorganGenerator\n",
      "[17:21:16] DEPRECATION WARNING: please use MorganGenerator\n",
      "[17:21:16] DEPRECATION WARNING: please use MorganGenerator\n",
      "[17:21:16] DEPRECATION WARNING: please use MorganGenerator\n",
      "[17:21:16] DEPRECATION WARNING: please use MorganGenerator\n",
      "[17:21:16] DEPRECATION WARNING: please use MorganGenerator\n",
      "[17:21:16] DEPRECATION WARNING: please use MorganGenerator\n",
      "[17:21:16] DEPRECATION WARNING: please use MorganGenerator\n",
      "[17:21:16] DEPRECATION WARNING: please use MorganGenerator\n",
      "[17:21:16] DEPRECATION WARNING: please use MorganGenerator\n",
      "[17:21:16] DEPRECATION WARNING: please use MorganGenerator\n",
      "[17:21:16] DEPRECATION WARNING: please use MorganGenerator\n",
      "[17:21:16] DEPRECATION WARNING: please use MorganGenerator\n",
      "[17:21:16] DEPRECATION WARNING: please use MorganGenerator\n",
      "[17:21:16] DEPRECATION WARNING: please use MorganGenerator\n",
      "[17:21:16] DEPRECATION WARNING: please use MorganGenerator\n",
      "[17:21:16] DEPRECATION WARNING: please use MorganGenerator\n",
      "[17:21:16] DEPRECATION WARNING: please use MorganGenerator\n",
      "[17:21:16] DEPRECATION WARNING: please use MorganGenerator\n",
      "[17:21:16] DEPRECATION WARNING: please use MorganGenerator\n",
      "[17:21:16] DEPRECATION WARNING: please use MorganGenerator\n",
      "[17:21:16] DEPRECATION WARNING: please use MorganGenerator\n",
      "[17:21:16] DEPRECATION WARNING: please use MorganGenerator\n",
      "[17:21:16] DEPRECATION WARNING: please use MorganGenerator\n",
      "[17:21:16] DEPRECATION WARNING: please use MorganGenerator\n",
      "[17:21:16] DEPRECATION WARNING: please use MorganGenerator\n",
      "[17:21:16] DEPRECATION WARNING: please use MorganGenerator\n",
      "[17:21:16] DEPRECATION WARNING: please use MorganGenerator\n",
      "[17:21:16] DEPRECATION WARNING: please use MorganGenerator\n",
      "[17:21:16] DEPRECATION WARNING: please use MorganGenerator\n",
      "[17:21:16] DEPRECATION WARNING: please use MorganGenerator\n",
      "[17:21:16] DEPRECATION WARNING: please use MorganGenerator\n",
      "[17:21:16] DEPRECATION WARNING: please use MorganGenerator\n",
      "[17:21:16] DEPRECATION WARNING: please use MorganGenerator\n",
      "[17:21:16] DEPRECATION WARNING: please use MorganGenerator\n",
      "[17:21:16] DEPRECATION WARNING: please use MorganGenerator\n",
      "[17:21:16] DEPRECATION WARNING: please use MorganGenerator\n",
      "[17:21:16] DEPRECATION WARNING: please use MorganGenerator\n",
      "[17:21:16] DEPRECATION WARNING: please use MorganGenerator\n",
      "[17:21:16] DEPRECATION WARNING: please use MorganGenerator\n",
      "[17:21:16] DEPRECATION WARNING: please use MorganGenerator\n",
      "[17:21:16] DEPRECATION WARNING: please use MorganGenerator\n",
      "[17:21:16] DEPRECATION WARNING: please use MorganGenerator\n",
      "[17:21:16] DEPRECATION WARNING: please use MorganGenerator\n",
      "[17:21:16] DEPRECATION WARNING: please use MorganGenerator\n",
      "[17:21:16] DEPRECATION WARNING: please use MorganGenerator\n",
      "[17:21:16] DEPRECATION WARNING: please use MorganGenerator\n",
      "[17:21:16] DEPRECATION WARNING: please use MorganGenerator\n",
      "[17:21:16] DEPRECATION WARNING: please use MorganGenerator\n",
      "[17:21:16] DEPRECATION WARNING: please use MorganGenerator\n",
      "[17:21:16] DEPRECATION WARNING: please use MorganGenerator\n",
      "[17:21:16] DEPRECATION WARNING: please use MorganGenerator\n",
      "[17:21:16] DEPRECATION WARNING: please use MorganGenerator\n",
      "[17:21:16] DEPRECATION WARNING: please use MorganGenerator\n",
      "[17:21:16] DEPRECATION WARNING: please use MorganGenerator\n",
      "[17:21:16] DEPRECATION WARNING: please use MorganGenerator\n",
      "[17:21:16] DEPRECATION WARNING: please use MorganGenerator\n",
      "[17:21:16] DEPRECATION WARNING: please use MorganGenerator\n",
      "[17:21:16] DEPRECATION WARNING: please use MorganGenerator\n",
      "[17:21:16] DEPRECATION WARNING: please use MorganGenerator\n",
      "[17:21:16] DEPRECATION WARNING: please use MorganGenerator\n",
      "[17:21:16] DEPRECATION WARNING: please use MorganGenerator\n",
      "[17:21:16] DEPRECATION WARNING: please use MorganGenerator\n",
      "[17:21:16] DEPRECATION WARNING: please use MorganGenerator\n",
      "[17:21:16] DEPRECATION WARNING: please use MorganGenerator\n",
      "[17:21:16] DEPRECATION WARNING: please use MorganGenerator\n",
      "[17:21:16] DEPRECATION WARNING: please use MorganGenerator\n",
      "[17:21:16] DEPRECATION WARNING: please use MorganGenerator\n",
      "[17:21:16] DEPRECATION WARNING: please use MorganGenerator\n",
      "[17:21:16] DEPRECATION WARNING: please use MorganGenerator\n",
      "[17:21:16] DEPRECATION WARNING: please use MorganGenerator\n",
      "[17:21:16] DEPRECATION WARNING: please use MorganGenerator\n",
      "[17:21:16] DEPRECATION WARNING: please use MorganGenerator\n",
      "[17:21:16] DEPRECATION WARNING: please use MorganGenerator\n",
      "[17:21:16] DEPRECATION WARNING: please use MorganGenerator\n",
      "[17:21:16] DEPRECATION WARNING: please use MorganGenerator\n",
      "[17:21:16] DEPRECATION WARNING: please use MorganGenerator\n",
      "[17:21:16] DEPRECATION WARNING: please use MorganGenerator\n",
      "[17:21:16] DEPRECATION WARNING: please use MorganGenerator\n",
      "[17:21:16] DEPRECATION WARNING: please use MorganGenerator\n",
      "[17:21:16] DEPRECATION WARNING: please use MorganGenerator\n",
      "[17:21:16] DEPRECATION WARNING: please use MorganGenerator\n",
      "[17:21:16] DEPRECATION WARNING: please use MorganGenerator\n",
      "[17:21:16] DEPRECATION WARNING: please use MorganGenerator\n",
      "[17:21:16] DEPRECATION WARNING: please use MorganGenerator\n",
      "[17:21:16] DEPRECATION WARNING: please use MorganGenerator\n",
      "[17:21:16] DEPRECATION WARNING: please use MorganGenerator\n",
      "[17:21:16] DEPRECATION WARNING: please use MorganGenerator\n",
      "[17:21:16] DEPRECATION WARNING: please use MorganGenerator\n",
      "[17:21:16] DEPRECATION WARNING: please use MorganGenerator\n",
      "[17:21:16] DEPRECATION WARNING: please use MorganGenerator\n",
      "[17:21:16] DEPRECATION WARNING: please use MorganGenerator\n",
      "[17:21:16] DEPRECATION WARNING: please use MorganGenerator\n",
      "[17:21:16] DEPRECATION WARNING: please use MorganGenerator\n",
      "[17:21:16] DEPRECATION WARNING: please use MorganGenerator\n",
      "[17:21:16] DEPRECATION WARNING: please use MorganGenerator\n",
      "[17:21:16] DEPRECATION WARNING: please use MorganGenerator\n",
      "[17:21:16] DEPRECATION WARNING: please use MorganGenerator\n",
      "[17:21:16] DEPRECATION WARNING: please use MorganGenerator\n",
      "[17:21:16] DEPRECATION WARNING: please use MorganGenerator\n",
      "[17:21:16] DEPRECATION WARNING: please use MorganGenerator\n",
      "[17:21:16] DEPRECATION WARNING: please use MorganGenerator\n",
      "[17:21:16] DEPRECATION WARNING: please use MorganGenerator\n",
      "[17:21:16] DEPRECATION WARNING: please use MorganGenerator\n",
      "[17:21:16] DEPRECATION WARNING: please use MorganGenerator\n",
      "[17:21:16] DEPRECATION WARNING: please use MorganGenerator\n",
      "[17:21:16] DEPRECATION WARNING: please use MorganGenerator\n",
      "[17:21:16] DEPRECATION WARNING: please use MorganGenerator\n",
      "[17:21:16] DEPRECATION WARNING: please use MorganGenerator\n",
      "[17:21:16] DEPRECATION WARNING: please use MorganGenerator\n",
      "[17:21:16] DEPRECATION WARNING: please use MorganGenerator\n",
      "[17:21:16] DEPRECATION WARNING: please use MorganGenerator\n",
      "[17:21:16] DEPRECATION WARNING: please use MorganGenerator\n",
      "[17:21:16] DEPRECATION WARNING: please use MorganGenerator\n",
      "[17:21:16] DEPRECATION WARNING: please use MorganGenerator\n",
      "[17:21:16] DEPRECATION WARNING: please use MorganGenerator\n",
      "[17:21:16] DEPRECATION WARNING: please use MorganGenerator\n",
      "[17:21:16] DEPRECATION WARNING: please use MorganGenerator\n",
      "[17:21:16] DEPRECATION WARNING: please use MorganGenerator\n",
      "[17:21:16] DEPRECATION WARNING: please use MorganGenerator\n",
      "[17:21:16] DEPRECATION WARNING: please use MorganGenerator\n",
      "[17:21:16] DEPRECATION WARNING: please use MorganGenerator\n",
      "[17:21:16] DEPRECATION WARNING: please use MorganGenerator\n",
      "[17:21:16] DEPRECATION WARNING: please use MorganGenerator\n",
      "[17:21:16] DEPRECATION WARNING: please use MorganGenerator\n",
      "[17:21:16] DEPRECATION WARNING: please use MorganGenerator\n",
      "[17:21:16] DEPRECATION WARNING: please use MorganGenerator\n",
      "[17:21:16] DEPRECATION WARNING: please use MorganGenerator\n",
      "[17:21:16] DEPRECATION WARNING: please use MorganGenerator\n",
      "[17:21:16] DEPRECATION WARNING: please use MorganGenerator\n",
      "[17:21:16] DEPRECATION WARNING: please use MorganGenerator\n",
      "[17:21:16] DEPRECATION WARNING: please use MorganGenerator\n",
      "[17:21:16] DEPRECATION WARNING: please use MorganGenerator\n",
      "[17:21:16] DEPRECATION WARNING: please use MorganGenerator\n",
      "[17:21:16] DEPRECATION WARNING: please use MorganGenerator\n",
      "[17:21:16] DEPRECATION WARNING: please use MorganGenerator\n",
      "[17:21:16] DEPRECATION WARNING: please use MorganGenerator\n",
      "[17:21:16] DEPRECATION WARNING: please use MorganGenerator\n",
      "[17:21:16] DEPRECATION WARNING: please use MorganGenerator\n",
      "[17:21:16] DEPRECATION WARNING: please use MorganGenerator\n",
      "[17:21:16] DEPRECATION WARNING: please use MorganGenerator\n",
      "[17:21:16] DEPRECATION WARNING: please use MorganGenerator\n",
      "[17:21:16] DEPRECATION WARNING: please use MorganGenerator\n",
      "[17:21:16] DEPRECATION WARNING: please use MorganGenerator\n",
      "[17:21:16] DEPRECATION WARNING: please use MorganGenerator\n",
      "[17:21:16] DEPRECATION WARNING: please use MorganGenerator\n",
      "[17:21:16] DEPRECATION WARNING: please use MorganGenerator\n",
      "[17:21:16] DEPRECATION WARNING: please use MorganGenerator\n",
      "[17:21:16] DEPRECATION WARNING: please use MorganGenerator\n",
      "[17:21:16] DEPRECATION WARNING: please use MorganGenerator\n",
      "[17:21:16] DEPRECATION WARNING: please use MorganGenerator\n",
      "[17:21:16] DEPRECATION WARNING: please use MorganGenerator\n",
      "[17:21:16] DEPRECATION WARNING: please use MorganGenerator\n",
      "[17:21:16] DEPRECATION WARNING: please use MorganGenerator\n",
      "[17:21:16] DEPRECATION WARNING: please use MorganGenerator\n",
      "[17:21:16] DEPRECATION WARNING: please use MorganGenerator\n",
      "[17:21:16] DEPRECATION WARNING: please use MorganGenerator\n",
      "[17:21:16] DEPRECATION WARNING: please use MorganGenerator\n",
      "[17:21:16] DEPRECATION WARNING: please use MorganGenerator\n",
      "[17:21:16] DEPRECATION WARNING: please use MorganGenerator\n",
      "[17:21:16] DEPRECATION WARNING: please use MorganGenerator\n",
      "[17:21:16] DEPRECATION WARNING: please use MorganGenerator\n",
      "[17:21:16] DEPRECATION WARNING: please use MorganGenerator\n",
      "[17:21:16] DEPRECATION WARNING: please use MorganGenerator\n",
      "[17:21:16] DEPRECATION WARNING: please use MorganGenerator\n",
      "[17:21:16] DEPRECATION WARNING: please use MorganGenerator\n",
      "[17:21:16] DEPRECATION WARNING: please use MorganGenerator\n",
      "[17:21:16] DEPRECATION WARNING: please use MorganGenerator\n",
      "[17:21:16] DEPRECATION WARNING: please use MorganGenerator\n",
      "[17:21:16] DEPRECATION WARNING: please use MorganGenerator\n",
      "[17:21:16] DEPRECATION WARNING: please use MorganGenerator\n",
      "[17:21:16] DEPRECATION WARNING: please use MorganGenerator\n",
      "[17:21:16] DEPRECATION WARNING: please use MorganGenerator\n",
      "[17:21:16] DEPRECATION WARNING: please use MorganGenerator\n",
      "[17:21:16] DEPRECATION WARNING: please use MorganGenerator\n",
      "[17:21:16] DEPRECATION WARNING: please use MorganGenerator\n",
      "[17:21:16] DEPRECATION WARNING: please use MorganGenerator\n",
      "[17:21:16] DEPRECATION WARNING: please use MorganGenerator\n",
      "[17:21:16] DEPRECATION WARNING: please use MorganGenerator\n",
      "[17:21:16] DEPRECATION WARNING: please use MorganGenerator\n",
      "[17:21:16] DEPRECATION WARNING: please use MorganGenerator\n",
      "[17:21:16] DEPRECATION WARNING: please use MorganGenerator\n",
      "[17:21:16] DEPRECATION WARNING: please use MorganGenerator\n",
      "[17:21:16] DEPRECATION WARNING: please use MorganGenerator\n",
      "[17:21:16] DEPRECATION WARNING: please use MorganGenerator\n",
      "[17:21:16] DEPRECATION WARNING: please use MorganGenerator\n",
      "[17:21:16] DEPRECATION WARNING: please use MorganGenerator\n",
      "[17:21:16] DEPRECATION WARNING: please use MorganGenerator\n",
      "[17:21:16] DEPRECATION WARNING: please use MorganGenerator\n",
      "[17:21:16] DEPRECATION WARNING: please use MorganGenerator\n",
      "[17:21:16] DEPRECATION WARNING: please use MorganGenerator\n",
      "[17:21:16] DEPRECATION WARNING: please use MorganGenerator\n",
      "[17:21:16] DEPRECATION WARNING: please use MorganGenerator\n",
      "[17:21:16] DEPRECATION WARNING: please use MorganGenerator\n",
      "[17:21:16] DEPRECATION WARNING: please use MorganGenerator\n",
      "[17:21:16] DEPRECATION WARNING: please use MorganGenerator\n",
      "[17:21:16] DEPRECATION WARNING: please use MorganGenerator\n",
      "[17:21:16] DEPRECATION WARNING: please use MorganGenerator\n",
      "[17:21:16] DEPRECATION WARNING: please use MorganGenerator\n",
      "[17:21:16] DEPRECATION WARNING: please use MorganGenerator\n",
      "[17:21:16] DEPRECATION WARNING: please use MorganGenerator\n",
      "[17:21:16] DEPRECATION WARNING: please use MorganGenerator\n",
      "[17:21:16] DEPRECATION WARNING: please use MorganGenerator\n",
      "[17:21:16] DEPRECATION WARNING: please use MorganGenerator\n",
      "[17:21:16] DEPRECATION WARNING: please use MorganGenerator\n",
      "[17:21:16] DEPRECATION WARNING: please use MorganGenerator\n",
      "[17:21:16] DEPRECATION WARNING: please use MorganGenerator\n",
      "[17:21:16] DEPRECATION WARNING: please use MorganGenerator\n",
      "[17:21:16] DEPRECATION WARNING: please use MorganGenerator\n",
      "[17:21:16] DEPRECATION WARNING: please use MorganGenerator\n",
      "[17:21:16] DEPRECATION WARNING: please use MorganGenerator\n",
      "[17:21:16] DEPRECATION WARNING: please use MorganGenerator\n",
      "[17:21:16] DEPRECATION WARNING: please use MorganGenerator\n",
      "[17:21:16] DEPRECATION WARNING: please use MorganGenerator\n",
      "[17:21:16] DEPRECATION WARNING: please use MorganGenerator\n",
      "[17:21:16] DEPRECATION WARNING: please use MorganGenerator\n",
      "[17:21:16] DEPRECATION WARNING: please use MorganGenerator\n",
      "[17:21:16] DEPRECATION WARNING: please use MorganGenerator\n",
      "[17:21:16] DEPRECATION WARNING: please use MorganGenerator\n",
      "[17:21:16] DEPRECATION WARNING: please use MorganGenerator\n",
      "[17:21:16] DEPRECATION WARNING: please use MorganGenerator\n",
      "[17:21:16] DEPRECATION WARNING: please use MorganGenerator\n",
      "[17:21:16] DEPRECATION WARNING: please use MorganGenerator\n",
      "[17:21:16] DEPRECATION WARNING: please use MorganGenerator\n",
      "[17:21:16] DEPRECATION WARNING: please use MorganGenerator\n",
      "[17:21:16] DEPRECATION WARNING: please use MorganGenerator\n",
      "[17:21:16] DEPRECATION WARNING: please use MorganGenerator\n",
      "[17:21:16] DEPRECATION WARNING: please use MorganGenerator\n",
      "[17:21:16] DEPRECATION WARNING: please use MorganGenerator\n",
      "[17:21:16] DEPRECATION WARNING: please use MorganGenerator\n",
      "[17:21:16] DEPRECATION WARNING: please use MorganGenerator\n",
      "[17:21:16] DEPRECATION WARNING: please use MorganGenerator\n",
      "[17:21:16] DEPRECATION WARNING: please use MorganGenerator\n",
      "[17:21:16] DEPRECATION WARNING: please use MorganGenerator\n",
      "[17:21:16] DEPRECATION WARNING: please use MorganGenerator\n",
      "[17:21:16] DEPRECATION WARNING: please use MorganGenerator\n",
      "[17:21:16] DEPRECATION WARNING: please use MorganGenerator\n",
      "[17:21:16] DEPRECATION WARNING: please use MorganGenerator\n",
      "[17:21:16] DEPRECATION WARNING: please use MorganGenerator\n",
      "[17:21:16] DEPRECATION WARNING: please use MorganGenerator\n",
      "[17:21:16] DEPRECATION WARNING: please use MorganGenerator\n",
      "[17:21:16] DEPRECATION WARNING: please use MorganGenerator\n",
      "[17:21:16] DEPRECATION WARNING: please use MorganGenerator\n",
      "[17:21:16] DEPRECATION WARNING: please use MorganGenerator\n",
      "[17:21:16] DEPRECATION WARNING: please use MorganGenerator\n",
      "[17:21:16] DEPRECATION WARNING: please use MorganGenerator\n",
      "[17:21:16] DEPRECATION WARNING: please use MorganGenerator\n",
      "[17:21:16] DEPRECATION WARNING: please use MorganGenerator\n",
      "[17:21:16] DEPRECATION WARNING: please use MorganGenerator\n",
      "[17:21:16] DEPRECATION WARNING: please use MorganGenerator\n",
      "[17:21:16] DEPRECATION WARNING: please use MorganGenerator\n",
      "[17:21:16] DEPRECATION WARNING: please use MorganGenerator\n",
      "[17:21:16] DEPRECATION WARNING: please use MorganGenerator\n",
      "[17:21:16] DEPRECATION WARNING: please use MorganGenerator\n",
      "[17:21:16] DEPRECATION WARNING: please use MorganGenerator\n",
      "[17:21:16] DEPRECATION WARNING: please use MorganGenerator\n",
      "[17:21:16] DEPRECATION WARNING: please use MorganGenerator\n",
      "[17:21:16] DEPRECATION WARNING: please use MorganGenerator\n",
      "[17:21:16] DEPRECATION WARNING: please use MorganGenerator\n",
      "[17:21:16] DEPRECATION WARNING: please use MorganGenerator\n",
      "[17:21:16] DEPRECATION WARNING: please use MorganGenerator\n",
      "[17:21:16] DEPRECATION WARNING: please use MorganGenerator\n",
      "[17:21:16] DEPRECATION WARNING: please use MorganGenerator\n",
      "[17:21:16] DEPRECATION WARNING: please use MorganGenerator\n",
      "[17:21:16] DEPRECATION WARNING: please use MorganGenerator\n",
      "[17:21:16] DEPRECATION WARNING: please use MorganGenerator\n",
      "[17:21:16] DEPRECATION WARNING: please use MorganGenerator\n",
      "[17:21:16] DEPRECATION WARNING: please use MorganGenerator\n",
      "[17:21:16] DEPRECATION WARNING: please use MorganGenerator\n",
      "[17:21:16] DEPRECATION WARNING: please use MorganGenerator\n",
      "[17:21:16] DEPRECATION WARNING: please use MorganGenerator\n",
      "[17:21:16] DEPRECATION WARNING: please use MorganGenerator\n",
      "[17:21:16] DEPRECATION WARNING: please use MorganGenerator\n",
      "[17:21:16] DEPRECATION WARNING: please use MorganGenerator\n",
      "[17:21:16] DEPRECATION WARNING: please use MorganGenerator\n",
      "[17:21:16] DEPRECATION WARNING: please use MorganGenerator\n",
      "[17:21:16] DEPRECATION WARNING: please use MorganGenerator\n",
      "[17:21:16] DEPRECATION WARNING: please use MorganGenerator\n",
      "[17:21:16] DEPRECATION WARNING: please use MorganGenerator\n",
      "[17:21:16] DEPRECATION WARNING: please use MorganGenerator\n",
      "[17:21:16] DEPRECATION WARNING: please use MorganGenerator\n",
      "[17:21:16] DEPRECATION WARNING: please use MorganGenerator\n",
      "[17:21:16] DEPRECATION WARNING: please use MorganGenerator\n",
      "[17:21:16] DEPRECATION WARNING: please use MorganGenerator\n",
      "[17:21:16] DEPRECATION WARNING: please use MorganGenerator\n",
      "[17:21:16] DEPRECATION WARNING: please use MorganGenerator\n",
      "[17:21:16] DEPRECATION WARNING: please use MorganGenerator\n",
      "[17:21:16] DEPRECATION WARNING: please use MorganGenerator\n",
      "[17:21:16] DEPRECATION WARNING: please use MorganGenerator\n",
      "[17:21:17] DEPRECATION WARNING: please use MorganGenerator\n",
      "[17:21:17] DEPRECATION WARNING: please use MorganGenerator\n",
      "[17:21:17] DEPRECATION WARNING: please use MorganGenerator\n",
      "[17:21:17] DEPRECATION WARNING: please use MorganGenerator\n",
      "[17:21:17] DEPRECATION WARNING: please use MorganGenerator\n",
      "[17:21:17] DEPRECATION WARNING: please use MorganGenerator\n",
      "[17:21:17] DEPRECATION WARNING: please use MorganGenerator\n",
      "[17:21:17] DEPRECATION WARNING: please use MorganGenerator\n",
      "[17:21:17] DEPRECATION WARNING: please use MorganGenerator\n",
      "[17:21:17] DEPRECATION WARNING: please use MorganGenerator\n",
      "[17:21:17] DEPRECATION WARNING: please use MorganGenerator\n",
      "[17:21:17] DEPRECATION WARNING: please use MorganGenerator\n",
      "[17:21:17] DEPRECATION WARNING: please use MorganGenerator\n",
      "[17:21:17] DEPRECATION WARNING: please use MorganGenerator\n",
      "[17:21:17] DEPRECATION WARNING: please use MorganGenerator\n",
      "[17:21:17] DEPRECATION WARNING: please use MorganGenerator\n",
      "[17:21:17] DEPRECATION WARNING: please use MorganGenerator\n",
      "[17:21:17] DEPRECATION WARNING: please use MorganGenerator\n",
      "[17:21:17] DEPRECATION WARNING: please use MorganGenerator\n",
      "[17:21:17] DEPRECATION WARNING: please use MorganGenerator\n",
      "[17:21:17] DEPRECATION WARNING: please use MorganGenerator\n",
      "[17:21:17] DEPRECATION WARNING: please use MorganGenerator\n",
      "[17:21:17] DEPRECATION WARNING: please use MorganGenerator\n",
      "[17:21:17] DEPRECATION WARNING: please use MorganGenerator\n",
      "[17:21:17] DEPRECATION WARNING: please use MorganGenerator\n",
      "[17:21:17] DEPRECATION WARNING: please use MorganGenerator\n",
      "[17:21:17] DEPRECATION WARNING: please use MorganGenerator\n",
      "[17:21:17] DEPRECATION WARNING: please use MorganGenerator\n",
      "[17:21:17] DEPRECATION WARNING: please use MorganGenerator\n",
      "[17:21:17] DEPRECATION WARNING: please use MorganGenerator\n",
      "[17:21:17] DEPRECATION WARNING: please use MorganGenerator\n",
      "[17:21:17] DEPRECATION WARNING: please use MorganGenerator\n",
      "[17:21:17] DEPRECATION WARNING: please use MorganGenerator\n",
      "[17:21:17] DEPRECATION WARNING: please use MorganGenerator\n",
      "[17:21:17] DEPRECATION WARNING: please use MorganGenerator\n",
      "[17:21:17] DEPRECATION WARNING: please use MorganGenerator\n",
      "[17:21:17] DEPRECATION WARNING: please use MorganGenerator\n",
      "[17:21:17] DEPRECATION WARNING: please use MorganGenerator\n",
      "[17:21:17] DEPRECATION WARNING: please use MorganGenerator\n",
      "[17:21:17] DEPRECATION WARNING: please use MorganGenerator\n",
      "[17:21:17] DEPRECATION WARNING: please use MorganGenerator\n",
      "[17:21:17] DEPRECATION WARNING: please use MorganGenerator\n",
      "[17:21:17] DEPRECATION WARNING: please use MorganGenerator\n",
      "[17:21:17] DEPRECATION WARNING: please use MorganGenerator\n",
      "[17:21:17] DEPRECATION WARNING: please use MorganGenerator\n",
      "[17:21:17] DEPRECATION WARNING: please use MorganGenerator\n",
      "[17:21:17] DEPRECATION WARNING: please use MorganGenerator\n",
      "[17:21:17] DEPRECATION WARNING: please use MorganGenerator\n",
      "[17:21:17] DEPRECATION WARNING: please use MorganGenerator\n",
      "[17:21:17] DEPRECATION WARNING: please use MorganGenerator\n",
      "[17:21:17] DEPRECATION WARNING: please use MorganGenerator\n",
      "[17:21:17] DEPRECATION WARNING: please use MorganGenerator\n",
      "[17:21:17] DEPRECATION WARNING: please use MorganGenerator\n",
      "[17:21:17] DEPRECATION WARNING: please use MorganGenerator\n",
      "[17:21:17] DEPRECATION WARNING: please use MorganGenerator\n",
      "[17:21:17] DEPRECATION WARNING: please use MorganGenerator\n",
      "[17:21:17] DEPRECATION WARNING: please use MorganGenerator\n",
      "[17:21:17] DEPRECATION WARNING: please use MorganGenerator\n",
      "[17:21:17] DEPRECATION WARNING: please use MorganGenerator\n",
      "[17:21:17] DEPRECATION WARNING: please use MorganGenerator\n",
      "[17:21:17] DEPRECATION WARNING: please use MorganGenerator\n",
      "[17:21:17] DEPRECATION WARNING: please use MorganGenerator\n",
      "[17:21:17] DEPRECATION WARNING: please use MorganGenerator\n",
      "[17:21:17] DEPRECATION WARNING: please use MorganGenerator\n",
      "[17:21:17] DEPRECATION WARNING: please use MorganGenerator\n",
      "[17:21:17] DEPRECATION WARNING: please use MorganGenerator\n",
      "[17:21:17] DEPRECATION WARNING: please use MorganGenerator\n",
      "[17:21:17] DEPRECATION WARNING: please use MorganGenerator\n",
      "[17:21:17] DEPRECATION WARNING: please use MorganGenerator\n",
      "[17:21:17] DEPRECATION WARNING: please use MorganGenerator\n",
      "[17:21:17] DEPRECATION WARNING: please use MorganGenerator\n",
      "[17:21:17] DEPRECATION WARNING: please use MorganGenerator\n",
      "[17:21:17] DEPRECATION WARNING: please use MorganGenerator\n",
      "[17:21:17] DEPRECATION WARNING: please use MorganGenerator\n",
      "[17:21:17] DEPRECATION WARNING: please use MorganGenerator\n",
      "[17:21:17] DEPRECATION WARNING: please use MorganGenerator\n",
      "[17:21:17] DEPRECATION WARNING: please use MorganGenerator\n",
      "[17:21:17] DEPRECATION WARNING: please use MorganGenerator\n",
      "[17:21:17] DEPRECATION WARNING: please use MorganGenerator\n",
      "[17:21:17] DEPRECATION WARNING: please use MorganGenerator\n",
      "[17:21:17] DEPRECATION WARNING: please use MorganGenerator\n",
      "[17:21:17] DEPRECATION WARNING: please use MorganGenerator\n",
      "[17:21:17] DEPRECATION WARNING: please use MorganGenerator\n",
      "[17:21:17] DEPRECATION WARNING: please use MorganGenerator\n",
      "[17:21:17] DEPRECATION WARNING: please use MorganGenerator\n",
      "[17:21:17] DEPRECATION WARNING: please use MorganGenerator\n",
      "[17:21:17] DEPRECATION WARNING: please use MorganGenerator\n",
      "[17:21:17] DEPRECATION WARNING: please use MorganGenerator\n",
      "[17:21:17] DEPRECATION WARNING: please use MorganGenerator\n",
      "[17:21:17] DEPRECATION WARNING: please use MorganGenerator\n",
      "[17:21:17] DEPRECATION WARNING: please use MorganGenerator\n",
      "[17:21:17] DEPRECATION WARNING: please use MorganGenerator\n",
      "[17:21:17] DEPRECATION WARNING: please use MorganGenerator\n",
      "[17:21:17] DEPRECATION WARNING: please use MorganGenerator\n",
      "[17:21:17] DEPRECATION WARNING: please use MorganGenerator\n",
      "[17:21:17] DEPRECATION WARNING: please use MorganGenerator\n",
      "2025-05-19 17:21:17,104 - INFO - Starting model training and evaluation...\n",
      "2025-05-19 17:21:17,106 - INFO - Data split - Train: 1244, Valid: 311, Test: 389\n",
      "2025-05-19 17:21:17,111 - INFO - \n",
      "Training GraphConv model...\n",
      "2025-05-19 17:21:17.128856: W tensorflow/stream_executor/platform/default/dso_loader.cc:64] Could not load dynamic library 'libcuda.so.1'; dlerror: libcuda.so.1: cannot open shared object file: No such file or directory\n",
      "2025-05-19 17:21:17.129184: W tensorflow/stream_executor/cuda/cuda_driver.cc:263] failed call to cuInit: UNKNOWN ERROR (303)\n",
      "2025-05-19 17:21:17.129208: I tensorflow/stream_executor/cuda/cuda_diagnostics.cc:156] kernel driver does not appear to be running on this host (mounir-HP-ProBook-430-G5): /proc/driver/nvidia/version does not exist\n",
      "2025-05-19 17:21:17.130097: I tensorflow/core/platform/cpu_feature_guard.cc:193] This TensorFlow binary is optimized with oneAPI Deep Neural Network Library (oneDNN) to use the following CPU instructions in performance-critical operations:  AVX2 FMA\n",
      "To enable them in other operations, rebuild TensorFlow with the appropriate compiler flags.\n",
      "/home/mounir/spark_logp_fixed_env/lib/python3.10/site-packages/tensorflow/python/framework/indexed_slices.py:444: UserWarning: Converting sparse IndexedSlices(IndexedSlices(indices=Tensor(\"gradient_tape/private__graph_conv_keras_model/graph_pool_1/Reshape_14:0\", shape=(181,), dtype=int32), values=Tensor(\"gradient_tape/private__graph_conv_keras_model/graph_pool_1/Reshape_13:0\", shape=(181, 128), dtype=float32), dense_shape=Tensor(\"gradient_tape/private__graph_conv_keras_model/graph_pool_1/Cast_4:0\", shape=(2,), dtype=int32))) to a dense Tensor of unknown shape. This may consume a large amount of memory.\n",
      "  warnings.warn(\n",
      "/home/mounir/spark_logp_fixed_env/lib/python3.10/site-packages/tensorflow/python/framework/indexed_slices.py:444: UserWarning: Converting sparse IndexedSlices(IndexedSlices(indices=Tensor(\"gradient_tape/private__graph_conv_keras_model/graph_pool_1/Reshape_17:0\", shape=(1064,), dtype=int32), values=Tensor(\"gradient_tape/private__graph_conv_keras_model/graph_pool_1/Reshape_16:0\", shape=(1064, 128), dtype=float32), dense_shape=Tensor(\"gradient_tape/private__graph_conv_keras_model/graph_pool_1/Cast_5:0\", shape=(2,), dtype=int32))) to a dense Tensor of unknown shape. This may consume a large amount of memory.\n",
      "  warnings.warn(\n",
      "/home/mounir/spark_logp_fixed_env/lib/python3.10/site-packages/tensorflow/python/framework/indexed_slices.py:444: UserWarning: Converting sparse IndexedSlices(IndexedSlices(indices=Tensor(\"gradient_tape/private__graph_conv_keras_model/graph_pool_1/Reshape_20:0\", shape=(903,), dtype=int32), values=Tensor(\"gradient_tape/private__graph_conv_keras_model/graph_pool_1/Reshape_19:0\", shape=(903, 128), dtype=float32), dense_shape=Tensor(\"gradient_tape/private__graph_conv_keras_model/graph_pool_1/Cast_6:0\", shape=(2,), dtype=int32))) to a dense Tensor of unknown shape. This may consume a large amount of memory.\n",
      "  warnings.warn(\n",
      "/home/mounir/spark_logp_fixed_env/lib/python3.10/site-packages/tensorflow/python/framework/indexed_slices.py:444: UserWarning: Converting sparse IndexedSlices(IndexedSlices(indices=Tensor(\"gradient_tape/private__graph_conv_keras_model/graph_pool_1/Reshape_23:0\", shape=(128,), dtype=int32), values=Tensor(\"gradient_tape/private__graph_conv_keras_model/graph_pool_1/Reshape_22:0\", shape=(128, 128), dtype=float32), dense_shape=Tensor(\"gradient_tape/private__graph_conv_keras_model/graph_pool_1/Cast_7:0\", shape=(2,), dtype=int32))) to a dense Tensor of unknown shape. This may consume a large amount of memory.\n",
      "  warnings.warn(\n",
      "/home/mounir/spark_logp_fixed_env/lib/python3.10/site-packages/tensorflow/python/framework/indexed_slices.py:444: UserWarning: Converting sparse IndexedSlices(IndexedSlices(indices=Tensor(\"gradient_tape/private__graph_conv_keras_model/graph_conv_1/Reshape_11:0\", shape=(181,), dtype=int32), values=Tensor(\"gradient_tape/private__graph_conv_keras_model/graph_conv_1/Reshape_10:0\", shape=(181, 128), dtype=float32), dense_shape=Tensor(\"gradient_tape/private__graph_conv_keras_model/graph_conv_1/Cast:0\", shape=(2,), dtype=int32))) to a dense Tensor of unknown shape. This may consume a large amount of memory.\n",
      "  warnings.warn(\n",
      "/home/mounir/spark_logp_fixed_env/lib/python3.10/site-packages/tensorflow/python/framework/indexed_slices.py:444: UserWarning: Converting sparse IndexedSlices(IndexedSlices(indices=Tensor(\"gradient_tape/private__graph_conv_keras_model/graph_conv_1/Reshape_13:0\", shape=(1064,), dtype=int32), values=Tensor(\"gradient_tape/private__graph_conv_keras_model/graph_conv_1/Reshape_12:0\", shape=(1064, 128), dtype=float32), dense_shape=Tensor(\"gradient_tape/private__graph_conv_keras_model/graph_conv_1/Cast_1:0\", shape=(2,), dtype=int32))) to a dense Tensor of unknown shape. This may consume a large amount of memory.\n",
      "  warnings.warn(\n",
      "/home/mounir/spark_logp_fixed_env/lib/python3.10/site-packages/tensorflow/python/framework/indexed_slices.py:444: UserWarning: Converting sparse IndexedSlices(IndexedSlices(indices=Tensor(\"gradient_tape/private__graph_conv_keras_model/graph_conv_1/Reshape_15:0\", shape=(903,), dtype=int32), values=Tensor(\"gradient_tape/private__graph_conv_keras_model/graph_conv_1/Reshape_14:0\", shape=(903, 128), dtype=float32), dense_shape=Tensor(\"gradient_tape/private__graph_conv_keras_model/graph_conv_1/Cast_2:0\", shape=(2,), dtype=int32))) to a dense Tensor of unknown shape. This may consume a large amount of memory.\n",
      "  warnings.warn(\n",
      "/home/mounir/spark_logp_fixed_env/lib/python3.10/site-packages/tensorflow/python/framework/indexed_slices.py:444: UserWarning: Converting sparse IndexedSlices(IndexedSlices(indices=Tensor(\"gradient_tape/private__graph_conv_keras_model/graph_conv_1/Reshape_17:0\", shape=(128,), dtype=int32), values=Tensor(\"gradient_tape/private__graph_conv_keras_model/graph_conv_1/Reshape_16:0\", shape=(128, 128), dtype=float32), dense_shape=Tensor(\"gradient_tape/private__graph_conv_keras_model/graph_conv_1/Cast_3:0\", shape=(2,), dtype=int32))) to a dense Tensor of unknown shape. This may consume a large amount of memory.\n",
      "  warnings.warn(\n",
      "/home/mounir/spark_logp_fixed_env/lib/python3.10/site-packages/tensorflow/python/framework/indexed_slices.py:444: UserWarning: Converting sparse IndexedSlices(IndexedSlices(indices=Tensor(\"gradient_tape/private__graph_conv_keras_model/graph_conv_1/Reshape_19:0\", shape=(0,), dtype=int32), values=Tensor(\"gradient_tape/private__graph_conv_keras_model/graph_conv_1/Reshape_18:0\", shape=(0, 128), dtype=float32), dense_shape=Tensor(\"gradient_tape/private__graph_conv_keras_model/graph_conv_1/Cast_4:0\", shape=(2,), dtype=int32))) to a dense Tensor of unknown shape. This may consume a large amount of memory.\n",
      "  warnings.warn(\n",
      "/home/mounir/spark_logp_fixed_env/lib/python3.10/site-packages/tensorflow/python/framework/indexed_slices.py:444: UserWarning: Converting sparse IndexedSlices(IndexedSlices(indices=Tensor(\"gradient_tape/private__graph_conv_keras_model/graph_conv_1/Reshape_21:0\", shape=(0,), dtype=int32), values=Tensor(\"gradient_tape/private__graph_conv_keras_model/graph_conv_1/Reshape_20:0\", shape=(0, 128), dtype=float32), dense_shape=Tensor(\"gradient_tape/private__graph_conv_keras_model/graph_conv_1/Cast_5:0\", shape=(2,), dtype=int32))) to a dense Tensor of unknown shape. This may consume a large amount of memory.\n",
      "  warnings.warn(\n",
      "/home/mounir/spark_logp_fixed_env/lib/python3.10/site-packages/tensorflow/python/framework/indexed_slices.py:444: UserWarning: Converting sparse IndexedSlices(IndexedSlices(indices=Tensor(\"gradient_tape/private__graph_conv_keras_model/graph_conv_1/Reshape_23:0\", shape=(0,), dtype=int32), values=Tensor(\"gradient_tape/private__graph_conv_keras_model/graph_conv_1/Reshape_22:0\", shape=(0, 128), dtype=float32), dense_shape=Tensor(\"gradient_tape/private__graph_conv_keras_model/graph_conv_1/Cast_6:0\", shape=(2,), dtype=int32))) to a dense Tensor of unknown shape. This may consume a large amount of memory.\n",
      "  warnings.warn(\n",
      "/home/mounir/spark_logp_fixed_env/lib/python3.10/site-packages/tensorflow/python/framework/indexed_slices.py:444: UserWarning: Converting sparse IndexedSlices(IndexedSlices(indices=Tensor(\"gradient_tape/private__graph_conv_keras_model/graph_conv_1/Reshape_25:0\", shape=(0,), dtype=int32), values=Tensor(\"gradient_tape/private__graph_conv_keras_model/graph_conv_1/Reshape_24:0\", shape=(0, 128), dtype=float32), dense_shape=Tensor(\"gradient_tape/private__graph_conv_keras_model/graph_conv_1/Cast_7:0\", shape=(2,), dtype=int32))) to a dense Tensor of unknown shape. This may consume a large amount of memory.\n",
      "  warnings.warn(\n",
      "/home/mounir/spark_logp_fixed_env/lib/python3.10/site-packages/tensorflow/python/framework/indexed_slices.py:444: UserWarning: Converting sparse IndexedSlices(IndexedSlices(indices=Tensor(\"gradient_tape/private__graph_conv_keras_model/graph_conv_1/Reshape_27:0\", shape=(0,), dtype=int32), values=Tensor(\"gradient_tape/private__graph_conv_keras_model/graph_conv_1/Reshape_26:0\", shape=(0, 128), dtype=float32), dense_shape=Tensor(\"gradient_tape/private__graph_conv_keras_model/graph_conv_1/Cast_8:0\", shape=(2,), dtype=int32))) to a dense Tensor of unknown shape. This may consume a large amount of memory.\n",
      "  warnings.warn(\n",
      "/home/mounir/spark_logp_fixed_env/lib/python3.10/site-packages/tensorflow/python/framework/indexed_slices.py:444: UserWarning: Converting sparse IndexedSlices(IndexedSlices(indices=Tensor(\"gradient_tape/private__graph_conv_keras_model/graph_conv_1/Reshape_29:0\", shape=(0,), dtype=int32), values=Tensor(\"gradient_tape/private__graph_conv_keras_model/graph_conv_1/Reshape_28:0\", shape=(0, 128), dtype=float32), dense_shape=Tensor(\"gradient_tape/private__graph_conv_keras_model/graph_conv_1/Cast_9:0\", shape=(2,), dtype=int32))) to a dense Tensor of unknown shape. This may consume a large amount of memory.\n",
      "  warnings.warn(\n",
      "/home/mounir/spark_logp_fixed_env/lib/python3.10/site-packages/tensorflow/python/framework/indexed_slices.py:444: UserWarning: Converting sparse IndexedSlices(IndexedSlices(indices=Tensor(\"gradient_tape/private__graph_conv_keras_model/graph_pool/Reshape_14:0\", shape=(181,), dtype=int32), values=Tensor(\"gradient_tape/private__graph_conv_keras_model/graph_pool/Reshape_13:0\", shape=(181, 128), dtype=float32), dense_shape=Tensor(\"gradient_tape/private__graph_conv_keras_model/graph_pool/Cast_4:0\", shape=(2,), dtype=int32))) to a dense Tensor of unknown shape. This may consume a large amount of memory.\n",
      "  warnings.warn(\n",
      "/home/mounir/spark_logp_fixed_env/lib/python3.10/site-packages/tensorflow/python/framework/indexed_slices.py:444: UserWarning: Converting sparse IndexedSlices(IndexedSlices(indices=Tensor(\"gradient_tape/private__graph_conv_keras_model/graph_pool/Reshape_17:0\", shape=(1064,), dtype=int32), values=Tensor(\"gradient_tape/private__graph_conv_keras_model/graph_pool/Reshape_16:0\", shape=(1064, 128), dtype=float32), dense_shape=Tensor(\"gradient_tape/private__graph_conv_keras_model/graph_pool/Cast_5:0\", shape=(2,), dtype=int32))) to a dense Tensor of unknown shape. This may consume a large amount of memory.\n",
      "  warnings.warn(\n",
      "/home/mounir/spark_logp_fixed_env/lib/python3.10/site-packages/tensorflow/python/framework/indexed_slices.py:444: UserWarning: Converting sparse IndexedSlices(IndexedSlices(indices=Tensor(\"gradient_tape/private__graph_conv_keras_model/graph_pool/Reshape_20:0\", shape=(903,), dtype=int32), values=Tensor(\"gradient_tape/private__graph_conv_keras_model/graph_pool/Reshape_19:0\", shape=(903, 128), dtype=float32), dense_shape=Tensor(\"gradient_tape/private__graph_conv_keras_model/graph_pool/Cast_6:0\", shape=(2,), dtype=int32))) to a dense Tensor of unknown shape. This may consume a large amount of memory.\n",
      "  warnings.warn(\n",
      "/home/mounir/spark_logp_fixed_env/lib/python3.10/site-packages/tensorflow/python/framework/indexed_slices.py:444: UserWarning: Converting sparse IndexedSlices(IndexedSlices(indices=Tensor(\"gradient_tape/private__graph_conv_keras_model/graph_pool/Reshape_23:0\", shape=(128,), dtype=int32), values=Tensor(\"gradient_tape/private__graph_conv_keras_model/graph_pool/Reshape_22:0\", shape=(128, 128), dtype=float32), dense_shape=Tensor(\"gradient_tape/private__graph_conv_keras_model/graph_pool/Cast_7:0\", shape=(2,), dtype=int32))) to a dense Tensor of unknown shape. This may consume a large amount of memory.\n",
      "  warnings.warn(\n",
      "/home/mounir/spark_logp_fixed_env/lib/python3.10/site-packages/tensorflow/python/framework/indexed_slices.py:444: UserWarning: Converting sparse IndexedSlices(IndexedSlices(indices=Tensor(\"gradient_tape/private__graph_conv_keras_model/graph_pool_1/Reshape_14:0\", shape=(None,), dtype=int32), values=Tensor(\"gradient_tape/private__graph_conv_keras_model/graph_pool_1/Reshape_13:0\", shape=(None, 128), dtype=float32), dense_shape=Tensor(\"gradient_tape/private__graph_conv_keras_model/graph_pool_1/Cast_4:0\", shape=(2,), dtype=int32))) to a dense Tensor of unknown shape. This may consume a large amount of memory.\n",
      "  warnings.warn(\n",
      "/home/mounir/spark_logp_fixed_env/lib/python3.10/site-packages/tensorflow/python/framework/indexed_slices.py:444: UserWarning: Converting sparse IndexedSlices(IndexedSlices(indices=Tensor(\"gradient_tape/private__graph_conv_keras_model/graph_pool_1/Reshape_17:0\", shape=(None,), dtype=int32), values=Tensor(\"gradient_tape/private__graph_conv_keras_model/graph_pool_1/Reshape_16:0\", shape=(None, 128), dtype=float32), dense_shape=Tensor(\"gradient_tape/private__graph_conv_keras_model/graph_pool_1/Cast_5:0\", shape=(2,), dtype=int32))) to a dense Tensor of unknown shape. This may consume a large amount of memory.\n",
      "  warnings.warn(\n",
      "/home/mounir/spark_logp_fixed_env/lib/python3.10/site-packages/tensorflow/python/framework/indexed_slices.py:444: UserWarning: Converting sparse IndexedSlices(IndexedSlices(indices=Tensor(\"gradient_tape/private__graph_conv_keras_model/graph_pool_1/Reshape_20:0\", shape=(None,), dtype=int32), values=Tensor(\"gradient_tape/private__graph_conv_keras_model/graph_pool_1/Reshape_19:0\", shape=(None, 128), dtype=float32), dense_shape=Tensor(\"gradient_tape/private__graph_conv_keras_model/graph_pool_1/Cast_6:0\", shape=(2,), dtype=int32))) to a dense Tensor of unknown shape. This may consume a large amount of memory.\n",
      "  warnings.warn(\n",
      "/home/mounir/spark_logp_fixed_env/lib/python3.10/site-packages/tensorflow/python/framework/indexed_slices.py:444: UserWarning: Converting sparse IndexedSlices(IndexedSlices(indices=Tensor(\"gradient_tape/private__graph_conv_keras_model/graph_conv_1/Reshape_11:0\", shape=(None,), dtype=int32), values=Tensor(\"gradient_tape/private__graph_conv_keras_model/graph_conv_1/Reshape_10:0\", shape=(None, 128), dtype=float32), dense_shape=Tensor(\"gradient_tape/private__graph_conv_keras_model/graph_conv_1/Cast:0\", shape=(2,), dtype=int32))) to a dense Tensor of unknown shape. This may consume a large amount of memory.\n",
      "  warnings.warn(\n",
      "/home/mounir/spark_logp_fixed_env/lib/python3.10/site-packages/tensorflow/python/framework/indexed_slices.py:444: UserWarning: Converting sparse IndexedSlices(IndexedSlices(indices=Tensor(\"gradient_tape/private__graph_conv_keras_model/graph_conv_1/Reshape_13:0\", shape=(None,), dtype=int32), values=Tensor(\"gradient_tape/private__graph_conv_keras_model/graph_conv_1/Reshape_12:0\", shape=(None, 128), dtype=float32), dense_shape=Tensor(\"gradient_tape/private__graph_conv_keras_model/graph_conv_1/Cast_1:0\", shape=(2,), dtype=int32))) to a dense Tensor of unknown shape. This may consume a large amount of memory.\n",
      "  warnings.warn(\n",
      "/home/mounir/spark_logp_fixed_env/lib/python3.10/site-packages/tensorflow/python/framework/indexed_slices.py:444: UserWarning: Converting sparse IndexedSlices(IndexedSlices(indices=Tensor(\"gradient_tape/private__graph_conv_keras_model/graph_conv_1/Reshape_15:0\", shape=(None,), dtype=int32), values=Tensor(\"gradient_tape/private__graph_conv_keras_model/graph_conv_1/Reshape_14:0\", shape=(None, 128), dtype=float32), dense_shape=Tensor(\"gradient_tape/private__graph_conv_keras_model/graph_conv_1/Cast_2:0\", shape=(2,), dtype=int32))) to a dense Tensor of unknown shape. This may consume a large amount of memory.\n",
      "  warnings.warn(\n",
      "/home/mounir/spark_logp_fixed_env/lib/python3.10/site-packages/tensorflow/python/framework/indexed_slices.py:444: UserWarning: Converting sparse IndexedSlices(IndexedSlices(indices=Tensor(\"gradient_tape/private__graph_conv_keras_model/graph_pool/Reshape_14:0\", shape=(None,), dtype=int32), values=Tensor(\"gradient_tape/private__graph_conv_keras_model/graph_pool/Reshape_13:0\", shape=(None, 128), dtype=float32), dense_shape=Tensor(\"gradient_tape/private__graph_conv_keras_model/graph_pool/Cast_4:0\", shape=(2,), dtype=int32))) to a dense Tensor of unknown shape. This may consume a large amount of memory.\n",
      "  warnings.warn(\n",
      "/home/mounir/spark_logp_fixed_env/lib/python3.10/site-packages/tensorflow/python/framework/indexed_slices.py:444: UserWarning: Converting sparse IndexedSlices(IndexedSlices(indices=Tensor(\"gradient_tape/private__graph_conv_keras_model/graph_pool/Reshape_17:0\", shape=(None,), dtype=int32), values=Tensor(\"gradient_tape/private__graph_conv_keras_model/graph_pool/Reshape_16:0\", shape=(None, 128), dtype=float32), dense_shape=Tensor(\"gradient_tape/private__graph_conv_keras_model/graph_pool/Cast_5:0\", shape=(2,), dtype=int32))) to a dense Tensor of unknown shape. This may consume a large amount of memory.\n",
      "  warnings.warn(\n",
      "/home/mounir/spark_logp_fixed_env/lib/python3.10/site-packages/tensorflow/python/framework/indexed_slices.py:444: UserWarning: Converting sparse IndexedSlices(IndexedSlices(indices=Tensor(\"gradient_tape/private__graph_conv_keras_model/graph_pool/Reshape_20:0\", shape=(None,), dtype=int32), values=Tensor(\"gradient_tape/private__graph_conv_keras_model/graph_pool/Reshape_19:0\", shape=(None, 128), dtype=float32), dense_shape=Tensor(\"gradient_tape/private__graph_conv_keras_model/graph_pool/Cast_6:0\", shape=(2,), dtype=int32))) to a dense Tensor of unknown shape. This may consume a large amount of memory.\n",
      "  warnings.warn(\n",
      "/home/mounir/spark_logp_fixed_env/lib/python3.10/site-packages/tensorflow/python/framework/indexed_slices.py:444: UserWarning: Converting sparse IndexedSlices(IndexedSlices(indices=Tensor(\"gradient_tape/private__graph_conv_keras_model/graph_pool_1/Reshape_23:0\", shape=(None,), dtype=int32), values=Tensor(\"gradient_tape/private__graph_conv_keras_model/graph_pool_1/Reshape_22:0\", shape=(None, 128), dtype=float32), dense_shape=Tensor(\"gradient_tape/private__graph_conv_keras_model/graph_pool_1/Cast_7:0\", shape=(2,), dtype=int32))) to a dense Tensor of unknown shape. This may consume a large amount of memory.\n",
      "  warnings.warn(\n",
      "/home/mounir/spark_logp_fixed_env/lib/python3.10/site-packages/tensorflow/python/framework/indexed_slices.py:444: UserWarning: Converting sparse IndexedSlices(IndexedSlices(indices=Tensor(\"gradient_tape/private__graph_conv_keras_model/graph_conv_1/Reshape_17:0\", shape=(None,), dtype=int32), values=Tensor(\"gradient_tape/private__graph_conv_keras_model/graph_conv_1/Reshape_16:0\", shape=(None, 128), dtype=float32), dense_shape=Tensor(\"gradient_tape/private__graph_conv_keras_model/graph_conv_1/Cast_3:0\", shape=(2,), dtype=int32))) to a dense Tensor of unknown shape. This may consume a large amount of memory.\n",
      "  warnings.warn(\n",
      "/home/mounir/spark_logp_fixed_env/lib/python3.10/site-packages/tensorflow/python/framework/indexed_slices.py:444: UserWarning: Converting sparse IndexedSlices(IndexedSlices(indices=Tensor(\"gradient_tape/private__graph_conv_keras_model/graph_pool/Reshape_23:0\", shape=(None,), dtype=int32), values=Tensor(\"gradient_tape/private__graph_conv_keras_model/graph_pool/Reshape_22:0\", shape=(None, 128), dtype=float32), dense_shape=Tensor(\"gradient_tape/private__graph_conv_keras_model/graph_pool/Cast_7:0\", shape=(2,), dtype=int32))) to a dense Tensor of unknown shape. This may consume a large amount of memory.\n",
      "  warnings.warn(\n",
      "2025-05-19 17:21:29,144 - INFO - computed_metrics: [-4.260402260171344]\n"
     ]
    },
    {
     "name": "stdout",
     "output_type": "stream",
     "text": [
      "Step 5 validation: r2_score=-4.2604\n"
     ]
    },
    {
     "name": "stderr",
     "output_type": "stream",
     "text": [
      "2025-05-19 17:21:29,645 - INFO - computed_metrics: [-4.091093827802048]\n"
     ]
    },
    {
     "name": "stdout",
     "output_type": "stream",
     "text": [
      "Step 10 validation: r2_score=-4.09109\n"
     ]
    },
    {
     "name": "stderr",
     "output_type": "stream",
     "text": [
      "2025-05-19 17:21:30,062 - INFO - computed_metrics: [-2.343423806021043]\n"
     ]
    },
    {
     "name": "stdout",
     "output_type": "stream",
     "text": [
      "Step 15 validation: r2_score=-2.34342\n"
     ]
    },
    {
     "name": "stderr",
     "output_type": "stream",
     "text": [
      "2025-05-19 17:21:30,463 - INFO - computed_metrics: [-1.7912446861646671]\n"
     ]
    },
    {
     "name": "stdout",
     "output_type": "stream",
     "text": [
      "Step 20 validation: r2_score=-1.79124\n"
     ]
    },
    {
     "name": "stderr",
     "output_type": "stream",
     "text": [
      "2025-05-19 17:21:30,883 - INFO - computed_metrics: [-2.487247514384546]\n"
     ]
    },
    {
     "name": "stdout",
     "output_type": "stream",
     "text": [
      "Step 25 validation: r2_score=-2.48725\n"
     ]
    },
    {
     "name": "stderr",
     "output_type": "stream",
     "text": [
      "2025-05-19 17:21:31,177 - INFO - computed_metrics: [-2.5182432722086205]\n"
     ]
    },
    {
     "name": "stdout",
     "output_type": "stream",
     "text": [
      "Step 30 validation: r2_score=-2.51824\n"
     ]
    },
    {
     "name": "stderr",
     "output_type": "stream",
     "text": [
      "2025-05-19 17:21:31,469 - INFO - computed_metrics: [-2.452004256201332]\n"
     ]
    },
    {
     "name": "stdout",
     "output_type": "stream",
     "text": [
      "Step 35 validation: r2_score=-2.452\n"
     ]
    },
    {
     "name": "stderr",
     "output_type": "stream",
     "text": [
      "2025-05-19 17:21:31,760 - INFO - computed_metrics: [-2.4187938061305636]\n"
     ]
    },
    {
     "name": "stdout",
     "output_type": "stream",
     "text": [
      "Step 40 validation: r2_score=-2.41879\n"
     ]
    },
    {
     "name": "stderr",
     "output_type": "stream",
     "text": [
      "2025-05-19 17:21:32,038 - INFO - computed_metrics: [-1.967644786173417]\n"
     ]
    },
    {
     "name": "stdout",
     "output_type": "stream",
     "text": [
      "Step 45 validation: r2_score=-1.96764\n"
     ]
    },
    {
     "name": "stderr",
     "output_type": "stream",
     "text": [
      "2025-05-19 17:21:32,325 - INFO - computed_metrics: [-1.1488428438034912]\n"
     ]
    },
    {
     "name": "stdout",
     "output_type": "stream",
     "text": [
      "Step 50 validation: r2_score=-1.14884\n"
     ]
    },
    {
     "name": "stderr",
     "output_type": "stream",
     "text": [
      "2025-05-19 17:21:32,736 - INFO - computed_metrics: [-0.4036464740135306]\n"
     ]
    },
    {
     "name": "stdout",
     "output_type": "stream",
     "text": [
      "Step 55 validation: r2_score=-0.403646\n"
     ]
    },
    {
     "name": "stderr",
     "output_type": "stream",
     "text": [
      "2025-05-19 17:21:33,143 - INFO - computed_metrics: [-0.03125852404304186]\n"
     ]
    },
    {
     "name": "stdout",
     "output_type": "stream",
     "text": [
      "Step 60 validation: r2_score=-0.0312585\n"
     ]
    },
    {
     "name": "stderr",
     "output_type": "stream",
     "text": [
      "2025-05-19 17:21:33,560 - INFO - computed_metrics: [0.02881718850923931]\n"
     ]
    },
    {
     "name": "stdout",
     "output_type": "stream",
     "text": [
      "Step 65 validation: r2_score=0.0288172\n"
     ]
    },
    {
     "name": "stderr",
     "output_type": "stream",
     "text": [
      "2025-05-19 17:21:33,993 - INFO - computed_metrics: [0.03694782909335714]\n"
     ]
    },
    {
     "name": "stdout",
     "output_type": "stream",
     "text": [
      "Step 70 validation: r2_score=0.0369478\n"
     ]
    },
    {
     "name": "stderr",
     "output_type": "stream",
     "text": [
      "2025-05-19 17:21:34,574 - INFO - computed_metrics: [0.09611391056398777]\n"
     ]
    },
    {
     "name": "stdout",
     "output_type": "stream",
     "text": [
      "Step 75 validation: r2_score=0.0961139\n"
     ]
    },
    {
     "name": "stderr",
     "output_type": "stream",
     "text": [
      "2025-05-19 17:21:34,944 - INFO - computed_metrics: [0.1337222829414304]\n"
     ]
    },
    {
     "name": "stdout",
     "output_type": "stream",
     "text": [
      "Step 80 validation: r2_score=0.133722\n"
     ]
    },
    {
     "name": "stderr",
     "output_type": "stream",
     "text": [
      "2025-05-19 17:21:35,361 - INFO - computed_metrics: [0.15362430822446793]\n"
     ]
    },
    {
     "name": "stdout",
     "output_type": "stream",
     "text": [
      "Step 85 validation: r2_score=0.153624\n"
     ]
    },
    {
     "name": "stderr",
     "output_type": "stream",
     "text": [
      "2025-05-19 17:21:35,780 - INFO - computed_metrics: [0.08595946845500169]\n"
     ]
    },
    {
     "name": "stdout",
     "output_type": "stream",
     "text": [
      "Step 90 validation: r2_score=0.0859595\n"
     ]
    },
    {
     "name": "stderr",
     "output_type": "stream",
     "text": [
      "2025-05-19 17:21:36,034 - INFO - computed_metrics: [0.11317849014338244]\n",
      "2025-05-19 17:21:36,216 - INFO - Ending global_step 100: Average loss 1.09629\n"
     ]
    },
    {
     "name": "stdout",
     "output_type": "stream",
     "text": [
      "Step 95 validation: r2_score=0.113178\n"
     ]
    },
    {
     "name": "stderr",
     "output_type": "stream",
     "text": [
      "2025-05-19 17:21:36,334 - INFO - computed_metrics: [0.12293102032099068]\n"
     ]
    },
    {
     "name": "stdout",
     "output_type": "stream",
     "text": [
      "Step 100 validation: r2_score=0.122931\n"
     ]
    },
    {
     "name": "stderr",
     "output_type": "stream",
     "text": [
      "2025-05-19 17:21:36,603 - INFO - computed_metrics: [0.1318180384310993]\n"
     ]
    },
    {
     "name": "stdout",
     "output_type": "stream",
     "text": [
      "Step 105 validation: r2_score=0.131818\n"
     ]
    },
    {
     "name": "stderr",
     "output_type": "stream",
     "text": [
      "2025-05-19 17:21:36,888 - INFO - computed_metrics: [0.08337568617982505]\n"
     ]
    },
    {
     "name": "stdout",
     "output_type": "stream",
     "text": [
      "Step 110 validation: r2_score=0.0833757\n"
     ]
    },
    {
     "name": "stderr",
     "output_type": "stream",
     "text": [
      "2025-05-19 17:21:37,192 - INFO - computed_metrics: [0.06281626663180429]\n"
     ]
    },
    {
     "name": "stdout",
     "output_type": "stream",
     "text": [
      "Step 115 validation: r2_score=0.0628163\n"
     ]
    },
    {
     "name": "stderr",
     "output_type": "stream",
     "text": [
      "2025-05-19 17:21:37,507 - INFO - computed_metrics: [0.022015405033851354]\n"
     ]
    },
    {
     "name": "stdout",
     "output_type": "stream",
     "text": [
      "Step 120 validation: r2_score=0.0220154\n"
     ]
    },
    {
     "name": "stderr",
     "output_type": "stream",
     "text": [
      "2025-05-19 17:21:37,833 - INFO - computed_metrics: [-0.03209097873407285]\n"
     ]
    },
    {
     "name": "stdout",
     "output_type": "stream",
     "text": [
      "Step 125 validation: r2_score=-0.032091\n"
     ]
    },
    {
     "name": "stderr",
     "output_type": "stream",
     "text": [
      "2025-05-19 17:21:38,164 - INFO - computed_metrics: [0.10488158317361895]\n"
     ]
    },
    {
     "name": "stdout",
     "output_type": "stream",
     "text": [
      "Step 130 validation: r2_score=0.104882\n"
     ]
    },
    {
     "name": "stderr",
     "output_type": "stream",
     "text": [
      "2025-05-19 17:21:38,458 - INFO - computed_metrics: [0.12322275062544996]\n"
     ]
    },
    {
     "name": "stdout",
     "output_type": "stream",
     "text": [
      "Step 135 validation: r2_score=0.123223\n"
     ]
    },
    {
     "name": "stderr",
     "output_type": "stream",
     "text": [
      "2025-05-19 17:21:38,775 - INFO - computed_metrics: [0.1339340801663924]\n"
     ]
    },
    {
     "name": "stdout",
     "output_type": "stream",
     "text": [
      "Step 140 validation: r2_score=0.133934\n"
     ]
    },
    {
     "name": "stderr",
     "output_type": "stream",
     "text": [
      "2025-05-19 17:21:39,080 - INFO - computed_metrics: [0.11368508731791505]\n"
     ]
    },
    {
     "name": "stdout",
     "output_type": "stream",
     "text": [
      "Step 145 validation: r2_score=0.113685\n"
     ]
    },
    {
     "name": "stderr",
     "output_type": "stream",
     "text": [
      "2025-05-19 17:21:39,353 - INFO - computed_metrics: [0.12736461283154799]\n"
     ]
    },
    {
     "name": "stdout",
     "output_type": "stream",
     "text": [
      "Step 150 validation: r2_score=0.127365\n"
     ]
    },
    {
     "name": "stderr",
     "output_type": "stream",
     "text": [
      "2025-05-19 17:21:39,655 - INFO - computed_metrics: [0.15583102506359536]\n"
     ]
    },
    {
     "name": "stdout",
     "output_type": "stream",
     "text": [
      "Step 155 validation: r2_score=0.155831\n"
     ]
    },
    {
     "name": "stderr",
     "output_type": "stream",
     "text": [
      "2025-05-19 17:21:40,012 - INFO - computed_metrics: [0.12224528003037172]\n"
     ]
    },
    {
     "name": "stdout",
     "output_type": "stream",
     "text": [
      "Step 160 validation: r2_score=0.122245\n"
     ]
    },
    {
     "name": "stderr",
     "output_type": "stream",
     "text": [
      "2025-05-19 17:21:40,250 - INFO - computed_metrics: [0.10552949989077831]\n"
     ]
    },
    {
     "name": "stdout",
     "output_type": "stream",
     "text": [
      "Step 165 validation: r2_score=0.105529\n"
     ]
    },
    {
     "name": "stderr",
     "output_type": "stream",
     "text": [
      "2025-05-19 17:21:40,517 - INFO - computed_metrics: [0.12718451064106595]\n"
     ]
    },
    {
     "name": "stdout",
     "output_type": "stream",
     "text": [
      "Step 170 validation: r2_score=0.127185\n"
     ]
    },
    {
     "name": "stderr",
     "output_type": "stream",
     "text": [
      "2025-05-19 17:21:40,796 - INFO - computed_metrics: [0.10776977205747018]\n"
     ]
    },
    {
     "name": "stdout",
     "output_type": "stream",
     "text": [
      "Step 175 validation: r2_score=0.10777\n"
     ]
    },
    {
     "name": "stderr",
     "output_type": "stream",
     "text": [
      "2025-05-19 17:21:41,060 - INFO - computed_metrics: [0.11721246847754274]\n"
     ]
    },
    {
     "name": "stdout",
     "output_type": "stream",
     "text": [
      "Step 180 validation: r2_score=0.117212\n"
     ]
    },
    {
     "name": "stderr",
     "output_type": "stream",
     "text": [
      "2025-05-19 17:21:41,313 - INFO - computed_metrics: [0.10554610577358126]\n"
     ]
    },
    {
     "name": "stdout",
     "output_type": "stream",
     "text": [
      "Step 185 validation: r2_score=0.105546\n"
     ]
    },
    {
     "name": "stderr",
     "output_type": "stream",
     "text": [
      "2025-05-19 17:21:41,582 - INFO - computed_metrics: [0.11085212942772082]\n"
     ]
    },
    {
     "name": "stdout",
     "output_type": "stream",
     "text": [
      "Step 190 validation: r2_score=0.110852\n"
     ]
    },
    {
     "name": "stderr",
     "output_type": "stream",
     "text": [
      "2025-05-19 17:21:41,838 - INFO - computed_metrics: [0.10852782073747025]\n",
      "2025-05-19 17:21:41,997 - INFO - Ending global_step 200: Average loss 0.699372\n"
     ]
    },
    {
     "name": "stdout",
     "output_type": "stream",
     "text": [
      "Step 195 validation: r2_score=0.108528\n"
     ]
    },
    {
     "name": "stderr",
     "output_type": "stream",
     "text": [
      "2025-05-19 17:21:42,096 - INFO - computed_metrics: [0.13384950007511587]\n"
     ]
    },
    {
     "name": "stdout",
     "output_type": "stream",
     "text": [
      "Step 200 validation: r2_score=0.13385\n"
     ]
    },
    {
     "name": "stderr",
     "output_type": "stream",
     "text": [
      "2025-05-19 17:21:42,346 - INFO - computed_metrics: [0.19394367015900604]\n"
     ]
    },
    {
     "name": "stdout",
     "output_type": "stream",
     "text": [
      "Step 205 validation: r2_score=0.193944\n"
     ]
    },
    {
     "name": "stderr",
     "output_type": "stream",
     "text": [
      "2025-05-19 17:21:42,716 - INFO - computed_metrics: [0.18292660286662665]\n"
     ]
    },
    {
     "name": "stdout",
     "output_type": "stream",
     "text": [
      "Step 210 validation: r2_score=0.182927\n"
     ]
    },
    {
     "name": "stderr",
     "output_type": "stream",
     "text": [
      "2025-05-19 17:21:42,966 - INFO - computed_metrics: [0.15547252214537466]\n"
     ]
    },
    {
     "name": "stdout",
     "output_type": "stream",
     "text": [
      "Step 215 validation: r2_score=0.155473\n"
     ]
    },
    {
     "name": "stderr",
     "output_type": "stream",
     "text": [
      "2025-05-19 17:21:43,252 - INFO - computed_metrics: [0.18066047519348094]\n"
     ]
    },
    {
     "name": "stdout",
     "output_type": "stream",
     "text": [
      "Step 220 validation: r2_score=0.18066\n"
     ]
    },
    {
     "name": "stderr",
     "output_type": "stream",
     "text": [
      "2025-05-19 17:21:43,536 - INFO - computed_metrics: [0.17501624913695357]\n"
     ]
    },
    {
     "name": "stdout",
     "output_type": "stream",
     "text": [
      "Step 225 validation: r2_score=0.175016\n"
     ]
    },
    {
     "name": "stderr",
     "output_type": "stream",
     "text": [
      "2025-05-19 17:21:43,794 - INFO - computed_metrics: [0.17962253654152682]\n"
     ]
    },
    {
     "name": "stdout",
     "output_type": "stream",
     "text": [
      "Step 230 validation: r2_score=0.179623\n"
     ]
    },
    {
     "name": "stderr",
     "output_type": "stream",
     "text": [
      "2025-05-19 17:21:44,052 - INFO - computed_metrics: [0.17493328214404413]\n"
     ]
    },
    {
     "name": "stdout",
     "output_type": "stream",
     "text": [
      "Step 235 validation: r2_score=0.174933\n"
     ]
    },
    {
     "name": "stderr",
     "output_type": "stream",
     "text": [
      "2025-05-19 17:21:44,299 - INFO - computed_metrics: [0.2102129141231629]\n"
     ]
    },
    {
     "name": "stdout",
     "output_type": "stream",
     "text": [
      "Step 240 validation: r2_score=0.210213\n"
     ]
    },
    {
     "name": "stderr",
     "output_type": "stream",
     "text": [
      "2025-05-19 17:21:44,672 - INFO - computed_metrics: [0.21972120755590518]\n"
     ]
    },
    {
     "name": "stdout",
     "output_type": "stream",
     "text": [
      "Step 245 validation: r2_score=0.219721\n"
     ]
    },
    {
     "name": "stderr",
     "output_type": "stream",
     "text": [
      "2025-05-19 17:21:45,043 - INFO - computed_metrics: [0.21823755932187971]\n"
     ]
    },
    {
     "name": "stdout",
     "output_type": "stream",
     "text": [
      "Step 250 validation: r2_score=0.218238\n"
     ]
    },
    {
     "name": "stderr",
     "output_type": "stream",
     "text": [
      "2025-05-19 17:21:45,305 - INFO - computed_metrics: [0.20450331462175153]\n"
     ]
    },
    {
     "name": "stdout",
     "output_type": "stream",
     "text": [
      "Step 255 validation: r2_score=0.204503\n"
     ]
    },
    {
     "name": "stderr",
     "output_type": "stream",
     "text": [
      "2025-05-19 17:21:45,564 - INFO - computed_metrics: [0.20287865413212136]\n"
     ]
    },
    {
     "name": "stdout",
     "output_type": "stream",
     "text": [
      "Step 260 validation: r2_score=0.202879\n"
     ]
    },
    {
     "name": "stderr",
     "output_type": "stream",
     "text": [
      "2025-05-19 17:21:45,812 - INFO - computed_metrics: [0.21246807609518026]\n"
     ]
    },
    {
     "name": "stdout",
     "output_type": "stream",
     "text": [
      "Step 265 validation: r2_score=0.212468\n"
     ]
    },
    {
     "name": "stderr",
     "output_type": "stream",
     "text": [
      "2025-05-19 17:21:46,070 - INFO - computed_metrics: [0.24445002851241027]\n"
     ]
    },
    {
     "name": "stdout",
     "output_type": "stream",
     "text": [
      "Step 270 validation: r2_score=0.24445\n"
     ]
    },
    {
     "name": "stderr",
     "output_type": "stream",
     "text": [
      "2025-05-19 17:21:46,448 - INFO - computed_metrics: [0.2983060059797944]\n"
     ]
    },
    {
     "name": "stdout",
     "output_type": "stream",
     "text": [
      "Step 275 validation: r2_score=0.298306\n"
     ]
    },
    {
     "name": "stderr",
     "output_type": "stream",
     "text": [
      "2025-05-19 17:21:46,827 - INFO - computed_metrics: [0.26230718155229427]\n"
     ]
    },
    {
     "name": "stdout",
     "output_type": "stream",
     "text": [
      "Step 280 validation: r2_score=0.262307\n"
     ]
    },
    {
     "name": "stderr",
     "output_type": "stream",
     "text": [
      "2025-05-19 17:21:47,090 - INFO - computed_metrics: [0.2759434941022091]\n"
     ]
    },
    {
     "name": "stdout",
     "output_type": "stream",
     "text": [
      "Step 285 validation: r2_score=0.275943\n"
     ]
    },
    {
     "name": "stderr",
     "output_type": "stream",
     "text": [
      "2025-05-19 17:21:47,343 - INFO - computed_metrics: [0.25478247277210475]\n"
     ]
    },
    {
     "name": "stdout",
     "output_type": "stream",
     "text": [
      "Step 290 validation: r2_score=0.254782\n"
     ]
    },
    {
     "name": "stderr",
     "output_type": "stream",
     "text": [
      "2025-05-19 17:21:47,607 - INFO - computed_metrics: [0.2139928771637467]\n",
      "2025-05-19 17:21:47,786 - INFO - Ending global_step 300: Average loss 0.618765\n"
     ]
    },
    {
     "name": "stdout",
     "output_type": "stream",
     "text": [
      "Step 295 validation: r2_score=0.213993\n"
     ]
    },
    {
     "name": "stderr",
     "output_type": "stream",
     "text": [
      "2025-05-19 17:21:47,874 - INFO - computed_metrics: [0.29672647443819644]\n"
     ]
    },
    {
     "name": "stdout",
     "output_type": "stream",
     "text": [
      "Step 300 validation: r2_score=0.296726\n"
     ]
    },
    {
     "name": "stderr",
     "output_type": "stream",
     "text": [
      "2025-05-19 17:21:48,115 - INFO - computed_metrics: [0.3101344034571697]\n"
     ]
    },
    {
     "name": "stdout",
     "output_type": "stream",
     "text": [
      "Step 305 validation: r2_score=0.310134\n"
     ]
    },
    {
     "name": "stderr",
     "output_type": "stream",
     "text": [
      "2025-05-19 17:21:48,489 - INFO - computed_metrics: [0.3333263139890946]\n"
     ]
    },
    {
     "name": "stdout",
     "output_type": "stream",
     "text": [
      "Step 310 validation: r2_score=0.333326\n"
     ]
    },
    {
     "name": "stderr",
     "output_type": "stream",
     "text": [
      "2025-05-19 17:21:48,873 - INFO - computed_metrics: [0.33811729521016387]\n"
     ]
    },
    {
     "name": "stdout",
     "output_type": "stream",
     "text": [
      "Step 315 validation: r2_score=0.338117\n"
     ]
    },
    {
     "name": "stderr",
     "output_type": "stream",
     "text": [
      "2025-05-19 17:21:49,277 - INFO - computed_metrics: [0.33010730169298885]\n"
     ]
    },
    {
     "name": "stdout",
     "output_type": "stream",
     "text": [
      "Step 320 validation: r2_score=0.330107\n"
     ]
    },
    {
     "name": "stderr",
     "output_type": "stream",
     "text": [
      "2025-05-19 17:21:49,548 - INFO - computed_metrics: [0.3039087933627397]\n"
     ]
    },
    {
     "name": "stdout",
     "output_type": "stream",
     "text": [
      "Step 325 validation: r2_score=0.303909\n"
     ]
    },
    {
     "name": "stderr",
     "output_type": "stream",
     "text": [
      "2025-05-19 17:21:49,807 - INFO - computed_metrics: [0.32060000117507303]\n"
     ]
    },
    {
     "name": "stdout",
     "output_type": "stream",
     "text": [
      "Step 330 validation: r2_score=0.3206\n"
     ]
    },
    {
     "name": "stderr",
     "output_type": "stream",
     "text": [
      "2025-05-19 17:21:50,077 - INFO - computed_metrics: [0.3573699594965497]\n"
     ]
    },
    {
     "name": "stdout",
     "output_type": "stream",
     "text": [
      "Step 335 validation: r2_score=0.35737\n"
     ]
    },
    {
     "name": "stderr",
     "output_type": "stream",
     "text": [
      "2025-05-19 17:21:50,484 - INFO - computed_metrics: [0.3682170323306425]\n"
     ]
    },
    {
     "name": "stdout",
     "output_type": "stream",
     "text": [
      "Step 340 validation: r2_score=0.368217\n"
     ]
    },
    {
     "name": "stderr",
     "output_type": "stream",
     "text": [
      "2025-05-19 17:21:50,865 - INFO - computed_metrics: [0.3615667368803557]\n"
     ]
    },
    {
     "name": "stdout",
     "output_type": "stream",
     "text": [
      "Step 345 validation: r2_score=0.361567\n"
     ]
    },
    {
     "name": "stderr",
     "output_type": "stream",
     "text": [
      "2025-05-19 17:21:51,125 - INFO - computed_metrics: [0.3680286984587495]\n"
     ]
    },
    {
     "name": "stdout",
     "output_type": "stream",
     "text": [
      "Step 350 validation: r2_score=0.368029\n"
     ]
    },
    {
     "name": "stderr",
     "output_type": "stream",
     "text": [
      "2025-05-19 17:21:51,376 - INFO - computed_metrics: [0.35392687708071446]\n"
     ]
    },
    {
     "name": "stdout",
     "output_type": "stream",
     "text": [
      "Step 355 validation: r2_score=0.353927\n"
     ]
    },
    {
     "name": "stderr",
     "output_type": "stream",
     "text": [
      "2025-05-19 17:21:51,638 - INFO - computed_metrics: [0.37166309963424093]\n"
     ]
    },
    {
     "name": "stdout",
     "output_type": "stream",
     "text": [
      "Step 360 validation: r2_score=0.371663\n"
     ]
    },
    {
     "name": "stderr",
     "output_type": "stream",
     "text": [
      "2025-05-19 17:21:52,014 - INFO - computed_metrics: [0.38214629082886864]\n"
     ]
    },
    {
     "name": "stdout",
     "output_type": "stream",
     "text": [
      "Step 365 validation: r2_score=0.382146\n"
     ]
    },
    {
     "name": "stderr",
     "output_type": "stream",
     "text": [
      "2025-05-19 17:21:52,490 - INFO - computed_metrics: [0.3799510577034546]\n"
     ]
    },
    {
     "name": "stdout",
     "output_type": "stream",
     "text": [
      "Step 370 validation: r2_score=0.379951\n"
     ]
    },
    {
     "name": "stderr",
     "output_type": "stream",
     "text": [
      "2025-05-19 17:21:52,793 - INFO - computed_metrics: [0.40529871699355935]\n"
     ]
    },
    {
     "name": "stdout",
     "output_type": "stream",
     "text": [
      "Step 375 validation: r2_score=0.405299\n"
     ]
    },
    {
     "name": "stderr",
     "output_type": "stream",
     "text": [
      "2025-05-19 17:21:53,162 - INFO - computed_metrics: [0.4240289724999763]\n"
     ]
    },
    {
     "name": "stdout",
     "output_type": "stream",
     "text": [
      "Step 380 validation: r2_score=0.424029\n"
     ]
    },
    {
     "name": "stderr",
     "output_type": "stream",
     "text": [
      "2025-05-19 17:21:53,565 - INFO - computed_metrics: [0.3801010957736972]\n"
     ]
    },
    {
     "name": "stdout",
     "output_type": "stream",
     "text": [
      "Step 385 validation: r2_score=0.380101\n"
     ]
    },
    {
     "name": "stderr",
     "output_type": "stream",
     "text": [
      "2025-05-19 17:21:53,854 - INFO - computed_metrics: [0.3054187293383507]\n"
     ]
    },
    {
     "name": "stdout",
     "output_type": "stream",
     "text": [
      "Step 390 validation: r2_score=0.305419\n"
     ]
    },
    {
     "name": "stderr",
     "output_type": "stream",
     "text": [
      "2025-05-19 17:21:54,115 - INFO - computed_metrics: [0.37508273230929434]\n"
     ]
    },
    {
     "name": "stdout",
     "output_type": "stream",
     "text": [
      "Step 395 validation: r2_score=0.375083\n"
     ]
    },
    {
     "name": "stderr",
     "output_type": "stream",
     "text": [
      "2025-05-19 17:21:54,336 - INFO - Ending global_step 400: Average loss 0.534952\n",
      "2025-05-19 17:21:54,441 - INFO - computed_metrics: [0.39549913988344265]\n"
     ]
    },
    {
     "name": "stdout",
     "output_type": "stream",
     "text": [
      "Step 400 validation: r2_score=0.395499\n"
     ]
    },
    {
     "name": "stderr",
     "output_type": "stream",
     "text": [
      "2025-05-19 17:21:54,749 - INFO - computed_metrics: [0.3892536299926367]\n"
     ]
    },
    {
     "name": "stdout",
     "output_type": "stream",
     "text": [
      "Step 405 validation: r2_score=0.389254\n"
     ]
    },
    {
     "name": "stderr",
     "output_type": "stream",
     "text": [
      "2025-05-19 17:21:55,035 - INFO - computed_metrics: [0.36781664584479845]\n"
     ]
    },
    {
     "name": "stdout",
     "output_type": "stream",
     "text": [
      "Step 410 validation: r2_score=0.367817\n"
     ]
    },
    {
     "name": "stderr",
     "output_type": "stream",
     "text": [
      "2025-05-19 17:21:55,308 - INFO - computed_metrics: [0.36830654079055636]\n"
     ]
    },
    {
     "name": "stdout",
     "output_type": "stream",
     "text": [
      "Step 415 validation: r2_score=0.368307\n"
     ]
    },
    {
     "name": "stderr",
     "output_type": "stream",
     "text": [
      "2025-05-19 17:21:55,581 - INFO - computed_metrics: [0.35238750366775884]\n"
     ]
    },
    {
     "name": "stdout",
     "output_type": "stream",
     "text": [
      "Step 420 validation: r2_score=0.352388\n"
     ]
    },
    {
     "name": "stderr",
     "output_type": "stream",
     "text": [
      "2025-05-19 17:21:55,856 - INFO - computed_metrics: [0.37705856059761944]\n"
     ]
    },
    {
     "name": "stdout",
     "output_type": "stream",
     "text": [
      "Step 425 validation: r2_score=0.377059\n"
     ]
    },
    {
     "name": "stderr",
     "output_type": "stream",
     "text": [
      "2025-05-19 17:21:56,140 - INFO - computed_metrics: [0.3324724972908796]\n"
     ]
    },
    {
     "name": "stdout",
     "output_type": "stream",
     "text": [
      "Step 430 validation: r2_score=0.332472\n"
     ]
    },
    {
     "name": "stderr",
     "output_type": "stream",
     "text": [
      "2025-05-19 17:21:56,423 - INFO - computed_metrics: [0.4109456864275669]\n"
     ]
    },
    {
     "name": "stdout",
     "output_type": "stream",
     "text": [
      "Step 435 validation: r2_score=0.410946\n"
     ]
    },
    {
     "name": "stderr",
     "output_type": "stream",
     "text": [
      "2025-05-19 17:21:56,694 - INFO - computed_metrics: [0.3794406129631136]\n"
     ]
    },
    {
     "name": "stdout",
     "output_type": "stream",
     "text": [
      "Step 440 validation: r2_score=0.379441\n"
     ]
    },
    {
     "name": "stderr",
     "output_type": "stream",
     "text": [
      "2025-05-19 17:21:56,991 - INFO - computed_metrics: [0.39416363161771206]\n"
     ]
    },
    {
     "name": "stdout",
     "output_type": "stream",
     "text": [
      "Step 445 validation: r2_score=0.394164\n"
     ]
    },
    {
     "name": "stderr",
     "output_type": "stream",
     "text": [
      "2025-05-19 17:21:57,277 - INFO - computed_metrics: [0.3870608608595688]\n"
     ]
    },
    {
     "name": "stdout",
     "output_type": "stream",
     "text": [
      "Step 450 validation: r2_score=0.387061\n"
     ]
    },
    {
     "name": "stderr",
     "output_type": "stream",
     "text": [
      "2025-05-19 17:21:57,536 - INFO - computed_metrics: [0.3888112071138461]\n"
     ]
    },
    {
     "name": "stdout",
     "output_type": "stream",
     "text": [
      "Step 455 validation: r2_score=0.388811\n"
     ]
    },
    {
     "name": "stderr",
     "output_type": "stream",
     "text": [
      "2025-05-19 17:21:57,781 - INFO - computed_metrics: [0.39826000662177075]\n"
     ]
    },
    {
     "name": "stdout",
     "output_type": "stream",
     "text": [
      "Step 460 validation: r2_score=0.39826\n"
     ]
    },
    {
     "name": "stderr",
     "output_type": "stream",
     "text": [
      "2025-05-19 17:21:58,035 - INFO - computed_metrics: [0.4171079434584748]\n"
     ]
    },
    {
     "name": "stdout",
     "output_type": "stream",
     "text": [
      "Step 465 validation: r2_score=0.417108\n"
     ]
    },
    {
     "name": "stderr",
     "output_type": "stream",
     "text": [
      "2025-05-19 17:21:58,322 - INFO - computed_metrics: [0.46488886763864257]\n"
     ]
    },
    {
     "name": "stdout",
     "output_type": "stream",
     "text": [
      "Step 470 validation: r2_score=0.464889\n"
     ]
    },
    {
     "name": "stderr",
     "output_type": "stream",
     "text": [
      "2025-05-19 17:21:58,742 - INFO - computed_metrics: [0.45861395794444115]\n"
     ]
    },
    {
     "name": "stdout",
     "output_type": "stream",
     "text": [
      "Step 475 validation: r2_score=0.458614\n"
     ]
    },
    {
     "name": "stderr",
     "output_type": "stream",
     "text": [
      "2025-05-19 17:21:59,012 - INFO - computed_metrics: [0.43094902215472597]\n"
     ]
    },
    {
     "name": "stdout",
     "output_type": "stream",
     "text": [
      "Step 480 validation: r2_score=0.430949\n"
     ]
    },
    {
     "name": "stderr",
     "output_type": "stream",
     "text": [
      "2025-05-19 17:21:59,265 - INFO - computed_metrics: [0.4436372159316273]\n"
     ]
    },
    {
     "name": "stdout",
     "output_type": "stream",
     "text": [
      "Step 485 validation: r2_score=0.443637\n"
     ]
    },
    {
     "name": "stderr",
     "output_type": "stream",
     "text": [
      "2025-05-19 17:21:59,523 - INFO - computed_metrics: [0.4315510278367398]\n"
     ]
    },
    {
     "name": "stdout",
     "output_type": "stream",
     "text": [
      "Step 490 validation: r2_score=0.431551\n"
     ]
    },
    {
     "name": "stderr",
     "output_type": "stream",
     "text": [
      "2025-05-19 17:21:59,824 - INFO - computed_metrics: [0.387079536274902]\n",
      "2025-05-19 17:21:59,981 - INFO - Ending global_step 500: Average loss 0.491615\n"
     ]
    },
    {
     "name": "stdout",
     "output_type": "stream",
     "text": [
      "Step 495 validation: r2_score=0.38708\n"
     ]
    },
    {
     "name": "stderr",
     "output_type": "stream",
     "text": [
      "2025-05-19 17:22:00,067 - INFO - computed_metrics: [0.3514212159749376]\n"
     ]
    },
    {
     "name": "stdout",
     "output_type": "stream",
     "text": [
      "Step 500 validation: r2_score=0.351421\n"
     ]
    },
    {
     "name": "stderr",
     "output_type": "stream",
     "text": [
      "2025-05-19 17:22:00,306 - INFO - computed_metrics: [0.3966041385610516]\n"
     ]
    },
    {
     "name": "stdout",
     "output_type": "stream",
     "text": [
      "Step 505 validation: r2_score=0.396604\n"
     ]
    },
    {
     "name": "stderr",
     "output_type": "stream",
     "text": [
      "2025-05-19 17:22:00,553 - INFO - computed_metrics: [0.43916605310845325]\n"
     ]
    },
    {
     "name": "stdout",
     "output_type": "stream",
     "text": [
      "Step 510 validation: r2_score=0.439166\n"
     ]
    },
    {
     "name": "stderr",
     "output_type": "stream",
     "text": [
      "2025-05-19 17:22:00,801 - INFO - computed_metrics: [0.42376171171754573]\n"
     ]
    },
    {
     "name": "stdout",
     "output_type": "stream",
     "text": [
      "Step 515 validation: r2_score=0.423762\n"
     ]
    },
    {
     "name": "stderr",
     "output_type": "stream",
     "text": [
      "2025-05-19 17:22:01,065 - INFO - computed_metrics: [0.4514292234827]\n"
     ]
    },
    {
     "name": "stdout",
     "output_type": "stream",
     "text": [
      "Step 520 validation: r2_score=0.451429\n"
     ]
    },
    {
     "name": "stderr",
     "output_type": "stream",
     "text": [
      "2025-05-19 17:22:01,334 - INFO - computed_metrics: [0.4259672328540878]\n"
     ]
    },
    {
     "name": "stdout",
     "output_type": "stream",
     "text": [
      "Step 525 validation: r2_score=0.425967\n"
     ]
    },
    {
     "name": "stderr",
     "output_type": "stream",
     "text": [
      "2025-05-19 17:22:01,625 - INFO - computed_metrics: [0.4289172858995045]\n"
     ]
    },
    {
     "name": "stdout",
     "output_type": "stream",
     "text": [
      "Step 530 validation: r2_score=0.428917\n"
     ]
    },
    {
     "name": "stderr",
     "output_type": "stream",
     "text": [
      "2025-05-19 17:22:01,895 - INFO - computed_metrics: [0.43470991240415824]\n"
     ]
    },
    {
     "name": "stdout",
     "output_type": "stream",
     "text": [
      "Step 535 validation: r2_score=0.43471\n"
     ]
    },
    {
     "name": "stderr",
     "output_type": "stream",
     "text": [
      "2025-05-19 17:22:02,142 - INFO - computed_metrics: [0.3838047169331752]\n"
     ]
    },
    {
     "name": "stdout",
     "output_type": "stream",
     "text": [
      "Step 540 validation: r2_score=0.383805\n"
     ]
    },
    {
     "name": "stderr",
     "output_type": "stream",
     "text": [
      "2025-05-19 17:22:02,376 - INFO - computed_metrics: [0.4452742228601694]\n"
     ]
    },
    {
     "name": "stdout",
     "output_type": "stream",
     "text": [
      "Step 545 validation: r2_score=0.445274\n"
     ]
    },
    {
     "name": "stderr",
     "output_type": "stream",
     "text": [
      "2025-05-19 17:22:02,613 - INFO - computed_metrics: [0.41088822839624306]\n"
     ]
    },
    {
     "name": "stdout",
     "output_type": "stream",
     "text": [
      "Step 550 validation: r2_score=0.410888\n"
     ]
    },
    {
     "name": "stderr",
     "output_type": "stream",
     "text": [
      "2025-05-19 17:22:02,865 - INFO - computed_metrics: [0.41104199949100073]\n"
     ]
    },
    {
     "name": "stdout",
     "output_type": "stream",
     "text": [
      "Step 555 validation: r2_score=0.411042\n"
     ]
    },
    {
     "name": "stderr",
     "output_type": "stream",
     "text": [
      "2025-05-19 17:22:03,131 - INFO - computed_metrics: [0.4222094332038625]\n"
     ]
    },
    {
     "name": "stdout",
     "output_type": "stream",
     "text": [
      "Step 560 validation: r2_score=0.422209\n"
     ]
    },
    {
     "name": "stderr",
     "output_type": "stream",
     "text": [
      "2025-05-19 17:22:03,422 - INFO - computed_metrics: [0.38425607915266]\n"
     ]
    },
    {
     "name": "stdout",
     "output_type": "stream",
     "text": [
      "Step 565 validation: r2_score=0.384256\n"
     ]
    },
    {
     "name": "stderr",
     "output_type": "stream",
     "text": [
      "2025-05-19 17:22:03,716 - INFO - computed_metrics: [0.4260425691391938]\n"
     ]
    },
    {
     "name": "stdout",
     "output_type": "stream",
     "text": [
      "Step 570 validation: r2_score=0.426043\n"
     ]
    },
    {
     "name": "stderr",
     "output_type": "stream",
     "text": [
      "2025-05-19 17:22:04,013 - INFO - computed_metrics: [0.42232035271724666]\n"
     ]
    },
    {
     "name": "stdout",
     "output_type": "stream",
     "text": [
      "Step 575 validation: r2_score=0.42232\n"
     ]
    },
    {
     "name": "stderr",
     "output_type": "stream",
     "text": [
      "2025-05-19 17:22:04,259 - INFO - computed_metrics: [0.37085780982853467]\n"
     ]
    },
    {
     "name": "stdout",
     "output_type": "stream",
     "text": [
      "Step 580 validation: r2_score=0.370858\n"
     ]
    },
    {
     "name": "stderr",
     "output_type": "stream",
     "text": [
      "2025-05-19 17:22:04,564 - INFO - computed_metrics: [0.443100949152494]\n"
     ]
    },
    {
     "name": "stdout",
     "output_type": "stream",
     "text": [
      "Step 585 validation: r2_score=0.443101\n"
     ]
    },
    {
     "name": "stderr",
     "output_type": "stream",
     "text": [
      "2025-05-19 17:22:04,875 - INFO - computed_metrics: [0.45089986338887134]\n"
     ]
    },
    {
     "name": "stdout",
     "output_type": "stream",
     "text": [
      "Step 590 validation: r2_score=0.4509\n"
     ]
    },
    {
     "name": "stderr",
     "output_type": "stream",
     "text": [
      "2025-05-19 17:22:05,150 - INFO - computed_metrics: [0.44789602972617115]\n",
      "2025-05-19 17:22:05,333 - INFO - Ending global_step 600: Average loss 0.456124\n"
     ]
    },
    {
     "name": "stdout",
     "output_type": "stream",
     "text": [
      "Step 595 validation: r2_score=0.447896\n"
     ]
    },
    {
     "name": "stderr",
     "output_type": "stream",
     "text": [
      "2025-05-19 17:22:05,430 - INFO - computed_metrics: [0.43595658098386714]\n"
     ]
    },
    {
     "name": "stdout",
     "output_type": "stream",
     "text": [
      "Step 600 validation: r2_score=0.435957\n"
     ]
    },
    {
     "name": "stderr",
     "output_type": "stream",
     "text": [
      "2025-05-19 17:22:05,734 - INFO - computed_metrics: [0.4490949477413666]\n"
     ]
    },
    {
     "name": "stdout",
     "output_type": "stream",
     "text": [
      "Step 605 validation: r2_score=0.449095\n"
     ]
    },
    {
     "name": "stderr",
     "output_type": "stream",
     "text": [
      "2025-05-19 17:22:06,062 - INFO - computed_metrics: [0.4324734727676205]\n"
     ]
    },
    {
     "name": "stdout",
     "output_type": "stream",
     "text": [
      "Step 610 validation: r2_score=0.432473\n"
     ]
    },
    {
     "name": "stderr",
     "output_type": "stream",
     "text": [
      "2025-05-19 17:22:06,375 - INFO - computed_metrics: [0.43255986569805693]\n"
     ]
    },
    {
     "name": "stdout",
     "output_type": "stream",
     "text": [
      "Step 615 validation: r2_score=0.43256\n"
     ]
    },
    {
     "name": "stderr",
     "output_type": "stream",
     "text": [
      "2025-05-19 17:22:06,651 - INFO - computed_metrics: [0.47852215465902137]\n"
     ]
    },
    {
     "name": "stdout",
     "output_type": "stream",
     "text": [
      "Step 620 validation: r2_score=0.478522\n"
     ]
    },
    {
     "name": "stderr",
     "output_type": "stream",
     "text": [
      "2025-05-19 17:22:07,125 - INFO - computed_metrics: [0.47465495236981026]\n"
     ]
    },
    {
     "name": "stdout",
     "output_type": "stream",
     "text": [
      "Step 625 validation: r2_score=0.474655\n"
     ]
    },
    {
     "name": "stderr",
     "output_type": "stream",
     "text": [
      "2025-05-19 17:22:07,390 - INFO - computed_metrics: [0.4494585739647242]\n"
     ]
    },
    {
     "name": "stdout",
     "output_type": "stream",
     "text": [
      "Step 630 validation: r2_score=0.449459\n"
     ]
    },
    {
     "name": "stderr",
     "output_type": "stream",
     "text": [
      "2025-05-19 17:22:07,674 - INFO - computed_metrics: [0.4115081884310595]\n"
     ]
    },
    {
     "name": "stdout",
     "output_type": "stream",
     "text": [
      "Step 635 validation: r2_score=0.411508\n"
     ]
    },
    {
     "name": "stderr",
     "output_type": "stream",
     "text": [
      "2025-05-19 17:22:07,923 - INFO - computed_metrics: [0.40583899416901803]\n"
     ]
    },
    {
     "name": "stdout",
     "output_type": "stream",
     "text": [
      "Step 640 validation: r2_score=0.405839\n"
     ]
    },
    {
     "name": "stderr",
     "output_type": "stream",
     "text": [
      "2025-05-19 17:22:08,176 - INFO - computed_metrics: [0.41700880323347866]\n"
     ]
    },
    {
     "name": "stdout",
     "output_type": "stream",
     "text": [
      "Step 645 validation: r2_score=0.417009\n"
     ]
    },
    {
     "name": "stderr",
     "output_type": "stream",
     "text": [
      "2025-05-19 17:22:08,447 - INFO - computed_metrics: [0.4522954474423847]\n"
     ]
    },
    {
     "name": "stdout",
     "output_type": "stream",
     "text": [
      "Step 650 validation: r2_score=0.452295\n"
     ]
    },
    {
     "name": "stderr",
     "output_type": "stream",
     "text": [
      "2025-05-19 17:22:08,736 - INFO - computed_metrics: [0.4780845362103169]\n"
     ]
    },
    {
     "name": "stdout",
     "output_type": "stream",
     "text": [
      "Step 655 validation: r2_score=0.478085\n"
     ]
    },
    {
     "name": "stderr",
     "output_type": "stream",
     "text": [
      "2025-05-19 17:22:08,980 - INFO - computed_metrics: [0.4706196384214584]\n"
     ]
    },
    {
     "name": "stdout",
     "output_type": "stream",
     "text": [
      "Step 660 validation: r2_score=0.47062\n"
     ]
    },
    {
     "name": "stderr",
     "output_type": "stream",
     "text": [
      "2025-05-19 17:22:09,292 - INFO - computed_metrics: [0.48452058028778566]\n"
     ]
    },
    {
     "name": "stdout",
     "output_type": "stream",
     "text": [
      "Step 665 validation: r2_score=0.484521\n"
     ]
    },
    {
     "name": "stderr",
     "output_type": "stream",
     "text": [
      "2025-05-19 17:22:09,735 - INFO - computed_metrics: [0.4619026572259154]\n"
     ]
    },
    {
     "name": "stdout",
     "output_type": "stream",
     "text": [
      "Step 670 validation: r2_score=0.461903\n"
     ]
    },
    {
     "name": "stderr",
     "output_type": "stream",
     "text": [
      "2025-05-19 17:22:10,035 - INFO - computed_metrics: [0.45314069596177187]\n"
     ]
    },
    {
     "name": "stdout",
     "output_type": "stream",
     "text": [
      "Step 675 validation: r2_score=0.453141\n"
     ]
    },
    {
     "name": "stderr",
     "output_type": "stream",
     "text": [
      "2025-05-19 17:22:10,368 - INFO - computed_metrics: [0.4546889223766396]\n"
     ]
    },
    {
     "name": "stdout",
     "output_type": "stream",
     "text": [
      "Step 680 validation: r2_score=0.454689\n"
     ]
    },
    {
     "name": "stderr",
     "output_type": "stream",
     "text": [
      "2025-05-19 17:22:10,652 - INFO - computed_metrics: [0.46570450560558607]\n"
     ]
    },
    {
     "name": "stdout",
     "output_type": "stream",
     "text": [
      "Step 685 validation: r2_score=0.465705\n"
     ]
    },
    {
     "name": "stderr",
     "output_type": "stream",
     "text": [
      "2025-05-19 17:22:10,922 - INFO - computed_metrics: [0.4923855599604994]\n"
     ]
    },
    {
     "name": "stdout",
     "output_type": "stream",
     "text": [
      "Step 690 validation: r2_score=0.492386\n"
     ]
    },
    {
     "name": "stderr",
     "output_type": "stream",
     "text": [
      "2025-05-19 17:22:11,348 - INFO - computed_metrics: [0.4970480909764644]\n"
     ]
    },
    {
     "name": "stdout",
     "output_type": "stream",
     "text": [
      "Step 695 validation: r2_score=0.497048\n"
     ]
    },
    {
     "name": "stderr",
     "output_type": "stream",
     "text": [
      "2025-05-19 17:22:11,657 - INFO - Ending global_step 700: Average loss 0.434998\n",
      "2025-05-19 17:22:11,743 - INFO - computed_metrics: [0.482605587526846]\n"
     ]
    },
    {
     "name": "stdout",
     "output_type": "stream",
     "text": [
      "Step 700 validation: r2_score=0.482606\n"
     ]
    },
    {
     "name": "stderr",
     "output_type": "stream",
     "text": [
      "2025-05-19 17:22:12,006 - INFO - computed_metrics: [0.49052971791220246]\n"
     ]
    },
    {
     "name": "stdout",
     "output_type": "stream",
     "text": [
      "Step 705 validation: r2_score=0.49053\n"
     ]
    },
    {
     "name": "stderr",
     "output_type": "stream",
     "text": [
      "2025-05-19 17:22:12,290 - INFO - computed_metrics: [0.4467573038196163]\n"
     ]
    },
    {
     "name": "stdout",
     "output_type": "stream",
     "text": [
      "Step 710 validation: r2_score=0.446757\n"
     ]
    },
    {
     "name": "stderr",
     "output_type": "stream",
     "text": [
      "2025-05-19 17:22:12,594 - INFO - computed_metrics: [0.48696982432977487]\n"
     ]
    },
    {
     "name": "stdout",
     "output_type": "stream",
     "text": [
      "Step 715 validation: r2_score=0.48697\n"
     ]
    },
    {
     "name": "stderr",
     "output_type": "stream",
     "text": [
      "2025-05-19 17:22:12,916 - INFO - computed_metrics: [0.45923695693936595]\n"
     ]
    },
    {
     "name": "stdout",
     "output_type": "stream",
     "text": [
      "Step 720 validation: r2_score=0.459237\n"
     ]
    },
    {
     "name": "stderr",
     "output_type": "stream",
     "text": [
      "2025-05-19 17:22:13,192 - INFO - computed_metrics: [0.44612678016006513]\n"
     ]
    },
    {
     "name": "stdout",
     "output_type": "stream",
     "text": [
      "Step 725 validation: r2_score=0.446127\n"
     ]
    },
    {
     "name": "stderr",
     "output_type": "stream",
     "text": [
      "2025-05-19 17:22:13,458 - INFO - computed_metrics: [0.5060878100944626]\n"
     ]
    },
    {
     "name": "stdout",
     "output_type": "stream",
     "text": [
      "Step 730 validation: r2_score=0.506088\n"
     ]
    },
    {
     "name": "stderr",
     "output_type": "stream",
     "text": [
      "2025-05-19 17:22:13,876 - INFO - computed_metrics: [0.4947821319248993]\n"
     ]
    },
    {
     "name": "stdout",
     "output_type": "stream",
     "text": [
      "Step 735 validation: r2_score=0.494782\n"
     ]
    },
    {
     "name": "stderr",
     "output_type": "stream",
     "text": [
      "2025-05-19 17:22:14,188 - INFO - computed_metrics: [0.462598856267013]\n"
     ]
    },
    {
     "name": "stdout",
     "output_type": "stream",
     "text": [
      "Step 740 validation: r2_score=0.462599\n"
     ]
    },
    {
     "name": "stderr",
     "output_type": "stream",
     "text": [
      "2025-05-19 17:22:14,509 - INFO - computed_metrics: [0.49329073931372036]\n"
     ]
    },
    {
     "name": "stdout",
     "output_type": "stream",
     "text": [
      "Step 745 validation: r2_score=0.493291\n"
     ]
    },
    {
     "name": "stderr",
     "output_type": "stream",
     "text": [
      "2025-05-19 17:22:14,825 - INFO - computed_metrics: [0.48068100515163525]\n"
     ]
    },
    {
     "name": "stdout",
     "output_type": "stream",
     "text": [
      "Step 750 validation: r2_score=0.480681\n"
     ]
    },
    {
     "name": "stderr",
     "output_type": "stream",
     "text": [
      "2025-05-19 17:22:15,148 - INFO - computed_metrics: [0.4737812047432466]\n"
     ]
    },
    {
     "name": "stdout",
     "output_type": "stream",
     "text": [
      "Step 755 validation: r2_score=0.473781\n"
     ]
    },
    {
     "name": "stderr",
     "output_type": "stream",
     "text": [
      "2025-05-19 17:22:15,462 - INFO - computed_metrics: [0.4910684479411478]\n"
     ]
    },
    {
     "name": "stdout",
     "output_type": "stream",
     "text": [
      "Step 760 validation: r2_score=0.491068\n"
     ]
    },
    {
     "name": "stderr",
     "output_type": "stream",
     "text": [
      "2025-05-19 17:22:15,786 - INFO - computed_metrics: [0.46534711125658434]\n"
     ]
    },
    {
     "name": "stdout",
     "output_type": "stream",
     "text": [
      "Step 765 validation: r2_score=0.465347\n"
     ]
    },
    {
     "name": "stderr",
     "output_type": "stream",
     "text": [
      "2025-05-19 17:22:16,115 - INFO - computed_metrics: [0.5099624186611416]\n"
     ]
    },
    {
     "name": "stdout",
     "output_type": "stream",
     "text": [
      "Step 770 validation: r2_score=0.509962\n"
     ]
    },
    {
     "name": "stderr",
     "output_type": "stream",
     "text": [
      "2025-05-19 17:22:16,568 - INFO - computed_metrics: [0.5050897412933728]\n"
     ]
    },
    {
     "name": "stdout",
     "output_type": "stream",
     "text": [
      "Step 775 validation: r2_score=0.50509\n"
     ]
    },
    {
     "name": "stderr",
     "output_type": "stream",
     "text": [
      "2025-05-19 17:22:16,885 - INFO - computed_metrics: [0.4935844552597024]\n"
     ]
    },
    {
     "name": "stdout",
     "output_type": "stream",
     "text": [
      "Step 780 validation: r2_score=0.493584\n"
     ]
    },
    {
     "name": "stderr",
     "output_type": "stream",
     "text": [
      "2025-05-19 17:22:17,222 - INFO - computed_metrics: [0.5114492091742519]\n"
     ]
    },
    {
     "name": "stdout",
     "output_type": "stream",
     "text": [
      "Step 785 validation: r2_score=0.511449\n"
     ]
    },
    {
     "name": "stderr",
     "output_type": "stream",
     "text": [
      "2025-05-19 17:22:17,687 - INFO - computed_metrics: [0.49413773223288626]\n"
     ]
    },
    {
     "name": "stdout",
     "output_type": "stream",
     "text": [
      "Step 790 validation: r2_score=0.494138\n"
     ]
    },
    {
     "name": "stderr",
     "output_type": "stream",
     "text": [
      "2025-05-19 17:22:17,969 - INFO - computed_metrics: [0.4700202795024163]\n",
      "2025-05-19 17:22:18,144 - INFO - Ending global_step 800: Average loss 0.422512\n"
     ]
    },
    {
     "name": "stdout",
     "output_type": "stream",
     "text": [
      "Step 795 validation: r2_score=0.47002\n"
     ]
    },
    {
     "name": "stderr",
     "output_type": "stream",
     "text": [
      "2025-05-19 17:22:18,236 - INFO - computed_metrics: [0.4797811797941559]\n"
     ]
    },
    {
     "name": "stdout",
     "output_type": "stream",
     "text": [
      "Step 800 validation: r2_score=0.479781\n"
     ]
    },
    {
     "name": "stderr",
     "output_type": "stream",
     "text": [
      "2025-05-19 17:22:18,475 - INFO - computed_metrics: [0.49086590864759183]\n"
     ]
    },
    {
     "name": "stdout",
     "output_type": "stream",
     "text": [
      "Step 805 validation: r2_score=0.490866\n"
     ]
    },
    {
     "name": "stderr",
     "output_type": "stream",
     "text": [
      "2025-05-19 17:22:18,720 - INFO - computed_metrics: [0.4748474522438678]\n"
     ]
    },
    {
     "name": "stdout",
     "output_type": "stream",
     "text": [
      "Step 810 validation: r2_score=0.474847\n"
     ]
    },
    {
     "name": "stderr",
     "output_type": "stream",
     "text": [
      "2025-05-19 17:22:19,000 - INFO - computed_metrics: [0.49738468545135395]\n"
     ]
    },
    {
     "name": "stdout",
     "output_type": "stream",
     "text": [
      "Step 815 validation: r2_score=0.497385\n"
     ]
    },
    {
     "name": "stderr",
     "output_type": "stream",
     "text": [
      "2025-05-19 17:22:19,258 - INFO - computed_metrics: [0.5105881818018523]\n"
     ]
    },
    {
     "name": "stdout",
     "output_type": "stream",
     "text": [
      "Step 820 validation: r2_score=0.510588\n"
     ]
    },
    {
     "name": "stderr",
     "output_type": "stream",
     "text": [
      "2025-05-19 17:22:19,513 - INFO - computed_metrics: [0.4680469419273555]\n"
     ]
    },
    {
     "name": "stdout",
     "output_type": "stream",
     "text": [
      "Step 825 validation: r2_score=0.468047\n"
     ]
    },
    {
     "name": "stderr",
     "output_type": "stream",
     "text": [
      "2025-05-19 17:22:19,769 - INFO - computed_metrics: [0.5062769925001418]\n"
     ]
    },
    {
     "name": "stdout",
     "output_type": "stream",
     "text": [
      "Step 830 validation: r2_score=0.506277\n"
     ]
    },
    {
     "name": "stderr",
     "output_type": "stream",
     "text": [
      "2025-05-19 17:22:20,024 - INFO - computed_metrics: [0.4932781268180291]\n"
     ]
    },
    {
     "name": "stdout",
     "output_type": "stream",
     "text": [
      "Step 835 validation: r2_score=0.493278\n"
     ]
    },
    {
     "name": "stderr",
     "output_type": "stream",
     "text": [
      "2025-05-19 17:22:20,288 - INFO - computed_metrics: [0.48835048731105146]\n"
     ]
    },
    {
     "name": "stdout",
     "output_type": "stream",
     "text": [
      "Step 840 validation: r2_score=0.48835\n"
     ]
    },
    {
     "name": "stderr",
     "output_type": "stream",
     "text": [
      "2025-05-19 17:22:20,543 - INFO - computed_metrics: [0.4769194891625945]\n"
     ]
    },
    {
     "name": "stdout",
     "output_type": "stream",
     "text": [
      "Step 845 validation: r2_score=0.476919\n"
     ]
    },
    {
     "name": "stderr",
     "output_type": "stream",
     "text": [
      "2025-05-19 17:22:20,799 - INFO - computed_metrics: [0.46945333308720016]\n"
     ]
    },
    {
     "name": "stdout",
     "output_type": "stream",
     "text": [
      "Step 850 validation: r2_score=0.469453\n"
     ]
    },
    {
     "name": "stderr",
     "output_type": "stream",
     "text": [
      "2025-05-19 17:22:21,111 - INFO - computed_metrics: [0.5050908884821951]\n"
     ]
    },
    {
     "name": "stdout",
     "output_type": "stream",
     "text": [
      "Step 855 validation: r2_score=0.505091\n"
     ]
    },
    {
     "name": "stderr",
     "output_type": "stream",
     "text": [
      "2025-05-19 17:22:21,361 - INFO - computed_metrics: [0.46815534337152964]\n"
     ]
    },
    {
     "name": "stdout",
     "output_type": "stream",
     "text": [
      "Step 860 validation: r2_score=0.468155\n"
     ]
    },
    {
     "name": "stderr",
     "output_type": "stream",
     "text": [
      "2025-05-19 17:22:21,666 - INFO - computed_metrics: [0.43267401663118765]\n"
     ]
    },
    {
     "name": "stdout",
     "output_type": "stream",
     "text": [
      "Step 865 validation: r2_score=0.432674\n"
     ]
    },
    {
     "name": "stderr",
     "output_type": "stream",
     "text": [
      "2025-05-19 17:22:21,961 - INFO - computed_metrics: [0.47596818003218266]\n"
     ]
    },
    {
     "name": "stdout",
     "output_type": "stream",
     "text": [
      "Step 870 validation: r2_score=0.475968\n"
     ]
    },
    {
     "name": "stderr",
     "output_type": "stream",
     "text": [
      "2025-05-19 17:22:22,259 - INFO - computed_metrics: [0.46846251714236475]\n"
     ]
    },
    {
     "name": "stdout",
     "output_type": "stream",
     "text": [
      "Step 875 validation: r2_score=0.468463\n"
     ]
    },
    {
     "name": "stderr",
     "output_type": "stream",
     "text": [
      "2025-05-19 17:22:22,523 - INFO - computed_metrics: [0.3969871386315422]\n"
     ]
    },
    {
     "name": "stdout",
     "output_type": "stream",
     "text": [
      "Step 880 validation: r2_score=0.396987\n"
     ]
    },
    {
     "name": "stderr",
     "output_type": "stream",
     "text": [
      "2025-05-19 17:22:22,786 - INFO - computed_metrics: [0.4478983338554542]\n"
     ]
    },
    {
     "name": "stdout",
     "output_type": "stream",
     "text": [
      "Step 885 validation: r2_score=0.447898\n"
     ]
    },
    {
     "name": "stderr",
     "output_type": "stream",
     "text": [
      "2025-05-19 17:22:23,098 - INFO - computed_metrics: [0.43896953049343057]\n"
     ]
    },
    {
     "name": "stdout",
     "output_type": "stream",
     "text": [
      "Step 890 validation: r2_score=0.43897\n"
     ]
    },
    {
     "name": "stderr",
     "output_type": "stream",
     "text": [
      "2025-05-19 17:22:23,432 - INFO - computed_metrics: [0.4607606491198194]\n"
     ]
    },
    {
     "name": "stdout",
     "output_type": "stream",
     "text": [
      "Step 895 validation: r2_score=0.460761\n"
     ]
    },
    {
     "name": "stderr",
     "output_type": "stream",
     "text": [
      "2025-05-19 17:22:23,654 - INFO - Ending global_step 900: Average loss 0.383506\n",
      "2025-05-19 17:22:23,761 - INFO - computed_metrics: [0.4910296607085425]\n"
     ]
    },
    {
     "name": "stdout",
     "output_type": "stream",
     "text": [
      "Step 900 validation: r2_score=0.49103\n"
     ]
    },
    {
     "name": "stderr",
     "output_type": "stream",
     "text": [
      "2025-05-19 17:22:24,092 - INFO - computed_metrics: [0.5097545986804621]\n"
     ]
    },
    {
     "name": "stdout",
     "output_type": "stream",
     "text": [
      "Step 905 validation: r2_score=0.509755\n"
     ]
    },
    {
     "name": "stderr",
     "output_type": "stream",
     "text": [
      "2025-05-19 17:22:24,412 - INFO - computed_metrics: [0.4999960385367168]\n"
     ]
    },
    {
     "name": "stdout",
     "output_type": "stream",
     "text": [
      "Step 910 validation: r2_score=0.499996\n"
     ]
    },
    {
     "name": "stderr",
     "output_type": "stream",
     "text": [
      "2025-05-19 17:22:24,724 - INFO - computed_metrics: [0.50827185386508]\n"
     ]
    },
    {
     "name": "stdout",
     "output_type": "stream",
     "text": [
      "Step 915 validation: r2_score=0.508272\n"
     ]
    },
    {
     "name": "stderr",
     "output_type": "stream",
     "text": [
      "2025-05-19 17:22:24,983 - INFO - computed_metrics: [0.524521096692762]\n"
     ]
    },
    {
     "name": "stdout",
     "output_type": "stream",
     "text": [
      "Step 920 validation: r2_score=0.524521\n"
     ]
    },
    {
     "name": "stderr",
     "output_type": "stream",
     "text": [
      "2025-05-19 17:22:25,391 - INFO - computed_metrics: [0.5217404422372158]\n"
     ]
    },
    {
     "name": "stdout",
     "output_type": "stream",
     "text": [
      "Step 925 validation: r2_score=0.52174\n"
     ]
    },
    {
     "name": "stderr",
     "output_type": "stream",
     "text": [
      "2025-05-19 17:22:25,717 - INFO - computed_metrics: [0.5107616513332351]\n"
     ]
    },
    {
     "name": "stdout",
     "output_type": "stream",
     "text": [
      "Step 930 validation: r2_score=0.510762\n"
     ]
    },
    {
     "name": "stderr",
     "output_type": "stream",
     "text": [
      "2025-05-19 17:22:26,044 - INFO - computed_metrics: [0.48363439002605413]\n"
     ]
    },
    {
     "name": "stdout",
     "output_type": "stream",
     "text": [
      "Step 935 validation: r2_score=0.483634\n"
     ]
    },
    {
     "name": "stderr",
     "output_type": "stream",
     "text": [
      "2025-05-19 17:22:26,379 - INFO - computed_metrics: [0.4655768949324176]\n"
     ]
    },
    {
     "name": "stdout",
     "output_type": "stream",
     "text": [
      "Step 940 validation: r2_score=0.465577\n"
     ]
    },
    {
     "name": "stderr",
     "output_type": "stream",
     "text": [
      "2025-05-19 17:22:26,670 - INFO - computed_metrics: [0.5135005801696892]\n"
     ]
    },
    {
     "name": "stdout",
     "output_type": "stream",
     "text": [
      "Step 945 validation: r2_score=0.513501\n"
     ]
    },
    {
     "name": "stderr",
     "output_type": "stream",
     "text": [
      "2025-05-19 17:22:26,952 - INFO - computed_metrics: [0.483284648822087]\n"
     ]
    },
    {
     "name": "stdout",
     "output_type": "stream",
     "text": [
      "Step 950 validation: r2_score=0.483285\n"
     ]
    },
    {
     "name": "stderr",
     "output_type": "stream",
     "text": [
      "2025-05-19 17:22:27,202 - INFO - computed_metrics: [0.4961829872518304]\n"
     ]
    },
    {
     "name": "stdout",
     "output_type": "stream",
     "text": [
      "Step 955 validation: r2_score=0.496183\n"
     ]
    },
    {
     "name": "stderr",
     "output_type": "stream",
     "text": [
      "2025-05-19 17:22:27,492 - INFO - computed_metrics: [0.5134020335257219]\n"
     ]
    },
    {
     "name": "stdout",
     "output_type": "stream",
     "text": [
      "Step 960 validation: r2_score=0.513402\n"
     ]
    },
    {
     "name": "stderr",
     "output_type": "stream",
     "text": [
      "2025-05-19 17:22:27,786 - INFO - computed_metrics: [0.48361921854875534]\n"
     ]
    },
    {
     "name": "stdout",
     "output_type": "stream",
     "text": [
      "Step 965 validation: r2_score=0.483619\n"
     ]
    },
    {
     "name": "stderr",
     "output_type": "stream",
     "text": [
      "2025-05-19 17:22:28,061 - INFO - computed_metrics: [0.5064177048824516]\n"
     ]
    },
    {
     "name": "stdout",
     "output_type": "stream",
     "text": [
      "Step 970 validation: r2_score=0.506418\n"
     ]
    },
    {
     "name": "stderr",
     "output_type": "stream",
     "text": [
      "2025-05-19 17:22:28,328 - INFO - computed_metrics: [0.49412226652049174]\n"
     ]
    },
    {
     "name": "stdout",
     "output_type": "stream",
     "text": [
      "Step 975 validation: r2_score=0.494122\n"
     ]
    },
    {
     "name": "stderr",
     "output_type": "stream",
     "text": [
      "2025-05-19 17:22:28,614 - INFO - computed_metrics: [0.5419079261263173]\n"
     ]
    },
    {
     "name": "stdout",
     "output_type": "stream",
     "text": [
      "Step 980 validation: r2_score=0.541908\n"
     ]
    },
    {
     "name": "stderr",
     "output_type": "stream",
     "text": [
      "2025-05-19 17:22:29,046 - INFO - computed_metrics: [0.5046168048945507]\n"
     ]
    },
    {
     "name": "stdout",
     "output_type": "stream",
     "text": [
      "Step 985 validation: r2_score=0.504617\n"
     ]
    },
    {
     "name": "stderr",
     "output_type": "stream",
     "text": [
      "2025-05-19 17:22:29,352 - INFO - computed_metrics: [0.5386385204456263]\n"
     ]
    },
    {
     "name": "stdout",
     "output_type": "stream",
     "text": [
      "Step 990 validation: r2_score=0.538639\n"
     ]
    },
    {
     "name": "stderr",
     "output_type": "stream",
     "text": [
      "2025-05-19 17:22:29,659 - INFO - computed_metrics: [0.5196023997986616]\n"
     ]
    },
    {
     "name": "stdout",
     "output_type": "stream",
     "text": [
      "Step 995 validation: r2_score=0.519602\n"
     ]
    },
    {
     "name": "stderr",
     "output_type": "stream",
     "text": [
      "2025-05-19 17:22:29,977 - INFO - Ending global_step 1000: Average loss 0.393925\n",
      "2025-05-19 17:22:30,079 - INFO - computed_metrics: [0.523074707942744]\n"
     ]
    },
    {
     "name": "stdout",
     "output_type": "stream",
     "text": [
      "Step 1000 validation: r2_score=0.523075\n"
     ]
    },
    {
     "name": "stderr",
     "output_type": "stream",
     "text": [
      "2025-05-19 17:22:30,357 - INFO - computed_metrics: [0.5065671759011434]\n"
     ]
    },
    {
     "name": "stdout",
     "output_type": "stream",
     "text": [
      "Step 1005 validation: r2_score=0.506567\n"
     ]
    },
    {
     "name": "stderr",
     "output_type": "stream",
     "text": [
      "2025-05-19 17:22:30,648 - INFO - computed_metrics: [0.4391865752580577]\n"
     ]
    },
    {
     "name": "stdout",
     "output_type": "stream",
     "text": [
      "Step 1010 validation: r2_score=0.439187\n"
     ]
    },
    {
     "name": "stderr",
     "output_type": "stream",
     "text": [
      "2025-05-19 17:22:30,927 - INFO - computed_metrics: [0.5184833323017215]\n"
     ]
    },
    {
     "name": "stdout",
     "output_type": "stream",
     "text": [
      "Step 1015 validation: r2_score=0.518483\n"
     ]
    },
    {
     "name": "stderr",
     "output_type": "stream",
     "text": [
      "2025-05-19 17:22:31,184 - INFO - computed_metrics: [0.49187370065311453]\n"
     ]
    },
    {
     "name": "stdout",
     "output_type": "stream",
     "text": [
      "Step 1020 validation: r2_score=0.491874\n"
     ]
    },
    {
     "name": "stderr",
     "output_type": "stream",
     "text": [
      "2025-05-19 17:22:31,450 - INFO - computed_metrics: [0.5133827762039334]\n"
     ]
    },
    {
     "name": "stdout",
     "output_type": "stream",
     "text": [
      "Step 1025 validation: r2_score=0.513383\n"
     ]
    },
    {
     "name": "stderr",
     "output_type": "stream",
     "text": [
      "2025-05-19 17:22:31,705 - INFO - computed_metrics: [0.497840551927057]\n"
     ]
    },
    {
     "name": "stdout",
     "output_type": "stream",
     "text": [
      "Step 1030 validation: r2_score=0.497841\n"
     ]
    },
    {
     "name": "stderr",
     "output_type": "stream",
     "text": [
      "2025-05-19 17:22:31,959 - INFO - computed_metrics: [0.5112925439905898]\n"
     ]
    },
    {
     "name": "stdout",
     "output_type": "stream",
     "text": [
      "Step 1035 validation: r2_score=0.511293\n"
     ]
    },
    {
     "name": "stderr",
     "output_type": "stream",
     "text": [
      "2025-05-19 17:22:32,220 - INFO - computed_metrics: [0.48670631983207613]\n"
     ]
    },
    {
     "name": "stdout",
     "output_type": "stream",
     "text": [
      "Step 1040 validation: r2_score=0.486706\n"
     ]
    },
    {
     "name": "stderr",
     "output_type": "stream",
     "text": [
      "2025-05-19 17:22:32,482 - INFO - computed_metrics: [0.4740792542408998]\n"
     ]
    },
    {
     "name": "stdout",
     "output_type": "stream",
     "text": [
      "Step 1045 validation: r2_score=0.474079\n"
     ]
    },
    {
     "name": "stderr",
     "output_type": "stream",
     "text": [
      "2025-05-19 17:22:32,759 - INFO - computed_metrics: [0.46504110637230733]\n"
     ]
    },
    {
     "name": "stdout",
     "output_type": "stream",
     "text": [
      "Step 1050 validation: r2_score=0.465041\n"
     ]
    },
    {
     "name": "stderr",
     "output_type": "stream",
     "text": [
      "2025-05-19 17:22:33,085 - INFO - computed_metrics: [0.42938452730643095]\n"
     ]
    },
    {
     "name": "stdout",
     "output_type": "stream",
     "text": [
      "Step 1055 validation: r2_score=0.429385\n"
     ]
    },
    {
     "name": "stderr",
     "output_type": "stream",
     "text": [
      "2025-05-19 17:22:33,394 - INFO - computed_metrics: [0.47113792315754943]\n"
     ]
    },
    {
     "name": "stdout",
     "output_type": "stream",
     "text": [
      "Step 1060 validation: r2_score=0.471138\n"
     ]
    },
    {
     "name": "stderr",
     "output_type": "stream",
     "text": [
      "2025-05-19 17:22:33,704 - INFO - computed_metrics: [0.44938614901301555]\n"
     ]
    },
    {
     "name": "stdout",
     "output_type": "stream",
     "text": [
      "Step 1065 validation: r2_score=0.449386\n"
     ]
    },
    {
     "name": "stderr",
     "output_type": "stream",
     "text": [
      "2025-05-19 17:22:33,996 - INFO - computed_metrics: [0.3980348679117718]\n"
     ]
    },
    {
     "name": "stdout",
     "output_type": "stream",
     "text": [
      "Step 1070 validation: r2_score=0.398035\n"
     ]
    },
    {
     "name": "stderr",
     "output_type": "stream",
     "text": [
      "2025-05-19 17:22:34,242 - INFO - computed_metrics: [0.48265852101564954]\n"
     ]
    },
    {
     "name": "stdout",
     "output_type": "stream",
     "text": [
      "Step 1075 validation: r2_score=0.482659\n"
     ]
    },
    {
     "name": "stderr",
     "output_type": "stream",
     "text": [
      "2025-05-19 17:22:34,499 - INFO - computed_metrics: [0.45270223710991053]\n"
     ]
    },
    {
     "name": "stdout",
     "output_type": "stream",
     "text": [
      "Step 1080 validation: r2_score=0.452702\n"
     ]
    },
    {
     "name": "stderr",
     "output_type": "stream",
     "text": [
      "2025-05-19 17:22:34,748 - INFO - computed_metrics: [0.459962360238765]\n"
     ]
    },
    {
     "name": "stdout",
     "output_type": "stream",
     "text": [
      "Step 1085 validation: r2_score=0.459962\n"
     ]
    },
    {
     "name": "stderr",
     "output_type": "stream",
     "text": [
      "2025-05-19 17:22:35,001 - INFO - computed_metrics: [0.46548283087151676]\n"
     ]
    },
    {
     "name": "stdout",
     "output_type": "stream",
     "text": [
      "Step 1090 validation: r2_score=0.465483\n"
     ]
    },
    {
     "name": "stderr",
     "output_type": "stream",
     "text": [
      "2025-05-19 17:22:35,260 - INFO - computed_metrics: [0.5003210237424005]\n",
      "2025-05-19 17:22:35,428 - INFO - Ending global_step 1100: Average loss 0.377817\n"
     ]
    },
    {
     "name": "stdout",
     "output_type": "stream",
     "text": [
      "Step 1095 validation: r2_score=0.500321\n"
     ]
    },
    {
     "name": "stderr",
     "output_type": "stream",
     "text": [
      "2025-05-19 17:22:35,523 - INFO - computed_metrics: [0.50243747813231]\n"
     ]
    },
    {
     "name": "stdout",
     "output_type": "stream",
     "text": [
      "Step 1100 validation: r2_score=0.502437\n"
     ]
    },
    {
     "name": "stderr",
     "output_type": "stream",
     "text": [
      "2025-05-19 17:22:35,784 - INFO - computed_metrics: [0.4981125698681115]\n"
     ]
    },
    {
     "name": "stdout",
     "output_type": "stream",
     "text": [
      "Step 1105 validation: r2_score=0.498113\n"
     ]
    },
    {
     "name": "stderr",
     "output_type": "stream",
     "text": [
      "2025-05-19 17:22:36,032 - INFO - computed_metrics: [0.503075746668769]\n"
     ]
    },
    {
     "name": "stdout",
     "output_type": "stream",
     "text": [
      "Step 1110 validation: r2_score=0.503076\n"
     ]
    },
    {
     "name": "stderr",
     "output_type": "stream",
     "text": [
      "2025-05-19 17:22:36,297 - INFO - computed_metrics: [0.5088777202453872]\n"
     ]
    },
    {
     "name": "stdout",
     "output_type": "stream",
     "text": [
      "Step 1115 validation: r2_score=0.508878\n"
     ]
    },
    {
     "name": "stderr",
     "output_type": "stream",
     "text": [
      "2025-05-19 17:22:36,592 - INFO - computed_metrics: [0.5004887368714322]\n"
     ]
    },
    {
     "name": "stdout",
     "output_type": "stream",
     "text": [
      "Step 1120 validation: r2_score=0.500489\n"
     ]
    },
    {
     "name": "stderr",
     "output_type": "stream",
     "text": [
      "2025-05-19 17:22:36,852 - INFO - computed_metrics: [0.4530669900605597]\n"
     ]
    },
    {
     "name": "stdout",
     "output_type": "stream",
     "text": [
      "Step 1125 validation: r2_score=0.453067\n"
     ]
    },
    {
     "name": "stderr",
     "output_type": "stream",
     "text": [
      "2025-05-19 17:22:37,163 - INFO - computed_metrics: [0.4086656808436765]\n"
     ]
    },
    {
     "name": "stdout",
     "output_type": "stream",
     "text": [
      "Step 1130 validation: r2_score=0.408666\n"
     ]
    },
    {
     "name": "stderr",
     "output_type": "stream",
     "text": [
      "2025-05-19 17:22:37,456 - INFO - computed_metrics: [0.37389458506436524]\n"
     ]
    },
    {
     "name": "stdout",
     "output_type": "stream",
     "text": [
      "Step 1135 validation: r2_score=0.373895\n"
     ]
    },
    {
     "name": "stderr",
     "output_type": "stream",
     "text": [
      "2025-05-19 17:22:37,749 - INFO - computed_metrics: [0.38916327019083663]\n"
     ]
    },
    {
     "name": "stdout",
     "output_type": "stream",
     "text": [
      "Step 1140 validation: r2_score=0.389163\n"
     ]
    },
    {
     "name": "stderr",
     "output_type": "stream",
     "text": [
      "2025-05-19 17:22:38,038 - INFO - computed_metrics: [0.43974761461694367]\n"
     ]
    },
    {
     "name": "stdout",
     "output_type": "stream",
     "text": [
      "Step 1145 validation: r2_score=0.439748\n"
     ]
    },
    {
     "name": "stderr",
     "output_type": "stream",
     "text": [
      "2025-05-19 17:22:38,319 - INFO - computed_metrics: [0.4099290024859983]\n"
     ]
    },
    {
     "name": "stdout",
     "output_type": "stream",
     "text": [
      "Step 1150 validation: r2_score=0.409929\n"
     ]
    },
    {
     "name": "stderr",
     "output_type": "stream",
     "text": [
      "2025-05-19 17:22:38,575 - INFO - computed_metrics: [0.4642425321510305]\n"
     ]
    },
    {
     "name": "stdout",
     "output_type": "stream",
     "text": [
      "Step 1155 validation: r2_score=0.464243\n"
     ]
    },
    {
     "name": "stderr",
     "output_type": "stream",
     "text": [
      "2025-05-19 17:22:38,828 - INFO - computed_metrics: [0.4323499153226463]\n"
     ]
    },
    {
     "name": "stdout",
     "output_type": "stream",
     "text": [
      "Step 1160 validation: r2_score=0.43235\n"
     ]
    },
    {
     "name": "stderr",
     "output_type": "stream",
     "text": [
      "2025-05-19 17:22:39,081 - INFO - computed_metrics: [0.44160936245628957]\n"
     ]
    },
    {
     "name": "stdout",
     "output_type": "stream",
     "text": [
      "Step 1165 validation: r2_score=0.441609\n"
     ]
    },
    {
     "name": "stderr",
     "output_type": "stream",
     "text": [
      "2025-05-19 17:22:39,338 - INFO - computed_metrics: [0.492257046521029]\n"
     ]
    },
    {
     "name": "stdout",
     "output_type": "stream",
     "text": [
      "Step 1170 validation: r2_score=0.492257\n"
     ]
    },
    {
     "name": "stderr",
     "output_type": "stream",
     "text": [
      "2025-05-19 17:22:39,596 - INFO - computed_metrics: [0.44889862996926466]\n"
     ]
    },
    {
     "name": "stdout",
     "output_type": "stream",
     "text": [
      "Step 1175 validation: r2_score=0.448899\n"
     ]
    },
    {
     "name": "stderr",
     "output_type": "stream",
     "text": [
      "2025-05-19 17:22:39,846 - INFO - computed_metrics: [0.39929852826390966]\n"
     ]
    },
    {
     "name": "stdout",
     "output_type": "stream",
     "text": [
      "Step 1180 validation: r2_score=0.399299\n"
     ]
    },
    {
     "name": "stderr",
     "output_type": "stream",
     "text": [
      "2025-05-19 17:22:40,098 - INFO - computed_metrics: [0.503765444442875]\n"
     ]
    },
    {
     "name": "stdout",
     "output_type": "stream",
     "text": [
      "Step 1185 validation: r2_score=0.503765\n"
     ]
    },
    {
     "name": "stderr",
     "output_type": "stream",
     "text": [
      "2025-05-19 17:22:40,436 - INFO - computed_metrics: [0.514566074343231]\n"
     ]
    },
    {
     "name": "stdout",
     "output_type": "stream",
     "text": [
      "Step 1190 validation: r2_score=0.514566\n"
     ]
    },
    {
     "name": "stderr",
     "output_type": "stream",
     "text": [
      "2025-05-19 17:22:40,817 - INFO - computed_metrics: [0.5360910009392084]\n"
     ]
    },
    {
     "name": "stdout",
     "output_type": "stream",
     "text": [
      "Step 1195 validation: r2_score=0.536091\n"
     ]
    },
    {
     "name": "stderr",
     "output_type": "stream",
     "text": [
      "2025-05-19 17:22:41,049 - INFO - Ending global_step 1200: Average loss 0.358151\n",
      "2025-05-19 17:22:41,156 - INFO - computed_metrics: [0.5227428610084166]\n"
     ]
    },
    {
     "name": "stdout",
     "output_type": "stream",
     "text": [
      "Step 1200 validation: r2_score=0.522743\n"
     ]
    },
    {
     "name": "stderr",
     "output_type": "stream",
     "text": [
      "2025-05-19 17:22:41,478 - INFO - computed_metrics: [0.5256158313259662]\n"
     ]
    },
    {
     "name": "stdout",
     "output_type": "stream",
     "text": [
      "Step 1205 validation: r2_score=0.525616\n"
     ]
    },
    {
     "name": "stderr",
     "output_type": "stream",
     "text": [
      "2025-05-19 17:22:41,809 - INFO - computed_metrics: [0.5186475604609214]\n"
     ]
    },
    {
     "name": "stdout",
     "output_type": "stream",
     "text": [
      "Step 1210 validation: r2_score=0.518648\n"
     ]
    },
    {
     "name": "stderr",
     "output_type": "stream",
     "text": [
      "2025-05-19 17:22:42,094 - INFO - computed_metrics: [0.5040424956230602]\n"
     ]
    },
    {
     "name": "stdout",
     "output_type": "stream",
     "text": [
      "Step 1215 validation: r2_score=0.504042\n"
     ]
    },
    {
     "name": "stderr",
     "output_type": "stream",
     "text": [
      "2025-05-19 17:22:42,387 - INFO - computed_metrics: [0.4914183755781092]\n"
     ]
    },
    {
     "name": "stdout",
     "output_type": "stream",
     "text": [
      "Step 1220 validation: r2_score=0.491418\n"
     ]
    },
    {
     "name": "stderr",
     "output_type": "stream",
     "text": [
      "2025-05-19 17:22:42,690 - INFO - computed_metrics: [0.49901109256800624]\n"
     ]
    },
    {
     "name": "stdout",
     "output_type": "stream",
     "text": [
      "Step 1225 validation: r2_score=0.499011\n"
     ]
    },
    {
     "name": "stderr",
     "output_type": "stream",
     "text": [
      "2025-05-19 17:22:43,006 - INFO - computed_metrics: [0.4788725857580317]\n"
     ]
    },
    {
     "name": "stdout",
     "output_type": "stream",
     "text": [
      "Step 1230 validation: r2_score=0.478873\n"
     ]
    },
    {
     "name": "stderr",
     "output_type": "stream",
     "text": [
      "2025-05-19 17:22:43,290 - INFO - computed_metrics: [0.402992966089764]\n"
     ]
    },
    {
     "name": "stdout",
     "output_type": "stream",
     "text": [
      "Step 1235 validation: r2_score=0.402993\n"
     ]
    },
    {
     "name": "stderr",
     "output_type": "stream",
     "text": [
      "2025-05-19 17:22:43,537 - INFO - computed_metrics: [0.4721627971524818]\n"
     ]
    },
    {
     "name": "stdout",
     "output_type": "stream",
     "text": [
      "Step 1240 validation: r2_score=0.472163\n"
     ]
    },
    {
     "name": "stderr",
     "output_type": "stream",
     "text": [
      "2025-05-19 17:22:43,791 - INFO - computed_metrics: [0.4680095657905601]\n"
     ]
    },
    {
     "name": "stdout",
     "output_type": "stream",
     "text": [
      "Step 1245 validation: r2_score=0.46801\n"
     ]
    },
    {
     "name": "stderr",
     "output_type": "stream",
     "text": [
      "2025-05-19 17:22:44,079 - INFO - computed_metrics: [0.4077222655518835]\n"
     ]
    },
    {
     "name": "stdout",
     "output_type": "stream",
     "text": [
      "Step 1250 validation: r2_score=0.407722\n"
     ]
    },
    {
     "name": "stderr",
     "output_type": "stream",
     "text": [
      "2025-05-19 17:22:44,338 - INFO - computed_metrics: [0.4011006246790917]\n"
     ]
    },
    {
     "name": "stdout",
     "output_type": "stream",
     "text": [
      "Step 1255 validation: r2_score=0.401101\n"
     ]
    },
    {
     "name": "stderr",
     "output_type": "stream",
     "text": [
      "2025-05-19 17:22:44,604 - INFO - computed_metrics: [0.40709383324974]\n"
     ]
    },
    {
     "name": "stdout",
     "output_type": "stream",
     "text": [
      "Step 1260 validation: r2_score=0.407094\n"
     ]
    },
    {
     "name": "stderr",
     "output_type": "stream",
     "text": [
      "2025-05-19 17:22:44,855 - INFO - computed_metrics: [0.462947397806189]\n"
     ]
    },
    {
     "name": "stdout",
     "output_type": "stream",
     "text": [
      "Step 1265 validation: r2_score=0.462947\n"
     ]
    },
    {
     "name": "stderr",
     "output_type": "stream",
     "text": [
      "2025-05-19 17:22:45,116 - INFO - computed_metrics: [0.473487511571029]\n"
     ]
    },
    {
     "name": "stdout",
     "output_type": "stream",
     "text": [
      "Step 1270 validation: r2_score=0.473488\n"
     ]
    },
    {
     "name": "stderr",
     "output_type": "stream",
     "text": [
      "2025-05-19 17:22:45,378 - INFO - computed_metrics: [0.47169053734056954]\n"
     ]
    },
    {
     "name": "stdout",
     "output_type": "stream",
     "text": [
      "Step 1275 validation: r2_score=0.471691\n"
     ]
    },
    {
     "name": "stderr",
     "output_type": "stream",
     "text": [
      "2025-05-19 17:22:45,631 - INFO - computed_metrics: [0.44988785099689954]\n"
     ]
    },
    {
     "name": "stdout",
     "output_type": "stream",
     "text": [
      "Step 1280 validation: r2_score=0.449888\n"
     ]
    },
    {
     "name": "stderr",
     "output_type": "stream",
     "text": [
      "2025-05-19 17:22:45,893 - INFO - computed_metrics: [0.4615142470677627]\n"
     ]
    },
    {
     "name": "stdout",
     "output_type": "stream",
     "text": [
      "Step 1285 validation: r2_score=0.461514\n"
     ]
    },
    {
     "name": "stderr",
     "output_type": "stream",
     "text": [
      "2025-05-19 17:22:46,154 - INFO - computed_metrics: [0.44388301905897265]\n"
     ]
    },
    {
     "name": "stdout",
     "output_type": "stream",
     "text": [
      "Step 1290 validation: r2_score=0.443883\n"
     ]
    },
    {
     "name": "stderr",
     "output_type": "stream",
     "text": [
      "2025-05-19 17:22:46,421 - INFO - computed_metrics: [0.45173301944290956]\n",
      "2025-05-19 17:22:46,577 - INFO - Ending global_step 1300: Average loss 0.336963\n"
     ]
    },
    {
     "name": "stdout",
     "output_type": "stream",
     "text": [
      "Step 1295 validation: r2_score=0.451733\n"
     ]
    },
    {
     "name": "stderr",
     "output_type": "stream",
     "text": [
      "2025-05-19 17:22:46,666 - INFO - computed_metrics: [0.47650992964041483]\n"
     ]
    },
    {
     "name": "stdout",
     "output_type": "stream",
     "text": [
      "Step 1300 validation: r2_score=0.47651\n"
     ]
    },
    {
     "name": "stderr",
     "output_type": "stream",
     "text": [
      "2025-05-19 17:22:46,923 - INFO - computed_metrics: [0.4641869889548015]\n"
     ]
    },
    {
     "name": "stdout",
     "output_type": "stream",
     "text": [
      "Step 1305 validation: r2_score=0.464187\n"
     ]
    },
    {
     "name": "stderr",
     "output_type": "stream",
     "text": [
      "2025-05-19 17:22:47,188 - INFO - computed_metrics: [0.4564224685301369]\n"
     ]
    },
    {
     "name": "stdout",
     "output_type": "stream",
     "text": [
      "Step 1310 validation: r2_score=0.456422\n"
     ]
    },
    {
     "name": "stderr",
     "output_type": "stream",
     "text": [
      "2025-05-19 17:22:47,433 - INFO - computed_metrics: [0.4663622422692527]\n"
     ]
    },
    {
     "name": "stdout",
     "output_type": "stream",
     "text": [
      "Step 1315 validation: r2_score=0.466362\n"
     ]
    },
    {
     "name": "stderr",
     "output_type": "stream",
     "text": [
      "2025-05-19 17:22:47,688 - INFO - computed_metrics: [0.45305983127085236]\n"
     ]
    },
    {
     "name": "stdout",
     "output_type": "stream",
     "text": [
      "Step 1320 validation: r2_score=0.45306\n"
     ]
    },
    {
     "name": "stderr",
     "output_type": "stream",
     "text": [
      "2025-05-19 17:22:47,931 - INFO - computed_metrics: [0.5108068164033315]\n"
     ]
    },
    {
     "name": "stdout",
     "output_type": "stream",
     "text": [
      "Step 1325 validation: r2_score=0.510807\n"
     ]
    },
    {
     "name": "stderr",
     "output_type": "stream",
     "text": [
      "2025-05-19 17:22:48,197 - INFO - computed_metrics: [0.5059024624780417]\n"
     ]
    },
    {
     "name": "stdout",
     "output_type": "stream",
     "text": [
      "Step 1330 validation: r2_score=0.505902\n"
     ]
    },
    {
     "name": "stderr",
     "output_type": "stream",
     "text": [
      "2025-05-19 17:22:48,461 - INFO - computed_metrics: [0.4895699176991325]\n"
     ]
    },
    {
     "name": "stdout",
     "output_type": "stream",
     "text": [
      "Step 1335 validation: r2_score=0.48957\n"
     ]
    },
    {
     "name": "stderr",
     "output_type": "stream",
     "text": [
      "2025-05-19 17:22:48,723 - INFO - computed_metrics: [0.4774604719774007]\n"
     ]
    },
    {
     "name": "stdout",
     "output_type": "stream",
     "text": [
      "Step 1340 validation: r2_score=0.47746\n"
     ]
    },
    {
     "name": "stderr",
     "output_type": "stream",
     "text": [
      "2025-05-19 17:22:48,989 - INFO - computed_metrics: [0.4684678217162769]\n"
     ]
    },
    {
     "name": "stdout",
     "output_type": "stream",
     "text": [
      "Step 1345 validation: r2_score=0.468468\n"
     ]
    },
    {
     "name": "stderr",
     "output_type": "stream",
     "text": [
      "2025-05-19 17:22:49,242 - INFO - computed_metrics: [0.48244360344112014]\n"
     ]
    },
    {
     "name": "stdout",
     "output_type": "stream",
     "text": [
      "Step 1350 validation: r2_score=0.482444\n"
     ]
    },
    {
     "name": "stderr",
     "output_type": "stream",
     "text": [
      "2025-05-19 17:22:49,501 - INFO - computed_metrics: [0.5118655164943471]\n"
     ]
    },
    {
     "name": "stdout",
     "output_type": "stream",
     "text": [
      "Step 1355 validation: r2_score=0.511866\n"
     ]
    },
    {
     "name": "stderr",
     "output_type": "stream",
     "text": [
      "2025-05-19 17:22:49,753 - INFO - computed_metrics: [0.4865673868613316]\n"
     ]
    },
    {
     "name": "stdout",
     "output_type": "stream",
     "text": [
      "Step 1360 validation: r2_score=0.486567\n"
     ]
    },
    {
     "name": "stderr",
     "output_type": "stream",
     "text": [
      "2025-05-19 17:22:50,013 - INFO - computed_metrics: [0.5137178153048376]\n"
     ]
    },
    {
     "name": "stdout",
     "output_type": "stream",
     "text": [
      "Step 1365 validation: r2_score=0.513718\n"
     ]
    },
    {
     "name": "stderr",
     "output_type": "stream",
     "text": [
      "2025-05-19 17:22:50,261 - INFO - computed_metrics: [0.5119057938812339]\n"
     ]
    },
    {
     "name": "stdout",
     "output_type": "stream",
     "text": [
      "Step 1370 validation: r2_score=0.511906\n"
     ]
    },
    {
     "name": "stderr",
     "output_type": "stream",
     "text": [
      "2025-05-19 17:22:50,520 - INFO - computed_metrics: [0.477763086544964]\n"
     ]
    },
    {
     "name": "stdout",
     "output_type": "stream",
     "text": [
      "Step 1375 validation: r2_score=0.477763\n"
     ]
    },
    {
     "name": "stderr",
     "output_type": "stream",
     "text": [
      "2025-05-19 17:22:50,772 - INFO - computed_metrics: [0.48853209236299644]\n"
     ]
    },
    {
     "name": "stdout",
     "output_type": "stream",
     "text": [
      "Step 1380 validation: r2_score=0.488532\n"
     ]
    },
    {
     "name": "stderr",
     "output_type": "stream",
     "text": [
      "2025-05-19 17:22:51,053 - INFO - computed_metrics: [0.4625030276037514]\n"
     ]
    },
    {
     "name": "stdout",
     "output_type": "stream",
     "text": [
      "Step 1385 validation: r2_score=0.462503\n"
     ]
    },
    {
     "name": "stderr",
     "output_type": "stream",
     "text": [
      "2025-05-19 17:22:51,311 - INFO - computed_metrics: [0.471413089038765]\n"
     ]
    },
    {
     "name": "stdout",
     "output_type": "stream",
     "text": [
      "Step 1390 validation: r2_score=0.471413\n"
     ]
    },
    {
     "name": "stderr",
     "output_type": "stream",
     "text": [
      "2025-05-19 17:22:51,558 - INFO - computed_metrics: [0.4863648474605452]\n",
      "2025-05-19 17:22:51,732 - INFO - Ending global_step 1400: Average loss 0.325767\n"
     ]
    },
    {
     "name": "stdout",
     "output_type": "stream",
     "text": [
      "Step 1395 validation: r2_score=0.486365\n"
     ]
    },
    {
     "name": "stderr",
     "output_type": "stream",
     "text": [
      "2025-05-19 17:22:51,825 - INFO - computed_metrics: [0.49437514310291597]\n"
     ]
    },
    {
     "name": "stdout",
     "output_type": "stream",
     "text": [
      "Step 1400 validation: r2_score=0.494375\n"
     ]
    },
    {
     "name": "stderr",
     "output_type": "stream",
     "text": [
      "2025-05-19 17:22:52,093 - INFO - computed_metrics: [0.48407464079133256]\n"
     ]
    },
    {
     "name": "stdout",
     "output_type": "stream",
     "text": [
      "Step 1405 validation: r2_score=0.484075\n"
     ]
    },
    {
     "name": "stderr",
     "output_type": "stream",
     "text": [
      "2025-05-19 17:22:52,367 - INFO - computed_metrics: [0.46517815993928513]\n"
     ]
    },
    {
     "name": "stdout",
     "output_type": "stream",
     "text": [
      "Step 1410 validation: r2_score=0.465178\n"
     ]
    },
    {
     "name": "stderr",
     "output_type": "stream",
     "text": [
      "2025-05-19 17:22:52,641 - INFO - computed_metrics: [0.45864192526485326]\n"
     ]
    },
    {
     "name": "stdout",
     "output_type": "stream",
     "text": [
      "Step 1415 validation: r2_score=0.458642\n"
     ]
    },
    {
     "name": "stderr",
     "output_type": "stream",
     "text": [
      "2025-05-19 17:22:52,913 - INFO - computed_metrics: [0.49840997012119415]\n"
     ]
    },
    {
     "name": "stdout",
     "output_type": "stream",
     "text": [
      "Step 1420 validation: r2_score=0.49841\n"
     ]
    },
    {
     "name": "stderr",
     "output_type": "stream",
     "text": [
      "2025-05-19 17:22:53,160 - INFO - computed_metrics: [0.502290552359013]\n"
     ]
    },
    {
     "name": "stdout",
     "output_type": "stream",
     "text": [
      "Step 1425 validation: r2_score=0.502291\n"
     ]
    },
    {
     "name": "stderr",
     "output_type": "stream",
     "text": [
      "2025-05-19 17:22:53,435 - INFO - computed_metrics: [0.49277006581283134]\n"
     ]
    },
    {
     "name": "stdout",
     "output_type": "stream",
     "text": [
      "Step 1430 validation: r2_score=0.49277\n"
     ]
    },
    {
     "name": "stderr",
     "output_type": "stream",
     "text": [
      "2025-05-19 17:22:53,693 - INFO - computed_metrics: [0.4323243774336124]\n"
     ]
    },
    {
     "name": "stdout",
     "output_type": "stream",
     "text": [
      "Step 1435 validation: r2_score=0.432324\n"
     ]
    },
    {
     "name": "stderr",
     "output_type": "stream",
     "text": [
      "2025-05-19 17:22:53,947 - INFO - computed_metrics: [0.4735162166053145]\n"
     ]
    },
    {
     "name": "stdout",
     "output_type": "stream",
     "text": [
      "Step 1440 validation: r2_score=0.473516\n"
     ]
    },
    {
     "name": "stderr",
     "output_type": "stream",
     "text": [
      "2025-05-19 17:22:54,198 - INFO - computed_metrics: [0.48846186887149534]\n"
     ]
    },
    {
     "name": "stdout",
     "output_type": "stream",
     "text": [
      "Step 1445 validation: r2_score=0.488462\n"
     ]
    },
    {
     "name": "stderr",
     "output_type": "stream",
     "text": [
      "2025-05-19 17:22:54,451 - INFO - computed_metrics: [0.4841986326854506]\n"
     ]
    },
    {
     "name": "stdout",
     "output_type": "stream",
     "text": [
      "Step 1450 validation: r2_score=0.484199\n"
     ]
    },
    {
     "name": "stderr",
     "output_type": "stream",
     "text": [
      "2025-05-19 17:22:54,764 - INFO - computed_metrics: [0.49143745008469086]\n"
     ]
    },
    {
     "name": "stdout",
     "output_type": "stream",
     "text": [
      "Step 1455 validation: r2_score=0.491437\n"
     ]
    },
    {
     "name": "stderr",
     "output_type": "stream",
     "text": [
      "2025-05-19 17:22:55,067 - INFO - computed_metrics: [0.50559303155958]\n"
     ]
    },
    {
     "name": "stdout",
     "output_type": "stream",
     "text": [
      "Step 1460 validation: r2_score=0.505593\n"
     ]
    },
    {
     "name": "stderr",
     "output_type": "stream",
     "text": [
      "2025-05-19 17:22:55,316 - INFO - computed_metrics: [0.48310072718954533]\n"
     ]
    },
    {
     "name": "stdout",
     "output_type": "stream",
     "text": [
      "Step 1465 validation: r2_score=0.483101\n"
     ]
    },
    {
     "name": "stderr",
     "output_type": "stream",
     "text": [
      "2025-05-19 17:22:55,594 - INFO - computed_metrics: [0.5012428381630056]\n"
     ]
    },
    {
     "name": "stdout",
     "output_type": "stream",
     "text": [
      "Step 1470 validation: r2_score=0.501243\n"
     ]
    },
    {
     "name": "stderr",
     "output_type": "stream",
     "text": [
      "2025-05-19 17:22:55,876 - INFO - computed_metrics: [0.5310574478065473]\n"
     ]
    },
    {
     "name": "stdout",
     "output_type": "stream",
     "text": [
      "Step 1475 validation: r2_score=0.531057\n"
     ]
    },
    {
     "name": "stderr",
     "output_type": "stream",
     "text": [
      "2025-05-19 17:22:56,167 - INFO - computed_metrics: [0.5381074121449152]\n"
     ]
    },
    {
     "name": "stdout",
     "output_type": "stream",
     "text": [
      "Step 1480 validation: r2_score=0.538107\n"
     ]
    },
    {
     "name": "stderr",
     "output_type": "stream",
     "text": [
      "2025-05-19 17:22:56,481 - INFO - computed_metrics: [0.5446698230099911]\n"
     ]
    },
    {
     "name": "stdout",
     "output_type": "stream",
     "text": [
      "Step 1485 validation: r2_score=0.54467\n"
     ]
    },
    {
     "name": "stderr",
     "output_type": "stream",
     "text": [
      "2025-05-19 17:22:56,916 - INFO - computed_metrics: [0.5361262145643946]\n"
     ]
    },
    {
     "name": "stdout",
     "output_type": "stream",
     "text": [
      "Step 1490 validation: r2_score=0.536126\n"
     ]
    },
    {
     "name": "stderr",
     "output_type": "stream",
     "text": [
      "2025-05-19 17:22:57,210 - INFO - computed_metrics: [0.5463267147876403]\n"
     ]
    },
    {
     "name": "stdout",
     "output_type": "stream",
     "text": [
      "Step 1495 validation: r2_score=0.546327\n"
     ]
    },
    {
     "name": "stderr",
     "output_type": "stream",
     "text": [
      "2025-05-19 17:22:57,732 - INFO - Ending global_step 1500: Average loss 0.318049\n",
      "2025-05-19 17:22:57,832 - INFO - computed_metrics: [0.533389940892946]\n"
     ]
    },
    {
     "name": "stdout",
     "output_type": "stream",
     "text": [
      "Step 1500 validation: r2_score=0.53339\n"
     ]
    },
    {
     "name": "stderr",
     "output_type": "stream",
     "text": [
      "2025-05-19 17:22:58,134 - INFO - computed_metrics: [0.4986949555053348]\n"
     ]
    },
    {
     "name": "stdout",
     "output_type": "stream",
     "text": [
      "Step 1505 validation: r2_score=0.498695\n"
     ]
    },
    {
     "name": "stderr",
     "output_type": "stream",
     "text": [
      "2025-05-19 17:22:58,423 - INFO - computed_metrics: [0.5141902764439049]\n"
     ]
    },
    {
     "name": "stdout",
     "output_type": "stream",
     "text": [
      "Step 1510 validation: r2_score=0.51419\n"
     ]
    },
    {
     "name": "stderr",
     "output_type": "stream",
     "text": [
      "2025-05-19 17:22:58,713 - INFO - computed_metrics: [0.4872141518047679]\n"
     ]
    },
    {
     "name": "stdout",
     "output_type": "stream",
     "text": [
      "Step 1515 validation: r2_score=0.487214\n"
     ]
    },
    {
     "name": "stderr",
     "output_type": "stream",
     "text": [
      "2025-05-19 17:22:59,000 - INFO - computed_metrics: [0.5259718614821466]\n"
     ]
    },
    {
     "name": "stdout",
     "output_type": "stream",
     "text": [
      "Step 1520 validation: r2_score=0.525972\n"
     ]
    },
    {
     "name": "stderr",
     "output_type": "stream",
     "text": [
      "2025-05-19 17:22:59,297 - INFO - computed_metrics: [0.5253571402951485]\n"
     ]
    },
    {
     "name": "stdout",
     "output_type": "stream",
     "text": [
      "Step 1525 validation: r2_score=0.525357\n"
     ]
    },
    {
     "name": "stderr",
     "output_type": "stream",
     "text": [
      "2025-05-19 17:22:59,612 - INFO - computed_metrics: [0.4668107230298624]\n"
     ]
    },
    {
     "name": "stdout",
     "output_type": "stream",
     "text": [
      "Step 1530 validation: r2_score=0.466811\n"
     ]
    },
    {
     "name": "stderr",
     "output_type": "stream",
     "text": [
      "2025-05-19 17:22:59,904 - INFO - computed_metrics: [0.5162503992413354]\n"
     ]
    },
    {
     "name": "stdout",
     "output_type": "stream",
     "text": [
      "Step 1535 validation: r2_score=0.51625\n"
     ]
    },
    {
     "name": "stderr",
     "output_type": "stream",
     "text": [
      "2025-05-19 17:23:00,216 - INFO - computed_metrics: [0.4900609132802438]\n"
     ]
    },
    {
     "name": "stdout",
     "output_type": "stream",
     "text": [
      "Step 1540 validation: r2_score=0.490061\n"
     ]
    },
    {
     "name": "stderr",
     "output_type": "stream",
     "text": [
      "2025-05-19 17:23:00,516 - INFO - computed_metrics: [0.425695441275305]\n"
     ]
    },
    {
     "name": "stdout",
     "output_type": "stream",
     "text": [
      "Step 1545 validation: r2_score=0.425695\n"
     ]
    },
    {
     "name": "stderr",
     "output_type": "stream",
     "text": [
      "2025-05-19 17:23:00,808 - INFO - computed_metrics: [0.52037070220073]\n"
     ]
    },
    {
     "name": "stdout",
     "output_type": "stream",
     "text": [
      "Step 1550 validation: r2_score=0.520371\n"
     ]
    },
    {
     "name": "stderr",
     "output_type": "stream",
     "text": [
      "2025-05-19 17:23:01,077 - INFO - computed_metrics: [0.5128165917243468]\n"
     ]
    },
    {
     "name": "stdout",
     "output_type": "stream",
     "text": [
      "Step 1555 validation: r2_score=0.512817\n"
     ]
    },
    {
     "name": "stderr",
     "output_type": "stream",
     "text": [
      "2025-05-19 17:23:01,336 - INFO - computed_metrics: [0.4454353153536371]\n"
     ]
    },
    {
     "name": "stdout",
     "output_type": "stream",
     "text": [
      "Step 1560 validation: r2_score=0.445435\n"
     ]
    },
    {
     "name": "stderr",
     "output_type": "stream",
     "text": [
      "2025-05-19 17:23:01,596 - INFO - computed_metrics: [0.4945209478666722]\n"
     ]
    },
    {
     "name": "stdout",
     "output_type": "stream",
     "text": [
      "Step 1565 validation: r2_score=0.494521\n"
     ]
    },
    {
     "name": "stderr",
     "output_type": "stream",
     "text": [
      "2025-05-19 17:23:01,857 - INFO - computed_metrics: [0.48203971295571724]\n"
     ]
    },
    {
     "name": "stdout",
     "output_type": "stream",
     "text": [
      "Step 1570 validation: r2_score=0.48204\n"
     ]
    },
    {
     "name": "stderr",
     "output_type": "stream",
     "text": [
      "2025-05-19 17:23:02,134 - INFO - computed_metrics: [0.5241782471945339]\n"
     ]
    },
    {
     "name": "stdout",
     "output_type": "stream",
     "text": [
      "Step 1575 validation: r2_score=0.524178\n"
     ]
    },
    {
     "name": "stderr",
     "output_type": "stream",
     "text": [
      "2025-05-19 17:23:02,415 - INFO - computed_metrics: [0.5347851761813196]\n"
     ]
    },
    {
     "name": "stdout",
     "output_type": "stream",
     "text": [
      "Step 1580 validation: r2_score=0.534785\n"
     ]
    },
    {
     "name": "stderr",
     "output_type": "stream",
     "text": [
      "2025-05-19 17:23:02,681 - INFO - computed_metrics: [0.5107207123985085]\n"
     ]
    },
    {
     "name": "stdout",
     "output_type": "stream",
     "text": [
      "Step 1585 validation: r2_score=0.510721\n"
     ]
    },
    {
     "name": "stderr",
     "output_type": "stream",
     "text": [
      "2025-05-19 17:23:02,948 - INFO - computed_metrics: [0.48713130712709074]\n"
     ]
    },
    {
     "name": "stdout",
     "output_type": "stream",
     "text": [
      "Step 1590 validation: r2_score=0.487131\n"
     ]
    },
    {
     "name": "stderr",
     "output_type": "stream",
     "text": [
      "2025-05-19 17:23:03,217 - INFO - computed_metrics: [0.503055719966829]\n",
      "2025-05-19 17:23:03,389 - INFO - Ending global_step 1600: Average loss 0.317935\n"
     ]
    },
    {
     "name": "stdout",
     "output_type": "stream",
     "text": [
      "Step 1595 validation: r2_score=0.503056\n"
     ]
    },
    {
     "name": "stderr",
     "output_type": "stream",
     "text": [
      "2025-05-19 17:23:03,483 - INFO - computed_metrics: [0.4846106160189353]\n"
     ]
    },
    {
     "name": "stdout",
     "output_type": "stream",
     "text": [
      "Step 1600 validation: r2_score=0.484611\n"
     ]
    },
    {
     "name": "stderr",
     "output_type": "stream",
     "text": [
      "2025-05-19 17:23:03,781 - INFO - computed_metrics: [0.49786879166625553]\n"
     ]
    },
    {
     "name": "stdout",
     "output_type": "stream",
     "text": [
      "Step 1605 validation: r2_score=0.497869\n"
     ]
    },
    {
     "name": "stderr",
     "output_type": "stream",
     "text": [
      "2025-05-19 17:23:04,071 - INFO - computed_metrics: [0.5131108813793296]\n"
     ]
    },
    {
     "name": "stdout",
     "output_type": "stream",
     "text": [
      "Step 1610 validation: r2_score=0.513111\n"
     ]
    },
    {
     "name": "stderr",
     "output_type": "stream",
     "text": [
      "2025-05-19 17:23:04,351 - INFO - computed_metrics: [0.49844835575802215]\n"
     ]
    },
    {
     "name": "stdout",
     "output_type": "stream",
     "text": [
      "Step 1615 validation: r2_score=0.498448\n"
     ]
    },
    {
     "name": "stderr",
     "output_type": "stream",
     "text": [
      "2025-05-19 17:23:04,613 - INFO - computed_metrics: [0.5095347046981293]\n"
     ]
    },
    {
     "name": "stdout",
     "output_type": "stream",
     "text": [
      "Step 1620 validation: r2_score=0.509535\n"
     ]
    },
    {
     "name": "stderr",
     "output_type": "stream",
     "text": [
      "2025-05-19 17:23:04,906 - INFO - computed_metrics: [0.512572098402354]\n"
     ]
    },
    {
     "name": "stdout",
     "output_type": "stream",
     "text": [
      "Step 1625 validation: r2_score=0.512572\n"
     ]
    },
    {
     "name": "stderr",
     "output_type": "stream",
     "text": [
      "2025-05-19 17:23:05,211 - INFO - computed_metrics: [0.5235433682129728]\n"
     ]
    },
    {
     "name": "stdout",
     "output_type": "stream",
     "text": [
      "Step 1630 validation: r2_score=0.523543\n"
     ]
    },
    {
     "name": "stderr",
     "output_type": "stream",
     "text": [
      "2025-05-19 17:23:05,528 - INFO - computed_metrics: [0.529596324042573]\n"
     ]
    },
    {
     "name": "stdout",
     "output_type": "stream",
     "text": [
      "Step 1635 validation: r2_score=0.529596\n"
     ]
    },
    {
     "name": "stderr",
     "output_type": "stream",
     "text": [
      "2025-05-19 17:23:05,869 - INFO - computed_metrics: [0.5017545749501853]\n"
     ]
    },
    {
     "name": "stdout",
     "output_type": "stream",
     "text": [
      "Step 1640 validation: r2_score=0.501755\n"
     ]
    },
    {
     "name": "stderr",
     "output_type": "stream",
     "text": [
      "2025-05-19 17:23:06,155 - INFO - computed_metrics: [0.5026911499375792]\n"
     ]
    },
    {
     "name": "stdout",
     "output_type": "stream",
     "text": [
      "Step 1645 validation: r2_score=0.502691\n"
     ]
    },
    {
     "name": "stderr",
     "output_type": "stream",
     "text": [
      "2025-05-19 17:23:06,457 - INFO - computed_metrics: [0.48296465951762524]\n"
     ]
    },
    {
     "name": "stdout",
     "output_type": "stream",
     "text": [
      "Step 1650 validation: r2_score=0.482965\n"
     ]
    },
    {
     "name": "stderr",
     "output_type": "stream",
     "text": [
      "2025-05-19 17:23:06,751 - INFO - computed_metrics: [0.4441966421322493]\n"
     ]
    },
    {
     "name": "stdout",
     "output_type": "stream",
     "text": [
      "Step 1655 validation: r2_score=0.444197\n"
     ]
    },
    {
     "name": "stderr",
     "output_type": "stream",
     "text": [
      "2025-05-19 17:23:07,008 - INFO - computed_metrics: [0.5277911776448204]\n"
     ]
    },
    {
     "name": "stdout",
     "output_type": "stream",
     "text": [
      "Step 1660 validation: r2_score=0.527791\n"
     ]
    },
    {
     "name": "stderr",
     "output_type": "stream",
     "text": [
      "2025-05-19 17:23:07,272 - INFO - computed_metrics: [0.5236948141299134]\n"
     ]
    },
    {
     "name": "stdout",
     "output_type": "stream",
     "text": [
      "Step 1665 validation: r2_score=0.523695\n"
     ]
    },
    {
     "name": "stderr",
     "output_type": "stream",
     "text": [
      "2025-05-19 17:23:07,559 - INFO - computed_metrics: [0.4611229543997466]\n"
     ]
    },
    {
     "name": "stdout",
     "output_type": "stream",
     "text": [
      "Step 1670 validation: r2_score=0.461123\n"
     ]
    },
    {
     "name": "stderr",
     "output_type": "stream",
     "text": [
      "2025-05-19 17:23:07,846 - INFO - computed_metrics: [0.4955727398004768]\n"
     ]
    },
    {
     "name": "stdout",
     "output_type": "stream",
     "text": [
      "Step 1675 validation: r2_score=0.495573\n"
     ]
    },
    {
     "name": "stderr",
     "output_type": "stream",
     "text": [
      "2025-05-19 17:23:08,107 - INFO - computed_metrics: [0.5199737753637518]\n"
     ]
    },
    {
     "name": "stdout",
     "output_type": "stream",
     "text": [
      "Step 1680 validation: r2_score=0.519974\n"
     ]
    },
    {
     "name": "stderr",
     "output_type": "stream",
     "text": [
      "2025-05-19 17:23:08,371 - INFO - computed_metrics: [0.44918557975233897]\n"
     ]
    },
    {
     "name": "stdout",
     "output_type": "stream",
     "text": [
      "Step 1685 validation: r2_score=0.449186\n"
     ]
    },
    {
     "name": "stderr",
     "output_type": "stream",
     "text": [
      "2025-05-19 17:23:08,619 - INFO - computed_metrics: [0.5324903481006383]\n"
     ]
    },
    {
     "name": "stdout",
     "output_type": "stream",
     "text": [
      "Step 1690 validation: r2_score=0.53249\n"
     ]
    },
    {
     "name": "stderr",
     "output_type": "stream",
     "text": [
      "2025-05-19 17:23:08,878 - INFO - computed_metrics: [0.5164722482479195]\n",
      "2025-05-19 17:23:09,037 - INFO - Ending global_step 1700: Average loss 0.301533\n"
     ]
    },
    {
     "name": "stdout",
     "output_type": "stream",
     "text": [
      "Step 1695 validation: r2_score=0.516472\n"
     ]
    },
    {
     "name": "stderr",
     "output_type": "stream",
     "text": [
      "2025-05-19 17:23:09,130 - INFO - computed_metrics: [0.41523758986724735]\n"
     ]
    },
    {
     "name": "stdout",
     "output_type": "stream",
     "text": [
      "Step 1700 validation: r2_score=0.415238\n"
     ]
    },
    {
     "name": "stderr",
     "output_type": "stream",
     "text": [
      "2025-05-19 17:23:09,401 - INFO - computed_metrics: [0.5210162308628175]\n"
     ]
    },
    {
     "name": "stdout",
     "output_type": "stream",
     "text": [
      "Step 1705 validation: r2_score=0.521016\n"
     ]
    },
    {
     "name": "stderr",
     "output_type": "stream",
     "text": [
      "2025-05-19 17:23:09,672 - INFO - computed_metrics: [0.5107332918795924]\n"
     ]
    },
    {
     "name": "stdout",
     "output_type": "stream",
     "text": [
      "Step 1710 validation: r2_score=0.510733\n"
     ]
    },
    {
     "name": "stderr",
     "output_type": "stream",
     "text": [
      "2025-05-19 17:23:09,945 - INFO - computed_metrics: [0.3592736241097576]\n"
     ]
    },
    {
     "name": "stdout",
     "output_type": "stream",
     "text": [
      "Step 1715 validation: r2_score=0.359274\n"
     ]
    },
    {
     "name": "stderr",
     "output_type": "stream",
     "text": [
      "2025-05-19 17:23:10,207 - INFO - computed_metrics: [0.4767368286259219]\n"
     ]
    },
    {
     "name": "stdout",
     "output_type": "stream",
     "text": [
      "Step 1720 validation: r2_score=0.476737\n"
     ]
    },
    {
     "name": "stderr",
     "output_type": "stream",
     "text": [
      "2025-05-19 17:23:10,471 - INFO - computed_metrics: [0.5003196578033078]\n"
     ]
    },
    {
     "name": "stdout",
     "output_type": "stream",
     "text": [
      "Step 1725 validation: r2_score=0.50032\n"
     ]
    },
    {
     "name": "stderr",
     "output_type": "stream",
     "text": [
      "2025-05-19 17:23:10,795 - INFO - computed_metrics: [0.4559928690153767]\n"
     ]
    },
    {
     "name": "stdout",
     "output_type": "stream",
     "text": [
      "Step 1730 validation: r2_score=0.455993\n"
     ]
    },
    {
     "name": "stderr",
     "output_type": "stream",
     "text": [
      "2025-05-19 17:23:11,069 - INFO - computed_metrics: [0.4993094348024756]\n"
     ]
    },
    {
     "name": "stdout",
     "output_type": "stream",
     "text": [
      "Step 1735 validation: r2_score=0.499309\n"
     ]
    },
    {
     "name": "stderr",
     "output_type": "stream",
     "text": [
      "2025-05-19 17:23:11,321 - INFO - computed_metrics: [0.43972810727161715]\n"
     ]
    },
    {
     "name": "stdout",
     "output_type": "stream",
     "text": [
      "Step 1740 validation: r2_score=0.439728\n"
     ]
    },
    {
     "name": "stderr",
     "output_type": "stream",
     "text": [
      "2025-05-19 17:23:11,573 - INFO - computed_metrics: [0.49396056571732805]\n"
     ]
    },
    {
     "name": "stdout",
     "output_type": "stream",
     "text": [
      "Step 1745 validation: r2_score=0.493961\n"
     ]
    },
    {
     "name": "stderr",
     "output_type": "stream",
     "text": [
      "2025-05-19 17:23:11,860 - INFO - computed_metrics: [0.5055594828711465]\n"
     ]
    },
    {
     "name": "stdout",
     "output_type": "stream",
     "text": [
      "Step 1750 validation: r2_score=0.505559\n"
     ]
    },
    {
     "name": "stderr",
     "output_type": "stream",
     "text": [
      "2025-05-19 17:23:12,139 - INFO - computed_metrics: [0.49242779387540303]\n"
     ]
    },
    {
     "name": "stdout",
     "output_type": "stream",
     "text": [
      "Step 1755 validation: r2_score=0.492428\n"
     ]
    },
    {
     "name": "stderr",
     "output_type": "stream",
     "text": [
      "2025-05-19 17:23:12,395 - INFO - computed_metrics: [0.5138705698771121]\n"
     ]
    },
    {
     "name": "stdout",
     "output_type": "stream",
     "text": [
      "Step 1760 validation: r2_score=0.513871\n"
     ]
    },
    {
     "name": "stderr",
     "output_type": "stream",
     "text": [
      "2025-05-19 17:23:12,654 - INFO - computed_metrics: [0.5200711115345886]\n"
     ]
    },
    {
     "name": "stdout",
     "output_type": "stream",
     "text": [
      "Step 1765 validation: r2_score=0.520071\n"
     ]
    },
    {
     "name": "stderr",
     "output_type": "stream",
     "text": [
      "2025-05-19 17:23:12,910 - INFO - computed_metrics: [0.485101270468851]\n"
     ]
    },
    {
     "name": "stdout",
     "output_type": "stream",
     "text": [
      "Step 1770 validation: r2_score=0.485101\n"
     ]
    },
    {
     "name": "stderr",
     "output_type": "stream",
     "text": [
      "2025-05-19 17:23:13,179 - INFO - computed_metrics: [0.4848987493343141]\n"
     ]
    },
    {
     "name": "stdout",
     "output_type": "stream",
     "text": [
      "Step 1775 validation: r2_score=0.484899\n"
     ]
    },
    {
     "name": "stderr",
     "output_type": "stream",
     "text": [
      "2025-05-19 17:23:13,429 - INFO - computed_metrics: [0.47118564388038253]\n"
     ]
    },
    {
     "name": "stdout",
     "output_type": "stream",
     "text": [
      "Step 1780 validation: r2_score=0.471186\n"
     ]
    },
    {
     "name": "stderr",
     "output_type": "stream",
     "text": [
      "2025-05-19 17:23:13,696 - INFO - computed_metrics: [0.43957958905210215]\n"
     ]
    },
    {
     "name": "stdout",
     "output_type": "stream",
     "text": [
      "Step 1785 validation: r2_score=0.43958\n"
     ]
    },
    {
     "name": "stderr",
     "output_type": "stream",
     "text": [
      "2025-05-19 17:23:14,018 - INFO - computed_metrics: [0.5218188145130861]\n"
     ]
    },
    {
     "name": "stdout",
     "output_type": "stream",
     "text": [
      "Step 1790 validation: r2_score=0.521819\n"
     ]
    },
    {
     "name": "stderr",
     "output_type": "stream",
     "text": [
      "2025-05-19 17:23:14,316 - INFO - computed_metrics: [0.5225920992889739]\n",
      "2025-05-19 17:23:14,496 - INFO - Ending global_step 1800: Average loss 0.296847\n"
     ]
    },
    {
     "name": "stdout",
     "output_type": "stream",
     "text": [
      "Step 1795 validation: r2_score=0.522592\n"
     ]
    },
    {
     "name": "stderr",
     "output_type": "stream",
     "text": [
      "2025-05-19 17:23:14,585 - INFO - computed_metrics: [0.39332040029209026]\n"
     ]
    },
    {
     "name": "stdout",
     "output_type": "stream",
     "text": [
      "Step 1800 validation: r2_score=0.39332\n"
     ]
    },
    {
     "name": "stderr",
     "output_type": "stream",
     "text": [
      "2025-05-19 17:23:14,868 - INFO - computed_metrics: [0.5294019846309223]\n"
     ]
    },
    {
     "name": "stdout",
     "output_type": "stream",
     "text": [
      "Step 1805 validation: r2_score=0.529402\n"
     ]
    },
    {
     "name": "stderr",
     "output_type": "stream",
     "text": [
      "2025-05-19 17:23:15,150 - INFO - computed_metrics: [0.49647331386839755]\n"
     ]
    },
    {
     "name": "stdout",
     "output_type": "stream",
     "text": [
      "Step 1810 validation: r2_score=0.496473\n"
     ]
    },
    {
     "name": "stderr",
     "output_type": "stream",
     "text": [
      "2025-05-19 17:23:15,411 - INFO - computed_metrics: [0.4077734078163723]\n"
     ]
    },
    {
     "name": "stdout",
     "output_type": "stream",
     "text": [
      "Step 1815 validation: r2_score=0.407773\n"
     ]
    },
    {
     "name": "stderr",
     "output_type": "stream",
     "text": [
      "2025-05-19 17:23:15,669 - INFO - computed_metrics: [0.4921383524390204]\n"
     ]
    },
    {
     "name": "stdout",
     "output_type": "stream",
     "text": [
      "Step 1820 validation: r2_score=0.492138\n"
     ]
    },
    {
     "name": "stderr",
     "output_type": "stream",
     "text": [
      "2025-05-19 17:23:15,923 - INFO - computed_metrics: [0.5167988177610647]\n"
     ]
    },
    {
     "name": "stdout",
     "output_type": "stream",
     "text": [
      "Step 1825 validation: r2_score=0.516799\n"
     ]
    },
    {
     "name": "stderr",
     "output_type": "stream",
     "text": [
      "2025-05-19 17:23:16,185 - INFO - computed_metrics: [0.4710810600230112]\n"
     ]
    },
    {
     "name": "stdout",
     "output_type": "stream",
     "text": [
      "Step 1830 validation: r2_score=0.471081\n"
     ]
    },
    {
     "name": "stderr",
     "output_type": "stream",
     "text": [
      "2025-05-19 17:23:16,446 - INFO - computed_metrics: [0.5067122584441687]\n"
     ]
    },
    {
     "name": "stdout",
     "output_type": "stream",
     "text": [
      "Step 1835 validation: r2_score=0.506712\n"
     ]
    },
    {
     "name": "stderr",
     "output_type": "stream",
     "text": [
      "2025-05-19 17:23:16,716 - INFO - computed_metrics: [0.5053533098465359]\n"
     ]
    },
    {
     "name": "stdout",
     "output_type": "stream",
     "text": [
      "Step 1840 validation: r2_score=0.505353\n"
     ]
    },
    {
     "name": "stderr",
     "output_type": "stream",
     "text": [
      "2025-05-19 17:23:16,976 - INFO - computed_metrics: [0.4167990781344536]\n"
     ]
    },
    {
     "name": "stdout",
     "output_type": "stream",
     "text": [
      "Step 1845 validation: r2_score=0.416799\n"
     ]
    },
    {
     "name": "stderr",
     "output_type": "stream",
     "text": [
      "2025-05-19 17:23:17,234 - INFO - computed_metrics: [0.460132831568383]\n"
     ]
    },
    {
     "name": "stdout",
     "output_type": "stream",
     "text": [
      "Step 1850 validation: r2_score=0.460133\n"
     ]
    },
    {
     "name": "stderr",
     "output_type": "stream",
     "text": [
      "2025-05-19 17:23:17,500 - INFO - computed_metrics: [0.4768045501531305]\n"
     ]
    },
    {
     "name": "stdout",
     "output_type": "stream",
     "text": [
      "Step 1855 validation: r2_score=0.476805\n"
     ]
    },
    {
     "name": "stderr",
     "output_type": "stream",
     "text": [
      "2025-05-19 17:23:17,757 - INFO - computed_metrics: [0.42830434335844325]\n"
     ]
    },
    {
     "name": "stdout",
     "output_type": "stream",
     "text": [
      "Step 1860 validation: r2_score=0.428304\n"
     ]
    },
    {
     "name": "stderr",
     "output_type": "stream",
     "text": [
      "2025-05-19 17:23:18,015 - INFO - computed_metrics: [0.46146537477590344]\n"
     ]
    },
    {
     "name": "stdout",
     "output_type": "stream",
     "text": [
      "Step 1865 validation: r2_score=0.461465\n"
     ]
    },
    {
     "name": "stderr",
     "output_type": "stream",
     "text": [
      "2025-05-19 17:23:18,271 - INFO - computed_metrics: [0.4463967723773128]\n"
     ]
    },
    {
     "name": "stdout",
     "output_type": "stream",
     "text": [
      "Step 1870 validation: r2_score=0.446397\n"
     ]
    },
    {
     "name": "stderr",
     "output_type": "stream",
     "text": [
      "2025-05-19 17:23:18,520 - INFO - computed_metrics: [0.4560487357810272]\n"
     ]
    },
    {
     "name": "stdout",
     "output_type": "stream",
     "text": [
      "Step 1875 validation: r2_score=0.456049\n"
     ]
    },
    {
     "name": "stderr",
     "output_type": "stream",
     "text": [
      "2025-05-19 17:23:18,766 - INFO - computed_metrics: [0.47613017867838203]\n"
     ]
    },
    {
     "name": "stdout",
     "output_type": "stream",
     "text": [
      "Step 1880 validation: r2_score=0.47613\n"
     ]
    },
    {
     "name": "stderr",
     "output_type": "stream",
     "text": [
      "2025-05-19 17:23:19,029 - INFO - computed_metrics: [0.48713599229588367]\n"
     ]
    },
    {
     "name": "stdout",
     "output_type": "stream",
     "text": [
      "Step 1885 validation: r2_score=0.487136\n"
     ]
    },
    {
     "name": "stderr",
     "output_type": "stream",
     "text": [
      "2025-05-19 17:23:19,276 - INFO - computed_metrics: [0.5046418866884999]\n"
     ]
    },
    {
     "name": "stdout",
     "output_type": "stream",
     "text": [
      "Step 1890 validation: r2_score=0.504642\n"
     ]
    },
    {
     "name": "stderr",
     "output_type": "stream",
     "text": [
      "2025-05-19 17:23:19,531 - INFO - computed_metrics: [0.49393636744443925]\n",
      "2025-05-19 17:23:19,699 - INFO - Ending global_step 1900: Average loss 0.275676\n"
     ]
    },
    {
     "name": "stdout",
     "output_type": "stream",
     "text": [
      "Step 1895 validation: r2_score=0.493936\n"
     ]
    },
    {
     "name": "stderr",
     "output_type": "stream",
     "text": [
      "2025-05-19 17:23:19,793 - INFO - computed_metrics: [0.5090736167738796]\n"
     ]
    },
    {
     "name": "stdout",
     "output_type": "stream",
     "text": [
      "Step 1900 validation: r2_score=0.509074\n"
     ]
    },
    {
     "name": "stderr",
     "output_type": "stream",
     "text": [
      "2025-05-19 17:23:20,047 - INFO - computed_metrics: [0.4630152896653136]\n"
     ]
    },
    {
     "name": "stdout",
     "output_type": "stream",
     "text": [
      "Step 1905 validation: r2_score=0.463015\n"
     ]
    },
    {
     "name": "stderr",
     "output_type": "stream",
     "text": [
      "2025-05-19 17:23:20,294 - INFO - computed_metrics: [0.47544034866044527]\n"
     ]
    },
    {
     "name": "stdout",
     "output_type": "stream",
     "text": [
      "Step 1910 validation: r2_score=0.47544\n"
     ]
    },
    {
     "name": "stderr",
     "output_type": "stream",
     "text": [
      "2025-05-19 17:23:20,610 - INFO - computed_metrics: [0.5112317475174057]\n"
     ]
    },
    {
     "name": "stdout",
     "output_type": "stream",
     "text": [
      "Step 1915 validation: r2_score=0.511232\n"
     ]
    },
    {
     "name": "stderr",
     "output_type": "stream",
     "text": [
      "2025-05-19 17:23:20,901 - INFO - computed_metrics: [0.5160774349604311]\n"
     ]
    },
    {
     "name": "stdout",
     "output_type": "stream",
     "text": [
      "Step 1920 validation: r2_score=0.516077\n"
     ]
    },
    {
     "name": "stderr",
     "output_type": "stream",
     "text": [
      "2025-05-19 17:23:21,172 - INFO - computed_metrics: [0.41209854856361117]\n"
     ]
    },
    {
     "name": "stdout",
     "output_type": "stream",
     "text": [
      "Step 1925 validation: r2_score=0.412099\n"
     ]
    },
    {
     "name": "stderr",
     "output_type": "stream",
     "text": [
      "2025-05-19 17:23:21,478 - INFO - computed_metrics: [0.47877313876777217]\n"
     ]
    },
    {
     "name": "stdout",
     "output_type": "stream",
     "text": [
      "Step 1930 validation: r2_score=0.478773\n"
     ]
    },
    {
     "name": "stderr",
     "output_type": "stream",
     "text": [
      "2025-05-19 17:23:21,794 - INFO - computed_metrics: [0.4744296443871947]\n"
     ]
    },
    {
     "name": "stdout",
     "output_type": "stream",
     "text": [
      "Step 1935 validation: r2_score=0.47443\n"
     ]
    },
    {
     "name": "stderr",
     "output_type": "stream",
     "text": [
      "2025-05-19 17:23:22,102 - INFO - computed_metrics: [0.4790242765592929]\n"
     ]
    },
    {
     "name": "stdout",
     "output_type": "stream",
     "text": [
      "Step 1940 validation: r2_score=0.479024\n"
     ]
    },
    {
     "name": "stderr",
     "output_type": "stream",
     "text": [
      "2025-05-19 17:23:22,382 - INFO - computed_metrics: [0.47672455247608925]\n"
     ]
    },
    {
     "name": "stdout",
     "output_type": "stream",
     "text": [
      "Step 1945 validation: r2_score=0.476725\n"
     ]
    },
    {
     "name": "stderr",
     "output_type": "stream",
     "text": [
      "2025-05-19 17:23:22,669 - INFO - computed_metrics: [0.4822303587933988]\n",
      "2025-05-19 17:23:22,672 - INFO - Ending global_step 1950: Average loss 0.26089\n",
      "2025-05-19 17:23:22,810 - INFO - TIMING: model fitting took 125.618 s\n"
     ]
    },
    {
     "name": "stdout",
     "output_type": "stream",
     "text": [
      "Step 1950 validation: r2_score=0.48223\n"
     ]
    },
    {
     "name": "stderr",
     "output_type": "stream",
     "text": [
      "2025-05-19 17:23:22,936 - INFO - Graph Model Test R²: 0.595\n",
      "2025-05-19 17:23:22,937 - INFO - Graph Model Test MAE: 0.518\n",
      "2025-05-19 17:23:22,938 - INFO - Training time: 125.75 seconds\n",
      "2025-05-19 17:23:22,939 - INFO - \n",
      "Training Fingerprint model...\n",
      "2025-05-19 17:23:25,079 - INFO - Fingerprint Model Test R²: 0.607\n",
      "2025-05-19 17:23:25,080 - INFO - Fingerprint Model Test MAE: 0.506\n",
      "2025-05-19 17:23:25,080 - INFO - Training time: 2.14 seconds\n",
      "2025-05-19 17:23:25,081 - INFO - \n",
      "Building ensemble model...\n",
      "2025-05-19 17:23:26,000 - INFO - Ensemble Model Test R²: 0.681\n",
      "2025-05-19 17:23:26,001 - INFO - Ensemble Model Test MAE: 0.443\n",
      "2025-05-19 17:23:26,001 - INFO - Training time: 0.42 seconds\n"
     ]
    },
    {
     "data": {
      "image/png": "[encoded data removed]",
      "text/plain": [
       "<Figure size 800x600 with 1 Axes>"
      ]
     },
     "metadata": {},
     "output_type": "display_data"
    },
    {
     "name": "stderr",
     "output_type": "stream",
     "text": [
      "2025-05-19 17:23:26,633 - INFO - All tasks completed successfully!\n"
     ]
    }
   ],
   "source": [
    "import time\n",
    "import os\n",
    "import numpy as np\n",
    "import pandas as pd\n",
    "from rdkit import Chem\n",
    "from rdkit.Chem import Descriptors\n",
    "import deepchem as dc\n",
    "from deepchem.feat import ConvMolFeaturizer, CircularFingerprint\n",
    "from deepchem.models import GraphConvModel\n",
    "from deepchem.models.optimizers import Adam\n",
    "import logging\n",
    "from sklearn.metrics import r2_score, mean_absolute_error\n",
    "from chembl_webresource_client.new_client import new_client\n",
    "from sklearn.preprocessing import StandardScaler\n",
    "from sklearn.ensemble import RandomForestRegressor\n",
    "from sklearn.model_selection import train_test_split\n",
    "from sklearn.pipeline import make_pipeline\n",
    "from sklearn.impute import SimpleImputer\n",
    "import matplotlib.pyplot as plt\n",
    "from requests.exceptions import RequestException\n",
    "from pyspark.sql import SparkSession\n",
    "from pyspark.sql.functions import udf, pandas_udf\n",
    "from pyspark.sql.types import StructType, StructField, StringType, FloatType, ArrayType\n",
    "\n",
    "# Configure logging\n",
    "logging.basicConfig(level=logging.INFO, format='%(asctime)s - %(levelname)s - %(message)s')\n",
    "logger = logging.getLogger(__name__)\n",
    "\n",
    "class AffinityPredictor:\n",
    "    def __init__(self, use_spark=True):\n",
    "        self.graph_featurizer = ConvMolFeaturizer(per_atom_fragmentation=False)\n",
    "        self.fingerprint_featurizer = CircularFingerprint(size=1024)\n",
    "        self.scaler = StandardScaler()\n",
    "        self.dataset_df = None\n",
    "        self.graph_data = None\n",
    "        self.fingerprint_data = None\n",
    "        self.graph_model = None\n",
    "        self.fingerprint_model = None\n",
    "        self.ensemble_model = None\n",
    "        self.metrics = {\n",
    "            'graph': {'r2': -1, 'mae': -1},\n",
    "            'fingerprint': {'r2': -1, 'mae': -1},\n",
    "            'ensemble': {'r2': -1, 'mae': -1},\n",
    "            'training_time': {}\n",
    "        }\n",
    "\n",
    "        # Initialize Spark with optimized configuration\n",
    "        self.spark = None\n",
    "        if use_spark:\n",
    "            try:\n",
    "                self.spark = SparkSession.builder \\\n",
    "                    .appName(\"AffinityPredictor\") \\\n",
    "                    .config(\"spark.executor.memory\", \"8g\") \\\n",
    "                    .config(\"spark.driver.memory\", \"8g\") \\\n",
    "                    .config(\"spark.driver.maxResultSize\", \"4g\") \\\n",
    "                    .config(\"spark.sql.execution.arrow.pyspark.enabled\", \"true\") \\\n",
    "                    .config(\"spark.serializer\", \"org.apache.spark.serializer.KryoSerializer\") \\\n",
    "                    .config(\"spark.network.timeout\", \"800s\") \\\n",
    "                    .config(\"spark.executor.heartbeatInterval\", \"60s\") \\\n",
    "                    .getOrCreate()\n",
    "                logger.info(\"Spark session initialized successfully\")\n",
    "            except Exception as e:\n",
    "                logger.warning(f\"Spark initialization failed: {str(e)}. Falling back to single-core processing.\")\n",
    "                self.spark = None\n",
    "\n",
    "    def _download_chembl_data(self, chembl_cache='chembl_cache.csv'):\n",
    "        \"\"\"Download ChEMBL data without any Spark involvement\"\"\"\n",
    "        try:\n",
    "            logger.info(\"Starting ChEMBL data download...\")\n",
    "            # Create a fresh client without caching\n",
    "            client = new_client\n",
    "            activities = client.activity.filter(target_chembl_id=\"CHEMBL234\").filter(standard_type=\"IC50\")\n",
    "            \n",
    "            # Collect data with timeout and progress reporting\n",
    "            chembl_data = []\n",
    "            start_time = time.time()\n",
    "            timeout = 300  # 5 minute timeout\n",
    "            batch_size = 100\n",
    "            \n",
    "            for i, activity in enumerate(activities):\n",
    "                if time.time() - start_time > timeout:\n",
    "                    raise RequestException(\"ChEMBL request timed out\")\n",
    "                if i % batch_size == 0:\n",
    "                    logger.info(f\"Downloaded {i} records...\")\n",
    "                chembl_data.append(activity)\n",
    "            \n",
    "            # Process and clean data\n",
    "            logger.info(\"Processing downloaded ChEMBL data...\")\n",
    "            chembl_df = pd.DataFrame(chembl_data)[['canonical_smiles', 'standard_value']].dropna()\n",
    "            chembl_df['standard_value'] = pd.to_numeric(chembl_df['standard_value'], errors='coerce')\n",
    "            chembl_df = chembl_df.dropna()\n",
    "            chembl_df['pIC50'] = -np.log10(chembl_df['standard_value'] * 1e-9)\n",
    "            chembl_df = chembl_df.rename(columns={'canonical_smiles': 'smiles'})[['smiles', 'pIC50']]\n",
    "            \n",
    "            # Save to cache\n",
    "            try:\n",
    "                chembl_df.to_csv(chembl_cache, index=False)\n",
    "                logger.info(f\"Saved {len(chembl_df)} ChEMBL compounds to cache at {chembl_cache}\")\n",
    "            except Exception as e:\n",
    "                logger.warning(f\"Failed to save ChEMBL cache: {str(e)}\")\n",
    "            \n",
    "            return chembl_df\n",
    "            \n",
    "        except RequestException as e:\n",
    "            logger.warning(f\"Network error accessing ChEMBL: {str(e)}\")\n",
    "        except Exception as e:\n",
    "            logger.warning(f\"ChEMBL download failed: {str(e)}\")\n",
    "        return pd.DataFrame(columns=['smiles', 'pIC50'])\n",
    "\n",
    "    def _process_molecule_spark(self, smiles, pIC50):\n",
    "        \"\"\"Simplified processing function for Spark that doesn't use any unpickleable objects\"\"\"\n",
    "        try:\n",
    "            mol = Chem.MolFromSmiles(smiles)\n",
    "            if mol and not np.isinf(pIC50) and not np.isnan(pIC50):\n",
    "                return (smiles, float(pIC50), Chem.MolToSmiles(mol))\n",
    "            return None\n",
    "        except Exception as e:\n",
    "            logger.debug(f\"Failed to process SMILES {smiles}: {str(e)}\")\n",
    "            return None\n",
    "\n",
    "    def _create_fingerprint_udf(self):\n",
    "        \"\"\"Create a fingerprint UDF that doesn't capture any unpickleable objects\"\"\"\n",
    "        # Create a fresh featurizer instance inside the function\n",
    "        fingerprint_featurizer = CircularFingerprint(size=1024)\n",
    "        \n",
    "        @pandas_udf(ArrayType(FloatType()))\n",
    "        def fp_udf(smiles_series: pd.Series) -> pd.Series:\n",
    "            return smiles_series.apply(lambda s: list(fingerprint_featurizer.featurize(s)[0]))\n",
    "        \n",
    "        return fp_udf\n",
    "\n",
    "    def load_data(self, local_path='bace.csv', chembl_cache='chembl_cache.csv', use_chembl=True):\n",
    "        \"\"\"Load and preprocess data with proper Spark isolation\"\"\"\n",
    "        logger.info(\"Starting data loading pipeline...\")\n",
    "        \n",
    "        # 1. Load local data (no Spark)\n",
    "        try:\n",
    "            bace_df = pd.read_csv(local_path)\n",
    "            bace_df = bace_df.rename(columns={'mol': 'smiles'})[['smiles', 'pIC50']].dropna()\n",
    "            logger.info(f\"Loaded {len(bace_df)} local compounds from {local_path}\")\n",
    "        except Exception as e:\n",
    "            logger.error(f\"Failed to load local data: {str(e)}\")\n",
    "            bace_df = pd.DataFrame(columns=['smiles', 'pIC50'])\n",
    "\n",
    "        # 2. Load ChEMBL data (no Spark)\n",
    "        chembl_df = pd.DataFrame(columns=['smiles', 'pIC50'])\n",
    "        if use_chembl:\n",
    "            if os.path.exists(chembl_cache):\n",
    "                try:\n",
    "                    chembl_df = pd.read_csv(chembl_cache)\n",
    "                    logger.info(f\"Loaded {len(chembl_df)} cached ChEMBL compounds from {chembl_cache}\")\n",
    "                except Exception as e:\n",
    "                    logger.warning(f\"Failed to load cached ChEMBL data: {str(e)}\")\n",
    "            \n",
    "            if len(chembl_df) == 0:\n",
    "                logger.info(\"No cached ChEMBL data found, downloading fresh...\")\n",
    "                chembl_df = self._download_chembl_data(chembl_cache)\n",
    "\n",
    "        # 3. Merge data (still no Spark)\n",
    "        full_df = pd.concat([bace_df, chembl_df], ignore_index=True).drop_duplicates(subset='smiles')\n",
    "        logger.info(f\"Total raw compounds before processing: {len(full_df)}\")\n",
    "        \n",
    "        # 4. Process molecules with Spark if available\n",
    "        if self.spark:\n",
    "            logger.info(\"Starting Spark-based molecule processing...\")\n",
    "            try:\n",
    "                # Create Spark DataFrame\n",
    "                spark_df = self.spark.createDataFrame(full_df)\n",
    "                \n",
    "                # Register processing UDF\n",
    "                process_udf = udf(\n",
    "                    self._process_molecule_spark,\n",
    "                    StructType([\n",
    "                        StructField(\"smiles\", StringType()),\n",
    "                        StructField(\"pIC50\", FloatType()),\n",
    "                        StructField(\"canonical_smiles\", StringType())\n",
    "                    ])\n",
    "                )\n",
    "                \n",
    "                # Process in parallel\n",
    "                processed_df = spark_df.withColumn(\n",
    "                    \"processed\", \n",
    "                    process_udf(spark_df[\"smiles\"], spark_df[\"pIC50\"])\n",
    "                ).filter(\"processed is not null\").select(\"processed.*\")\n",
    "                \n",
    "                # Collect results\n",
    "                processed_pd = processed_df.toPandas()\n",
    "                processed_pd['mol'] = processed_pd['canonical_smiles'].apply(Chem.MolFromSmiles)\n",
    "                valid_data = processed_pd.to_dict('records')\n",
    "                logger.info(f\"Spark successfully processed {len(valid_data)} valid molecules\")\n",
    "            except Exception as e:\n",
    "                logger.warning(f\"Spark processing failed: {str(e)}. Falling back to single-core.\")\n",
    "                valid_data = self._process_single_core(full_df)\n",
    "        else:\n",
    "            logger.info(\"Processing molecules in single-core mode...\")\n",
    "            valid_data = self._process_single_core(full_df)\n",
    "\n",
    "        if not valid_data:\n",
    "            raise ValueError(\"No valid molecules found in dataset\")\n",
    "\n",
    "        self.dataset_df = pd.DataFrame(valid_data)\n",
    "        \n",
    "        # Scale target values\n",
    "        try:\n",
    "            self.dataset_df['pIC50_scaled'] = self.scaler.fit_transform(\n",
    "                self.dataset_df[['pIC50']].values).flatten()\n",
    "            logger.info(\"Successfully scaled target values\")\n",
    "        except Exception as e:\n",
    "            logger.error(f\"Scaling failed: {str(e)}\")\n",
    "            raise\n",
    "\n",
    "        logger.info(f\"Final dataset contains {len(self.dataset_df)} compounds\")\n",
    "        logger.info(f\"pIC50 statistics - Mean: {self.dataset_df['pIC50'].mean():.2f}, \"\n",
    "                   f\"Std: {self.dataset_df['pIC50'].std():.2f}, \"\n",
    "                   f\"Range: {self.dataset_df['pIC50'].min():.2f}-{self.dataset_df['pIC50'].max():.2f}\")\n",
    "\n",
    "        # Featurize molecules\n",
    "        self._featurize_data()\n",
    "\n",
    "    def _process_single_core(self, df):\n",
    "        \"\"\"Process molecules in single-core mode\"\"\"\n",
    "        logger.info(\"Starting single-core molecule processing...\")\n",
    "        valid_data = []\n",
    "        total_mols = len(df)\n",
    "        report_interval = max(1, total_mols // 10)  # Report progress every 10%\n",
    "        \n",
    "        for idx, row in df.iterrows():\n",
    "            try:\n",
    "                mol = Chem.MolFromSmiles(row['smiles'])\n",
    "                if mol and not np.isinf(row['pIC50']) and not np.isnan(row['pIC50']):\n",
    "                    valid_data.append({\n",
    "                        'smiles': row['smiles'],\n",
    "                        'pIC50': float(row['pIC50']),\n",
    "                        'mol': mol\n",
    "                    })\n",
    "                if idx > 0 and idx % report_interval == 0:\n",
    "                    logger.info(f\"Processed {idx}/{total_mols} molecules...\")\n",
    "            except Exception as e:\n",
    "                logger.debug(f\"Failed to process SMILES {row['smiles']}: {str(e)}\")\n",
    "        \n",
    "        logger.info(f\"Completed single-core processing of {len(valid_data)} valid molecules\")\n",
    "        return valid_data\n",
    "\n",
    "    def _featurize_data(self):\n",
    "        \"\"\"Featurize molecules using Spark if available\"\"\"\n",
    "        mols = self.dataset_df['mol'].tolist()\n",
    "        smiles_list = self.dataset_df['smiles'].tolist()\n",
    "        y = self.dataset_df['pIC50_scaled'].values\n",
    "        \n",
    "        # 1. Graph features (using DeepChem's native parallelization)\n",
    "        logger.info(\"Creating graph features...\")\n",
    "        start_time = time.time()\n",
    "        graph_features = self.graph_featurizer.featurize(mols)\n",
    "        self.graph_data = dc.data.NumpyDataset(X=graph_features, y=y)\n",
    "        logger.info(f\"Graph features created in {time.time()-start_time:.2f} seconds\")\n",
    "        \n",
    "        # 2. Fingerprint features - use Spark if available\n",
    "        logger.info(\"Creating fingerprint features...\")\n",
    "        start_time = time.time()\n",
    "        \n",
    "        if self.spark:\n",
    "            try:\n",
    "                # Create Spark DataFrame\n",
    "                smiles_df = self.spark.createDataFrame(pd.DataFrame({'smiles': smiles_list}))\n",
    "                \n",
    "                # Get fingerprint UDF\n",
    "                fp_udf = self._create_fingerprint_udf()\n",
    "                \n",
    "                # Generate fingerprints in parallel\n",
    "                fingerprints = smiles_df.withColumn(\"fingerprint\", fp_udf(smiles_df[\"smiles\"]))\n",
    "                fingerprint_features = np.array([row.fingerprint for row in fingerprints.collect()])\n",
    "                fingerprint_features = fingerprint_features.reshape(-1, self.fingerprint_featurizer.size)\n",
    "                \n",
    "                logger.info(f\"Successfully generated {len(fingerprint_features)} fingerprints with Spark in {time.time()-start_time:.2f} seconds\")\n",
    "            except Exception as e:\n",
    "                logger.warning(f\"Spark fingerprint generation failed: {str(e)}. Falling back to single-core.\")\n",
    "                fingerprint_features = self.fingerprint_featurizer.featurize(smiles_list)\n",
    "        else:\n",
    "            fingerprint_features = self.fingerprint_featurizer.featurize(smiles_list)\n",
    "            logger.info(f\"Generated {len(fingerprint_features)} fingerprints in single-core mode in {time.time()-start_time:.2f} seconds\")\n",
    "        \n",
    "        self.fingerprint_data = dc.data.NumpyDataset(X=fingerprint_features, y=y)\n",
    "\n",
    "    def build_graph_model(self):\n",
    "        \"\"\"Build and configure the graph convolution model\"\"\"\n",
    "        return GraphConvModel(\n",
    "            n_tasks=1,\n",
    "            graph_conv_layers=[128, 128],\n",
    "            dense_layer_size=256,\n",
    "            dropout=0.2,\n",
    "            batch_size=32,\n",
    "            learning_rate=0.001,\n",
    "            mode='regression',\n",
    "            optimizer=Adam(learning_rate=0.001),\n",
    "            model_dir='./graph_model',\n",
    "            tensorboard=True\n",
    "        )\n",
    "\n",
    "    def train_and_evaluate(self):\n",
    "        \"\"\"Train and evaluate all models with proper validation\"\"\"\n",
    "        if len(self.dataset_df) < 100:\n",
    "            raise ValueError(\"Insufficient data for training (need at least 100 samples)\")\n",
    "\n",
    "        # Split data\n",
    "        try:\n",
    "            train_idx, test_idx = train_test_split(\n",
    "                range(len(self.dataset_df)),\n",
    "                test_size=0.2,\n",
    "                random_state=42\n",
    "            )\n",
    "            train_idx, valid_idx = train_test_split(\n",
    "                train_idx,\n",
    "                test_size=0.2,\n",
    "                random_state=42\n",
    "            )\n",
    "            logger.info(f\"Data split - Train: {len(train_idx)}, Valid: {len(valid_idx)}, Test: {len(test_idx)}\")\n",
    "        except Exception as e:\n",
    "            logger.error(f\"Data splitting failed: {str(e)}\")\n",
    "            raise\n",
    "\n",
    "        # Create datasets\n",
    "        try:\n",
    "            # Graph datasets\n",
    "            g_train = dc.data.NumpyDataset(\n",
    "                X=self.graph_data.X[train_idx],\n",
    "                y=self.graph_data.y[train_idx]\n",
    "            )\n",
    "            g_valid = dc.data.NumpyDataset(\n",
    "                X=self.graph_data.X[valid_idx],\n",
    "                y=self.graph_data.y[valid_idx]\n",
    "            )\n",
    "            g_test = dc.data.NumpyDataset(\n",
    "                X=self.graph_data.X[test_idx],\n",
    "                y=self.graph_data.y[test_idx]\n",
    "            )\n",
    "            \n",
    "            # Fingerprint datasets\n",
    "            f_train = dc.data.NumpyDataset(\n",
    "                X=self.fingerprint_data.X[train_idx],\n",
    "                y=self.fingerprint_data.y[train_idx]\n",
    "            )\n",
    "            f_test = dc.data.NumpyDataset(\n",
    "                X=self.fingerprint_data.X[test_idx],\n",
    "                y=self.fingerprint_data.y[test_idx]\n",
    "            )\n",
    "        except Exception as e:\n",
    "            logger.error(f\"Dataset creation failed: {str(e)}\")\n",
    "            raise\n",
    "\n",
    "        # 1. Train Graph Model\n",
    "        logger.info(\"\\nTraining GraphConv model...\")\n",
    "        self.graph_model = self.build_graph_model()\n",
    "        start_time = time.time()\n",
    "        \n",
    "        metric = dc.metrics.Metric(dc.metrics.r2_score)\n",
    "        validation_callback = dc.models.ValidationCallback(\n",
    "            g_valid,\n",
    "            5,\n",
    "            [metric],\n",
    "            save_dir='./graph_model_best',\n",
    "            save_on_minimum=False\n",
    "        )\n",
    "        \n",
    "        self.graph_model.fit(g_train, nb_epoch=50, callbacks=[validation_callback])\n",
    "        \n",
    "        test_pred = self.graph_model.predict(g_test)\n",
    "        self.metrics['graph']['r2'] = r2_score(g_test.y, test_pred)\n",
    "        self.metrics['graph']['mae'] = mean_absolute_error(g_test.y, test_pred)\n",
    "        self.metrics['training_time']['graph'] = time.time() - start_time\n",
    "        \n",
    "        logger.info(f\"Graph Model Test R²: {self.metrics['graph']['r2']:.3f}\")\n",
    "        logger.info(f\"Graph Model Test MAE: {self.metrics['graph']['mae']:.3f}\")\n",
    "        logger.info(f\"Training time: {self.metrics['training_time']['graph']:.2f} seconds\")\n",
    "\n",
    "        # 2. Train Fingerprint Model\n",
    "        logger.info(\"\\nTraining Fingerprint model...\")\n",
    "        start_time = time.time()\n",
    "        self.fingerprint_model = make_pipeline(\n",
    "            SimpleImputer(strategy='median'),\n",
    "            RandomForestRegressor(\n",
    "                n_estimators=200,\n",
    "                max_depth=10,\n",
    "                min_samples_split=5,\n",
    "                n_jobs=-1,\n",
    "                random_state=42\n",
    "            )\n",
    "        )\n",
    "        self.fingerprint_model.fit(f_train.X, f_train.y.flatten())\n",
    "        test_pred = self.fingerprint_model.predict(f_test.X)\n",
    "        self.metrics['fingerprint']['r2'] = r2_score(f_test.y, test_pred)\n",
    "        self.metrics['fingerprint']['mae'] = mean_absolute_error(f_test.y, test_pred)\n",
    "        self.metrics['training_time']['fingerprint'] = time.time() - start_time\n",
    "        logger.info(f\"Fingerprint Model Test R²: {self.metrics['fingerprint']['r2']:.3f}\")\n",
    "        logger.info(f\"Fingerprint Model Test MAE: {self.metrics['fingerprint']['mae']:.3f}\")\n",
    "        logger.info(f\"Training time: {self.metrics['training_time']['fingerprint']:.2f} seconds\")\n",
    "\n",
    "        # 3. Build Ensemble\n",
    "        logger.info(\"\\nBuilding ensemble model...\")\n",
    "        try:\n",
    "            # Create ensemble features\n",
    "            train_graph_pred = self.graph_model.predict(g_train).flatten()\n",
    "            train_fp_pred = self.fingerprint_model.predict(f_train.X).flatten()\n",
    "            X_train = np.column_stack([\n",
    "                train_graph_pred,\n",
    "                train_fp_pred,\n",
    "                np.array([Descriptors.MolWt(mol) for mol in self.dataset_df.iloc[train_idx]['mol']])\n",
    "            ])\n",
    "            \n",
    "            self.ensemble_model = make_pipeline(\n",
    "                StandardScaler(),\n",
    "                RandomForestRegressor(\n",
    "                    n_estimators=150,\n",
    "                    max_depth=8,\n",
    "                    min_samples_split=5,\n",
    "                    n_jobs=-1,\n",
    "                    random_state=42\n",
    "                )\n",
    "            )\n",
    "            \n",
    "            start_time = time.time()\n",
    "            self.ensemble_model.fit(X_train, g_train.y.flatten())\n",
    "            \n",
    "            # Evaluate ensemble\n",
    "            test_graph_pred = self.graph_model.predict(g_test).flatten()\n",
    "            test_fp_pred = self.fingerprint_model.predict(f_test.X).flatten()\n",
    "            X_test = np.column_stack([\n",
    "                test_graph_pred,\n",
    "                test_fp_pred,\n",
    "                np.array([Descriptors.MolWt(mol) for mol in self.dataset_df.iloc[test_idx]['mol']])\n",
    "            ])\n",
    "            \n",
    "            ensemble_pred = self.ensemble_model.predict(X_test)\n",
    "            self.metrics['ensemble']['r2'] = r2_score(g_test.y, ensemble_pred)\n",
    "            self.metrics['ensemble']['mae'] = mean_absolute_error(g_test.y, ensemble_pred)\n",
    "            self.metrics['training_time']['ensemble'] = time.time() - start_time\n",
    "            \n",
    "            logger.info(f\"Ensemble Model Test R²: {self.metrics['ensemble']['r2']:.3f}\")\n",
    "            logger.info(f\"Ensemble Model Test MAE: {self.metrics['ensemble']['mae']:.3f}\")\n",
    "            logger.info(f\"Training time: {self.metrics['training_time']['ensemble']:.2f} seconds\")\n",
    "            \n",
    "            # Plot predictions\n",
    "            self._plot_predictions(g_test.y, ensemble_pred, \"Ensemble Predictions\")\n",
    "        except Exception as e:\n",
    "            logger.error(f\"Ensemble training failed: {str(e)}\")\n",
    "            raise\n",
    "\n",
    "    def _plot_predictions(self, y_true, y_pred, title):\n",
    "        \"\"\"Plot true vs predicted values with regression line\"\"\"\n",
    "        plt.figure(figsize=(8, 6))\n",
    "        plt.scatter(y_true, y_pred, alpha=0.5)\n",
    "        \n",
    "        # Add regression line\n",
    "        coef = np.polyfit(y_true, y_pred, 1)\n",
    "        poly1d_fn = np.poly1d(coef)\n",
    "        plt.plot(y_true, poly1d_fn(y_true), '--k')\n",
    "        \n",
    "        plt.plot([min(y_true), max(y_true)], [min(y_true), max(y_true)], 'r--')\n",
    "        plt.xlabel('True pIC50 (scaled)')\n",
    "        plt.ylabel('Predicted pIC50 (scaled)')\n",
    "        plt.title(f\"{title}\\nR² = {self.metrics['ensemble']['r2']:.3f}, MAE = {self.metrics['ensemble']['mae']:.3f}\")\n",
    "        plt.grid(True)\n",
    "        \n",
    "        # Save and show plot\n",
    "        plt.savefig('predictions_plot.png', dpi=300, bbox_inches='tight')\n",
    "        plt.show()\n",
    "\n",
    "def main():\n",
    "    try:\n",
    "        logger.info(\"Initializing Affinity Predictor...\")\n",
    "        predictor = AffinityPredictor(use_spark=True)\n",
    "        \n",
    "        logger.info(\"Starting data loading pipeline...\")\n",
    "        predictor.load_data(\n",
    "            local_path='bace.csv',\n",
    "            chembl_cache='chembl_cache.csv',\n",
    "            use_chembl=True\n",
    "        )\n",
    "        \n",
    "        logger.info(\"Starting model training and evaluation...\")\n",
    "        predictor.train_and_evaluate()\n",
    "        \n",
    "        logger.info(\"All tasks completed successfully!\")\n",
    "    except Exception as e:\n",
    "        logger.error(f\"Fatal error in main execution: {str(e)}\")\n",
    "        raise\n",
    "\n",
    "if __name__ == \"__main__\":\n",
    "    main()\n",
    "\n"
   ]
  },
  {
   "cell_type": "code",
   "execution_count": null,
   "id": "92531e06-849c-4cf9-bb3e-95ef9f990ccd",
   "metadata": {},
   "outputs": [],
   "source": []
  }
 ],
 "metadata": {
  "kernelspec": {
   "display_name": "Python (spark_logp_fixed_env)",
   "language": "python",
   "name": "spark_logp_fixed_env"
  },
  "language_info": {
   "codemirror_mode": {
    "name": "ipython",
    "version": 3
   },
   "file_extension": ".py",
   "mimetype": "text/x-python",
   "name": "python",
   "nbconvert_exporter": "python",
   "pygments_lexer": "ipython3",
   "version": "3.10.12"
  }
 },
 "nbformat": 4,
 "nbformat_minor": 5
}

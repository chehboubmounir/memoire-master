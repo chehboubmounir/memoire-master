{
 "cells": [
  {
   "cell_type": "code",
   "execution_count": 11,
   "id": "f3fa8e7d-43fe-4714-a8b3-9e2e5cb4b8ed",
   "metadata": {},
   "outputs": [],
   "source": [
    "import sys\n",
    "import os\n",
    "import time\n",
    "import warnings\n",
    "import pandas as pd\n",
    "import numpy as np\n",
    "import deepchem as dc\n",
    "import matplotlib.pyplot as plt\n",
    "import seaborn as sns\n",
    "from sklearn.ensemble import RandomForestRegressor\n",
    "\n",
    "warnings.filterwarnings('ignore')\n",
    "os.environ['TF_CPP_MIN_LOG_LEVEL'] = '2'\n",
    "\n",
    "results = {}\n"
   ]
  },
  {
   "cell_type": "code",
   "execution_count": 12,
   "id": "b1793680-0468-4cd0-8a30-70ffa10c4391",
   "metadata": {},
   "outputs": [
    {
     "name": "stderr",
     "output_type": "stream",
     "text": [
      "2025-05-03 14:27:14.128339: W tensorflow/stream_executor/platform/default/dso_loader.cc:64] Could not load dynamic library 'libcuda.so.1'; dlerror: libcuda.so.1: cannot open shared object file: No such file or directory\n",
      "2025-05-03 14:27:14.128460: W tensorflow/stream_executor/cuda/cuda_driver.cc:263] failed call to cuInit: UNKNOWN ERROR (303)\n",
      "2025-05-03 14:27:14.128513: I tensorflow/stream_executor/cuda/cuda_diagnostics.cc:156] kernel driver does not appear to be running on this host (mounir-HP-ProBook-430-G5): /proc/driver/nvidia/version does not exist\n",
      "2025-05-03 14:27:14.129238: I tensorflow/core/platform/cpu_feature_guard.cc:193] This TensorFlow binary is optimized with oneAPI Deep Neural Network Library (oneDNN) to use the following CPU instructions in performance-critical operations:  AVX2 FMA\n",
      "To enable them in other operations, rebuild TensorFlow with the appropriate compiler flags.\n"
     ]
    },
    {
     "name": "stdout",
     "output_type": "stream",
     "text": [
      "[{'params': (32, [128, 128], 512, 0.0), 'mae': 0.3411419786760324}, {'params': (32, [128, 128], 256, 0.0), 'mae': 0.3321054005584537}, {'params': (32, [128, 128], 128, 0.0), 'mae': 0.31779297765828424}, {'params': (32, [256, 256], 512, 0.0), 'mae': 0.30771228218223995}, {'params': (32, [256, 256], 256, 0.0), 'mae': 0.30886398712679447}, {'params': (32, [256, 256], 128, 0.0), 'mae': 0.43870427582989513}, {'params': (32, [512, 512], 512, 0.0), 'mae': 0.34230668498856526}, {'params': (32, [512, 512], 256, 0.0), 'mae': 0.2941522884767362}, {'params': (32, [512, 512], 128, 0.0), 'mae': 0.3586544387092083}, {'params': (16, [128, 128], 512, 0.0), 'mae': 0.4017411411961999}, {'params': (16, [128, 128], 256, 0.0), 'mae': 0.35720853314193546}, {'params': (16, [128, 128], 128, 0.0), 'mae': 0.34752503208052815}, {'params': (16, [256, 256], 512, 0.0), 'mae': 0.38601668974420184}, {'params': (16, [256, 256], 256, 0.0), 'mae': 0.3910040142913483}, {'params': (16, [256, 256], 128, 0.0), 'mae': 0.3539292686002085}, {'params': (16, [512, 512], 512, 0.0), 'mae': 0.5243503918620013}, {'params': (16, [512, 512], 256, 0.0), 'mae': 0.3987066433380818}, {'params': (16, [512, 512], 128, 0.0), 'mae': 0.3893802836525467}]\n",
      "Train scores: {'mean-rms_score': 0.3061815083727036, 'mean-mae_score': 0.23928123871725526, 'mean-pearson_r2_score': 0.9829556316081491}\n",
      "Test scores: {'mean-rms_score': 0.7920899821217401, 'mean-mae_score': 0.5895590802608445, 'mean-pearson_r2_score': 0.855566638256443}\n"
     ]
    }
   ],
   "source": [
    "def grid_search_graph_conv(train_dataset, param_grid):\n",
    "    import itertools\n",
    "    from deepchem.models import GraphConvModel\n",
    "\n",
    "    best_score = float('inf')\n",
    "    best_params = None\n",
    "    all_results = []\n",
    "\n",
    "    combinations = list(itertools.product(\n",
    "        param_grid['batch_size'],\n",
    "        param_grid['graph_conv_layers'],\n",
    "        param_grid['dense_layer_size'],\n",
    "        param_grid['dropout']\n",
    "    ))\n",
    "\n",
    "    for batch_size, conv_layers, dense_size, dropout in combinations:\n",
    "        model = GraphConvModel(1, mode='regression',\n",
    "                               batch_size=batch_size,\n",
    "                               graph_conv_layers=conv_layers,\n",
    "                               dense_layer_size=dense_size,\n",
    "                               dropout=dropout)\n",
    "        model.fit(train_dataset, nb_epoch=30)\n",
    "        metric = dc.metrics.Metric(dc.metrics.mae_score, np.mean)\n",
    "        scores = model.evaluate(train_dataset, [metric])\n",
    "        score = scores[metric.name]\n",
    "\n",
    "        all_results.append({\n",
    "            'params': (batch_size, conv_layers, dense_size, dropout),\n",
    "            'mae': score\n",
    "        })\n",
    "\n",
    "        if score < best_score:\n",
    "            best_score = score\n",
    "            best_params = (batch_size, conv_layers, dense_size, dropout)\n",
    "\n",
    "    return all_results, best_params\n",
    "# ⏱️ GCM: Load + Featurize\n",
    "start_gcm_load = time.time()\n",
    "tasks = ['measured log solubility in mols per litre']\n",
    "loader = dc.data.CSVLoader(tasks=tasks, feature_field=\"smiles\", featurizer=dc.feat.ConvMolFeaturizer())\n",
    "dataset = loader.create_dataset(r\"/home/mounir/Downloads/esol.csv\")\n",
    "end_gcm_load = time.time()\n",
    "\n",
    "# ⏱️ GCM: Split + Grid Search\n",
    "splitter = dc.splits.RandomSplitter()\n",
    "train_set, test_set = splitter.train_test_split(dataset, frac_train=0.8, seed=0)\n",
    "\n",
    "hyper_params = {\n",
    "    'batch_size': [32, 16],\n",
    "    'graph_conv_layers': [[128, 128], [256, 256], [512, 512]],\n",
    "    'dense_layer_size': [512, 256, 128],\n",
    "    'dropout': [0.0],\n",
    "}\n",
    "\n",
    "start_gcm_grid = time.time()\n",
    "search_results, (batch_size, conv_layers, layer_sizes, dropout_rate) = grid_search_graph_conv(train_set, hyper_params)\n",
    "end_gcm_grid = time.time()\n",
    "print(search_results)\n",
    "\n",
    "# GCM: Normalize + Train\n",
    "transformers = [dc.trans.NormalizationTransformer(transform_y=True, dataset=train_set, move_mean=True)]\n",
    "for transformer in transformers:\n",
    "    train_set = transformer.transform(train_set)\n",
    "    test_set = transformer.transform(test_set)\n",
    "\n",
    "start_gcm_train = time.time()\n",
    "model = dc.models.GraphConvModel(1, mode='regression', batch_size=batch_size, \n",
    "                                graph_conv_layers=conv_layers, dense_layer_size=layer_sizes, \n",
    "                                dropout=dropout_rate)\n",
    "model.fit(train_set, nb_epoch=100)\n",
    "end_gcm_train = time.time()\n",
    "\n",
    "metric = [\n",
    "    dc.metrics.Metric(dc.metrics.rms_score, np.mean),\n",
    "    dc.metrics.Metric(dc.metrics.mae_score, np.mean),\n",
    "    dc.metrics.Metric(dc.metrics.pearson_r2_score, np.mean)\n",
    "]\n",
    "\n",
    "train_scores = model.evaluate(train_set, metric, transformers)\n",
    "test_scores = model.evaluate(test_set, metric, transformers)\n",
    "print(\"Train scores:\", train_scores)\n",
    "print(\"Test scores:\", test_scores)\n",
    "\n",
    "results['gcm'] = test_scores\n"
   ]
  },
  {
   "cell_type": "code",
   "execution_count": 14,
   "id": "7427146c-a5c3-4d9c-a936-5a988eceeb08",
   "metadata": {},
   "outputs": [
    {
     "name": "stdout",
     "output_type": "stream",
     "text": [
      "R²=0.8664 with batch_size=32, n_atom_feat=75, n_pair_feat=14, n_hidden=100\n",
      "R²=0.8965 with batch_size=16, n_atom_feat=75, n_pair_feat=14, n_hidden=100\n",
      "[(0.8663988019296947, 32, 75, 14, 100), (0.8965469640466585, 16, 75, 14, 100)]\n",
      "Train scores: {'mean-rms_score': 0.3640923233560647, 'mean-mae_score': 0.2768712091554974, 'mean-pearson_r2_score': 0.9763473876724266}\n",
      "Test scores: {'mean-rms_score': 0.595825894491425, 'mean-mae_score': 0.44313396924877957, 'mean-pearson_r2_score': 0.9343892190957103}\n"
     ]
    }
   ],
   "source": [
    "# MPNN: Load + Grid Search\n",
    "loader = dc.data.CSVLoader(tasks=tasks, feature_field=\"smiles\", featurizer=dc.feat.WeaveFeaturizer())\n",
    "dataset = loader.create_dataset(r\"/home/mounir/Downloads/esol.csv\")\n",
    "train_set, test_set = splitter.train_test_split(dataset, frac_train=0.8, seed=0)\n",
    "from itertools import product\n",
    "from deepchem.metrics import Metric, pearson_r2_score\n",
    "\n",
    "def grid_search_mpnn(train_set, param_grid):\n",
    "    best_score = -float('inf')\n",
    "    best_params = None\n",
    "    all_results = []\n",
    "\n",
    "    # Iterate over all combinations\n",
    "    for batch_size, n_atom_feat, n_pair_feat, n_hidden in product(\n",
    "        param_grid['batch_size'],\n",
    "        param_grid['n_atom_feat'],\n",
    "        param_grid['n_pair_feat'],\n",
    "        param_grid['n_hidden']\n",
    "    ):\n",
    "        try:\n",
    "            model = dc.models.MPNNModel(\n",
    "                1,\n",
    "                mode='regression',\n",
    "                batch_size=batch_size,\n",
    "                use_queue=False,\n",
    "                n_atom_feat=n_atom_feat,\n",
    "                n_pair_feat=n_pair_feat,\n",
    "                n_hidden=n_hidden,\n",
    "                learning_rate=0.0001,\n",
    "                T=3,\n",
    "                M=5\n",
    "            )\n",
    "            model.fit(train_set, nb_epoch=10)\n",
    "            score = model.evaluate(train_set, [Metric(pearson_r2_score)])['pearson_r2_score']\n",
    "            all_results.append((score, batch_size, n_atom_feat, n_pair_feat, n_hidden))\n",
    "            print(f\"R²={score:.4f} with batch_size={batch_size}, n_atom_feat={n_atom_feat}, n_pair_feat={n_pair_feat}, n_hidden={n_hidden}\")\n",
    "            if score > best_score:\n",
    "                best_score = score\n",
    "                best_params = (batch_size, n_atom_feat, n_pair_feat, n_hidden)\n",
    "        except Exception as e:\n",
    "            print(f\" Failed with config: {batch_size}, {n_atom_feat}, {n_pair_feat}, {n_hidden}: {e}\")\n",
    "            continue\n",
    "\n",
    "    return all_results, best_params\n",
    "\n",
    "\n",
    "hyper_params = {\n",
    "    'batch_size': [32, 16],\n",
    "    'n_atom_feat': [75],\n",
    "    'n_pair_feat': [14],\n",
    "    'n_hidden': [100]\n",
    "}\n",
    "\n",
    "start_mpnn_grid = time.time()\n",
    "search_results, (batch_size, n_atom_feat, n_pair_feat, n_hidden) = grid_search_mpnn(train_set, hyper_params)\n",
    "end_mpnn_grid = time.time()\n",
    "print(search_results)\n",
    "\n",
    "transformers = [dc.trans.NormalizationTransformer(transform_y=True, dataset=train_set, move_mean=True)]\n",
    "for transformer in transformers:\n",
    "    train_set = transformer.transform(train_set)\n",
    "    test_set = transformer.transform(test_set)\n",
    "\n",
    "start_mpnn_train = time.time()\n",
    "model = dc.models.MPNNModel(1, mode='regression', batch_size=batch_size, use_queue=False, \n",
    "                           n_atom_feat=n_atom_feat, n_pair_feat=n_pair_feat, n_hidden=n_hidden, \n",
    "                           learning_rate=0.0001, T=3, M=5)\n",
    "model.fit(train_set, nb_epoch=50, checkpoint_interval=100)\n",
    "end_mpnn_train = time.time()\n",
    "\n",
    "train_scores = model.evaluate(train_set, metric, transformers)\n",
    "test_scores = model.evaluate(test_set, metric, transformers)\n",
    "print(\"Train scores:\", train_scores)\n",
    "print(\"Test scores:\", test_scores)\n",
    "\n",
    "results['mpnn'] = test_scores\n"
   ]
  },
  {
   "cell_type": "code",
   "execution_count": 15,
   "id": "bba0ced6-0523-47f5-8f76-dda9c14c3a41",
   "metadata": {},
   "outputs": [
    {
     "data": {
      "image/png": "[encoded data removed]",
      "text/plain": [
       "<Figure size 1000x500 with 1 Axes>"
      ]
     },
     "metadata": {},
     "output_type": "display_data"
    },
    {
     "data": {
      "image/png": "[encoded data removed]",
      "text/plain": [
       "<Figure size 1000x500 with 1 Axes>"
      ]
     },
     "metadata": {},
     "output_type": "display_data"
    },
    {
     "data": {
      "image/png": "[encoded data removed]",
      "text/plain": [
       "<Figure size 1000x500 with 1 Axes>"
      ]
     },
     "metadata": {},
     "output_type": "display_data"
    }
   ],
   "source": [
    "import matplotlib.pyplot as plt\n",
    "import seaborn as sns\n",
    "\n",
    "# Set consistent styling\n",
    "sns.set(style=\"whitegrid\")\n",
    "color_palette = ['#005075', '#535b9a']  # Only 2 colors for 2 models\n",
    "score_keys = ['mean-rms_score', 'mean-mae_score', 'mean-pearson_r2_score']\n",
    "plot_titles = ['RMSE', 'MAE', 'R²']\n",
    "\n",
    "for score_key, plot_title in zip(score_keys, plot_titles):\n",
    "    scores = [results['gcm'][score_key], results['mpnn'][score_key]]\n",
    "    model_labels = ['GCM', 'MPNN']\n",
    "\n",
    "    plt.figure(figsize=(10, 5))\n",
    "    sns.barplot(x=scores, y=model_labels, palette=color_palette)\n",
    "    plt.title(f\"{plot_title} Comparison\")\n",
    "    plt.xlim([0, 1.4]) if plot_title != 'R²' else plt.xlim([-1, 1])\n",
    "    plt.xlabel(plot_title)\n",
    "    plt.ylabel(\"Model\")\n",
    "    plt.tight_layout()\n",
    "    plt.show()\n"
   ]
  },
  {
   "cell_type": "code",
   "execution_count": 17,
   "id": "5ccd403b-993b-4d69-ac42-56eeced11dc6",
   "metadata": {},
   "outputs": [
    {
     "name": "stdout",
     "output_type": "stream",
     "text": [
      "\n",
      " Non-Spark Execution Summary\n",
      "GCM Load Time:        4.14 s\n",
      "GCM Grid Search Time: 1692.53 s\n",
      "GCM Train Time:       172.13 s\n",
      "MPNN Grid Search Time:502.77 s\n",
      "MPNN Train Time:      1487.20 s\n"
     ]
    }
   ],
   "source": [
    "print(\"\\n Non-Spark Execution Summary\")\n",
    "print(f\"GCM Load Time:        {end_gcm_load - start_gcm_load:.2f} s\")\n",
    "print(f\"GCM Grid Search Time: {end_gcm_grid - start_gcm_grid:.2f} s\")\n",
    "print(f\"GCM Train Time:       {end_gcm_train - start_gcm_train:.2f} s\")\n",
    "\n",
    "print(f\"MPNN Grid Search Time:{end_mpnn_grid - start_mpnn_grid:.2f} s\")\n",
    "print(f\"MPNN Train Time:      {end_mpnn_train - start_mpnn_train:.2f} s\")\n",
    "\n"
   ]
  },
  {
   "cell_type": "code",
   "execution_count": 18,
   "id": "43cfdbd8-a16b-4e48-9e8b-5419e5946941",
   "metadata": {},
   "outputs": [
    {
     "data": {
      "application/vnd.jupyter.widget-view+json": {
       "model_id": "64fcf82aafdb4b61a33c6df2d05482fa",
       "version_major": 2,
       "version_minor": 0
      },
      "text/plain": [
       "VBox(children=(HTML(value=\"<h3 style='color:#1f77b4;'>🔬 Interactive Solubility Predictor</h3>\"), HBox(children…"
      ]
     },
     "metadata": {},
     "output_type": "display_data"
    }
   ],
   "source": [
    "# Save each model to a separate variable (do this AFTER training each model)\n",
    "model_gcm = model if isinstance(model, dc.models.GraphConvModel) else None\n",
    "model_mpnn = model if isinstance(model, dc.models.MPNNModel) else None\n",
    "model_rf = model if isinstance(model, dc.models.SklearnModel) else None\n",
    "\n",
    "# Unified prediction function\n",
    "from IPython.display import display, clear_output\n",
    "from ipywidgets import widgets, VBox, HBox\n",
    "from rdkit import Chem\n",
    "from rdkit.Chem import Draw\n",
    "\n",
    "def predict_with_model(smiles, selected_model):\n",
    "    mol = Chem.MolFromSmiles(smiles)\n",
    "    if not mol:\n",
    "        return None, \" Invalid SMILES\"\n",
    "\n",
    "    feats = featurizer.featurize([mol])\n",
    "    dataset = dc.data.NumpyDataset(X=np.array(feats))\n",
    "\n",
    "    try:\n",
    "        if selected_model == \"GraphConvModel\" and model_gcm:\n",
    "            pred = model_gcm.predict(dataset)[0][0]\n",
    "        elif selected_model == \"MPNNModel\" and model_mpnn:\n",
    "            pred = model_mpnn.predict(dataset)[0][0]\n",
    "        elif selected_model == \"RandomForest\" and model_rf:\n",
    "            pred = model_rf.predict(dataset)[0][0]\n",
    "        else:\n",
    "            return None, f\" {selected_model} is not available.\"\n",
    "    except Exception as e:\n",
    "        return None, f\"Prediction error: {e}\"\n",
    "\n",
    "    return mol, f\"Predicted log solubility: {pred:.2f}\"\n",
    "\n",
    "# Interactive widget launcher\n",
    "def launch_predictor_interface():\n",
    "    model_selector = widgets.Dropdown(\n",
    "        options=['GraphConvModel', 'MPNNModel', 'RandomForest'],\n",
    "        value='GraphConvModel',\n",
    "        description='Model:',\n",
    "        style={'description_width': 'initial'}\n",
    "    )\n",
    "    smiles_input = widgets.Text(\n",
    "        value='CCO',\n",
    "        description='SMILES:',\n",
    "        placeholder='Enter a SMILES string',\n",
    "        layout=widgets.Layout(width='60%')\n",
    "    )\n",
    "    predict_button = widgets.Button(description='Predict', button_style='success')\n",
    "    output = widgets.Output()\n",
    "\n",
    "    def on_click(_):\n",
    "        with output:\n",
    "            clear_output()\n",
    "            smiles = smiles_input.value.strip()\n",
    "            model_choice = model_selector.value\n",
    "            mol, result = predict_with_model(smiles, model_choice)\n",
    "\n",
    "            if mol:\n",
    "                display(Draw.MolToImage(mol, size=(250, 250)))\n",
    "            print(result)\n",
    "\n",
    "    predict_button.on_click(on_click)\n",
    "    display(VBox([\n",
    "        widgets.HTML(\"<h3 style='color:#1f77b4;'> Interactive Solubility Predictor</h3>\"),\n",
    "        HBox([smiles_input, model_selector, predict_button]),\n",
    "        output\n",
    "    ]))\n",
    "\n",
    "launch_predictor_interface()\n"
   ]
  },
  {
   "cell_type": "code",
   "execution_count": null,
   "id": "608fd124-94e0-40e6-b2ec-e15ec28aa30b",
   "metadata": {},
   "outputs": [],
   "source": []
  },
  {
   "cell_type": "code",
   "execution_count": null,
   "id": "679fcb77-f105-424c-bbef-e688a11ff0db",
   "metadata": {},
   "outputs": [],
   "source": []
  }
 ],
 "metadata": {
  "kernelspec": {
   "display_name": "Python 3 (ipykernel)",
   "language": "python",
   "name": "python3"
  },
  "language_info": {
   "codemirror_mode": {
    "name": "ipython",
    "version": 3
   },
   "file_extension": ".py",
   "mimetype": "text/x-python",
   "name": "python",
   "nbconvert_exporter": "python",
   "pygments_lexer": "ipython3",
   "version": "3.10.12"
  }
 },
 "nbformat": 4,
 "nbformat_minor": 5
}
